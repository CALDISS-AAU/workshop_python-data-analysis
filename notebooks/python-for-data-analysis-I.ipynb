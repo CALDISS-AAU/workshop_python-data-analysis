{
 "cells": [
  {
   "cell_type": "markdown",
   "metadata": {},
   "source": [
    "- For at markere kapitel (intro tekst til kapitel): # {#Kapitel}\n",
    "\n",
    "- For at markere afsnit (under kapitel): # {#Afsnit}\n",
    "\n",
    "- Marker afslutning: # {#END}"
   ]
  },
  {
   "cell_type": "markdown",
   "metadata": {},
   "source": [
    "**Literature**\n",
    "\n",
    "https://www.oreilly.com/content/data-visualization-with-seaborn/"
   ]
  },
  {
   "cell_type": "markdown",
   "metadata": {},
   "source": [
    "**Learning objectives:**\n",
    "- Importing datasets - locally and from URL\n",
    "- Inspecting a dataset: rows, columns, types\n",
    "- Performing summary statistics\n",
    "- Visualizing numerical data with scatterplots\n",
    "- Visualizing distributions: boxplots, density charts\n",
    "- Visualizing time series with line charts\n",
    "- Visualizing categorical data with barcharts\n",
    "- Reflect on the output of an visualization\n",
    "- Subsetting data with indexing and selection: loc, iloc\n",
    "- Using booleans for subsetting\n",
    "- Variable manipulation: recode, generate\n",
    "- Variabeltyper med Pandas\n",
    "- Working with categorical data with Pandas: nominal, ordinal\n",
    "- Recoding categorical variables with mappings\n",
    "\n",
    "**Evidence/evaluation types:**\n",
    "- Able to import a dataset\n",
    "- Can determine dimensions of a dataset (number of rows and columns)\n",
    "- Exercise: Summary statistics for specific variables\n",
    "- Able to create visualizations\n",
    "- Knowledge checks: Make conclusions/inferences based on visualizations\n",
    "- Exercise: Create a subset of a dataset\n",
    "- Knowledge check: Will a recode operation always change the original data?\n",
    "- Exercise: Generate a variable based on another variable\n",
    "- Exercise: Recode an existing variable\n",
    "- Knowledge check: Determine the variable type\n",
    "- Exercise: Change the type of a variable\n",
    "- Knowledge check: Is a variabel nominal or ordinal?\n",
    "- Exercise: Convert a character variable to a categorical\n",
    "- Exercise: Recoding categorical variable"
   ]
  },
  {
   "cell_type": "markdown",
   "metadata": {},
   "source": [
    "# Introduktion til Python til Dataanalyse I\n",
    "\n",
    "Denne lektion gennemgår Python pandas, og hvordan det bruges til dataanalyse i Python."
   ]
  },
  {
   "cell_type": "markdown",
   "metadata": {},
   "source": [
    "# {#Kapitel}Data i Python"
   ]
  },
  {
   "cell_type": "markdown",
   "metadata": {},
   "source": [
    "# {#Afsnit}Hvad er et datasæt?\n",
    "\n",
    "- Check: Hvilke af følgende er eksempler på datasæt? (adskil mellem data og datasæt)"
   ]
  },
  {
   "cell_type": "markdown",
   "metadata": {},
   "source": [
    "# {#Afsnit}Typer af datasæt\n",
    "\n",
    "- Struktureret/ustruktureret\n",
    "- Tabulær: rækker og kolonner"
   ]
  },
  {
   "cell_type": "markdown",
   "metadata": {},
   "source": [
    "# {#Afsnit}Introduktion til pandas"
   ]
  },
  {
   "cell_type": "markdown",
   "metadata": {},
   "source": [
    "# {#Afsnit}Indlæsning af data i Python\n",
    "\n",
    "- Øvelse: indlæs data\n",
    "- Check: hvilken type data?\n",
    "\n",
    "- Serier og data frames"
   ]
  },
  {
   "cell_type": "markdown",
   "metadata": {},
   "source": [
    "# {#Kapitel}Udforsk Data i Python"
   ]
  },
  {
   "cell_type": "markdown",
   "metadata": {},
   "source": [
    "# {#Afsnit}Deskriptive statistikker\n",
    "\n",
    "- Øvelse: Inspicer data\n",
    "- Øvelse: Hvad er mean for X?"
   ]
  },
  {
   "cell_type": "markdown",
   "metadata": {},
   "source": [
    "# {#Afsnit}Introduktion til seaborn"
   ]
  },
  {
   "cell_type": "markdown",
   "metadata": {},
   "source": [
    "# {#Afsnit}Visualiseringer (tidsserier, scatter, søjler, boxplots)\n",
    "\n",
    "- Øvelse: Visualisering - hvad kan udledes umiddelbart?"
   ]
  },
  {
   "cell_type": "markdown",
   "metadata": {},
   "source": [
    "# {#Kapitel}Datahåndtering med pandas"
   ]
  },
  {
   "cell_type": "markdown",
   "metadata": {},
   "source": [
    "# {#Afsnit}Subsetting\n",
    "\n",
    "- loc, iloc\n",
    "- booleans\n",
    "- Check: hvornår bruges loc og iloc?"
   ]
  },
  {
   "cell_type": "markdown",
   "metadata": {},
   "source": [
    "# {#Afsnit}Rekodning\n",
    "\n",
    "- Check: hvornår ændres variable ved rekodning?"
   ]
  },
  {
   "cell_type": "markdown",
   "metadata": {},
   "source": [
    "# {#Afsnit}Variabelgenerering\n",
    "\n",
    "- Øvelse: Dan subset med ny variabel"
   ]
  },
  {
   "cell_type": "markdown",
   "metadata": {},
   "source": [
    "# {#Afsnit}Variabeltyper (numerisk og tekst)\n",
    "\n",
    "- Check: Hvilken variabeltype?\n",
    "- Øvelse: Ændr variabeltype"
   ]
  },
  {
   "cell_type": "markdown",
   "metadata": {},
   "source": [
    "# {#Kapitel}Kategoriske variable"
   ]
  },
  {
   "cell_type": "markdown",
   "metadata": {},
   "source": [
    "# {#Afsnit}Typer af kategoriske variable (nominal, ordinal)\n",
    "\n",
    "- Check: Er variabel ordinal eller nominal? (\"teoretisk\")"
   ]
  },
  {
   "cell_type": "markdown",
   "metadata": {},
   "source": [
    "# {#Afsnit}Kategoriske variable i Python\n",
    "\n",
    "- Check: Er variabel ordinal eller nominal? (kodning i python)\n",
    "- Øvelse: Konverter fra karakter til kategorisk\n",
    "- Øvelse: Konverter fra nominal til ordinal"
   ]
  },
  {
   "cell_type": "markdown",
   "metadata": {},
   "source": [
    "# {#Afsnit}Rekodning af kategoriske variable\n",
    "\n",
    "- Øvelse: Rekod kategorisk med mapping"
   ]
  },
  {
   "cell_type": "markdown",
   "metadata": {},
   "source": [
    "# {#Kapitel}Supplerende materiale"
   ]
  },
  {
   "cell_type": "markdown",
   "metadata": {},
   "source": [
    "# {#Afsnit}Litteratur\n",
    "\n",
    "- Python for Data Analysis, kap 5\n",
    "- Python for Data Analysis, kap 9 - seaborn\n",
    "- Python for Data Analysis, kap 12 - categorical"
   ]
  },
  {
   "cell_type": "markdown",
   "metadata": {},
   "source": [
    "# {#END}"
   ]
  },
  {
   "cell_type": "code",
   "execution_count": null,
   "metadata": {},
   "outputs": [],
   "source": []
  }
 ],
 "metadata": {
  "kernelspec": {
   "display_name": "Python 3",
   "language": "python",
   "name": "python3"
  },
  "language_info": {
   "codemirror_mode": {
    "name": "ipython",
    "version": 3
   },
   "file_extension": ".py",
   "mimetype": "text/x-python",
   "name": "python",
   "nbconvert_exporter": "python",
   "pygments_lexer": "ipython3",
   "version": "3.6.10"
  }
 },
 "nbformat": 4,
 "nbformat_minor": 2
}
