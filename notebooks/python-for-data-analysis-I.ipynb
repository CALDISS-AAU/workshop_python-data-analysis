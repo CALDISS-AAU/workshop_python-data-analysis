{
 "cells": [
  {
   "cell_type": "markdown",
   "metadata": {},
   "source": [
    "# Introduktion til Python til Dataanalyse\n",
    "\n",
    "Denne lektion gennemgår hvordan Python anvendes til dataanalyse. Der introduceres især til data frames i Python biblioteket \"pandas\"."
   ]
  },
  {
   "cell_type": "markdown",
   "metadata": {},
   "source": [
    "# {#Kapitel}Data i Python\n",
    "\n",
    "I dette første kapitel tages et kig på, hvad data er for en størrelse, og hvordan et struktureret datasæt ser ud i Python. "
   ]
  },
  {
   "cell_type": "markdown",
   "metadata": {},
   "source": [
    "# {#Afsnit}Data og datasæt\n",
    "\n",
    "I disse Python lektioner gennemgås, hvordan Python anvendes til dataanalyse, men hvad er data overhovedet for noget?\n",
    "\n",
    "Som udgangspunkt arbejder vi med en meget bred forståelse af data: alle former for information om noget. Grunden til at der i dag er så meget snak om data, dataanalyse, maskinlæring osv., er fordi at stadig mere og mere information digitaliseres, hvorfor det kan gøres til genstand for analyser.\n",
    "\n",
    "Navn, alder, uddannelse, indkomst, yndlingsfilm, mest aflyttede sange i 2020, antal gange rejst med bus 2 i Aalborg, køb i supermarkeder, størrelse på bolig, indbo, brug af el, varme og vand osv. Alle disse informationer er data og alt sammen kan indgå i analyser til at sige noget om en person eller, mere relevant, flere personer med lignende karakteristika.\n",
    "\n",
    "Data som en mere eller mindre tilfældig strøm af tilfældig information er vanskelig at arbejde med. Data skal på en eller anden måde være i system for, at det kan analyseres - det gælder både maskinel/computationel analyse eller menneskelig analyse.\n",
    "\n",
    "Når man taler om et datasæt, mener man typisk en eller anden form for afgrænset mængde data, der måske eller måske ikke er struktureret i en eller anden form.\n",
    "\n",
    "## Struktureret og ustruktureret data\n",
    "\n",
    "Man adskiller typisk mellem struktureret og ustruktureret data.\n",
    "\n",
    "**Struktureret data**\n",
    "\n",
    "*Struktureret data* er data, der på en eller anden måde er sat i system. Den klassiske repræsentation af struktureret data er i et tabulært format, hvor hver række indeholder en *observation* og hver kolonne indeholder en *variabel* (eller \"feature\", som det omtales inden for maskinlæring. En observation kan være en person, et land, et firma, et tidspunkt, en kommune osv., mens en variabel er en eller anden form for information om observationen.\n",
    "\n",
    "Tabellen herunder er et eksempel på struktureret data:\n",
    "\n",
    "|Navn |Alder |Beskæftigelse |\n",
    "|-----|------|--------------|\n",
    "|Lars | 34 | Slagter|\n",
    "|Gertrud | 62 | Rådgiver|\n",
    "|Henning | 43 | Revisor|\n",
    "|Agnes | 38 | Tømrer|\n",
    "\n",
    "Struktureret data er kendeteget ved at være sat i system sådan, at man umiddelbart kan analysere og spørge data om noget. I ovenstående tabel kan man fx meget hurtigt undersøge, hvor mange der er ældre end 40, hvem der har et fornavn der starter med \"H\" eller hvem der har beskæftigelse inden for byggeri.\n",
    "\n",
    "**Ustruktureret data**\n",
    "\n",
    "*Ustruktureret data* er data, som - kort sagt - ikke er sat i system. Hvis data ikke er struktureret, vil man typisk kalde det ustruktureret data. Tekst, billeder og video er typiske eksempler på ustruktureret data, da disse blot er rå information uden nogen måde at adskille en type information fra en anden. Mange moderne dataanalyseteknikker fokuserer på ustruktureret data, hvor man enten udvikler teknikker til at skabe overblik over ustruktureret data eller forsøger at give data en form for struktur.\n",
    "\n",
    "Nedenstående er et eksempel på ustruktureret data:\n",
    "\n",
    "```\n",
    "[\"Hvorfor går man ikke i dialog med ⁦@DRC_dk⁩ i stedet for at opsige kontrakten uden varsel. Er det kun for at føre stærk mand politik? DRC yder en fremragende indsats på baggrund af den opgave de har fået #dkpol https://jyllands-posten.dk/indland/ECE12248020/tesfaye-forsoeger-sig-med-en-ny-loesning-paa-alle-udlaendingeministres-problem/ …\",\n",
    "\"Alle tæller ❤️ https://twitter.com/cekicozlem/status/1276034922587832326 …\",\n",
    "\"Det er så godt arbejde💚 https://twitter.com/fannybroholm/status/1275360842847080449 …\",\n",
    "\"Tilfreds med den klima og energiaftale, der er lavet nu. Det er den første delaftale om at nå 70% reduktion i 2030. Særligt glad for at den indeholder principaftale om en CO2 afgiftsreform #dkpol #dkgreen pic.twitter.com/3slrMxLT5B\",\n",
    "\"Godt første skridt for den fri natur #dkpol #dkgreen ⁦@alternativet_⁩ https://www.altinget.dk/miljoe/artikel/wermelin-lander-aftale-om-de-foerste-naturnationalparker …\",\n",
    "\"Spændende udmelding. ⁦@alternativet_⁩ ønsker også en grøn   Klimaafgift, hvor udgangspunktet er at forureneren betaler #dkgreen #dkpol https://www.altinget.dk/artikel/venstre-og-radikale-laegger-faelles-pres-paa-regeringen-vil-have-ensartet-co2-afgift?SNSubscribed=true&ref=newsletter&refid=fredag-middag-190620&utm_campaign=altingetdk%20Altinget.dk&utm_medium%09=e-mail&utm_source=nyhedsbrev …\",\n",
    "\"Så vigtigt at KL tager ansvar for den proces #dkpol #dkgreen https://www.altinget.dk/miljoe/artikel/professor-om-affaldsaftale-kl-og-kommunerne-skal-gribe-chancen-for-at-loese-tingene-selv …\",\n",
    "\"Hurra - stor dag for Danmark💚👏🏼👏🏼 https://twitter.com/alternativet_/status/1273555055476723713 …\",\n",
    "\"Til klimaforhandlinger i Finansministeriet. Vi sidder og diskuterer rammerne - de næste dage bliver intensive #dkpol #dkgreen @alternativet_ @ Christiansborg Palace  https://www.instagram.com/p/CBi3d0oB9lB/?igshid=ii78cjnx2n72 …\",\n",
    "\"Aftale om mindre affald, mindre forbrænding og mere genbrug - god dag for klimaet og miljøet. 1. skridt i en stor miljøpakke #dkpol ⁦@alternativet_⁩ https://www.dr.dk/nyheder/indland/live-regeringen-praesenterer-ny-aftale-om-affald …\"]\n",
    "```\n",
    "\n",
    "I ovenstående kan man stadig overføre ideen om observationer (i dette tilfælde tweets fra danske politikere), men der er ingen variable eller features givet på forhånd. Der er derfor ingen umiddelbar struktur at gøre brug af for at foretage sig analyser.\n",
    "\n",
    "## Fra data til dataanalyse\n",
    "\n",
    "Uanset om data er struktureret eller ustruktureret, er de næsten aldrig klar til at analysere med det samme. Data skal næsten altid tilpasses den analyse, som man ønsker at foretage og de spørgsmål, som man ønsker at få svar på med sin analyse. \n",
    "\n",
    "For struktureret data indebærer dette at få identificeret de relevante dele af sine data (er det fx alle observationer, der er relevante?) samt undersøge og rekode variable sådan, at de meningsfuldt kan bruges i sin analyse.\n",
    "\n",
    "For ustruktureret data indebærer det på en eller anden måde at få sat system i eller skabt overblik over data.\n",
    "\n",
    "Ofte vil man også arbejde med data fra flere kilder, hvorfor en del forarbejde også kan gå med at få data kombineret i et samlet datasæt.\n",
    "\n",
    "---\n",
    "## VIDENSCHECK\n",
    "\n",
    "*Hvilke af nedenstående er eksempler på datasæt?:*\n",
    "\n",
    "* Navnet på butikschefen i det lokale supermarked\n",
    "* Alle værker af H.C. Andersen\n",
    "* En oversigt over medlemmer af DFØJ med information om navn, fødselsår, arbejdssted og uddannelse\n",
    "* Filmen \"Vampire's Kiss\" med Nicolas Cage fra 1988\n",
    "* Et kontoudtog\n",
    "* Alle film med Nicolas Cage\n",
    "\n",
    "{{%expand \"Løsning\" %}} Distinktionen mellem data og datasæt kan være vanskelig; særligt når man også taler om datasæt af ustruktureret data.\n",
    "\n",
    "Her gives et bud på hver.\n",
    "\n",
    "* Navnet på butikschefen i det lokale supermarked: *Ikke et datasæt, da det blot er en enkelt information (et enkelt datapunkt)*\n",
    "\n",
    "\n",
    "* Alle værker af H.C. Andersen: *Et ustruktureret datasæt. Literatur- og kulturstudier beskæftiger sig meget med indhold af literære værker. Med teknikker i dag kan man godt analysere samlinger af tekst.*\n",
    "\n",
    "\n",
    "* En oversigt over medlemmer af DFØJ med information om navn, fødselsår, arbejdssted og uddannelse: *Et \"klassisk\" struktureret datasæt. Observationerne er medlemmerne af DFØJ og variablene er de forskellige informationer for hvert medlem.*\n",
    "\n",
    "\n",
    "* Filmen \"Vampire's Kiss\" med Nicolas Cage fra 1988: *Ikke et datasæt.*\n",
    "\n",
    "\n",
    "* Et kontoudtog: *Diskutabelt. Ofte er en enkelt persons kontoudtog ikke af megen interesse (udover for personen selv og personens bankrådgiver). En samling af kontoudtog vil nok være mere at betragte som et egentlig datasæt (et datasæt med transaktioner som observationer og beløb, tidspunkt og beskrivelse som variable), men et enkelt datasæt kunne også betragtes som et datasæt af transaktioner for den ene person.*\n",
    "\n",
    "\n",
    "* Alle film med Nicolas Cage: *Et ustruktureret datasæt. Lig med værkerne af H.C. Andersen kunne et studie af dette også være af interesse. Computationel analyse af disse er noget mere kompliceret, men mulig!*\n",
    "\n",
    "{{% /expand%}}"
   ]
  },
  {
   "cell_type": "markdown",
   "metadata": {},
   "source": [
    "# {#Afsnit}Introduktion til pandas\n",
    "\n",
    "Pakken `pandas` (https://pandas.pydata.org/) er et Python bibliotek til datahåndtering og dataanalyse. Pandas egner sig særligt til data i tabeller struktureret i rækker og kolonner. En datatabel kaldes inden for pandas en \"DataFrame\"; et bestemt Python objekt specifikt til at lagre og bearbejde data i tabeller.\n",
    "\n",
    "Denne lektion gennemgår diverse basale funktioner til at indlæse, udforske og håndtere en pandas DataFrame. Se også den officielle dokumentation for flere guides, introduktioner og beskrivelser til at arbejde med pandas: https://pandas.pydata.org/docs/\n",
    "\n",
    "## Indlæs og inspicer data med pandas\n",
    "\n",
    "`pandas` pakken indeholder funktioner til at indlæse data i forskellige formater; herunder CSV, JSON, Excel, Stata, SAS osv.\n",
    "\n",
    "I det nedenstående indlæses pandas biblioteket, hvorefter datasættet \"ESS2014DK_subset.csv\" indlæses. Biblioteket `numpy` indlæses også, da det indeholder en række brugbare funktioner til at foretage beregninger på pandas dataframes:"
   ]
  },
  {
   "cell_type": "code",
   "execution_count": 1,
   "metadata": {},
   "outputs": [],
   "source": [
    "import numpy as np\n",
    "import pandas as pd\n",
    "\n",
    "ess2014 = pd.read_csv('https://github.com/CALDISS-AAU/workshop_python-data-analysis/raw/master/datasets/ESS2014DK_sub1.csv')"
   ]
  },
  {
   "cell_type": "markdown",
   "metadata": {},
   "source": [
    "{{% notice note %}}\n",
    "Bemærk importkonventionerne for `numpy` og `pandas`. `numpy` importeres typisk som `np` og `pandas` typisk som `pd`.\n",
    "{{% /notice%}}"
   ]
  },
  {
   "cell_type": "markdown",
   "metadata": {},
   "source": [
    "{{% notice info %}}\n",
    "Datasættet, som indlæses her, er et uddrag af datasættet fra European Social Survey (ESS) 2014. ESS er en europæisk surveyundersøgelse, der gentages hvert andet år. Surveyet behandler spørgsmål om folks helbred, beskæftigelse, politiske holdninger, tillid osv. I dette uddrag er der kun inkluderet de danske respondenter og et mindre udpluk variable.\n",
    "{{% /notice%}}"
   ]
  },
  {
   "cell_type": "markdown",
   "metadata": {},
   "source": [
    "Datasættet er nu indlæst som et dataframe objekt i Python, som man kan interagere med. \n",
    "\n",
    "Metoden `.head()` printer de første fem rækker af datasættet:"
   ]
  },
  {
   "cell_type": "code",
   "execution_count": 2,
   "metadata": {},
   "outputs": [
    {
     "data": {
      "text/html": [
       "<div>\n",
       "<style scoped>\n",
       "    .dataframe tbody tr th:only-of-type {\n",
       "        vertical-align: middle;\n",
       "    }\n",
       "\n",
       "    .dataframe tbody tr th {\n",
       "        vertical-align: top;\n",
       "    }\n",
       "\n",
       "    .dataframe thead th {\n",
       "        text-align: right;\n",
       "    }\n",
       "</style>\n",
       "<table border=\"1\" class=\"dataframe\">\n",
       "  <thead>\n",
       "    <tr style=\"text-align: right;\">\n",
       "      <th></th>\n",
       "      <th>idno</th>\n",
       "      <th>ppltrst</th>\n",
       "      <th>happy</th>\n",
       "      <th>health</th>\n",
       "      <th>cgtsday</th>\n",
       "      <th>alcfreq</th>\n",
       "      <th>height</th>\n",
       "      <th>weight</th>\n",
       "      <th>gndr</th>\n",
       "      <th>yrbrn</th>\n",
       "    </tr>\n",
       "  </thead>\n",
       "  <tbody>\n",
       "    <tr>\n",
       "      <th>0</th>\n",
       "      <td>921490</td>\n",
       "      <td>4</td>\n",
       "      <td>Extremely happy</td>\n",
       "      <td>Very good</td>\n",
       "      <td>NaN</td>\n",
       "      <td>Never</td>\n",
       "      <td>167.0</td>\n",
       "      <td>62.0</td>\n",
       "      <td>Female</td>\n",
       "      <td>1965</td>\n",
       "    </tr>\n",
       "    <tr>\n",
       "      <th>1</th>\n",
       "      <td>938348</td>\n",
       "      <td>Most people can be trusted</td>\n",
       "      <td>7</td>\n",
       "      <td>Good</td>\n",
       "      <td>NaN</td>\n",
       "      <td>Several times a week</td>\n",
       "      <td>168.0</td>\n",
       "      <td>70.0</td>\n",
       "      <td>Female</td>\n",
       "      <td>1973</td>\n",
       "    </tr>\n",
       "    <tr>\n",
       "      <th>2</th>\n",
       "      <td>939019</td>\n",
       "      <td>5</td>\n",
       "      <td>8</td>\n",
       "      <td>Good</td>\n",
       "      <td>3.0</td>\n",
       "      <td>Once a week</td>\n",
       "      <td>182.0</td>\n",
       "      <td>90.0</td>\n",
       "      <td>Male</td>\n",
       "      <td>1980</td>\n",
       "    </tr>\n",
       "    <tr>\n",
       "      <th>3</th>\n",
       "      <td>924985</td>\n",
       "      <td>8</td>\n",
       "      <td>9</td>\n",
       "      <td>Very good</td>\n",
       "      <td>NaN</td>\n",
       "      <td>Once a week</td>\n",
       "      <td>188.0</td>\n",
       "      <td>85.0</td>\n",
       "      <td>Male</td>\n",
       "      <td>1946</td>\n",
       "    </tr>\n",
       "    <tr>\n",
       "      <th>4</th>\n",
       "      <td>925410</td>\n",
       "      <td>4</td>\n",
       "      <td>8</td>\n",
       "      <td>Bad</td>\n",
       "      <td>NaN</td>\n",
       "      <td>Several times a week</td>\n",
       "      <td>156.0</td>\n",
       "      <td>60.0</td>\n",
       "      <td>Female</td>\n",
       "      <td>1969</td>\n",
       "    </tr>\n",
       "  </tbody>\n",
       "</table>\n",
       "</div>"
      ],
      "text/plain": [
       "     idno                     ppltrst            happy     health  cgtsday  \\\n",
       "0  921490                           4  Extremely happy  Very good      NaN   \n",
       "1  938348  Most people can be trusted                7       Good      NaN   \n",
       "2  939019                           5                8       Good      3.0   \n",
       "3  924985                           8                9  Very good      NaN   \n",
       "4  925410                           4                8        Bad      NaN   \n",
       "\n",
       "                alcfreq  height  weight    gndr  yrbrn  \n",
       "0                 Never   167.0    62.0  Female   1965  \n",
       "1  Several times a week   168.0    70.0  Female   1973  \n",
       "2           Once a week   182.0    90.0    Male   1980  \n",
       "3           Once a week   188.0    85.0    Male   1946  \n",
       "4  Several times a week   156.0    60.0  Female   1969  "
      ]
     },
     "execution_count": 2,
     "metadata": {},
     "output_type": "execute_result"
    }
   ],
   "source": [
    "ess2014.head()"
   ]
  },
  {
   "cell_type": "markdown",
   "metadata": {},
   "source": [
    "Dataframes er et tabulært dataformat. Når en fil indlæses som en pandas dataframe, skal filen derfor være i et format, der kan konverteres til tabelformat (data i rækker og kolonner).\n",
    "\n",
    "I dette datasæt udgør observationerne (rækkerne) enkeltpersoner, som har besvaret spørgeskemaet. De enkelte kolonner indeholder oplysninger om de enkelte personer. \n",
    "Af ovenstående print af de første fem række kan man fx læse, at personen i række 4 (rækkeindeks 3) er en kvinde født i 1958, som er 162 cm høj."
   ]
  },
  {
   "cell_type": "markdown",
   "metadata": {},
   "source": [
    "{{% notice info %}} Subsettet af ESS 2014 indeholder følgende kolonner:\n",
    "- `idno`: Personens id-numre/respondentnøgle\n",
    "- `ppltrst`: Personens vurdering på en skala fra 0-10 af, hvor meget de stoler på andre mennesker\n",
    "- `happy`: Personens vurdering på en skala fra 0-10 af, hvor glade de føler sig\n",
    "- `health`: Personens vurdering af eget helbred fra \"Very bad\" til \"Very good\"\n",
    "- `cgtsday`: Antal cigaretter personen ryger om dagen\n",
    "- `alcfreq`: Hvor ofte personen drikker alkohol\n",
    "- `height`: Personens højde i centimeter\n",
    "- `weight`: Personens vægt i kilo\n",
    "- `gndr`: Personens køn (mand/kvinde)\n",
    "- `yrbrn`: Personens fødselsår\n",
    "{{% /notice %}}"
   ]
  },
  {
   "cell_type": "markdown",
   "metadata": {},
   "source": [
    "{{% notice info %}} **NaN?**\n",
    "\n",
    "Som det ses af datasættet fremgår værdien `NaN` flere gange i datasættet (særligt under kolonnen `cgtsday`). \n",
    "\n",
    "`NaN` angiver missingværdi. En missingværdi er en ikke-gyldig værdi; fx hvis en person ikke svarer, informationen ikke har været muligt at skaffe eller andet.\n",
    "\n",
    "{{% /notice %}}"
   ]
  },
  {
   "cell_type": "markdown",
   "metadata": {},
   "source": [
    "## Series og dataframes"
   ]
  },
  {
   "cell_type": "markdown",
   "metadata": {},
   "source": [
    "En dataframe kan siges at bestå af en samling af kolonner. En kolonne i en dataframe kaldes en `series`.\n",
    "\n",
    "Navnene på kolonnerne, som en dataframe indeholder, kan ses af attributen `.columns`:"
   ]
  },
  {
   "cell_type": "code",
   "execution_count": 3,
   "metadata": {},
   "outputs": [
    {
     "data": {
      "text/plain": [
       "Index(['idno', 'ppltrst', 'happy', 'health', 'cgtsday', 'alcfreq', 'height',\n",
       "       'weight', 'gndr', 'yrbrn'],\n",
       "      dtype='object')"
      ]
     },
     "execution_count": 3,
     "metadata": {},
     "output_type": "execute_result"
    }
   ],
   "source": [
    "ess2014.columns"
   ]
  },
  {
   "cell_type": "markdown",
   "metadata": {},
   "source": [
    "Hver kolonne ligger som et attribut i dataframen, og kan derfor tilgås direkte. Herunder printes `health` kolonnen:"
   ]
  },
  {
   "cell_type": "code",
   "execution_count": 4,
   "metadata": {},
   "outputs": [
    {
     "name": "stdout",
     "output_type": "stream",
     "text": [
      "0    Very good\n",
      "1         Good\n",
      "2         Good\n",
      "3    Very good\n",
      "4          Bad\n",
      "Name: health, dtype: object\n"
     ]
    }
   ],
   "source": [
    "print(ess2014.health.head())"
   ]
  },
  {
   "cell_type": "markdown",
   "metadata": {},
   "source": [
    "Dog vil man typisk refere til enkeltkolonner på denne måde:"
   ]
  },
  {
   "cell_type": "code",
   "execution_count": 5,
   "metadata": {},
   "outputs": [
    {
     "name": "stdout",
     "output_type": "stream",
     "text": [
      "0    Very good\n",
      "1         Good\n",
      "2         Good\n",
      "3    Very good\n",
      "4          Bad\n",
      "Name: health, dtype: object\n"
     ]
    }
   ],
   "source": [
    "print(ess2014['health'].head())"
   ]
  },
  {
   "cell_type": "markdown",
   "metadata": {},
   "source": [
    "Der er ikke forskel mellem de to måder at gøre det på, men sidstviste måde er mere gængs og gør kode mere overskuelig."
   ]
  },
  {
   "cell_type": "markdown",
   "metadata": {},
   "source": [
    "Typen kan tjekkes med `type()`. Herunder ses det, at hele dataframen er et dataframe objekt, mens den enkelte kolonne (`health`) er et series objekt:"
   ]
  },
  {
   "cell_type": "code",
   "execution_count": 6,
   "metadata": {},
   "outputs": [
    {
     "name": "stdout",
     "output_type": "stream",
     "text": [
      "<class 'pandas.core.frame.DataFrame'>\n",
      "<class 'pandas.core.series.Series'>\n"
     ]
    }
   ],
   "source": [
    "print(type(ess2014))\n",
    "print(type(ess2014['health']))"
   ]
  },
  {
   "cell_type": "markdown",
   "metadata": {},
   "source": [
    "### Pandas series og lister\n",
    "\n",
    "En pandas series er på mange måder sammenlignelig med en Python liste: Det er en række værdier, hvor hvert element har et indeks.\n",
    "\n",
    "Ligesom med lister, kan enkeltelementer af en series tilgås ved at refere til deres indeks:"
   ]
  },
  {
   "cell_type": "code",
   "execution_count": 7,
   "metadata": {},
   "outputs": [
    {
     "name": "stdout",
     "output_type": "stream",
     "text": [
      "Very good\n"
     ]
    }
   ],
   "source": [
    "print(ess2014['health'][122]) #Printer indeks 122"
   ]
  },
  {
   "cell_type": "markdown",
   "metadata": {},
   "source": [
    "Lister kan konverteres direkte til pandas series med `pd.Series()`:"
   ]
  },
  {
   "cell_type": "code",
   "execution_count": 8,
   "metadata": {},
   "outputs": [
    {
     "name": "stdout",
     "output_type": "stream",
     "text": [
      "[1, 5, 9, 12, 18]\n",
      "0     1\n",
      "1     5\n",
      "2     9\n",
      "3    12\n",
      "4    18\n",
      "dtype: int64\n"
     ]
    }
   ],
   "source": [
    "a_list = [1, 5, 9, 12, 18]\n",
    "a_series = pd.Series(a_list)\n",
    "\n",
    "print(a_list)\n",
    "print(a_series)"
   ]
  },
  {
   "cell_type": "markdown",
   "metadata": {},
   "source": [
    "Læg i ovenstående mærke til, at når en series printes, printes elementernes indeks ud også. Dette er fordi, at man selv kan specificere indeksværdier i en pandas series:"
   ]
  },
  {
   "cell_type": "code",
   "execution_count": 9,
   "metadata": {},
   "outputs": [
    {
     "name": "stdout",
     "output_type": "stream",
     "text": [
      "value1     1\n",
      "value2     5\n",
      "value3     9\n",
      "value4    12\n",
      "value5    18\n",
      "dtype: int64\n"
     ]
    }
   ],
   "source": [
    "values = [\"value1\", \"value2\", \"value3\", \"value4\", \"value5\"]\n",
    "a_series = pd.Series(a_list, index = values)\n",
    "\n",
    "print(a_series)"
   ]
  },
  {
   "cell_type": "markdown",
   "metadata": {},
   "source": [
    "Gives en serie indeksværdier, kan enkeltelementer referes til både med deres indeksnummer og indeksværdi:"
   ]
  },
  {
   "cell_type": "code",
   "execution_count": 10,
   "metadata": {},
   "outputs": [
    {
     "name": "stdout",
     "output_type": "stream",
     "text": [
      "9\n",
      "9\n"
     ]
    }
   ],
   "source": [
    "print(a_series[2]) # Printer den 3. værdi ud fra indeksnummer (indeks 2)\n",
    "print(a_series['value3']) # Printer den 3. værdi ud fra indeksværdi (\"value3\")"
   ]
  },
  {
   "cell_type": "markdown",
   "metadata": {},
   "source": [
    "**Operationer på serier**\n",
    "\n",
    "Den store forskel på lister og pandas series er, at man kan foretage beregninger direkte på serier.\n",
    "\n",
    "Fx kan man ikke multiplicere enkeltværdierne i en liste direkte (nedenstående printer bare listen 2 gange):"
   ]
  },
  {
   "cell_type": "code",
   "execution_count": 11,
   "metadata": {},
   "outputs": [
    {
     "data": {
      "text/plain": [
       "[1, 5, 9, 12, 18, 1, 5, 9, 12, 18]"
      ]
     },
     "execution_count": 11,
     "metadata": {},
     "output_type": "execute_result"
    }
   ],
   "source": [
    "a_list * 2"
   ]
  },
  {
   "cell_type": "markdown",
   "metadata": {},
   "source": [
    "Pandas series kan man derimod foretage operationer direkte på:"
   ]
  },
  {
   "cell_type": "code",
   "execution_count": 12,
   "metadata": {},
   "outputs": [
    {
     "data": {
      "text/plain": [
       "value1     2\n",
       "value2    10\n",
       "value3    18\n",
       "value4    24\n",
       "value5    36\n",
       "dtype: int64"
      ]
     },
     "execution_count": 12,
     "metadata": {},
     "output_type": "execute_result"
    }
   ],
   "source": [
    "a_series * 2"
   ]
  },
  {
   "cell_type": "markdown",
   "metadata": {},
   "source": [
    "Dette gør også, at man kan bruge funktioner fra fx `numpy` til at udregne forskellige mål ud fra en series.\n",
    "\n",
    "Herunder udregnes fx middelværdi for `a_series`:"
   ]
  },
  {
   "cell_type": "code",
   "execution_count": 13,
   "metadata": {},
   "outputs": [
    {
     "data": {
      "text/plain": [
       "9.0"
      ]
     },
     "execution_count": 13,
     "metadata": {},
     "output_type": "execute_result"
    }
   ],
   "source": [
    "import numpy as np\n",
    "\n",
    "np.mean(a_series)"
   ]
  },
  {
   "cell_type": "markdown",
   "metadata": {},
   "source": [
    "---\n",
    "## ØVELSE: Indlæs datasæt\n",
    "\n",
    "1. Indlæs datasættet ESS2014DK_sub1 med `pd.read_csv()`. Funktionen kan indlæse data direkte fra et link (husk at importere pandas biblioteket).\n",
    "\n",
    "    - Link til data: https://github.com/CALDISS-AAU/workshop_python-data-analysis/raw/master/datasets/ESS2014DK_sub1.csv\n",
    "    \n",
    "2. Brug `np.mean()` (`numpy.mean()`) til at udregne middelværdien af `height` variablen i datasættet. Hvad er middelværdien?\n"
   ]
  },
  {
   "cell_type": "markdown",
   "metadata": {},
   "source": [
    "\n",
    "{{%expand \"Løsning\" %}} "
   ]
  },
  {
   "cell_type": "code",
   "execution_count": 15,
   "metadata": {},
   "outputs": [
    {
     "name": "stdout",
     "output_type": "stream",
     "text": [
      "174.15887850467288\n"
     ]
    }
   ],
   "source": [
    "import pandas as pd\n",
    "import numpy as np\n",
    "\n",
    "ess2014 = pd.read_csv('https://github.com/CALDISS-AAU/workshop_python-data-analysis/raw/master/datasets/ESS2014DK_sub1.csv')\n",
    "\n",
    "print(np.mean(ess2014['height']))"
   ]
  },
  {
   "cell_type": "markdown",
   "metadata": {},
   "source": [
    "{{% /expand%}}\n",
    "\n",
    "---"
   ]
  },
  {
   "cell_type": "markdown",
   "metadata": {},
   "source": [
    "# {#Afsnit}Variabeltyper\n",
    "\n",
    "Man adskiller overordnet mellem to typer af variable; særligt inden for strukuterede datasæt: kontinuerlige og kategoriske. \n",
    "\n",
    "\n",
    "## Kontinuerlige variable\n",
    "\n",
    "Kontinuerlige variable kan tage en nærmest uafgrænset mængde af forskellige numeriske værdier, hvor man ikke i forvejen kan afgrænse, hvilke værdier, som variablen kan antage. Indkomst, vægt og alder er eksempler på kontinuerlige variable. Selvfølgelig er der værdier, som disse variable ikke kan tage - fx negative værdier - men man kan med disse variable ikke vide i forvejen, hvilke værdier, man vil ende ud med. \n",
    "\n",
    "I datasættet ESS2014DK er `weight`, `height` og `yrbrn` eksempler på kontinuerlige variable. \n",
    "\n",
    "Tag fx et kig på værdierne i `height`:"
   ]
  },
  {
   "cell_type": "code",
   "execution_count": 16,
   "metadata": {},
   "outputs": [
    {
     "data": {
      "text/plain": [
       "0    167.0\n",
       "1    168.0\n",
       "2    182.0\n",
       "3    188.0\n",
       "4    156.0\n",
       "5    167.0\n",
       "6    169.0\n",
       "7    184.0\n",
       "8    182.0\n",
       "9    172.0\n",
       "Name: height, dtype: float64"
      ]
     },
     "execution_count": 16,
     "metadata": {},
     "output_type": "execute_result"
    }
   ],
   "source": [
    "ess2014['height'].head(10)"
   ]
  },
  {
   "cell_type": "markdown",
   "metadata": {},
   "source": [
    "Variablen indeholder personens højde i cm og kan derfor antale et stort antal forskellige værdier. Variablen er kontinuerlig, fordi selvom variablen selvfølgelig ikke kan antage alle værdier (fx -157 eller 1.234), så kan det ikke i forvejen afgrænses præcist, hvilke værdier der vil ende i datasættet."
   ]
  },
  {
   "cell_type": "markdown",
   "metadata": {},
   "source": [
    "## Kategoriske variable\n",
    "\n",
    "Kategoriske variable kan i modsætning til kontinuerlige kun antage et afgrænset og i forvejen defineret sæt af værdier. \n",
    "\n",
    "Fødselskommune, partitilhør eller hvorvidt man kan lide jazz, er eksempler på kategoriske variable. Spørgsmål i spørgeskemaer med forhåndsdefinerede svarmuligheder er altid kategoriske. \n",
    "\n",
    "I datasættet ESS2014DK er `happy`, `health` og `alcfreq` eksempler på kategoriske variable.\n",
    "\n",
    "Tag et kig på værdierne i `health`:"
   ]
  },
  {
   "cell_type": "code",
   "execution_count": 17,
   "metadata": {},
   "outputs": [
    {
     "data": {
      "text/plain": [
       "0    Very good\n",
       "1         Good\n",
       "2         Good\n",
       "3    Very good\n",
       "4          Bad\n",
       "5         Good\n",
       "6         Good\n",
       "7         Good\n",
       "8         Good\n",
       "9    Very good\n",
       "Name: health, dtype: object"
      ]
     },
     "execution_count": 17,
     "metadata": {},
     "output_type": "execute_result"
    }
   ],
   "source": [
    "ess2014['health'].head(10)"
   ]
  },
  {
   "cell_type": "markdown",
   "metadata": {},
   "source": [
    "Variablen indeholder personens vurdering af eget helbred fra \"Very bad\" til \"Very good\". Det er derfor i forvejen afgrænset, hvilke værdier, der kan optræde i datasættet, hvorfor den er kategorisk."
   ]
  },
  {
   "cell_type": "markdown",
   "metadata": {},
   "source": [
    "---\n",
    "## VIDENSCHECK\n",
    "\n",
    "Tag et kig på variablerne `cgtsday` og `ppltrst`. \n",
    "\n",
    "*Hvilken type variabel er de?*\n",
    "\n",
    "{{%expand \"Løsning\" %}} `cgtsday` er kontinuerlig, da den kan antage et ikke i forvejen afgrænset forskellige numeriske værdier. \n",
    "\n",
    "`ppltrst` er kategorisk, da den kun kan antage i forvejen definerede værdier.\n",
    "\n",
    "{{%/expand %}}\n",
    "\n",
    "---"
   ]
  },
  {
   "cell_type": "markdown",
   "metadata": {},
   "source": [
    "# {#Kapitel}Udforsk Data i Python\n",
    "\n",
    "Med datasættet indlæst, kan forskellige funktioner bruges til at udforske indholdet i data - enten ved at beregne forskellige deskriptive mål eller ved at foretage visualiseringer."
   ]
  },
  {
   "cell_type": "markdown",
   "metadata": {},
   "source": [
    "# {#Afsnit}Deskriptive mål\n",
    "\n",
    "Én måde at udforske et datasæt er ved at se nærmere på forskellige deskriptive mål for variable i datasættet.\n",
    "\n",
    "Metoden `.describe()` danner deskriptive mål for alle (kompatible) variable i datasættet:"
   ]
  },
  {
   "cell_type": "code",
   "execution_count": 18,
   "metadata": {},
   "outputs": [
    {
     "data": {
      "text/html": [
       "<div>\n",
       "<style scoped>\n",
       "    .dataframe tbody tr th:only-of-type {\n",
       "        vertical-align: middle;\n",
       "    }\n",
       "\n",
       "    .dataframe tbody tr th {\n",
       "        vertical-align: top;\n",
       "    }\n",
       "\n",
       "    .dataframe thead th {\n",
       "        text-align: right;\n",
       "    }\n",
       "</style>\n",
       "<table border=\"1\" class=\"dataframe\">\n",
       "  <thead>\n",
       "    <tr style=\"text-align: right;\">\n",
       "      <th></th>\n",
       "      <th>idno</th>\n",
       "      <th>cgtsday</th>\n",
       "      <th>height</th>\n",
       "      <th>weight</th>\n",
       "      <th>yrbrn</th>\n",
       "    </tr>\n",
       "  </thead>\n",
       "  <tbody>\n",
       "    <tr>\n",
       "      <th>count</th>\n",
       "      <td>751.000000</td>\n",
       "      <td>166.000000</td>\n",
       "      <td>749.000000</td>\n",
       "      <td>740.000000</td>\n",
       "      <td>751.000000</td>\n",
       "    </tr>\n",
       "    <tr>\n",
       "      <th>mean</th>\n",
       "      <td>935322.402130</td>\n",
       "      <td>11.397590</td>\n",
       "      <td>174.158879</td>\n",
       "      <td>76.178108</td>\n",
       "      <td>1966.324900</td>\n",
       "    </tr>\n",
       "    <tr>\n",
       "      <th>std</th>\n",
       "      <td>8431.191754</td>\n",
       "      <td>7.994604</td>\n",
       "      <td>9.656126</td>\n",
       "      <td>15.597381</td>\n",
       "      <td>18.982895</td>\n",
       "    </tr>\n",
       "    <tr>\n",
       "      <th>min</th>\n",
       "      <td>921034.000000</td>\n",
       "      <td>0.000000</td>\n",
       "      <td>148.000000</td>\n",
       "      <td>43.000000</td>\n",
       "      <td>1914.000000</td>\n",
       "    </tr>\n",
       "    <tr>\n",
       "      <th>25%</th>\n",
       "      <td>928073.000000</td>\n",
       "      <td>5.000000</td>\n",
       "      <td>167.000000</td>\n",
       "      <td>65.000000</td>\n",
       "      <td>1952.000000</td>\n",
       "    </tr>\n",
       "    <tr>\n",
       "      <th>50%</th>\n",
       "      <td>935251.000000</td>\n",
       "      <td>10.000000</td>\n",
       "      <td>174.000000</td>\n",
       "      <td>74.500000</td>\n",
       "      <td>1966.000000</td>\n",
       "    </tr>\n",
       "    <tr>\n",
       "      <th>75%</th>\n",
       "      <td>942260.000000</td>\n",
       "      <td>17.750000</td>\n",
       "      <td>181.000000</td>\n",
       "      <td>85.000000</td>\n",
       "      <td>1982.000000</td>\n",
       "    </tr>\n",
       "    <tr>\n",
       "      <th>max</th>\n",
       "      <td>950508.000000</td>\n",
       "      <td>40.000000</td>\n",
       "      <td>203.000000</td>\n",
       "      <td>135.000000</td>\n",
       "      <td>1999.000000</td>\n",
       "    </tr>\n",
       "  </tbody>\n",
       "</table>\n",
       "</div>"
      ],
      "text/plain": [
       "                idno     cgtsday      height      weight        yrbrn\n",
       "count     751.000000  166.000000  749.000000  740.000000   751.000000\n",
       "mean   935322.402130   11.397590  174.158879   76.178108  1966.324900\n",
       "std      8431.191754    7.994604    9.656126   15.597381    18.982895\n",
       "min    921034.000000    0.000000  148.000000   43.000000  1914.000000\n",
       "25%    928073.000000    5.000000  167.000000   65.000000  1952.000000\n",
       "50%    935251.000000   10.000000  174.000000   74.500000  1966.000000\n",
       "75%    942260.000000   17.750000  181.000000   85.000000  1982.000000\n",
       "max    950508.000000   40.000000  203.000000  135.000000  1999.000000"
      ]
     },
     "execution_count": 18,
     "metadata": {},
     "output_type": "execute_result"
    }
   ],
   "source": [
    "ess2014.describe()"
   ]
  },
  {
   "cell_type": "markdown",
   "metadata": {},
   "source": [
    "Metoden fungerer også på enkeltvariable:"
   ]
  },
  {
   "cell_type": "code",
   "execution_count": 21,
   "metadata": {},
   "outputs": [
    {
     "data": {
      "text/plain": [
       "count    740.000000\n",
       "mean      76.178108\n",
       "std       15.597381\n",
       "min       43.000000\n",
       "25%       65.000000\n",
       "50%       74.500000\n",
       "75%       85.000000\n",
       "max      135.000000\n",
       "Name: weight, dtype: float64"
      ]
     },
     "execution_count": 21,
     "metadata": {},
     "output_type": "execute_result"
    }
   ],
   "source": [
    "ess2014['weight'].describe()"
   ]
  },
  {
   "cell_type": "markdown",
   "metadata": {},
   "source": [
    "`.describe()` danner følgende mål:\n",
    "- `count`: Antal svar ekskl. missing\n",
    "- `mean`: Middelværdien\n",
    "- `std`: Standardafvigelsen\n",
    "- `min`: Minimumværdien\n",
    "- `25%`: 1. kvartil\n",
    "- `50%`: 2. kvartil\n",
    "- `75%`: 3. kvartil\n",
    "- `max`: Maksimumværdien"
   ]
  },
  {
   "cell_type": "markdown",
   "metadata": {},
   "source": [
    "Der knytter sig også en række metoder til at danne de enkelte deskriptive mål.\n",
    "\n",
    "Herunder printes fx middelværdien, standardafvigelsen, minimums- og maksimumsværdien for variablen `weight`:"
   ]
  },
  {
   "cell_type": "code",
   "execution_count": 22,
   "metadata": {},
   "outputs": [
    {
     "name": "stdout",
     "output_type": "stream",
     "text": [
      "76.17810810810812\n",
      "15.597381262076514\n",
      "43.0\n",
      "135.0\n"
     ]
    }
   ],
   "source": [
    "import numpy as np\n",
    "\n",
    "print(ess2014['weight'].mean())\n",
    "print(ess2014['weight'].std())\n",
    "print(ess2014['weight'].min())\n",
    "print(ess2014['weight'].max())"
   ]
  },
  {
   "cell_type": "code",
   "execution_count": 23,
   "metadata": {},
   "outputs": [
    {
     "data": {
      "text/plain": [
       "float"
      ]
     },
     "execution_count": 23,
     "metadata": {},
     "output_type": "execute_result"
    }
   ],
   "source": [
    "type(ess2014['weight'].std())"
   ]
  },
  {
   "cell_type": "markdown",
   "metadata": {},
   "source": [
    "Ovenstående værdier fortæller, at `weight` indeholder værdier fra 38.0 til 137.0 med en middelværdi på 75.86 og en standardafvigelse på 15.59 (middelværdien af de afstande, som hver observation afviger fra middelværdien)."
   ]
  },
  {
   "cell_type": "markdown",
   "metadata": {},
   "source": [
    "## Deskriptive mål og kategoriske variable\n",
    "\n",
    "Sammenlignes outputtet fra `.describe()` med indholdet af datasættet ses, at der ikke udregnes deskriptive mål for alle variable. \n",
    "\n",
    "Når `.describe()` bruges på et hel dataframe, udregnes kun mål for numeriske variabeltyper; altså variable, der kun består af tal.\n",
    "\n",
    "Metoden kan dog også bruges på en kategorisk variabel som `ppltrst`:"
   ]
  },
  {
   "cell_type": "code",
   "execution_count": 24,
   "metadata": {},
   "outputs": [
    {
     "data": {
      "text/plain": [
       "count     749\n",
       "unique     11\n",
       "top         8\n",
       "freq      230\n",
       "Name: ppltrst, dtype: object"
      ]
     },
     "execution_count": 24,
     "metadata": {},
     "output_type": "execute_result"
    }
   ],
   "source": [
    "ess2014['ppltrst'].describe()"
   ]
  },
  {
   "cell_type": "markdown",
   "metadata": {},
   "source": [
    "**Hvornår er en variabel kategorisk?**\n",
    "\n",
    "Det kan måske give anledning til undren, hvorfor der fx ikke kan beregnes en middelværdi af `ppltrst`, da variablen umiddelbart indeholder tal:"
   ]
  },
  {
   "cell_type": "code",
   "execution_count": 25,
   "metadata": {},
   "outputs": [
    {
     "data": {
      "text/plain": [
       "0                             4\n",
       "1    Most people can be trusted\n",
       "2                             5\n",
       "3                             8\n",
       "4                             4\n",
       "Name: ppltrst, dtype: object"
      ]
     },
     "execution_count": 25,
     "metadata": {},
     "output_type": "execute_result"
    }
   ],
   "source": [
    "ess2014['ppltrst'].head()"
   ]
  },
  {
   "cell_type": "markdown",
   "metadata": {},
   "source": [
    "Ved et nærmere kig viser det sig dog, at variablen også indeholder tekstværdier.\n",
    "\n",
    "`.unique()` returnerer de unikke værdier i variablen:"
   ]
  },
  {
   "cell_type": "code",
   "execution_count": 26,
   "metadata": {},
   "outputs": [
    {
     "data": {
      "text/plain": [
       "array(['4', 'Most people can be trusted', '5', '8', '7', '9', '2', '6',\n",
       "       '3', \"You can't be too careful\", '1', nan], dtype=object)"
      ]
     },
     "execution_count": 26,
     "metadata": {},
     "output_type": "execute_result"
    }
   ],
   "source": [
    "ess2014['ppltrst'].unique()"
   ]
  },
  {
   "cell_type": "markdown",
   "metadata": {},
   "source": [
    "Af ovenstående ses, at variablen indeholder tekstværdierne \"Most people can be trusted\" (svarende til 10 på skalaen) og \"You can't be too careful\" (svarende til 0 på skalaen).\n",
    "\n",
    "Hvis der skal udregnes middelværdi på denne variablen, skal værdierne først konverteres om til numeriske værdier (mere om dette senere)."
   ]
  },
  {
   "cell_type": "markdown",
   "metadata": {},
   "source": [
    "---\n",
    "## ØVELSE: Deskriptive mål\n",
    "\n",
    "Brug `.describe()` eller passende numpy kommandoer til at finde ud af følgende:\n",
    "\n",
    "- Hvor gammel er den yngste person i datasættet?\n",
    "- Hvor gammel er den ældste person i datasættet?\n",
    "- Hvad er gennemsnitsalderen i datasættet?\n",
    "\n",
    "Husk at datasættet er fra 2014."
   ]
  },
  {
   "cell_type": "markdown",
   "metadata": {},
   "source": [
    "{{%expand \"Løsning\" %}}\n"
   ]
  },
  {
   "cell_type": "code",
   "execution_count": 27,
   "metadata": {},
   "outputs": [
    {
     "name": "stdout",
     "output_type": "stream",
     "text": [
      "15 100 47.67509986684422\n"
     ]
    }
   ],
   "source": [
    "min_age = 2014 - ess2014['yrbrn'].max()\n",
    "max_age = 2014 - ess2014['yrbrn'].min()\n",
    "mean_age = 2014 - ess2014['yrbrn'].mean()\n",
    "\n",
    "print(min_age, max_age, mean_age)"
   ]
  },
  {
   "cell_type": "markdown",
   "metadata": {},
   "source": [
    "{{% notice tip %}} Brug \"f-strings\" til at indsætte python-objekter direkte i et stykke tekst: {{%/ notice%}}"
   ]
  },
  {
   "cell_type": "code",
   "execution_count": 28,
   "metadata": {},
   "outputs": [
    {
     "name": "stdout",
     "output_type": "stream",
     "text": [
      "Den yngste person i datasættet er 15 år gammel, den ældste person i datasættet er 100 år gammel og gennemsnitsalderen er 47.67509986684422 år.\n"
     ]
    }
   ],
   "source": [
    "print(f\"Den yngste person i datasættet er {min_age} år gammel, den ældste person i datasættet er {max_age} år gammel og gennemsnitsalderen er {mean_age} år.\")"
   ]
  },
  {
   "cell_type": "markdown",
   "metadata": {},
   "source": [
    "{{% notice tip %}} Brug `np.round()` (fra `numpy`) til at afrunde værdier: {{% /notice%}}"
   ]
  },
  {
   "cell_type": "code",
   "execution_count": 29,
   "metadata": {},
   "outputs": [
    {
     "name": "stdout",
     "output_type": "stream",
     "text": [
      "Gennemsnitsalderen i datasættet er 48.0 år.\n"
     ]
    }
   ],
   "source": [
    "mean_age_rounded = np.round(mean_age, decimals = 0)\n",
    "\n",
    "print(f\"Gennemsnitsalderen i datasættet er {mean_age_rounded} år.\")"
   ]
  },
  {
   "cell_type": "markdown",
   "metadata": {},
   "source": [
    "{{% /expand%}}"
   ]
  },
  {
   "cell_type": "markdown",
   "metadata": {},
   "source": [
    "# {#Afsnit}Visualisering af data med seaborn\n",
    "\n",
    "En god måde at udforske sit datasæt er ved at anvende visualiseringer. På den måde kan man visuelt orientere sig i, hvad data indeholder og hvordan data fordeler sig.\n",
    "\n",
    "I dette afsnit bruges pakken `seaborn` til at danne visualiseringer. `seaborn` bygger ovenpå `matplotlib`, men giver visualiseringerne et mere moderne udseende, og giver flere muligheder for at passe visualiseringen til.\n",
    "\n",
    "Fordi `seaborn` bygger ovenpå `matplotlib` skal begge biblioteker importeres (læg mærke til importkonventionerne). Derefter aktiveres `seaborn` med `sns.set()`. Når aktiveret erstatter `seaborn` standard `matplotlib` plots:"
   ]
  },
  {
   "cell_type": "code",
   "execution_count": 30,
   "metadata": {},
   "outputs": [],
   "source": [
    "%matplotlib inline\n",
    "import matplotlib.pyplot as plt\n",
    "import seaborn as sns\n",
    "\n",
    "sns.set()"
   ]
  },
  {
   "cell_type": "markdown",
   "metadata": {},
   "source": [
    "{{%notice info%}} Linjen `%matplotlib inline` er en såkaldt \"magic function\". Den bruges, når man skriver Python i Jupyter Notebook, da den gør sådan, at plots printes direkte i notebooken. Hvis ikke den linje er kørt, vil plots dukke op i et vindue for sig (nogen gange er indstillingen dog sat til i forvejen).\n",
    "\n",
    "{{/%notice%}}"
   ]
  },
  {
   "cell_type": "markdown",
   "metadata": {},
   "source": [
    "Når man bruger `seaborn` sammen med `pandas` kan man lave visualiseringer/plots på to måder. Med den ene måde kalder man den specifikke visualiseringsfunktion fra seaborn og specificerer data, som skal bruges i visualisering. Med den anden måde referer man til den specifikke kolonne (series) fra dataframe, som man ønsker at visualisere og specificerer et plot (denne måde virker derfor kun til at visualisere én variabel).\n",
    "\n",
    "## Plotting af series og dataframes\n",
    "\n",
    "Der er en række metoder tilknyttet specifikt til pandas dataframe og series, så man kan danne et plot direkte fra.\n",
    "\n",
    "### Histogram\n",
    "\n",
    "`.plot.hist()` danner fx et histogram over variablen:"
   ]
  },
  {
   "cell_type": "code",
   "execution_count": 31,
   "metadata": {},
   "outputs": [
    {
     "data": {
      "text/plain": [
       "<AxesSubplot:ylabel='Frequency'>"
      ]
     },
     "execution_count": 31,
     "metadata": {},
     "output_type": "execute_result"
    },
    {
     "data": {
      "image/png": "[encoded data removed]",
      "text/plain": [
       "<Figure size 720x432 with 1 Axes>"
      ]
     },
     "metadata": {},
     "output_type": "display_data"
    }
   ],
   "source": [
    "sns.set(rc={'figure.figsize':(10,6)}) # Ændrer størrelsen af plots\n",
    "ess2014['height'].plot.hist()"
   ]
  },
  {
   "cell_type": "markdown",
   "metadata": {},
   "source": [
    "Et histogram viser observationer som bjælker i intervaller sorteret efter værdi (lav til højest). På den måde kan man hurtigt danne sig et overblik over, hvordan data fordeler sig.\n",
    "\n",
    "Af ovenstående ses fx at omkring 340 personer har en højde på omkring 168-173 cm. Desuden ses at meget få har en højde omkring 200 cm.\n",
    "\n",
    "Størrelsen på bjælkerne kan ændres med argumentet `bins = `:"
   ]
  },
  {
   "cell_type": "code",
   "execution_count": 32,
   "metadata": {},
   "outputs": [
    {
     "data": {
      "text/plain": [
       "<AxesSubplot:ylabel='Frequency'>"
      ]
     },
     "execution_count": 32,
     "metadata": {},
     "output_type": "execute_result"
    },
    {
     "data": {
      "image/png": "[encoded data removed]",
      "text/plain": [
       "<Figure size 720x432 with 1 Axes>"
      ]
     },
     "metadata": {},
     "output_type": "display_data"
    }
   ],
   "source": [
    "ess2014['height'].plot.hist(bins = 30)"
   ]
  },
  {
   "cell_type": "markdown",
   "metadata": {},
   "source": [
    "### Boxplot\n",
    "\n",
    "`.plot.box()` danner et boxplot over variablen:"
   ]
  },
  {
   "cell_type": "code",
   "execution_count": 33,
   "metadata": {},
   "outputs": [
    {
     "data": {
      "text/plain": [
       "<AxesSubplot:>"
      ]
     },
     "execution_count": 33,
     "metadata": {},
     "output_type": "execute_result"
    },
    {
     "data": {
      "image/png": "[encoded data removed]",
      "text/plain": [
       "<Figure size 720x432 with 1 Axes>"
      ]
     },
     "metadata": {},
     "output_type": "display_data"
    }
   ],
   "source": [
    "ess2014['height'].plot.box()"
   ]
  },
  {
   "cell_type": "markdown",
   "metadata": {},
   "source": [
    "Et boxplot er en anden måde at se på fordelingen af en variabel. Den vandrette linje i midten er middelværdien. De øvrige linjer angiver (fra top til bund): minimum, 1. kvartil, 3. kvartil, maksimum.\n",
    "\n",
    "Metoden kan også anvendes på en dataframe:"
   ]
  },
  {
   "cell_type": "code",
   "execution_count": 34,
   "metadata": {},
   "outputs": [
    {
     "data": {
      "text/plain": [
       "<AxesSubplot:>"
      ]
     },
     "execution_count": 34,
     "metadata": {},
     "output_type": "execute_result"
    },
    {
     "data": {
      "image/png": "[encoded data removed]",
      "text/plain": [
       "<Figure size 720x432 with 1 Axes>"
      ]
     },
     "metadata": {},
     "output_type": "display_data"
    }
   ],
   "source": [
    "ess2014.plot.box()"
   ]
  },
  {
   "cell_type": "markdown",
   "metadata": {},
   "source": [
    "Ovenstående plot giver ikke meget mening, da variable ikke har sammenlignelige værdier, hvorfor y-aksen bliver helt tosset.\n",
    "\n",
    "Hvis man har et datasættet med flere variable med sammenlignelige værdier, kan man visualisere disse ved at dannet et subset af datasættet og lave et plot (mere om dette senere)."
   ]
  },
  {
   "cell_type": "markdown",
   "metadata": {},
   "source": [
    "### Andre plots\n",
    "\n",
    "Her er nogen andre plots, der kan dannes direkte på baggrund af en series (hvis variabeltypen tillader):\n",
    "\n",
    "- `.plot.bar()`: Danner et barplot over variablen\n",
    "- `.plot.pie()`: Danner et cirkelplotsover variablen\n",
    "- `.plot.line()`: Danner et linjeplot \n",
    "\n",
    "Barplots og cirkelplots egner sig bedre til kategoriske variable. Dog er kategoriske variable i datasættet (fx `happy` og `ppltrst`) lige nu kodet på en måde, der ikke tillader at lave plots over dem.\n",
    "\n",
    "Dette gennemgås senere."
   ]
  },
  {
   "cell_type": "markdown",
   "metadata": {},
   "source": [
    "## Plotting med seaborn\n",
    "\n",
    "Plots kan også dannes ved først at refere specifikt til den plotting funtkion, som man vil bruge, og derefter specificere data.\n",
    "\n",
    "Nedenstående linje danner et scatterplot for `height` og `weight`. Ved `seaborn` plottingfunktioner specificeres, hvilke værdier der skal udgøre x-aksen og hvilke, der skal udgøre y-aksen. `seaborn` forventer typisk series, så man kan specificere series direkte i funktionerne. Dog kan man også, som i nedenstående, specificere kolonne/variabelnavne og til sidst specificere data med argumentet `data = `:"
   ]
  },
  {
   "cell_type": "code",
   "execution_count": 35,
   "metadata": {},
   "outputs": [
    {
     "data": {
      "text/plain": [
       "<AxesSubplot:xlabel='height', ylabel='weight'>"
      ]
     },
     "execution_count": 35,
     "metadata": {},
     "output_type": "execute_result"
    },
    {
     "data": {
      "image/png": "[encoded data removed]",
      "text/plain": [
       "<Figure size 720x432 with 1 Axes>"
      ]
     },
     "metadata": {},
     "output_type": "display_data"
    }
   ],
   "source": [
    "sns.scatterplot(data = ess2014, x = 'height', y = 'weight')"
   ]
  },
  {
   "cell_type": "markdown",
   "metadata": {},
   "source": [
    "Et scatterplot danner en prik for hver observations placering på to variable. Plottet egner sig derfor særdeles godt til at udforske umiddelbare sammenhænge (om en variabel er beslægtet med en anden).\n",
    "\n",
    "Af ovenstående ses det, at vægt tenderer en smule til at stige i takt med højden (hvilket selvfølgelig ikke er overraskende)."
   ]
  },
  {
   "cell_type": "markdown",
   "metadata": {},
   "source": [
    "---\n",
    "## ØVELSE: Plotting\n",
    "\n",
    "Dan et histogram over varialben `yrbrn` i ESS2014DK datasættet.\n",
    "\n",
    "{{%expand \"Løsning\" %}}"
   ]
  },
  {
   "cell_type": "code",
   "execution_count": 36,
   "metadata": {},
   "outputs": [
    {
     "data": {
      "text/plain": [
       "<AxesSubplot:>"
      ]
     },
     "execution_count": 36,
     "metadata": {},
     "output_type": "execute_result"
    },
    {
     "data": {
      "image/png": "[encoded data removed]",
      "text/plain": [
       "<Figure size 720x432 with 1 Axes>"
      ]
     },
     "metadata": {},
     "output_type": "display_data"
    }
   ],
   "source": [
    "ess2014['yrbrn'].hist(bins = 30)"
   ]
  },
  {
   "cell_type": "markdown",
   "metadata": {},
   "source": [
    "{{%/expand%}}\n",
    "\n",
    "---"
   ]
  },
  {
   "cell_type": "markdown",
   "metadata": {},
   "source": [
    "# {#Kapitel}Datahåndtering med pandas\n",
    "\n",
    "Indtil videre er data blevet udforsket, som det er. Dog er et datasæt sjældent til at gå lige til, og vil ofte kræve forskellige håndteringer.\n",
    "\n",
    "Typiske datahåndteringer inkluderer:\n",
    "\n",
    "- Udvælge specifikke observationer af variable af datasættet, som er særligt relevante\n",
    "- Rekode variable, fx ved at slå værdier sammen\n",
    "- Danne nye variable, fx på baggrund af eksisterende variable\n",
    "- Ændre typen af variabel, hvis den ikke kan læses ordentlig af Python"
   ]
  },
  {
   "cell_type": "markdown",
   "metadata": {},
   "source": [
    "# {#Afsnit}Subsetting (draft)\n",
    "\n",
    "\"Subsetting\" vil sige at udvælge specifikke dele af data.\n",
    "\n",
    "Man subsetter pandas med metoderne `.loc()` og `.iloc()`. `.loc()` bruges til at subsette ud fra række- og kolonnenavne, mens `.iloc()` bruges til at subsette ud fra række- og kolnneindeks.\n",
    "\n",
    "Format for subsetting: `data.loc[rækker, kolonner]`\n",
    "\n",
    "Selekter bestemte rækker:"
   ]
  },
  {
   "cell_type": "code",
   "execution_count": 37,
   "metadata": {},
   "outputs": [
    {
     "data": {
      "text/html": [
       "<div>\n",
       "<style scoped>\n",
       "    .dataframe tbody tr th:only-of-type {\n",
       "        vertical-align: middle;\n",
       "    }\n",
       "\n",
       "    .dataframe tbody tr th {\n",
       "        vertical-align: top;\n",
       "    }\n",
       "\n",
       "    .dataframe thead th {\n",
       "        text-align: right;\n",
       "    }\n",
       "</style>\n",
       "<table border=\"1\" class=\"dataframe\">\n",
       "  <thead>\n",
       "    <tr style=\"text-align: right;\">\n",
       "      <th></th>\n",
       "      <th>idno</th>\n",
       "      <th>ppltrst</th>\n",
       "      <th>happy</th>\n",
       "      <th>health</th>\n",
       "      <th>cgtsday</th>\n",
       "      <th>alcfreq</th>\n",
       "      <th>height</th>\n",
       "      <th>weight</th>\n",
       "      <th>gndr</th>\n",
       "      <th>yrbrn</th>\n",
       "    </tr>\n",
       "  </thead>\n",
       "  <tbody>\n",
       "    <tr>\n",
       "      <th>2</th>\n",
       "      <td>939019</td>\n",
       "      <td>5</td>\n",
       "      <td>8</td>\n",
       "      <td>Good</td>\n",
       "      <td>3.0</td>\n",
       "      <td>Once a week</td>\n",
       "      <td>182.0</td>\n",
       "      <td>90.0</td>\n",
       "      <td>Male</td>\n",
       "      <td>1980</td>\n",
       "    </tr>\n",
       "    <tr>\n",
       "      <th>3</th>\n",
       "      <td>924985</td>\n",
       "      <td>8</td>\n",
       "      <td>9</td>\n",
       "      <td>Very good</td>\n",
       "      <td>NaN</td>\n",
       "      <td>Once a week</td>\n",
       "      <td>188.0</td>\n",
       "      <td>85.0</td>\n",
       "      <td>Male</td>\n",
       "      <td>1946</td>\n",
       "    </tr>\n",
       "    <tr>\n",
       "      <th>4</th>\n",
       "      <td>925410</td>\n",
       "      <td>4</td>\n",
       "      <td>8</td>\n",
       "      <td>Bad</td>\n",
       "      <td>NaN</td>\n",
       "      <td>Several times a week</td>\n",
       "      <td>156.0</td>\n",
       "      <td>60.0</td>\n",
       "      <td>Female</td>\n",
       "      <td>1969</td>\n",
       "    </tr>\n",
       "    <tr>\n",
       "      <th>5</th>\n",
       "      <td>928947</td>\n",
       "      <td>5</td>\n",
       "      <td>Extremely happy</td>\n",
       "      <td>Good</td>\n",
       "      <td>20.0</td>\n",
       "      <td>Every day</td>\n",
       "      <td>167.0</td>\n",
       "      <td>75.0</td>\n",
       "      <td>Male</td>\n",
       "      <td>1950</td>\n",
       "    </tr>\n",
       "    <tr>\n",
       "      <th>6</th>\n",
       "      <td>947921</td>\n",
       "      <td>7</td>\n",
       "      <td>8</td>\n",
       "      <td>Good</td>\n",
       "      <td>NaN</td>\n",
       "      <td>Less than once a month</td>\n",
       "      <td>169.0</td>\n",
       "      <td>63.0</td>\n",
       "      <td>Female</td>\n",
       "      <td>1980</td>\n",
       "    </tr>\n",
       "    <tr>\n",
       "      <th>7</th>\n",
       "      <td>926953</td>\n",
       "      <td>Most people can be trusted</td>\n",
       "      <td>8</td>\n",
       "      <td>Good</td>\n",
       "      <td>NaN</td>\n",
       "      <td>Once a month</td>\n",
       "      <td>184.0</td>\n",
       "      <td>73.0</td>\n",
       "      <td>Male</td>\n",
       "      <td>1940</td>\n",
       "    </tr>\n",
       "    <tr>\n",
       "      <th>8</th>\n",
       "      <td>943553</td>\n",
       "      <td>8</td>\n",
       "      <td>8</td>\n",
       "      <td>Good</td>\n",
       "      <td>NaN</td>\n",
       "      <td>Once a week</td>\n",
       "      <td>182.0</td>\n",
       "      <td>86.0</td>\n",
       "      <td>Male</td>\n",
       "      <td>1971</td>\n",
       "    </tr>\n",
       "    <tr>\n",
       "      <th>9</th>\n",
       "      <td>936299</td>\n",
       "      <td>8</td>\n",
       "      <td>9</td>\n",
       "      <td>Very good</td>\n",
       "      <td>8.0</td>\n",
       "      <td>Several times a week</td>\n",
       "      <td>172.0</td>\n",
       "      <td>73.0</td>\n",
       "      <td>Female</td>\n",
       "      <td>1965</td>\n",
       "    </tr>\n",
       "    <tr>\n",
       "      <th>10</th>\n",
       "      <td>943317</td>\n",
       "      <td>9</td>\n",
       "      <td>9</td>\n",
       "      <td>Very good</td>\n",
       "      <td>NaN</td>\n",
       "      <td>Once a month</td>\n",
       "      <td>178.0</td>\n",
       "      <td>72.0</td>\n",
       "      <td>Male</td>\n",
       "      <td>1989</td>\n",
       "    </tr>\n",
       "  </tbody>\n",
       "</table>\n",
       "</div>"
      ],
      "text/plain": [
       "      idno                     ppltrst            happy     health  cgtsday  \\\n",
       "2   939019                           5                8       Good      3.0   \n",
       "3   924985                           8                9  Very good      NaN   \n",
       "4   925410                           4                8        Bad      NaN   \n",
       "5   928947                           5  Extremely happy       Good     20.0   \n",
       "6   947921                           7                8       Good      NaN   \n",
       "7   926953  Most people can be trusted                8       Good      NaN   \n",
       "8   943553                           8                8       Good      NaN   \n",
       "9   936299                           8                9  Very good      8.0   \n",
       "10  943317                           9                9  Very good      NaN   \n",
       "\n",
       "                   alcfreq  height  weight    gndr  yrbrn  \n",
       "2              Once a week   182.0    90.0    Male   1980  \n",
       "3              Once a week   188.0    85.0    Male   1946  \n",
       "4     Several times a week   156.0    60.0  Female   1969  \n",
       "5                Every day   167.0    75.0    Male   1950  \n",
       "6   Less than once a month   169.0    63.0  Female   1980  \n",
       "7             Once a month   184.0    73.0    Male   1940  \n",
       "8              Once a week   182.0    86.0    Male   1971  \n",
       "9     Several times a week   172.0    73.0  Female   1965  \n",
       "10            Once a month   178.0    72.0    Male   1989  "
      ]
     },
     "execution_count": 37,
     "metadata": {},
     "output_type": "execute_result"
    }
   ],
   "source": [
    "ess2014.loc[2:10, :]"
   ]
  },
  {
   "cell_type": "markdown",
   "metadata": {},
   "source": [
    "Selekter bestemte kolonner (specificeres som en liste):"
   ]
  },
  {
   "cell_type": "code",
   "execution_count": 38,
   "metadata": {},
   "outputs": [
    {
     "data": {
      "text/html": [
       "<div>\n",
       "<style scoped>\n",
       "    .dataframe tbody tr th:only-of-type {\n",
       "        vertical-align: middle;\n",
       "    }\n",
       "\n",
       "    .dataframe tbody tr th {\n",
       "        vertical-align: top;\n",
       "    }\n",
       "\n",
       "    .dataframe thead th {\n",
       "        text-align: right;\n",
       "    }\n",
       "</style>\n",
       "<table border=\"1\" class=\"dataframe\">\n",
       "  <thead>\n",
       "    <tr style=\"text-align: right;\">\n",
       "      <th></th>\n",
       "      <th>gndr</th>\n",
       "      <th>alcfreq</th>\n",
       "    </tr>\n",
       "  </thead>\n",
       "  <tbody>\n",
       "    <tr>\n",
       "      <th>0</th>\n",
       "      <td>Female</td>\n",
       "      <td>Never</td>\n",
       "    </tr>\n",
       "    <tr>\n",
       "      <th>1</th>\n",
       "      <td>Female</td>\n",
       "      <td>Several times a week</td>\n",
       "    </tr>\n",
       "    <tr>\n",
       "      <th>2</th>\n",
       "      <td>Male</td>\n",
       "      <td>Once a week</td>\n",
       "    </tr>\n",
       "    <tr>\n",
       "      <th>3</th>\n",
       "      <td>Male</td>\n",
       "      <td>Once a week</td>\n",
       "    </tr>\n",
       "    <tr>\n",
       "      <th>4</th>\n",
       "      <td>Female</td>\n",
       "      <td>Several times a week</td>\n",
       "    </tr>\n",
       "  </tbody>\n",
       "</table>\n",
       "</div>"
      ],
      "text/plain": [
       "     gndr               alcfreq\n",
       "0  Female                 Never\n",
       "1  Female  Several times a week\n",
       "2    Male           Once a week\n",
       "3    Male           Once a week\n",
       "4  Female  Several times a week"
      ]
     },
     "execution_count": 38,
     "metadata": {},
     "output_type": "execute_result"
    }
   ],
   "source": [
    "ess2014.loc[:, ['gndr', 'alcfreq']].head()"
   ]
  },
  {
   "cell_type": "markdown",
   "metadata": {},
   "source": [
    "Selekter bestemte rækker og kolonner:"
   ]
  },
  {
   "cell_type": "code",
   "execution_count": 39,
   "metadata": {},
   "outputs": [
    {
     "data": {
      "text/html": [
       "<div>\n",
       "<style scoped>\n",
       "    .dataframe tbody tr th:only-of-type {\n",
       "        vertical-align: middle;\n",
       "    }\n",
       "\n",
       "    .dataframe tbody tr th {\n",
       "        vertical-align: top;\n",
       "    }\n",
       "\n",
       "    .dataframe thead th {\n",
       "        text-align: right;\n",
       "    }\n",
       "</style>\n",
       "<table border=\"1\" class=\"dataframe\">\n",
       "  <thead>\n",
       "    <tr style=\"text-align: right;\">\n",
       "      <th></th>\n",
       "      <th>gndr</th>\n",
       "      <th>alcfreq</th>\n",
       "    </tr>\n",
       "  </thead>\n",
       "  <tbody>\n",
       "    <tr>\n",
       "      <th>2</th>\n",
       "      <td>Male</td>\n",
       "      <td>Once a week</td>\n",
       "    </tr>\n",
       "    <tr>\n",
       "      <th>3</th>\n",
       "      <td>Male</td>\n",
       "      <td>Once a week</td>\n",
       "    </tr>\n",
       "    <tr>\n",
       "      <th>4</th>\n",
       "      <td>Female</td>\n",
       "      <td>Several times a week</td>\n",
       "    </tr>\n",
       "    <tr>\n",
       "      <th>5</th>\n",
       "      <td>Male</td>\n",
       "      <td>Every day</td>\n",
       "    </tr>\n",
       "    <tr>\n",
       "      <th>6</th>\n",
       "      <td>Female</td>\n",
       "      <td>Less than once a month</td>\n",
       "    </tr>\n",
       "    <tr>\n",
       "      <th>7</th>\n",
       "      <td>Male</td>\n",
       "      <td>Once a month</td>\n",
       "    </tr>\n",
       "    <tr>\n",
       "      <th>8</th>\n",
       "      <td>Male</td>\n",
       "      <td>Once a week</td>\n",
       "    </tr>\n",
       "    <tr>\n",
       "      <th>9</th>\n",
       "      <td>Female</td>\n",
       "      <td>Several times a week</td>\n",
       "    </tr>\n",
       "    <tr>\n",
       "      <th>10</th>\n",
       "      <td>Male</td>\n",
       "      <td>Once a month</td>\n",
       "    </tr>\n",
       "  </tbody>\n",
       "</table>\n",
       "</div>"
      ],
      "text/plain": [
       "      gndr                 alcfreq\n",
       "2     Male             Once a week\n",
       "3     Male             Once a week\n",
       "4   Female    Several times a week\n",
       "5     Male               Every day\n",
       "6   Female  Less than once a month\n",
       "7     Male            Once a month\n",
       "8     Male             Once a week\n",
       "9   Female    Several times a week\n",
       "10    Male            Once a month"
      ]
     },
     "execution_count": 39,
     "metadata": {},
     "output_type": "execute_result"
    }
   ],
   "source": [
    "ess2014.loc[2:10, ['gndr', 'alcfreq']]"
   ]
  },
  {
   "cell_type": "markdown",
   "metadata": {},
   "source": [
    "Selekter ud fra kolonneindeks:"
   ]
  },
  {
   "cell_type": "code",
   "execution_count": 43,
   "metadata": {},
   "outputs": [
    {
     "data": {
      "text/html": [
       "<div>\n",
       "<style scoped>\n",
       "    .dataframe tbody tr th:only-of-type {\n",
       "        vertical-align: middle;\n",
       "    }\n",
       "\n",
       "    .dataframe tbody tr th {\n",
       "        vertical-align: top;\n",
       "    }\n",
       "\n",
       "    .dataframe thead th {\n",
       "        text-align: right;\n",
       "    }\n",
       "</style>\n",
       "<table border=\"1\" class=\"dataframe\">\n",
       "  <thead>\n",
       "    <tr style=\"text-align: right;\">\n",
       "      <th></th>\n",
       "      <th>gndr</th>\n",
       "      <th>alcfreq</th>\n",
       "    </tr>\n",
       "  </thead>\n",
       "  <tbody>\n",
       "    <tr>\n",
       "      <th>2</th>\n",
       "      <td>Male</td>\n",
       "      <td>Once a week</td>\n",
       "    </tr>\n",
       "    <tr>\n",
       "      <th>3</th>\n",
       "      <td>Male</td>\n",
       "      <td>Once a week</td>\n",
       "    </tr>\n",
       "    <tr>\n",
       "      <th>4</th>\n",
       "      <td>Female</td>\n",
       "      <td>Several times a week</td>\n",
       "    </tr>\n",
       "    <tr>\n",
       "      <th>5</th>\n",
       "      <td>Male</td>\n",
       "      <td>Every day</td>\n",
       "    </tr>\n",
       "    <tr>\n",
       "      <th>6</th>\n",
       "      <td>Female</td>\n",
       "      <td>Less than once a month</td>\n",
       "    </tr>\n",
       "    <tr>\n",
       "      <th>7</th>\n",
       "      <td>Male</td>\n",
       "      <td>Once a month</td>\n",
       "    </tr>\n",
       "    <tr>\n",
       "      <th>8</th>\n",
       "      <td>Male</td>\n",
       "      <td>Once a week</td>\n",
       "    </tr>\n",
       "    <tr>\n",
       "      <th>9</th>\n",
       "      <td>Female</td>\n",
       "      <td>Several times a week</td>\n",
       "    </tr>\n",
       "  </tbody>\n",
       "</table>\n",
       "</div>"
      ],
      "text/plain": [
       "     gndr                 alcfreq\n",
       "2    Male             Once a week\n",
       "3    Male             Once a week\n",
       "4  Female    Several times a week\n",
       "5    Male               Every day\n",
       "6  Female  Less than once a month\n",
       "7    Male            Once a month\n",
       "8    Male             Once a week\n",
       "9  Female    Several times a week"
      ]
     },
     "execution_count": 43,
     "metadata": {},
     "output_type": "execute_result"
    }
   ],
   "source": [
    "ess2014.iloc[2:10, [8, 5]]"
   ]
  },
  {
   "cell_type": "markdown",
   "metadata": {},
   "source": [
    "Bemærk at datasæt ikke ændres. Hvis subset skal gemmes, skal det gemmes i et nyt objekt (ny dataframe):"
   ]
  },
  {
   "cell_type": "code",
   "execution_count": 44,
   "metadata": {},
   "outputs": [
    {
     "data": {
      "text/html": [
       "<div>\n",
       "<style scoped>\n",
       "    .dataframe tbody tr th:only-of-type {\n",
       "        vertical-align: middle;\n",
       "    }\n",
       "\n",
       "    .dataframe tbody tr th {\n",
       "        vertical-align: top;\n",
       "    }\n",
       "\n",
       "    .dataframe thead th {\n",
       "        text-align: right;\n",
       "    }\n",
       "</style>\n",
       "<table border=\"1\" class=\"dataframe\">\n",
       "  <thead>\n",
       "    <tr style=\"text-align: right;\">\n",
       "      <th></th>\n",
       "      <th>gndr</th>\n",
       "      <th>alcfreq</th>\n",
       "    </tr>\n",
       "  </thead>\n",
       "  <tbody>\n",
       "    <tr>\n",
       "      <th>2</th>\n",
       "      <td>Male</td>\n",
       "      <td>Once a week</td>\n",
       "    </tr>\n",
       "    <tr>\n",
       "      <th>3</th>\n",
       "      <td>Male</td>\n",
       "      <td>Once a week</td>\n",
       "    </tr>\n",
       "    <tr>\n",
       "      <th>4</th>\n",
       "      <td>Female</td>\n",
       "      <td>Several times a week</td>\n",
       "    </tr>\n",
       "    <tr>\n",
       "      <th>5</th>\n",
       "      <td>Male</td>\n",
       "      <td>Every day</td>\n",
       "    </tr>\n",
       "    <tr>\n",
       "      <th>6</th>\n",
       "      <td>Female</td>\n",
       "      <td>Less than once a month</td>\n",
       "    </tr>\n",
       "  </tbody>\n",
       "</table>\n",
       "</div>"
      ],
      "text/plain": [
       "     gndr                 alcfreq\n",
       "2    Male             Once a week\n",
       "3    Male             Once a week\n",
       "4  Female    Several times a week\n",
       "5    Male               Every day\n",
       "6  Female  Less than once a month"
      ]
     },
     "execution_count": 44,
     "metadata": {},
     "output_type": "execute_result"
    }
   ],
   "source": [
    "ess2014_subset = ess2014.loc[2:10, ['gndr', 'alcfreq']]\n",
    "\n",
    "ess2014_subset.head()"
   ]
  },
  {
   "cell_type": "markdown",
   "metadata": {},
   "source": [
    "## Subsetting med booleans (logiske værdier)\n",
    "\n",
    "I stedet for at specificere indeksnumrene, kan man i stedet specificere betingelser:"
   ]
  },
  {
   "cell_type": "code",
   "execution_count": 45,
   "metadata": {},
   "outputs": [
    {
     "data": {
      "text/html": [
       "<div>\n",
       "<style scoped>\n",
       "    .dataframe tbody tr th:only-of-type {\n",
       "        vertical-align: middle;\n",
       "    }\n",
       "\n",
       "    .dataframe tbody tr th {\n",
       "        vertical-align: top;\n",
       "    }\n",
       "\n",
       "    .dataframe thead th {\n",
       "        text-align: right;\n",
       "    }\n",
       "</style>\n",
       "<table border=\"1\" class=\"dataframe\">\n",
       "  <thead>\n",
       "    <tr style=\"text-align: right;\">\n",
       "      <th></th>\n",
       "      <th>idno</th>\n",
       "      <th>ppltrst</th>\n",
       "      <th>happy</th>\n",
       "      <th>health</th>\n",
       "      <th>cgtsday</th>\n",
       "      <th>alcfreq</th>\n",
       "      <th>height</th>\n",
       "      <th>weight</th>\n",
       "      <th>gndr</th>\n",
       "      <th>yrbrn</th>\n",
       "    </tr>\n",
       "  </thead>\n",
       "  <tbody>\n",
       "    <tr>\n",
       "      <th>2</th>\n",
       "      <td>939019</td>\n",
       "      <td>5</td>\n",
       "      <td>8</td>\n",
       "      <td>Good</td>\n",
       "      <td>3.0</td>\n",
       "      <td>Once a week</td>\n",
       "      <td>182.0</td>\n",
       "      <td>90.0</td>\n",
       "      <td>Male</td>\n",
       "      <td>1980</td>\n",
       "    </tr>\n",
       "    <tr>\n",
       "      <th>3</th>\n",
       "      <td>924985</td>\n",
       "      <td>8</td>\n",
       "      <td>9</td>\n",
       "      <td>Very good</td>\n",
       "      <td>NaN</td>\n",
       "      <td>Once a week</td>\n",
       "      <td>188.0</td>\n",
       "      <td>85.0</td>\n",
       "      <td>Male</td>\n",
       "      <td>1946</td>\n",
       "    </tr>\n",
       "    <tr>\n",
       "      <th>7</th>\n",
       "      <td>926953</td>\n",
       "      <td>Most people can be trusted</td>\n",
       "      <td>8</td>\n",
       "      <td>Good</td>\n",
       "      <td>NaN</td>\n",
       "      <td>Once a month</td>\n",
       "      <td>184.0</td>\n",
       "      <td>73.0</td>\n",
       "      <td>Male</td>\n",
       "      <td>1940</td>\n",
       "    </tr>\n",
       "    <tr>\n",
       "      <th>8</th>\n",
       "      <td>943553</td>\n",
       "      <td>8</td>\n",
       "      <td>8</td>\n",
       "      <td>Good</td>\n",
       "      <td>NaN</td>\n",
       "      <td>Once a week</td>\n",
       "      <td>182.0</td>\n",
       "      <td>86.0</td>\n",
       "      <td>Male</td>\n",
       "      <td>1971</td>\n",
       "    </tr>\n",
       "    <tr>\n",
       "      <th>14</th>\n",
       "      <td>947086</td>\n",
       "      <td>8</td>\n",
       "      <td>7</td>\n",
       "      <td>Very good</td>\n",
       "      <td>NaN</td>\n",
       "      <td>Once a week</td>\n",
       "      <td>186.0</td>\n",
       "      <td>84.0</td>\n",
       "      <td>Male</td>\n",
       "      <td>1964</td>\n",
       "    </tr>\n",
       "  </tbody>\n",
       "</table>\n",
       "</div>"
      ],
      "text/plain": [
       "      idno                     ppltrst happy     health  cgtsday  \\\n",
       "2   939019                           5     8       Good      3.0   \n",
       "3   924985                           8     9  Very good      NaN   \n",
       "7   926953  Most people can be trusted     8       Good      NaN   \n",
       "8   943553                           8     8       Good      NaN   \n",
       "14  947086                           8     7  Very good      NaN   \n",
       "\n",
       "         alcfreq  height  weight  gndr  yrbrn  \n",
       "2    Once a week   182.0    90.0  Male   1980  \n",
       "3    Once a week   188.0    85.0  Male   1946  \n",
       "7   Once a month   184.0    73.0  Male   1940  \n",
       "8    Once a week   182.0    86.0  Male   1971  \n",
       "14   Once a week   186.0    84.0  Male   1964  "
      ]
     },
     "execution_count": 45,
     "metadata": {},
     "output_type": "execute_result"
    }
   ],
   "source": [
    "ess2014.loc[ess2014['height'] > 180, :].head()"
   ]
  },
  {
   "cell_type": "code",
   "execution_count": 46,
   "metadata": {},
   "outputs": [
    {
     "data": {
      "text/html": [
       "<div>\n",
       "<style scoped>\n",
       "    .dataframe tbody tr th:only-of-type {\n",
       "        vertical-align: middle;\n",
       "    }\n",
       "\n",
       "    .dataframe tbody tr th {\n",
       "        vertical-align: top;\n",
       "    }\n",
       "\n",
       "    .dataframe thead th {\n",
       "        text-align: right;\n",
       "    }\n",
       "</style>\n",
       "<table border=\"1\" class=\"dataframe\">\n",
       "  <thead>\n",
       "    <tr style=\"text-align: right;\">\n",
       "      <th></th>\n",
       "      <th>idno</th>\n",
       "      <th>ppltrst</th>\n",
       "      <th>happy</th>\n",
       "      <th>health</th>\n",
       "      <th>cgtsday</th>\n",
       "      <th>alcfreq</th>\n",
       "      <th>height</th>\n",
       "      <th>weight</th>\n",
       "      <th>gndr</th>\n",
       "      <th>yrbrn</th>\n",
       "    </tr>\n",
       "  </thead>\n",
       "  <tbody>\n",
       "    <tr>\n",
       "      <th>219</th>\n",
       "      <td>931833</td>\n",
       "      <td>8</td>\n",
       "      <td>9</td>\n",
       "      <td>Very good</td>\n",
       "      <td>NaN</td>\n",
       "      <td>Once a week</td>\n",
       "      <td>184.0</td>\n",
       "      <td>70.0</td>\n",
       "      <td>Female</td>\n",
       "      <td>1993</td>\n",
       "    </tr>\n",
       "    <tr>\n",
       "      <th>263</th>\n",
       "      <td>948529</td>\n",
       "      <td>8</td>\n",
       "      <td>9</td>\n",
       "      <td>Very good</td>\n",
       "      <td>NaN</td>\n",
       "      <td>2-3 times a month</td>\n",
       "      <td>181.0</td>\n",
       "      <td>78.0</td>\n",
       "      <td>Female</td>\n",
       "      <td>1972</td>\n",
       "    </tr>\n",
       "    <tr>\n",
       "      <th>581</th>\n",
       "      <td>941739</td>\n",
       "      <td>9</td>\n",
       "      <td>9</td>\n",
       "      <td>Good</td>\n",
       "      <td>NaN</td>\n",
       "      <td>Several times a week</td>\n",
       "      <td>184.0</td>\n",
       "      <td>62.0</td>\n",
       "      <td>Female</td>\n",
       "      <td>1984</td>\n",
       "    </tr>\n",
       "    <tr>\n",
       "      <th>616</th>\n",
       "      <td>927771</td>\n",
       "      <td>8</td>\n",
       "      <td>Extremely happy</td>\n",
       "      <td>Good</td>\n",
       "      <td>NaN</td>\n",
       "      <td>Once a month</td>\n",
       "      <td>181.0</td>\n",
       "      <td>63.0</td>\n",
       "      <td>Female</td>\n",
       "      <td>1984</td>\n",
       "    </tr>\n",
       "    <tr>\n",
       "      <th>651</th>\n",
       "      <td>948294</td>\n",
       "      <td>Most people can be trusted</td>\n",
       "      <td>Extremely happy</td>\n",
       "      <td>Very good</td>\n",
       "      <td>NaN</td>\n",
       "      <td>Less than once a month</td>\n",
       "      <td>182.0</td>\n",
       "      <td>117.0</td>\n",
       "      <td>Female</td>\n",
       "      <td>1968</td>\n",
       "    </tr>\n",
       "  </tbody>\n",
       "</table>\n",
       "</div>"
      ],
      "text/plain": [
       "       idno                     ppltrst            happy     health  cgtsday  \\\n",
       "219  931833                           8                9  Very good      NaN   \n",
       "263  948529                           8                9  Very good      NaN   \n",
       "581  941739                           9                9       Good      NaN   \n",
       "616  927771                           8  Extremely happy       Good      NaN   \n",
       "651  948294  Most people can be trusted  Extremely happy  Very good      NaN   \n",
       "\n",
       "                    alcfreq  height  weight    gndr  yrbrn  \n",
       "219             Once a week   184.0    70.0  Female   1993  \n",
       "263       2-3 times a month   181.0    78.0  Female   1972  \n",
       "581    Several times a week   184.0    62.0  Female   1984  \n",
       "616            Once a month   181.0    63.0  Female   1984  \n",
       "651  Less than once a month   182.0   117.0  Female   1968  "
      ]
     },
     "execution_count": 46,
     "metadata": {},
     "output_type": "execute_result"
    }
   ],
   "source": [
    "ess2014.loc[(ess2014['height'] > 180) & (ess2014['gndr'] == 'Female'), :].head()"
   ]
  },
  {
   "cell_type": "markdown",
   "metadata": {},
   "source": [
    "---\n",
    "## VIDENSCHECK\n",
    "\n",
    "*Hvad er forskellen på `.loc[]` og `.iloc[]`?*\n",
    "\n",
    "{{%expand \"Løsning\"%}}\n",
    "\n",
    "`.loc[]` bruges til at selektere ud fra række- og kolonne*navne*.\n",
    "\n",
    "`.iloc[]` bruges til at selektere ud fra række- og kolonne*indeks*.\n",
    "\n",
    "Bemærk, at hvis rækker ikke har navne, referes blot til deres indeks med `.loc[]` også.\n",
    "\n",
    "{{%/expand%}}\n",
    "\n",
    "---"
   ]
  },
  {
   "cell_type": "markdown",
   "metadata": {},
   "source": [
    "---\n",
    "\n",
    "## ØVELSE: Selekter observationer\n",
    "\n",
    "*Dan et subet bestående af mænd født efter 1980.*\n",
    "\n",
    "{{%expand \"Løsning\"%}}"
   ]
  },
  {
   "cell_type": "code",
   "execution_count": 47,
   "metadata": {},
   "outputs": [
    {
     "data": {
      "text/html": [
       "<div>\n",
       "<style scoped>\n",
       "    .dataframe tbody tr th:only-of-type {\n",
       "        vertical-align: middle;\n",
       "    }\n",
       "\n",
       "    .dataframe tbody tr th {\n",
       "        vertical-align: top;\n",
       "    }\n",
       "\n",
       "    .dataframe thead th {\n",
       "        text-align: right;\n",
       "    }\n",
       "</style>\n",
       "<table border=\"1\" class=\"dataframe\">\n",
       "  <thead>\n",
       "    <tr style=\"text-align: right;\">\n",
       "      <th></th>\n",
       "      <th>idno</th>\n",
       "      <th>ppltrst</th>\n",
       "      <th>happy</th>\n",
       "      <th>health</th>\n",
       "      <th>cgtsday</th>\n",
       "      <th>alcfreq</th>\n",
       "      <th>height</th>\n",
       "      <th>weight</th>\n",
       "      <th>gndr</th>\n",
       "      <th>yrbrn</th>\n",
       "    </tr>\n",
       "  </thead>\n",
       "  <tbody>\n",
       "    <tr>\n",
       "      <th>10</th>\n",
       "      <td>943317</td>\n",
       "      <td>9</td>\n",
       "      <td>9</td>\n",
       "      <td>Very good</td>\n",
       "      <td>NaN</td>\n",
       "      <td>Once a month</td>\n",
       "      <td>178.0</td>\n",
       "      <td>72.0</td>\n",
       "      <td>Male</td>\n",
       "      <td>1989</td>\n",
       "    </tr>\n",
       "    <tr>\n",
       "      <th>33</th>\n",
       "      <td>923426</td>\n",
       "      <td>8</td>\n",
       "      <td>8</td>\n",
       "      <td>Good</td>\n",
       "      <td>20.0</td>\n",
       "      <td>Once a week</td>\n",
       "      <td>184.0</td>\n",
       "      <td>84.0</td>\n",
       "      <td>Male</td>\n",
       "      <td>1991</td>\n",
       "    </tr>\n",
       "    <tr>\n",
       "      <th>35</th>\n",
       "      <td>931443</td>\n",
       "      <td>5</td>\n",
       "      <td>Extremely happy</td>\n",
       "      <td>Good</td>\n",
       "      <td>NaN</td>\n",
       "      <td>Several times a week</td>\n",
       "      <td>185.0</td>\n",
       "      <td>66.0</td>\n",
       "      <td>Male</td>\n",
       "      <td>1990</td>\n",
       "    </tr>\n",
       "    <tr>\n",
       "      <th>36</th>\n",
       "      <td>935934</td>\n",
       "      <td>7</td>\n",
       "      <td>5</td>\n",
       "      <td>Fair</td>\n",
       "      <td>2.0</td>\n",
       "      <td>Several times a week</td>\n",
       "      <td>188.0</td>\n",
       "      <td>74.0</td>\n",
       "      <td>Male</td>\n",
       "      <td>1994</td>\n",
       "    </tr>\n",
       "    <tr>\n",
       "      <th>43</th>\n",
       "      <td>935251</td>\n",
       "      <td>6</td>\n",
       "      <td>7</td>\n",
       "      <td>Good</td>\n",
       "      <td>NaN</td>\n",
       "      <td>Once a week</td>\n",
       "      <td>190.0</td>\n",
       "      <td>93.0</td>\n",
       "      <td>Male</td>\n",
       "      <td>1991</td>\n",
       "    </tr>\n",
       "  </tbody>\n",
       "</table>\n",
       "</div>"
      ],
      "text/plain": [
       "      idno ppltrst            happy     health  cgtsday               alcfreq  \\\n",
       "10  943317       9                9  Very good      NaN          Once a month   \n",
       "33  923426       8                8       Good     20.0           Once a week   \n",
       "35  931443       5  Extremely happy       Good      NaN  Several times a week   \n",
       "36  935934       7                5       Fair      2.0  Several times a week   \n",
       "43  935251       6                7       Good      NaN           Once a week   \n",
       "\n",
       "    height  weight  gndr  yrbrn  \n",
       "10   178.0    72.0  Male   1989  \n",
       "33   184.0    84.0  Male   1991  \n",
       "35   185.0    66.0  Male   1990  \n",
       "36   188.0    74.0  Male   1994  \n",
       "43   190.0    93.0  Male   1991  "
      ]
     },
     "execution_count": 47,
     "metadata": {},
     "output_type": "execute_result"
    }
   ],
   "source": [
    "ess2014_subset = ess2014.loc[(ess2014['gndr'] == 'Male') & (ess2014['yrbrn'] > 1980), :]\n",
    "\n",
    "ess2014_subset.head()"
   ]
  },
  {
   "cell_type": "markdown",
   "metadata": {},
   "source": [
    "{{%/expand%}}"
   ]
  },
  {
   "cell_type": "markdown",
   "metadata": {},
   "source": [
    "# {#Afsnit}Variabelgenerering og rekodning (draft)\n",
    "\n",
    "## Variabelgenerering\n",
    "\n",
    "Ofte har man brug for at tilføje oplysninger til et datasæt i form af nye variable.\n",
    "\n",
    "Man danner en ny variabel blot ved at referere til et kolonnenavn, som endnu ikke er brugt.\n",
    "\n",
    "I nedenstående dannes `height_m`; en variabel for højde i meter:"
   ]
  },
  {
   "cell_type": "code",
   "execution_count": 48,
   "metadata": {},
   "outputs": [
    {
     "data": {
      "text/html": [
       "<div>\n",
       "<style scoped>\n",
       "    .dataframe tbody tr th:only-of-type {\n",
       "        vertical-align: middle;\n",
       "    }\n",
       "\n",
       "    .dataframe tbody tr th {\n",
       "        vertical-align: top;\n",
       "    }\n",
       "\n",
       "    .dataframe thead th {\n",
       "        text-align: right;\n",
       "    }\n",
       "</style>\n",
       "<table border=\"1\" class=\"dataframe\">\n",
       "  <thead>\n",
       "    <tr style=\"text-align: right;\">\n",
       "      <th></th>\n",
       "      <th>idno</th>\n",
       "      <th>ppltrst</th>\n",
       "      <th>happy</th>\n",
       "      <th>health</th>\n",
       "      <th>cgtsday</th>\n",
       "      <th>alcfreq</th>\n",
       "      <th>height</th>\n",
       "      <th>weight</th>\n",
       "      <th>gndr</th>\n",
       "      <th>yrbrn</th>\n",
       "      <th>height_m</th>\n",
       "    </tr>\n",
       "  </thead>\n",
       "  <tbody>\n",
       "    <tr>\n",
       "      <th>0</th>\n",
       "      <td>921490</td>\n",
       "      <td>4</td>\n",
       "      <td>Extremely happy</td>\n",
       "      <td>Very good</td>\n",
       "      <td>NaN</td>\n",
       "      <td>Never</td>\n",
       "      <td>167.0</td>\n",
       "      <td>62.0</td>\n",
       "      <td>Female</td>\n",
       "      <td>1965</td>\n",
       "      <td>1.67</td>\n",
       "    </tr>\n",
       "    <tr>\n",
       "      <th>1</th>\n",
       "      <td>938348</td>\n",
       "      <td>Most people can be trusted</td>\n",
       "      <td>7</td>\n",
       "      <td>Good</td>\n",
       "      <td>NaN</td>\n",
       "      <td>Several times a week</td>\n",
       "      <td>168.0</td>\n",
       "      <td>70.0</td>\n",
       "      <td>Female</td>\n",
       "      <td>1973</td>\n",
       "      <td>1.68</td>\n",
       "    </tr>\n",
       "    <tr>\n",
       "      <th>2</th>\n",
       "      <td>939019</td>\n",
       "      <td>5</td>\n",
       "      <td>8</td>\n",
       "      <td>Good</td>\n",
       "      <td>3.0</td>\n",
       "      <td>Once a week</td>\n",
       "      <td>182.0</td>\n",
       "      <td>90.0</td>\n",
       "      <td>Male</td>\n",
       "      <td>1980</td>\n",
       "      <td>1.82</td>\n",
       "    </tr>\n",
       "    <tr>\n",
       "      <th>3</th>\n",
       "      <td>924985</td>\n",
       "      <td>8</td>\n",
       "      <td>9</td>\n",
       "      <td>Very good</td>\n",
       "      <td>NaN</td>\n",
       "      <td>Once a week</td>\n",
       "      <td>188.0</td>\n",
       "      <td>85.0</td>\n",
       "      <td>Male</td>\n",
       "      <td>1946</td>\n",
       "      <td>1.88</td>\n",
       "    </tr>\n",
       "    <tr>\n",
       "      <th>4</th>\n",
       "      <td>925410</td>\n",
       "      <td>4</td>\n",
       "      <td>8</td>\n",
       "      <td>Bad</td>\n",
       "      <td>NaN</td>\n",
       "      <td>Several times a week</td>\n",
       "      <td>156.0</td>\n",
       "      <td>60.0</td>\n",
       "      <td>Female</td>\n",
       "      <td>1969</td>\n",
       "      <td>1.56</td>\n",
       "    </tr>\n",
       "  </tbody>\n",
       "</table>\n",
       "</div>"
      ],
      "text/plain": [
       "     idno                     ppltrst            happy     health  cgtsday  \\\n",
       "0  921490                           4  Extremely happy  Very good      NaN   \n",
       "1  938348  Most people can be trusted                7       Good      NaN   \n",
       "2  939019                           5                8       Good      3.0   \n",
       "3  924985                           8                9  Very good      NaN   \n",
       "4  925410                           4                8        Bad      NaN   \n",
       "\n",
       "                alcfreq  height  weight    gndr  yrbrn  height_m  \n",
       "0                 Never   167.0    62.0  Female   1965      1.67  \n",
       "1  Several times a week   168.0    70.0  Female   1973      1.68  \n",
       "2           Once a week   182.0    90.0    Male   1980      1.82  \n",
       "3           Once a week   188.0    85.0    Male   1946      1.88  \n",
       "4  Several times a week   156.0    60.0  Female   1969      1.56  "
      ]
     },
     "execution_count": 48,
     "metadata": {},
     "output_type": "execute_result"
    }
   ],
   "source": [
    "ess2014['height_m'] = ess2014['height'] / 100\n",
    "\n",
    "ess2014.head()"
   ]
  },
  {
   "cell_type": "markdown",
   "metadata": {},
   "source": [
    "---\n",
    "\n",
    "## ØVELSE: Dan en aldersvariabel\n",
    "\n",
    "*Tilføj en aldersvariabel til ESS2014DK datasættet (husk at data er fra 2014)*\n",
    "\n",
    "{{%expand \"Løsning\"%}}"
   ]
  },
  {
   "cell_type": "code",
   "execution_count": 49,
   "metadata": {},
   "outputs": [
    {
     "data": {
      "text/html": [
       "<div>\n",
       "<style scoped>\n",
       "    .dataframe tbody tr th:only-of-type {\n",
       "        vertical-align: middle;\n",
       "    }\n",
       "\n",
       "    .dataframe tbody tr th {\n",
       "        vertical-align: top;\n",
       "    }\n",
       "\n",
       "    .dataframe thead th {\n",
       "        text-align: right;\n",
       "    }\n",
       "</style>\n",
       "<table border=\"1\" class=\"dataframe\">\n",
       "  <thead>\n",
       "    <tr style=\"text-align: right;\">\n",
       "      <th></th>\n",
       "      <th>idno</th>\n",
       "      <th>ppltrst</th>\n",
       "      <th>happy</th>\n",
       "      <th>health</th>\n",
       "      <th>cgtsday</th>\n",
       "      <th>alcfreq</th>\n",
       "      <th>height</th>\n",
       "      <th>weight</th>\n",
       "      <th>gndr</th>\n",
       "      <th>yrbrn</th>\n",
       "      <th>height_m</th>\n",
       "      <th>age</th>\n",
       "    </tr>\n",
       "  </thead>\n",
       "  <tbody>\n",
       "    <tr>\n",
       "      <th>0</th>\n",
       "      <td>921490</td>\n",
       "      <td>4</td>\n",
       "      <td>Extremely happy</td>\n",
       "      <td>Very good</td>\n",
       "      <td>NaN</td>\n",
       "      <td>Never</td>\n",
       "      <td>167.0</td>\n",
       "      <td>62.0</td>\n",
       "      <td>Female</td>\n",
       "      <td>1965</td>\n",
       "      <td>1.67</td>\n",
       "      <td>49</td>\n",
       "    </tr>\n",
       "    <tr>\n",
       "      <th>1</th>\n",
       "      <td>938348</td>\n",
       "      <td>Most people can be trusted</td>\n",
       "      <td>7</td>\n",
       "      <td>Good</td>\n",
       "      <td>NaN</td>\n",
       "      <td>Several times a week</td>\n",
       "      <td>168.0</td>\n",
       "      <td>70.0</td>\n",
       "      <td>Female</td>\n",
       "      <td>1973</td>\n",
       "      <td>1.68</td>\n",
       "      <td>41</td>\n",
       "    </tr>\n",
       "    <tr>\n",
       "      <th>2</th>\n",
       "      <td>939019</td>\n",
       "      <td>5</td>\n",
       "      <td>8</td>\n",
       "      <td>Good</td>\n",
       "      <td>3.0</td>\n",
       "      <td>Once a week</td>\n",
       "      <td>182.0</td>\n",
       "      <td>90.0</td>\n",
       "      <td>Male</td>\n",
       "      <td>1980</td>\n",
       "      <td>1.82</td>\n",
       "      <td>34</td>\n",
       "    </tr>\n",
       "    <tr>\n",
       "      <th>3</th>\n",
       "      <td>924985</td>\n",
       "      <td>8</td>\n",
       "      <td>9</td>\n",
       "      <td>Very good</td>\n",
       "      <td>NaN</td>\n",
       "      <td>Once a week</td>\n",
       "      <td>188.0</td>\n",
       "      <td>85.0</td>\n",
       "      <td>Male</td>\n",
       "      <td>1946</td>\n",
       "      <td>1.88</td>\n",
       "      <td>68</td>\n",
       "    </tr>\n",
       "    <tr>\n",
       "      <th>4</th>\n",
       "      <td>925410</td>\n",
       "      <td>4</td>\n",
       "      <td>8</td>\n",
       "      <td>Bad</td>\n",
       "      <td>NaN</td>\n",
       "      <td>Several times a week</td>\n",
       "      <td>156.0</td>\n",
       "      <td>60.0</td>\n",
       "      <td>Female</td>\n",
       "      <td>1969</td>\n",
       "      <td>1.56</td>\n",
       "      <td>45</td>\n",
       "    </tr>\n",
       "  </tbody>\n",
       "</table>\n",
       "</div>"
      ],
      "text/plain": [
       "     idno                     ppltrst            happy     health  cgtsday  \\\n",
       "0  921490                           4  Extremely happy  Very good      NaN   \n",
       "1  938348  Most people can be trusted                7       Good      NaN   \n",
       "2  939019                           5                8       Good      3.0   \n",
       "3  924985                           8                9  Very good      NaN   \n",
       "4  925410                           4                8        Bad      NaN   \n",
       "\n",
       "                alcfreq  height  weight    gndr  yrbrn  height_m  age  \n",
       "0                 Never   167.0    62.0  Female   1965      1.67   49  \n",
       "1  Several times a week   168.0    70.0  Female   1973      1.68   41  \n",
       "2           Once a week   182.0    90.0    Male   1980      1.82   34  \n",
       "3           Once a week   188.0    85.0    Male   1946      1.88   68  \n",
       "4  Several times a week   156.0    60.0  Female   1969      1.56   45  "
      ]
     },
     "execution_count": 49,
     "metadata": {},
     "output_type": "execute_result"
    }
   ],
   "source": [
    "ess2014['age'] = 2014 - ess2014['yrbrn']\n",
    "\n",
    "ess2014.head()"
   ]
  },
  {
   "cell_type": "markdown",
   "metadata": {},
   "source": [
    "{{%/expand%}}\n",
    "\n",
    "---"
   ]
  },
  {
   "cell_type": "markdown",
   "metadata": {},
   "source": [
    "## Rekodning\n",
    "\n",
    "Ofte har man brug for at rekode variable.\n",
    "\n",
    "Variable rekodes ved at overskrive værdier i en eksisterende variabel.\n",
    "\n",
    "Det er god praksis ikke at rekode de oprindelige variable i datasættet, så man vil i stedet lave en kopi af variablen og så rekode den i stedet.\n",
    "\n",
    "Hvis man fx vil rekode en kontinuerlig variabel til kategorisk, kan man gøre brug af booleans. \n",
    "\n",
    "I nedenstående inddeles personer i datasættet i tre højde kategorier baseret på, om de har en højde under 1. kvartil (\"short\"), over 3. kvartil (\"tall\") eller midt imellem (\"medium\")."
   ]
  },
  {
   "cell_type": "code",
   "execution_count": 50,
   "metadata": {},
   "outputs": [
    {
     "data": {
      "text/html": [
       "<div>\n",
       "<style scoped>\n",
       "    .dataframe tbody tr th:only-of-type {\n",
       "        vertical-align: middle;\n",
       "    }\n",
       "\n",
       "    .dataframe tbody tr th {\n",
       "        vertical-align: top;\n",
       "    }\n",
       "\n",
       "    .dataframe thead th {\n",
       "        text-align: right;\n",
       "    }\n",
       "</style>\n",
       "<table border=\"1\" class=\"dataframe\">\n",
       "  <thead>\n",
       "    <tr style=\"text-align: right;\">\n",
       "      <th></th>\n",
       "      <th>idno</th>\n",
       "      <th>ppltrst</th>\n",
       "      <th>happy</th>\n",
       "      <th>health</th>\n",
       "      <th>cgtsday</th>\n",
       "      <th>alcfreq</th>\n",
       "      <th>height</th>\n",
       "      <th>weight</th>\n",
       "      <th>gndr</th>\n",
       "      <th>yrbrn</th>\n",
       "      <th>height_m</th>\n",
       "      <th>age</th>\n",
       "      <th>height_cat</th>\n",
       "    </tr>\n",
       "  </thead>\n",
       "  <tbody>\n",
       "    <tr>\n",
       "      <th>0</th>\n",
       "      <td>921490</td>\n",
       "      <td>4</td>\n",
       "      <td>Extremely happy</td>\n",
       "      <td>Very good</td>\n",
       "      <td>NaN</td>\n",
       "      <td>Never</td>\n",
       "      <td>167.0</td>\n",
       "      <td>62.0</td>\n",
       "      <td>Female</td>\n",
       "      <td>1965</td>\n",
       "      <td>1.67</td>\n",
       "      <td>49</td>\n",
       "      <td>short</td>\n",
       "    </tr>\n",
       "    <tr>\n",
       "      <th>1</th>\n",
       "      <td>938348</td>\n",
       "      <td>Most people can be trusted</td>\n",
       "      <td>7</td>\n",
       "      <td>Good</td>\n",
       "      <td>NaN</td>\n",
       "      <td>Several times a week</td>\n",
       "      <td>168.0</td>\n",
       "      <td>70.0</td>\n",
       "      <td>Female</td>\n",
       "      <td>1973</td>\n",
       "      <td>1.68</td>\n",
       "      <td>41</td>\n",
       "      <td>medium</td>\n",
       "    </tr>\n",
       "    <tr>\n",
       "      <th>2</th>\n",
       "      <td>939019</td>\n",
       "      <td>5</td>\n",
       "      <td>8</td>\n",
       "      <td>Good</td>\n",
       "      <td>3.0</td>\n",
       "      <td>Once a week</td>\n",
       "      <td>182.0</td>\n",
       "      <td>90.0</td>\n",
       "      <td>Male</td>\n",
       "      <td>1980</td>\n",
       "      <td>1.82</td>\n",
       "      <td>34</td>\n",
       "      <td>tall</td>\n",
       "    </tr>\n",
       "    <tr>\n",
       "      <th>3</th>\n",
       "      <td>924985</td>\n",
       "      <td>8</td>\n",
       "      <td>9</td>\n",
       "      <td>Very good</td>\n",
       "      <td>NaN</td>\n",
       "      <td>Once a week</td>\n",
       "      <td>188.0</td>\n",
       "      <td>85.0</td>\n",
       "      <td>Male</td>\n",
       "      <td>1946</td>\n",
       "      <td>1.88</td>\n",
       "      <td>68</td>\n",
       "      <td>tall</td>\n",
       "    </tr>\n",
       "    <tr>\n",
       "      <th>4</th>\n",
       "      <td>925410</td>\n",
       "      <td>4</td>\n",
       "      <td>8</td>\n",
       "      <td>Bad</td>\n",
       "      <td>NaN</td>\n",
       "      <td>Several times a week</td>\n",
       "      <td>156.0</td>\n",
       "      <td>60.0</td>\n",
       "      <td>Female</td>\n",
       "      <td>1969</td>\n",
       "      <td>1.56</td>\n",
       "      <td>45</td>\n",
       "      <td>short</td>\n",
       "    </tr>\n",
       "    <tr>\n",
       "      <th>5</th>\n",
       "      <td>928947</td>\n",
       "      <td>5</td>\n",
       "      <td>Extremely happy</td>\n",
       "      <td>Good</td>\n",
       "      <td>20.0</td>\n",
       "      <td>Every day</td>\n",
       "      <td>167.0</td>\n",
       "      <td>75.0</td>\n",
       "      <td>Male</td>\n",
       "      <td>1950</td>\n",
       "      <td>1.67</td>\n",
       "      <td>64</td>\n",
       "      <td>short</td>\n",
       "    </tr>\n",
       "    <tr>\n",
       "      <th>6</th>\n",
       "      <td>947921</td>\n",
       "      <td>7</td>\n",
       "      <td>8</td>\n",
       "      <td>Good</td>\n",
       "      <td>NaN</td>\n",
       "      <td>Less than once a month</td>\n",
       "      <td>169.0</td>\n",
       "      <td>63.0</td>\n",
       "      <td>Female</td>\n",
       "      <td>1980</td>\n",
       "      <td>1.69</td>\n",
       "      <td>34</td>\n",
       "      <td>medium</td>\n",
       "    </tr>\n",
       "    <tr>\n",
       "      <th>7</th>\n",
       "      <td>926953</td>\n",
       "      <td>Most people can be trusted</td>\n",
       "      <td>8</td>\n",
       "      <td>Good</td>\n",
       "      <td>NaN</td>\n",
       "      <td>Once a month</td>\n",
       "      <td>184.0</td>\n",
       "      <td>73.0</td>\n",
       "      <td>Male</td>\n",
       "      <td>1940</td>\n",
       "      <td>1.84</td>\n",
       "      <td>74</td>\n",
       "      <td>tall</td>\n",
       "    </tr>\n",
       "    <tr>\n",
       "      <th>8</th>\n",
       "      <td>943553</td>\n",
       "      <td>8</td>\n",
       "      <td>8</td>\n",
       "      <td>Good</td>\n",
       "      <td>NaN</td>\n",
       "      <td>Once a week</td>\n",
       "      <td>182.0</td>\n",
       "      <td>86.0</td>\n",
       "      <td>Male</td>\n",
       "      <td>1971</td>\n",
       "      <td>1.82</td>\n",
       "      <td>43</td>\n",
       "      <td>tall</td>\n",
       "    </tr>\n",
       "    <tr>\n",
       "      <th>9</th>\n",
       "      <td>936299</td>\n",
       "      <td>8</td>\n",
       "      <td>9</td>\n",
       "      <td>Very good</td>\n",
       "      <td>8.0</td>\n",
       "      <td>Several times a week</td>\n",
       "      <td>172.0</td>\n",
       "      <td>73.0</td>\n",
       "      <td>Female</td>\n",
       "      <td>1965</td>\n",
       "      <td>1.72</td>\n",
       "      <td>49</td>\n",
       "      <td>medium</td>\n",
       "    </tr>\n",
       "  </tbody>\n",
       "</table>\n",
       "</div>"
      ],
      "text/plain": [
       "     idno                     ppltrst            happy     health  cgtsday  \\\n",
       "0  921490                           4  Extremely happy  Very good      NaN   \n",
       "1  938348  Most people can be trusted                7       Good      NaN   \n",
       "2  939019                           5                8       Good      3.0   \n",
       "3  924985                           8                9  Very good      NaN   \n",
       "4  925410                           4                8        Bad      NaN   \n",
       "5  928947                           5  Extremely happy       Good     20.0   \n",
       "6  947921                           7                8       Good      NaN   \n",
       "7  926953  Most people can be trusted                8       Good      NaN   \n",
       "8  943553                           8                8       Good      NaN   \n",
       "9  936299                           8                9  Very good      8.0   \n",
       "\n",
       "                  alcfreq  height  weight    gndr  yrbrn  height_m  age  \\\n",
       "0                   Never   167.0    62.0  Female   1965      1.67   49   \n",
       "1    Several times a week   168.0    70.0  Female   1973      1.68   41   \n",
       "2             Once a week   182.0    90.0    Male   1980      1.82   34   \n",
       "3             Once a week   188.0    85.0    Male   1946      1.88   68   \n",
       "4    Several times a week   156.0    60.0  Female   1969      1.56   45   \n",
       "5               Every day   167.0    75.0    Male   1950      1.67   64   \n",
       "6  Less than once a month   169.0    63.0  Female   1980      1.69   34   \n",
       "7            Once a month   184.0    73.0    Male   1940      1.84   74   \n",
       "8             Once a week   182.0    86.0    Male   1971      1.82   43   \n",
       "9    Several times a week   172.0    73.0  Female   1965      1.72   49   \n",
       "\n",
       "  height_cat  \n",
       "0      short  \n",
       "1     medium  \n",
       "2       tall  \n",
       "3       tall  \n",
       "4      short  \n",
       "5      short  \n",
       "6     medium  \n",
       "7       tall  \n",
       "8       tall  \n",
       "9     medium  "
      ]
     },
     "execution_count": 50,
     "metadata": {},
     "output_type": "execute_result"
    }
   ],
   "source": [
    "quart1 = ess2014['height'].quantile(0.25)\n",
    "quart3 = ess2014['height'].quantile(0.75)\n",
    "\n",
    "ess2014['height_cat'] = np.nan # Danner en \"tom\" variabel bestående af missing\n",
    "\n",
    "ess2014.loc[ess2014['height'] <= quart1, 'height_cat'] = \"short\"\n",
    "ess2014.loc[(ess2014['height'] > quart1) & (ess2014['height'] < quart3), 'height_cat'] = \"medium\"\n",
    "ess2014.loc[ess2014['height'] >= quart3, 'height_cat'] = \"tall\"\n",
    "\n",
    "ess2014.head(10)"
   ]
  },
  {
   "cell_type": "markdown",
   "metadata": {},
   "source": [
    "Alternativt, hvis der bare skal deles i tre lige store grupper:"
   ]
  },
  {
   "cell_type": "code",
   "execution_count": 51,
   "metadata": {},
   "outputs": [
    {
     "data": {
      "text/html": [
       "<div>\n",
       "<style scoped>\n",
       "    .dataframe tbody tr th:only-of-type {\n",
       "        vertical-align: middle;\n",
       "    }\n",
       "\n",
       "    .dataframe tbody tr th {\n",
       "        vertical-align: top;\n",
       "    }\n",
       "\n",
       "    .dataframe thead th {\n",
       "        text-align: right;\n",
       "    }\n",
       "</style>\n",
       "<table border=\"1\" class=\"dataframe\">\n",
       "  <thead>\n",
       "    <tr style=\"text-align: right;\">\n",
       "      <th></th>\n",
       "      <th>idno</th>\n",
       "      <th>ppltrst</th>\n",
       "      <th>happy</th>\n",
       "      <th>health</th>\n",
       "      <th>cgtsday</th>\n",
       "      <th>alcfreq</th>\n",
       "      <th>height</th>\n",
       "      <th>weight</th>\n",
       "      <th>gndr</th>\n",
       "      <th>yrbrn</th>\n",
       "      <th>height_m</th>\n",
       "      <th>age</th>\n",
       "      <th>height_cat</th>\n",
       "    </tr>\n",
       "  </thead>\n",
       "  <tbody>\n",
       "    <tr>\n",
       "      <th>0</th>\n",
       "      <td>921490</td>\n",
       "      <td>4</td>\n",
       "      <td>Extremely happy</td>\n",
       "      <td>Very good</td>\n",
       "      <td>NaN</td>\n",
       "      <td>Never</td>\n",
       "      <td>167.0</td>\n",
       "      <td>62.0</td>\n",
       "      <td>Female</td>\n",
       "      <td>1965</td>\n",
       "      <td>1.67</td>\n",
       "      <td>49</td>\n",
       "      <td>medium</td>\n",
       "    </tr>\n",
       "    <tr>\n",
       "      <th>1</th>\n",
       "      <td>938348</td>\n",
       "      <td>Most people can be trusted</td>\n",
       "      <td>7</td>\n",
       "      <td>Good</td>\n",
       "      <td>NaN</td>\n",
       "      <td>Several times a week</td>\n",
       "      <td>168.0</td>\n",
       "      <td>70.0</td>\n",
       "      <td>Female</td>\n",
       "      <td>1973</td>\n",
       "      <td>1.68</td>\n",
       "      <td>41</td>\n",
       "      <td>medium</td>\n",
       "    </tr>\n",
       "    <tr>\n",
       "      <th>2</th>\n",
       "      <td>939019</td>\n",
       "      <td>5</td>\n",
       "      <td>8</td>\n",
       "      <td>Good</td>\n",
       "      <td>3.0</td>\n",
       "      <td>Once a week</td>\n",
       "      <td>182.0</td>\n",
       "      <td>90.0</td>\n",
       "      <td>Male</td>\n",
       "      <td>1980</td>\n",
       "      <td>1.82</td>\n",
       "      <td>34</td>\n",
       "      <td>medium</td>\n",
       "    </tr>\n",
       "    <tr>\n",
       "      <th>3</th>\n",
       "      <td>924985</td>\n",
       "      <td>8</td>\n",
       "      <td>9</td>\n",
       "      <td>Very good</td>\n",
       "      <td>NaN</td>\n",
       "      <td>Once a week</td>\n",
       "      <td>188.0</td>\n",
       "      <td>85.0</td>\n",
       "      <td>Male</td>\n",
       "      <td>1946</td>\n",
       "      <td>1.88</td>\n",
       "      <td>68</td>\n",
       "      <td>tall</td>\n",
       "    </tr>\n",
       "    <tr>\n",
       "      <th>4</th>\n",
       "      <td>925410</td>\n",
       "      <td>4</td>\n",
       "      <td>8</td>\n",
       "      <td>Bad</td>\n",
       "      <td>NaN</td>\n",
       "      <td>Several times a week</td>\n",
       "      <td>156.0</td>\n",
       "      <td>60.0</td>\n",
       "      <td>Female</td>\n",
       "      <td>1969</td>\n",
       "      <td>1.56</td>\n",
       "      <td>45</td>\n",
       "      <td>short</td>\n",
       "    </tr>\n",
       "    <tr>\n",
       "      <th>5</th>\n",
       "      <td>928947</td>\n",
       "      <td>5</td>\n",
       "      <td>Extremely happy</td>\n",
       "      <td>Good</td>\n",
       "      <td>20.0</td>\n",
       "      <td>Every day</td>\n",
       "      <td>167.0</td>\n",
       "      <td>75.0</td>\n",
       "      <td>Male</td>\n",
       "      <td>1950</td>\n",
       "      <td>1.67</td>\n",
       "      <td>64</td>\n",
       "      <td>medium</td>\n",
       "    </tr>\n",
       "    <tr>\n",
       "      <th>6</th>\n",
       "      <td>947921</td>\n",
       "      <td>7</td>\n",
       "      <td>8</td>\n",
       "      <td>Good</td>\n",
       "      <td>NaN</td>\n",
       "      <td>Less than once a month</td>\n",
       "      <td>169.0</td>\n",
       "      <td>63.0</td>\n",
       "      <td>Female</td>\n",
       "      <td>1980</td>\n",
       "      <td>1.69</td>\n",
       "      <td>34</td>\n",
       "      <td>medium</td>\n",
       "    </tr>\n",
       "    <tr>\n",
       "      <th>7</th>\n",
       "      <td>926953</td>\n",
       "      <td>Most people can be trusted</td>\n",
       "      <td>8</td>\n",
       "      <td>Good</td>\n",
       "      <td>NaN</td>\n",
       "      <td>Once a month</td>\n",
       "      <td>184.0</td>\n",
       "      <td>73.0</td>\n",
       "      <td>Male</td>\n",
       "      <td>1940</td>\n",
       "      <td>1.84</td>\n",
       "      <td>74</td>\n",
       "      <td>medium</td>\n",
       "    </tr>\n",
       "    <tr>\n",
       "      <th>8</th>\n",
       "      <td>943553</td>\n",
       "      <td>8</td>\n",
       "      <td>8</td>\n",
       "      <td>Good</td>\n",
       "      <td>NaN</td>\n",
       "      <td>Once a week</td>\n",
       "      <td>182.0</td>\n",
       "      <td>86.0</td>\n",
       "      <td>Male</td>\n",
       "      <td>1971</td>\n",
       "      <td>1.82</td>\n",
       "      <td>43</td>\n",
       "      <td>medium</td>\n",
       "    </tr>\n",
       "    <tr>\n",
       "      <th>9</th>\n",
       "      <td>936299</td>\n",
       "      <td>8</td>\n",
       "      <td>9</td>\n",
       "      <td>Very good</td>\n",
       "      <td>8.0</td>\n",
       "      <td>Several times a week</td>\n",
       "      <td>172.0</td>\n",
       "      <td>73.0</td>\n",
       "      <td>Female</td>\n",
       "      <td>1965</td>\n",
       "      <td>1.72</td>\n",
       "      <td>49</td>\n",
       "      <td>medium</td>\n",
       "    </tr>\n",
       "  </tbody>\n",
       "</table>\n",
       "</div>"
      ],
      "text/plain": [
       "     idno                     ppltrst            happy     health  cgtsday  \\\n",
       "0  921490                           4  Extremely happy  Very good      NaN   \n",
       "1  938348  Most people can be trusted                7       Good      NaN   \n",
       "2  939019                           5                8       Good      3.0   \n",
       "3  924985                           8                9  Very good      NaN   \n",
       "4  925410                           4                8        Bad      NaN   \n",
       "5  928947                           5  Extremely happy       Good     20.0   \n",
       "6  947921                           7                8       Good      NaN   \n",
       "7  926953  Most people can be trusted                8       Good      NaN   \n",
       "8  943553                           8                8       Good      NaN   \n",
       "9  936299                           8                9  Very good      8.0   \n",
       "\n",
       "                  alcfreq  height  weight    gndr  yrbrn  height_m  age  \\\n",
       "0                   Never   167.0    62.0  Female   1965      1.67   49   \n",
       "1    Several times a week   168.0    70.0  Female   1973      1.68   41   \n",
       "2             Once a week   182.0    90.0    Male   1980      1.82   34   \n",
       "3             Once a week   188.0    85.0    Male   1946      1.88   68   \n",
       "4    Several times a week   156.0    60.0  Female   1969      1.56   45   \n",
       "5               Every day   167.0    75.0    Male   1950      1.67   64   \n",
       "6  Less than once a month   169.0    63.0  Female   1980      1.69   34   \n",
       "7            Once a month   184.0    73.0    Male   1940      1.84   74   \n",
       "8             Once a week   182.0    86.0    Male   1971      1.82   43   \n",
       "9    Several times a week   172.0    73.0  Female   1965      1.72   49   \n",
       "\n",
       "  height_cat  \n",
       "0     medium  \n",
       "1     medium  \n",
       "2     medium  \n",
       "3       tall  \n",
       "4      short  \n",
       "5     medium  \n",
       "6     medium  \n",
       "7     medium  \n",
       "8     medium  \n",
       "9     medium  "
      ]
     },
     "execution_count": 51,
     "metadata": {},
     "output_type": "execute_result"
    }
   ],
   "source": [
    "ess2014['height_cat'] = pd.cut(ess2014['height'], 3, labels = [\"short\", \"medium\", \"tall\"])\n",
    "\n",
    "ess2014.head(10)"
   ]
  },
  {
   "cell_type": "markdown",
   "metadata": {},
   "source": [
    "## Missingværdier\n",
    "\n",
    "Missing værdier er angivet med `NaN`. Man kan undersøge, om en variabel indeholder missing, ved at bruge metoden `isnull()`:"
   ]
  },
  {
   "cell_type": "code",
   "execution_count": 52,
   "metadata": {},
   "outputs": [
    {
     "data": {
      "text/plain": [
       "0     True\n",
       "1     True\n",
       "2    False\n",
       "3     True\n",
       "4     True\n",
       "Name: cgtsday, dtype: bool"
      ]
     },
     "execution_count": 52,
     "metadata": {},
     "output_type": "execute_result"
    }
   ],
   "source": [
    "ess2014['cgtsday'].isnull().head()"
   ]
  },
  {
   "cell_type": "markdown",
   "metadata": {},
   "source": [
    "Denne kan også bruges i `.loc[]`:"
   ]
  },
  {
   "cell_type": "code",
   "execution_count": 53,
   "metadata": {},
   "outputs": [
    {
     "data": {
      "text/html": [
       "<div>\n",
       "<style scoped>\n",
       "    .dataframe tbody tr th:only-of-type {\n",
       "        vertical-align: middle;\n",
       "    }\n",
       "\n",
       "    .dataframe tbody tr th {\n",
       "        vertical-align: top;\n",
       "    }\n",
       "\n",
       "    .dataframe thead th {\n",
       "        text-align: right;\n",
       "    }\n",
       "</style>\n",
       "<table border=\"1\" class=\"dataframe\">\n",
       "  <thead>\n",
       "    <tr style=\"text-align: right;\">\n",
       "      <th></th>\n",
       "      <th>idno</th>\n",
       "      <th>ppltrst</th>\n",
       "      <th>happy</th>\n",
       "      <th>health</th>\n",
       "      <th>cgtsday</th>\n",
       "      <th>alcfreq</th>\n",
       "      <th>height</th>\n",
       "      <th>weight</th>\n",
       "      <th>gndr</th>\n",
       "      <th>yrbrn</th>\n",
       "      <th>height_m</th>\n",
       "      <th>age</th>\n",
       "      <th>height_cat</th>\n",
       "    </tr>\n",
       "  </thead>\n",
       "  <tbody>\n",
       "    <tr>\n",
       "      <th>0</th>\n",
       "      <td>921490</td>\n",
       "      <td>4</td>\n",
       "      <td>Extremely happy</td>\n",
       "      <td>Very good</td>\n",
       "      <td>NaN</td>\n",
       "      <td>Never</td>\n",
       "      <td>167.0</td>\n",
       "      <td>62.0</td>\n",
       "      <td>Female</td>\n",
       "      <td>1965</td>\n",
       "      <td>1.67</td>\n",
       "      <td>49</td>\n",
       "      <td>medium</td>\n",
       "    </tr>\n",
       "    <tr>\n",
       "      <th>1</th>\n",
       "      <td>938348</td>\n",
       "      <td>Most people can be trusted</td>\n",
       "      <td>7</td>\n",
       "      <td>Good</td>\n",
       "      <td>NaN</td>\n",
       "      <td>Several times a week</td>\n",
       "      <td>168.0</td>\n",
       "      <td>70.0</td>\n",
       "      <td>Female</td>\n",
       "      <td>1973</td>\n",
       "      <td>1.68</td>\n",
       "      <td>41</td>\n",
       "      <td>medium</td>\n",
       "    </tr>\n",
       "    <tr>\n",
       "      <th>3</th>\n",
       "      <td>924985</td>\n",
       "      <td>8</td>\n",
       "      <td>9</td>\n",
       "      <td>Very good</td>\n",
       "      <td>NaN</td>\n",
       "      <td>Once a week</td>\n",
       "      <td>188.0</td>\n",
       "      <td>85.0</td>\n",
       "      <td>Male</td>\n",
       "      <td>1946</td>\n",
       "      <td>1.88</td>\n",
       "      <td>68</td>\n",
       "      <td>tall</td>\n",
       "    </tr>\n",
       "    <tr>\n",
       "      <th>4</th>\n",
       "      <td>925410</td>\n",
       "      <td>4</td>\n",
       "      <td>8</td>\n",
       "      <td>Bad</td>\n",
       "      <td>NaN</td>\n",
       "      <td>Several times a week</td>\n",
       "      <td>156.0</td>\n",
       "      <td>60.0</td>\n",
       "      <td>Female</td>\n",
       "      <td>1969</td>\n",
       "      <td>1.56</td>\n",
       "      <td>45</td>\n",
       "      <td>short</td>\n",
       "    </tr>\n",
       "    <tr>\n",
       "      <th>6</th>\n",
       "      <td>947921</td>\n",
       "      <td>7</td>\n",
       "      <td>8</td>\n",
       "      <td>Good</td>\n",
       "      <td>NaN</td>\n",
       "      <td>Less than once a month</td>\n",
       "      <td>169.0</td>\n",
       "      <td>63.0</td>\n",
       "      <td>Female</td>\n",
       "      <td>1980</td>\n",
       "      <td>1.69</td>\n",
       "      <td>34</td>\n",
       "      <td>medium</td>\n",
       "    </tr>\n",
       "  </tbody>\n",
       "</table>\n",
       "</div>"
      ],
      "text/plain": [
       "     idno                     ppltrst            happy     health  cgtsday  \\\n",
       "0  921490                           4  Extremely happy  Very good      NaN   \n",
       "1  938348  Most people can be trusted                7       Good      NaN   \n",
       "3  924985                           8                9  Very good      NaN   \n",
       "4  925410                           4                8        Bad      NaN   \n",
       "6  947921                           7                8       Good      NaN   \n",
       "\n",
       "                  alcfreq  height  weight    gndr  yrbrn  height_m  age  \\\n",
       "0                   Never   167.0    62.0  Female   1965      1.67   49   \n",
       "1    Several times a week   168.0    70.0  Female   1973      1.68   41   \n",
       "3             Once a week   188.0    85.0    Male   1946      1.88   68   \n",
       "4    Several times a week   156.0    60.0  Female   1969      1.56   45   \n",
       "6  Less than once a month   169.0    63.0  Female   1980      1.69   34   \n",
       "\n",
       "  height_cat  \n",
       "0     medium  \n",
       "1     medium  \n",
       "3       tall  \n",
       "4      short  \n",
       "6     medium  "
      ]
     },
     "execution_count": 53,
     "metadata": {},
     "output_type": "execute_result"
    }
   ],
   "source": [
    "ess2014.loc[ess2014['cgtsday'].isnull(), :].head()"
   ]
  },
  {
   "cell_type": "markdown",
   "metadata": {},
   "source": [
    "---\n",
    "## ØVELSE: Rekodning\n",
    "\n",
    "`cgtsday` angiver, hvor mange cigaretter om dagen personen ryger. Ud fra denne kan dannes en \"ryger\"-variabel.\n",
    "\n",
    "*Dan en variabel, der angiver, hvorvidt personen ryger eller ej*\n",
    "\n",
    "TIP: Brug `isnull()` og `notnull()` til at selektere missingværdier eller ikke-missingværdier\n",
    "\n",
    "{{%expand \"Løsning\"%}}"
   ]
  },
  {
   "cell_type": "code",
   "execution_count": 55,
   "metadata": {},
   "outputs": [
    {
     "data": {
      "text/html": [
       "<div>\n",
       "<style scoped>\n",
       "    .dataframe tbody tr th:only-of-type {\n",
       "        vertical-align: middle;\n",
       "    }\n",
       "\n",
       "    .dataframe tbody tr th {\n",
       "        vertical-align: top;\n",
       "    }\n",
       "\n",
       "    .dataframe thead th {\n",
       "        text-align: right;\n",
       "    }\n",
       "</style>\n",
       "<table border=\"1\" class=\"dataframe\">\n",
       "  <thead>\n",
       "    <tr style=\"text-align: right;\">\n",
       "      <th></th>\n",
       "      <th>idno</th>\n",
       "      <th>ppltrst</th>\n",
       "      <th>happy</th>\n",
       "      <th>health</th>\n",
       "      <th>cgtsday</th>\n",
       "      <th>alcfreq</th>\n",
       "      <th>height</th>\n",
       "      <th>weight</th>\n",
       "      <th>gndr</th>\n",
       "      <th>yrbrn</th>\n",
       "      <th>height_m</th>\n",
       "      <th>age</th>\n",
       "      <th>height_cat</th>\n",
       "      <th>smoker</th>\n",
       "    </tr>\n",
       "  </thead>\n",
       "  <tbody>\n",
       "    <tr>\n",
       "      <th>0</th>\n",
       "      <td>921490</td>\n",
       "      <td>4</td>\n",
       "      <td>Extremely happy</td>\n",
       "      <td>Very good</td>\n",
       "      <td>NaN</td>\n",
       "      <td>Never</td>\n",
       "      <td>167.0</td>\n",
       "      <td>62.0</td>\n",
       "      <td>Female</td>\n",
       "      <td>1965</td>\n",
       "      <td>1.67</td>\n",
       "      <td>49</td>\n",
       "      <td>medium</td>\n",
       "      <td>not a smoker</td>\n",
       "    </tr>\n",
       "    <tr>\n",
       "      <th>1</th>\n",
       "      <td>938348</td>\n",
       "      <td>Most people can be trusted</td>\n",
       "      <td>7</td>\n",
       "      <td>Good</td>\n",
       "      <td>NaN</td>\n",
       "      <td>Several times a week</td>\n",
       "      <td>168.0</td>\n",
       "      <td>70.0</td>\n",
       "      <td>Female</td>\n",
       "      <td>1973</td>\n",
       "      <td>1.68</td>\n",
       "      <td>41</td>\n",
       "      <td>medium</td>\n",
       "      <td>not a smoker</td>\n",
       "    </tr>\n",
       "    <tr>\n",
       "      <th>2</th>\n",
       "      <td>939019</td>\n",
       "      <td>5</td>\n",
       "      <td>8</td>\n",
       "      <td>Good</td>\n",
       "      <td>3.0</td>\n",
       "      <td>Once a week</td>\n",
       "      <td>182.0</td>\n",
       "      <td>90.0</td>\n",
       "      <td>Male</td>\n",
       "      <td>1980</td>\n",
       "      <td>1.82</td>\n",
       "      <td>34</td>\n",
       "      <td>medium</td>\n",
       "      <td>smoker</td>\n",
       "    </tr>\n",
       "    <tr>\n",
       "      <th>3</th>\n",
       "      <td>924985</td>\n",
       "      <td>8</td>\n",
       "      <td>9</td>\n",
       "      <td>Very good</td>\n",
       "      <td>NaN</td>\n",
       "      <td>Once a week</td>\n",
       "      <td>188.0</td>\n",
       "      <td>85.0</td>\n",
       "      <td>Male</td>\n",
       "      <td>1946</td>\n",
       "      <td>1.88</td>\n",
       "      <td>68</td>\n",
       "      <td>tall</td>\n",
       "      <td>not a smoker</td>\n",
       "    </tr>\n",
       "    <tr>\n",
       "      <th>4</th>\n",
       "      <td>925410</td>\n",
       "      <td>4</td>\n",
       "      <td>8</td>\n",
       "      <td>Bad</td>\n",
       "      <td>NaN</td>\n",
       "      <td>Several times a week</td>\n",
       "      <td>156.0</td>\n",
       "      <td>60.0</td>\n",
       "      <td>Female</td>\n",
       "      <td>1969</td>\n",
       "      <td>1.56</td>\n",
       "      <td>45</td>\n",
       "      <td>short</td>\n",
       "      <td>not a smoker</td>\n",
       "    </tr>\n",
       "    <tr>\n",
       "      <th>5</th>\n",
       "      <td>928947</td>\n",
       "      <td>5</td>\n",
       "      <td>Extremely happy</td>\n",
       "      <td>Good</td>\n",
       "      <td>20.0</td>\n",
       "      <td>Every day</td>\n",
       "      <td>167.0</td>\n",
       "      <td>75.0</td>\n",
       "      <td>Male</td>\n",
       "      <td>1950</td>\n",
       "      <td>1.67</td>\n",
       "      <td>64</td>\n",
       "      <td>medium</td>\n",
       "      <td>smoker</td>\n",
       "    </tr>\n",
       "    <tr>\n",
       "      <th>6</th>\n",
       "      <td>947921</td>\n",
       "      <td>7</td>\n",
       "      <td>8</td>\n",
       "      <td>Good</td>\n",
       "      <td>NaN</td>\n",
       "      <td>Less than once a month</td>\n",
       "      <td>169.0</td>\n",
       "      <td>63.0</td>\n",
       "      <td>Female</td>\n",
       "      <td>1980</td>\n",
       "      <td>1.69</td>\n",
       "      <td>34</td>\n",
       "      <td>medium</td>\n",
       "      <td>not a smoker</td>\n",
       "    </tr>\n",
       "    <tr>\n",
       "      <th>7</th>\n",
       "      <td>926953</td>\n",
       "      <td>Most people can be trusted</td>\n",
       "      <td>8</td>\n",
       "      <td>Good</td>\n",
       "      <td>NaN</td>\n",
       "      <td>Once a month</td>\n",
       "      <td>184.0</td>\n",
       "      <td>73.0</td>\n",
       "      <td>Male</td>\n",
       "      <td>1940</td>\n",
       "      <td>1.84</td>\n",
       "      <td>74</td>\n",
       "      <td>medium</td>\n",
       "      <td>not a smoker</td>\n",
       "    </tr>\n",
       "    <tr>\n",
       "      <th>8</th>\n",
       "      <td>943553</td>\n",
       "      <td>8</td>\n",
       "      <td>8</td>\n",
       "      <td>Good</td>\n",
       "      <td>NaN</td>\n",
       "      <td>Once a week</td>\n",
       "      <td>182.0</td>\n",
       "      <td>86.0</td>\n",
       "      <td>Male</td>\n",
       "      <td>1971</td>\n",
       "      <td>1.82</td>\n",
       "      <td>43</td>\n",
       "      <td>medium</td>\n",
       "      <td>not a smoker</td>\n",
       "    </tr>\n",
       "    <tr>\n",
       "      <th>9</th>\n",
       "      <td>936299</td>\n",
       "      <td>8</td>\n",
       "      <td>9</td>\n",
       "      <td>Very good</td>\n",
       "      <td>8.0</td>\n",
       "      <td>Several times a week</td>\n",
       "      <td>172.0</td>\n",
       "      <td>73.0</td>\n",
       "      <td>Female</td>\n",
       "      <td>1965</td>\n",
       "      <td>1.72</td>\n",
       "      <td>49</td>\n",
       "      <td>medium</td>\n",
       "      <td>smoker</td>\n",
       "    </tr>\n",
       "  </tbody>\n",
       "</table>\n",
       "</div>"
      ],
      "text/plain": [
       "     idno                     ppltrst            happy     health  cgtsday  \\\n",
       "0  921490                           4  Extremely happy  Very good      NaN   \n",
       "1  938348  Most people can be trusted                7       Good      NaN   \n",
       "2  939019                           5                8       Good      3.0   \n",
       "3  924985                           8                9  Very good      NaN   \n",
       "4  925410                           4                8        Bad      NaN   \n",
       "5  928947                           5  Extremely happy       Good     20.0   \n",
       "6  947921                           7                8       Good      NaN   \n",
       "7  926953  Most people can be trusted                8       Good      NaN   \n",
       "8  943553                           8                8       Good      NaN   \n",
       "9  936299                           8                9  Very good      8.0   \n",
       "\n",
       "                  alcfreq  height  weight    gndr  yrbrn  height_m  age  \\\n",
       "0                   Never   167.0    62.0  Female   1965      1.67   49   \n",
       "1    Several times a week   168.0    70.0  Female   1973      1.68   41   \n",
       "2             Once a week   182.0    90.0    Male   1980      1.82   34   \n",
       "3             Once a week   188.0    85.0    Male   1946      1.88   68   \n",
       "4    Several times a week   156.0    60.0  Female   1969      1.56   45   \n",
       "5               Every day   167.0    75.0    Male   1950      1.67   64   \n",
       "6  Less than once a month   169.0    63.0  Female   1980      1.69   34   \n",
       "7            Once a month   184.0    73.0    Male   1940      1.84   74   \n",
       "8             Once a week   182.0    86.0    Male   1971      1.82   43   \n",
       "9    Several times a week   172.0    73.0  Female   1965      1.72   49   \n",
       "\n",
       "  height_cat        smoker  \n",
       "0     medium  not a smoker  \n",
       "1     medium  not a smoker  \n",
       "2     medium        smoker  \n",
       "3       tall  not a smoker  \n",
       "4      short  not a smoker  \n",
       "5     medium        smoker  \n",
       "6     medium  not a smoker  \n",
       "7     medium  not a smoker  \n",
       "8     medium  not a smoker  \n",
       "9     medium        smoker  "
      ]
     },
     "execution_count": 55,
     "metadata": {},
     "output_type": "execute_result"
    }
   ],
   "source": [
    "ess2014['smoker'] = np.nan\n",
    "\n",
    "ess2014.loc[(ess2014['cgtsday'].isnull()) | (ess2014['cgtsday'] == 0), 'smoker'] = 'not a smoker'\n",
    "ess2014.loc[ess2014['cgtsday'].notnull() | (ess2014['cgtsday'] > 0), 'smoker'] = 'smoker'\n",
    "\n",
    "ess2014.head(10)"
   ]
  },
  {
   "cell_type": "markdown",
   "metadata": {},
   "source": [
    "{{%/expand%}}"
   ]
  },
  {
   "cell_type": "markdown",
   "metadata": {},
   "source": [
    "# {#Afsnit}Variabeltyper (numerisk og tekst)\n",
    "\n",
    "Ligesom Python generelt adskiller mellem typer af objekter, har hver kolonne (series) i en data frame også en type.\n",
    "\n",
    "Typen kan tjekkes med `.dtypes`; enten for hele datasættet eller en enkelt kolonne."
   ]
  },
  {
   "cell_type": "code",
   "execution_count": 56,
   "metadata": {},
   "outputs": [
    {
     "data": {
      "text/plain": [
       "dtype('float64')"
      ]
     },
     "execution_count": 56,
     "metadata": {},
     "output_type": "execute_result"
    }
   ],
   "source": [
    "ess2014['height'].dtypes"
   ]
  },
  {
   "cell_type": "code",
   "execution_count": 57,
   "metadata": {},
   "outputs": [
    {
     "data": {
      "text/plain": [
       "idno             int64\n",
       "ppltrst         object\n",
       "happy           object\n",
       "health          object\n",
       "cgtsday        float64\n",
       "alcfreq         object\n",
       "height         float64\n",
       "weight         float64\n",
       "gndr            object\n",
       "yrbrn            int64\n",
       "height_m       float64\n",
       "age              int64\n",
       "height_cat    category\n",
       "smoker          object\n",
       "dtype: object"
      ]
     },
     "execution_count": 57,
     "metadata": {},
     "output_type": "execute_result"
    }
   ],
   "source": [
    "ess2014.dtypes"
   ]
  },
  {
   "cell_type": "markdown",
   "metadata": {},
   "source": [
    "Af ovenstående ses at datasættet indeholder typerne `int64` (integer/heltal), `float64` (\"float point\"/decimaltal) og `object`. \n",
    "\n",
    "`object` typen bruges, når kolonnen både indeholder tekst og tal. På den måde mistes ikke noget information ved indlæsning Typen kan give problemer, da mange funktioner og metoder forventer enten en ren numerisk kolonne eller ren tekst/kategorisk kolonne. Det hænder også, at variable kun med tekst indlæses som `object`.\n",
    "\n",
    "Man bør altid undersøge variable af typen `object` nærmere og se, om en anden type er mere passende (numerisk, tekst/karakter eller kategorisk). Dette fordi at `object`-typen fortæller meget lidt om, hvad data indeholder, hvor de andre typer med det samme fortæller, hvilken type data, som kolonnen indeholder."
   ]
  },
  {
   "cell_type": "markdown",
   "metadata": {},
   "source": [
    "## Ændring af variabeltype\n",
    "\n",
    "Kolonnetypen ændres med metoden `.astype()`:\n",
    "\n",
    "- `astype('string')`: Konverter til string (tekstværdier)\n",
    "- `astype('categorical')`: Konverter til kategorisk\n",
    "- `astype('int')`: Til heltal\n",
    "- `astype('float')`: Til decimaltal\n",
    "\n",
    "**Konvertering til tekst**\n",
    "\n",
    "Tjek hvilke værdier kolonnen indeholder:"
   ]
  },
  {
   "cell_type": "code",
   "execution_count": 58,
   "metadata": {},
   "outputs": [
    {
     "data": {
      "text/plain": [
       "array(['Female', 'Male'], dtype=object)"
      ]
     },
     "execution_count": 58,
     "metadata": {},
     "output_type": "execute_result"
    }
   ],
   "source": [
    "ess2014['gndr'].unique()"
   ]
  },
  {
   "cell_type": "markdown",
   "metadata": {},
   "source": [
    "Kolonnen indeholder værdierne \"Male\" og \"Female\"; en kategorisk variabel bestående kun af tekst-værdier. Den kan derfor lige så godt konverteres til teksttype.\n",
    "\n",
    "Konvertering af kolonne til tekst gøres med `.astype('string')`:"
   ]
  },
  {
   "cell_type": "code",
   "execution_count": 59,
   "metadata": {},
   "outputs": [],
   "source": [
    "ess2014['gndr'] = ess2014['gndr'].astype('string')"
   ]
  },
  {
   "cell_type": "markdown",
   "metadata": {},
   "source": [
    "Typen er nu string/tekst (`StringDtype`):"
   ]
  },
  {
   "cell_type": "code",
   "execution_count": 60,
   "metadata": {},
   "outputs": [
    {
     "data": {
      "text/plain": [
       "StringDtype"
      ]
     },
     "execution_count": 60,
     "metadata": {},
     "output_type": "execute_result"
    }
   ],
   "source": [
    "ess2014['gndr'].dtypes"
   ]
  },
  {
   "cell_type": "markdown",
   "metadata": {},
   "source": [
    "{{%notice note%}} Variable med afgrænsede tekstværdier er kategoriske variable, og det giver ofte mere mening at konvertere disse til kategorisk frem for tekst. Dette gennemgås senere i dette materiale.\n",
    "{{%/notice%}}"
   ]
  },
  {
   "cell_type": "markdown",
   "metadata": {},
   "source": [
    "**Konvertering til numerisk**"
   ]
  },
  {
   "cell_type": "markdown",
   "metadata": {},
   "source": [
    "`yrbrn` konverteres til tekst for at have en variabel at konvertere til tal.\n",
    "\n",
    "Tjek først typen:"
   ]
  },
  {
   "cell_type": "code",
   "execution_count": 61,
   "metadata": {},
   "outputs": [
    {
     "data": {
      "text/plain": [
       "dtype('int64')"
      ]
     },
     "execution_count": 61,
     "metadata": {},
     "output_type": "execute_result"
    }
   ],
   "source": [
    "ess2014['yrbrn'].dtypes"
   ]
  },
  {
   "cell_type": "markdown",
   "metadata": {},
   "source": [
    "Typen er `int64` (decimaltal). Konverter til tekst:"
   ]
  },
  {
   "cell_type": "code",
   "execution_count": 62,
   "metadata": {},
   "outputs": [],
   "source": [
    "ess2014['yrbrn'] = ess2014['yrbrn'].astype('string')"
   ]
  },
  {
   "cell_type": "markdown",
   "metadata": {},
   "source": [
    "Tjek at typen er string:"
   ]
  },
  {
   "cell_type": "code",
   "execution_count": 63,
   "metadata": {},
   "outputs": [
    {
     "data": {
      "text/plain": [
       "StringDtype"
      ]
     },
     "execution_count": 63,
     "metadata": {},
     "output_type": "execute_result"
    }
   ],
   "source": [
    "ess2014['yrbrn'].dtypes"
   ]
  },
  {
   "cell_type": "markdown",
   "metadata": {},
   "source": [
    "Konvertering til heltal igen - Gøres med `.astype('int')`:"
   ]
  },
  {
   "cell_type": "code",
   "execution_count": 64,
   "metadata": {},
   "outputs": [],
   "source": [
    "ess2014['yrbrn'] = ess2014['yrbrn'].astype('int')"
   ]
  },
  {
   "cell_type": "markdown",
   "metadata": {},
   "source": [
    "Tjek at typen er ændret tilbage:"
   ]
  },
  {
   "cell_type": "code",
   "execution_count": 65,
   "metadata": {},
   "outputs": [
    {
     "data": {
      "text/plain": [
       "dtype('int32')"
      ]
     },
     "execution_count": 65,
     "metadata": {},
     "output_type": "execute_result"
    }
   ],
   "source": [
    "ess2014['yrbrn'].dtypes"
   ]
  },
  {
   "cell_type": "markdown",
   "metadata": {},
   "source": [
    "**Konverter kolonne med blanding af typer**\n",
    "\n",
    "Ofte kan man rende ind i, at en kolonne indeholder en blanding af typer.\n",
    "\n",
    "Det gælder fx for `ppltrst` og `happy`.\n",
    "\n",
    "Tjek hvilke værdier kolonnen indeholder:"
   ]
  },
  {
   "cell_type": "code",
   "execution_count": 66,
   "metadata": {},
   "outputs": [
    {
     "data": {
      "text/plain": [
       "array(['4', 'Most people can be trusted', '5', '8', '7', '9', '2', '6',\n",
       "       '3', \"You can't be too careful\", '1', nan], dtype=object)"
      ]
     },
     "execution_count": 66,
     "metadata": {},
     "output_type": "execute_result"
    }
   ],
   "source": [
    "ess2014['ppltrst'].unique()"
   ]
  },
  {
   "cell_type": "markdown",
   "metadata": {},
   "source": [
    "Variablen indeholder både tal og tekst. Hvis der konverteres til tal, gives der fejl:"
   ]
  },
  {
   "cell_type": "code",
   "execution_count": 67,
   "metadata": {},
   "outputs": [
    {
     "ename": "ValueError",
     "evalue": "invalid literal for int() with base 10: 'Most people can be trusted'",
     "output_type": "error",
     "traceback": [
      "\u001b[1;31m---------------------------------------------------------------------------\u001b[0m",
      "\u001b[1;31mValueError\u001b[0m                                Traceback (most recent call last)",
      "\u001b[1;32m<ipython-input-67-8b2ee5027ea0>\u001b[0m in \u001b[0;36m<module>\u001b[1;34m\u001b[0m\n\u001b[1;32m----> 1\u001b[1;33m \u001b[0mess2014\u001b[0m\u001b[1;33m[\u001b[0m\u001b[1;34m'ppltrst'\u001b[0m\u001b[1;33m]\u001b[0m \u001b[1;33m=\u001b[0m \u001b[0mess2014\u001b[0m\u001b[1;33m[\u001b[0m\u001b[1;34m'ppltrst'\u001b[0m\u001b[1;33m]\u001b[0m\u001b[1;33m.\u001b[0m\u001b[0mastype\u001b[0m\u001b[1;33m(\u001b[0m\u001b[1;34m'int'\u001b[0m\u001b[1;33m)\u001b[0m\u001b[1;33m\u001b[0m\u001b[1;33m\u001b[0m\u001b[0m\n\u001b[0m",
      "\u001b[1;32mC:\\programs\\Continuum\\anaconda3\\lib\\site-packages\\pandas\\core\\generic.py\u001b[0m in \u001b[0;36mastype\u001b[1;34m(self, dtype, copy, errors)\u001b[0m\n\u001b[0;32m   5535\u001b[0m         \u001b[1;32melse\u001b[0m\u001b[1;33m:\u001b[0m\u001b[1;33m\u001b[0m\u001b[1;33m\u001b[0m\u001b[0m\n\u001b[0;32m   5536\u001b[0m             \u001b[1;31m# else, only a single dtype is given\u001b[0m\u001b[1;33m\u001b[0m\u001b[1;33m\u001b[0m\u001b[1;33m\u001b[0m\u001b[0m\n\u001b[1;32m-> 5537\u001b[1;33m             \u001b[0mnew_data\u001b[0m \u001b[1;33m=\u001b[0m \u001b[0mself\u001b[0m\u001b[1;33m.\u001b[0m\u001b[0m_mgr\u001b[0m\u001b[1;33m.\u001b[0m\u001b[0mastype\u001b[0m\u001b[1;33m(\u001b[0m\u001b[0mdtype\u001b[0m\u001b[1;33m=\u001b[0m\u001b[0mdtype\u001b[0m\u001b[1;33m,\u001b[0m \u001b[0mcopy\u001b[0m\u001b[1;33m=\u001b[0m\u001b[0mcopy\u001b[0m\u001b[1;33m,\u001b[0m \u001b[0merrors\u001b[0m\u001b[1;33m=\u001b[0m\u001b[0merrors\u001b[0m\u001b[1;33m,\u001b[0m\u001b[1;33m)\u001b[0m\u001b[1;33m\u001b[0m\u001b[1;33m\u001b[0m\u001b[0m\n\u001b[0m\u001b[0;32m   5538\u001b[0m             \u001b[1;32mreturn\u001b[0m \u001b[0mself\u001b[0m\u001b[1;33m.\u001b[0m\u001b[0m_constructor\u001b[0m\u001b[1;33m(\u001b[0m\u001b[0mnew_data\u001b[0m\u001b[1;33m)\u001b[0m\u001b[1;33m.\u001b[0m\u001b[0m__finalize__\u001b[0m\u001b[1;33m(\u001b[0m\u001b[0mself\u001b[0m\u001b[1;33m,\u001b[0m \u001b[0mmethod\u001b[0m\u001b[1;33m=\u001b[0m\u001b[1;34m\"astype\"\u001b[0m\u001b[1;33m)\u001b[0m\u001b[1;33m\u001b[0m\u001b[1;33m\u001b[0m\u001b[0m\n\u001b[0;32m   5539\u001b[0m \u001b[1;33m\u001b[0m\u001b[0m\n",
      "\u001b[1;32mC:\\programs\\Continuum\\anaconda3\\lib\\site-packages\\pandas\\core\\internals\\managers.py\u001b[0m in \u001b[0;36mastype\u001b[1;34m(self, dtype, copy, errors)\u001b[0m\n\u001b[0;32m    593\u001b[0m         \u001b[0mself\u001b[0m\u001b[1;33m,\u001b[0m \u001b[0mdtype\u001b[0m\u001b[1;33m,\u001b[0m \u001b[0mcopy\u001b[0m\u001b[1;33m:\u001b[0m \u001b[0mbool\u001b[0m \u001b[1;33m=\u001b[0m \u001b[1;32mFalse\u001b[0m\u001b[1;33m,\u001b[0m \u001b[0merrors\u001b[0m\u001b[1;33m:\u001b[0m \u001b[0mstr\u001b[0m \u001b[1;33m=\u001b[0m \u001b[1;34m\"raise\"\u001b[0m\u001b[1;33m\u001b[0m\u001b[1;33m\u001b[0m\u001b[0m\n\u001b[0;32m    594\u001b[0m     ) -> \"BlockManager\":\n\u001b[1;32m--> 595\u001b[1;33m         \u001b[1;32mreturn\u001b[0m \u001b[0mself\u001b[0m\u001b[1;33m.\u001b[0m\u001b[0mapply\u001b[0m\u001b[1;33m(\u001b[0m\u001b[1;34m\"astype\"\u001b[0m\u001b[1;33m,\u001b[0m \u001b[0mdtype\u001b[0m\u001b[1;33m=\u001b[0m\u001b[0mdtype\u001b[0m\u001b[1;33m,\u001b[0m \u001b[0mcopy\u001b[0m\u001b[1;33m=\u001b[0m\u001b[0mcopy\u001b[0m\u001b[1;33m,\u001b[0m \u001b[0merrors\u001b[0m\u001b[1;33m=\u001b[0m\u001b[0merrors\u001b[0m\u001b[1;33m)\u001b[0m\u001b[1;33m\u001b[0m\u001b[1;33m\u001b[0m\u001b[0m\n\u001b[0m\u001b[0;32m    596\u001b[0m \u001b[1;33m\u001b[0m\u001b[0m\n\u001b[0;32m    597\u001b[0m     def convert(\n",
      "\u001b[1;32mC:\\programs\\Continuum\\anaconda3\\lib\\site-packages\\pandas\\core\\internals\\managers.py\u001b[0m in \u001b[0;36mapply\u001b[1;34m(self, f, align_keys, **kwargs)\u001b[0m\n\u001b[0;32m    404\u001b[0m                 \u001b[0mapplied\u001b[0m \u001b[1;33m=\u001b[0m \u001b[0mb\u001b[0m\u001b[1;33m.\u001b[0m\u001b[0mapply\u001b[0m\u001b[1;33m(\u001b[0m\u001b[0mf\u001b[0m\u001b[1;33m,\u001b[0m \u001b[1;33m**\u001b[0m\u001b[0mkwargs\u001b[0m\u001b[1;33m)\u001b[0m\u001b[1;33m\u001b[0m\u001b[1;33m\u001b[0m\u001b[0m\n\u001b[0;32m    405\u001b[0m             \u001b[1;32melse\u001b[0m\u001b[1;33m:\u001b[0m\u001b[1;33m\u001b[0m\u001b[1;33m\u001b[0m\u001b[0m\n\u001b[1;32m--> 406\u001b[1;33m                 \u001b[0mapplied\u001b[0m \u001b[1;33m=\u001b[0m \u001b[0mgetattr\u001b[0m\u001b[1;33m(\u001b[0m\u001b[0mb\u001b[0m\u001b[1;33m,\u001b[0m \u001b[0mf\u001b[0m\u001b[1;33m)\u001b[0m\u001b[1;33m(\u001b[0m\u001b[1;33m**\u001b[0m\u001b[0mkwargs\u001b[0m\u001b[1;33m)\u001b[0m\u001b[1;33m\u001b[0m\u001b[1;33m\u001b[0m\u001b[0m\n\u001b[0m\u001b[0;32m    407\u001b[0m             \u001b[0mresult_blocks\u001b[0m \u001b[1;33m=\u001b[0m \u001b[0m_extend_blocks\u001b[0m\u001b[1;33m(\u001b[0m\u001b[0mapplied\u001b[0m\u001b[1;33m,\u001b[0m \u001b[0mresult_blocks\u001b[0m\u001b[1;33m)\u001b[0m\u001b[1;33m\u001b[0m\u001b[1;33m\u001b[0m\u001b[0m\n\u001b[0;32m    408\u001b[0m \u001b[1;33m\u001b[0m\u001b[0m\n",
      "\u001b[1;32mC:\\programs\\Continuum\\anaconda3\\lib\\site-packages\\pandas\\core\\internals\\blocks.py\u001b[0m in \u001b[0;36mastype\u001b[1;34m(self, dtype, copy, errors)\u001b[0m\n\u001b[0;32m    587\u001b[0m             \u001b[0mvals1d\u001b[0m \u001b[1;33m=\u001b[0m \u001b[0mvalues\u001b[0m\u001b[1;33m.\u001b[0m\u001b[0mravel\u001b[0m\u001b[1;33m(\u001b[0m\u001b[1;33m)\u001b[0m\u001b[1;33m\u001b[0m\u001b[1;33m\u001b[0m\u001b[0m\n\u001b[0;32m    588\u001b[0m             \u001b[1;32mtry\u001b[0m\u001b[1;33m:\u001b[0m\u001b[1;33m\u001b[0m\u001b[1;33m\u001b[0m\u001b[0m\n\u001b[1;32m--> 589\u001b[1;33m                 \u001b[0mvalues\u001b[0m \u001b[1;33m=\u001b[0m \u001b[0mastype_nansafe\u001b[0m\u001b[1;33m(\u001b[0m\u001b[0mvals1d\u001b[0m\u001b[1;33m,\u001b[0m \u001b[0mdtype\u001b[0m\u001b[1;33m,\u001b[0m \u001b[0mcopy\u001b[0m\u001b[1;33m=\u001b[0m\u001b[1;32mTrue\u001b[0m\u001b[1;33m)\u001b[0m\u001b[1;33m\u001b[0m\u001b[1;33m\u001b[0m\u001b[0m\n\u001b[0m\u001b[0;32m    590\u001b[0m             \u001b[1;32mexcept\u001b[0m \u001b[1;33m(\u001b[0m\u001b[0mValueError\u001b[0m\u001b[1;33m,\u001b[0m \u001b[0mTypeError\u001b[0m\u001b[1;33m)\u001b[0m\u001b[1;33m:\u001b[0m\u001b[1;33m\u001b[0m\u001b[1;33m\u001b[0m\u001b[0m\n\u001b[0;32m    591\u001b[0m                 \u001b[1;31m# e.g. astype_nansafe can fail on object-dtype of strings\u001b[0m\u001b[1;33m\u001b[0m\u001b[1;33m\u001b[0m\u001b[1;33m\u001b[0m\u001b[0m\n",
      "\u001b[1;32mC:\\programs\\Continuum\\anaconda3\\lib\\site-packages\\pandas\\core\\dtypes\\cast.py\u001b[0m in \u001b[0;36mastype_nansafe\u001b[1;34m(arr, dtype, copy, skipna)\u001b[0m\n\u001b[0;32m    964\u001b[0m         \u001b[1;31m# work around NumPy brokenness, #1987\u001b[0m\u001b[1;33m\u001b[0m\u001b[1;33m\u001b[0m\u001b[1;33m\u001b[0m\u001b[0m\n\u001b[0;32m    965\u001b[0m         \u001b[1;32mif\u001b[0m \u001b[0mnp\u001b[0m\u001b[1;33m.\u001b[0m\u001b[0missubdtype\u001b[0m\u001b[1;33m(\u001b[0m\u001b[0mdtype\u001b[0m\u001b[1;33m.\u001b[0m\u001b[0mtype\u001b[0m\u001b[1;33m,\u001b[0m \u001b[0mnp\u001b[0m\u001b[1;33m.\u001b[0m\u001b[0minteger\u001b[0m\u001b[1;33m)\u001b[0m\u001b[1;33m:\u001b[0m\u001b[1;33m\u001b[0m\u001b[1;33m\u001b[0m\u001b[0m\n\u001b[1;32m--> 966\u001b[1;33m             \u001b[1;32mreturn\u001b[0m \u001b[0mlib\u001b[0m\u001b[1;33m.\u001b[0m\u001b[0mastype_intsafe\u001b[0m\u001b[1;33m(\u001b[0m\u001b[0marr\u001b[0m\u001b[1;33m.\u001b[0m\u001b[0mravel\u001b[0m\u001b[1;33m(\u001b[0m\u001b[1;33m)\u001b[0m\u001b[1;33m,\u001b[0m \u001b[0mdtype\u001b[0m\u001b[1;33m)\u001b[0m\u001b[1;33m.\u001b[0m\u001b[0mreshape\u001b[0m\u001b[1;33m(\u001b[0m\u001b[0marr\u001b[0m\u001b[1;33m.\u001b[0m\u001b[0mshape\u001b[0m\u001b[1;33m)\u001b[0m\u001b[1;33m\u001b[0m\u001b[1;33m\u001b[0m\u001b[0m\n\u001b[0m\u001b[0;32m    967\u001b[0m \u001b[1;33m\u001b[0m\u001b[0m\n\u001b[0;32m    968\u001b[0m         \u001b[1;31m# if we have a datetime/timedelta array of objects\u001b[0m\u001b[1;33m\u001b[0m\u001b[1;33m\u001b[0m\u001b[1;33m\u001b[0m\u001b[0m\n",
      "\u001b[1;32mpandas\\_libs\\lib.pyx\u001b[0m in \u001b[0;36mpandas._libs.lib.astype_intsafe\u001b[1;34m()\u001b[0m\n",
      "\u001b[1;31mValueError\u001b[0m: invalid literal for int() with base 10: 'Most people can be trusted'"
     ]
    }
   ],
   "source": [
    "ess2014['ppltrst'] = ess2014['ppltrst'].astype('int')"
   ]
  },
  {
   "cell_type": "markdown",
   "metadata": {},
   "source": [
    "Variablen er en skala fra 0-10, så den kan i princippet behandles som numerisk. Det kræver bare, at værdierne ændres sådan, at variablen kan tvinges om.\n",
    "\n",
    "- \"Most people can be trusted\" skal være \"10\"\n",
    "- \"You can't be too careful\" skal være \"0\"\n",
    "\n",
    "Værdier kan erstattes med metoden `.replace()`. Her ændres oplysninger i datasættet, hvorfor man altid bør lave en ny variabel:"
   ]
  },
  {
   "cell_type": "code",
   "execution_count": 68,
   "metadata": {},
   "outputs": [],
   "source": [
    "ess2014['ppltrst_num'] = ess2014['ppltrst']"
   ]
  },
  {
   "cell_type": "markdown",
   "metadata": {},
   "source": [
    "Nu kan værdierne erstattes i den nye variabel med `replace()`. Metoden skal bruge en dictionary, hvor nøglerne består af værdierne, som skal ændres, og værdierne skal være de værdier, som skal ændres."
   ]
  },
  {
   "cell_type": "code",
   "execution_count": 69,
   "metadata": {},
   "outputs": [],
   "source": [
    "ess2014['ppltrst_num'] = ess2014['ppltrst_num'].replace({\"Most people can be trusted\": \"10\", \"You can't be too careful\": \"0\"})"
   ]
  },
  {
   "cell_type": "markdown",
   "metadata": {},
   "source": [
    "Variabel indeholder nu værdierne \"0\" og \"10\"."
   ]
  },
  {
   "cell_type": "code",
   "execution_count": 70,
   "metadata": {},
   "outputs": [
    {
     "data": {
      "text/plain": [
       "array(['4', '10', '5', '8', '7', '9', '2', '6', '3', '0', '1', nan],\n",
       "      dtype=object)"
      ]
     },
     "execution_count": 70,
     "metadata": {},
     "output_type": "execute_result"
    }
   ],
   "source": [
    "ess2014['ppltrst_num'].unique()"
   ]
  },
  {
   "cell_type": "markdown",
   "metadata": {},
   "source": [
    "Variablen kan nu konverteres til tal (der konverteres til float/decimaltal, da missingværdier (`NaN`) ikke kan være heltal):"
   ]
  },
  {
   "cell_type": "code",
   "execution_count": 71,
   "metadata": {},
   "outputs": [],
   "source": [
    "ess2014['ppltrst_num'] = ess2014['ppltrst_num'].astype('float')"
   ]
  },
  {
   "cell_type": "markdown",
   "metadata": {},
   "source": [
    "Variablen er nu numerisk, så man fx kan foretage beregninger:"
   ]
  },
  {
   "cell_type": "code",
   "execution_count": 72,
   "metadata": {},
   "outputs": [
    {
     "data": {
      "text/plain": [
       "6.998664886515354"
      ]
     },
     "execution_count": 72,
     "metadata": {},
     "output_type": "execute_result"
    }
   ],
   "source": [
    "ess2014['ppltrst_num'].mean()"
   ]
  },
  {
   "cell_type": "markdown",
   "metadata": {},
   "source": [
    "### Lad pandas gætte typen\n",
    "\n",
    "Metoden `convert_dtypes()` bruges til at lade pandas gætte den mest passende type"
   ]
  },
  {
   "cell_type": "code",
   "execution_count": 73,
   "metadata": {},
   "outputs": [
    {
     "data": {
      "text/plain": [
       "dtype('O')"
      ]
     },
     "execution_count": 73,
     "metadata": {},
     "output_type": "execute_result"
    }
   ],
   "source": [
    "ess2014['alcfreq'].dtypes"
   ]
  },
  {
   "cell_type": "markdown",
   "metadata": {},
   "source": [
    "Variabeltypen er 'O' (for `object`)."
   ]
  },
  {
   "cell_type": "code",
   "execution_count": 74,
   "metadata": {},
   "outputs": [],
   "source": [
    "ess2014['alcfreq'] = ess2014['alcfreq'].convert_dtypes()"
   ]
  },
  {
   "cell_type": "markdown",
   "metadata": {},
   "source": [
    "Tjek hvilken type pandas har konverteret til ved at gætte:"
   ]
  },
  {
   "cell_type": "code",
   "execution_count": 75,
   "metadata": {},
   "outputs": [
    {
     "data": {
      "text/plain": [
       "StringDtype"
      ]
     },
     "execution_count": 75,
     "metadata": {},
     "output_type": "execute_result"
    }
   ],
   "source": [
    "ess2014['alcfreq'].dtypes"
   ]
  },
  {
   "cell_type": "markdown",
   "metadata": {},
   "source": [
    "Pandas gætter typen til at være string."
   ]
  },
  {
   "cell_type": "markdown",
   "metadata": {},
   "source": [
    "---\n",
    "\n",
    "# ØVELSE: Ændr variabeltypen\n",
    "\n",
    "1. Check hvilken type variabel `happy` er med `.dtypes`.\n",
    "\n",
    "2. Variablen kan laves til numerisk. Lav en kopi af variablen (evt. kald den `happy_num`).\n",
    "\n",
    "3. Rekod tekstværdierne til tal med `.replace()` - Husk at rekodninger skal specificeres som en dictionary ( `{\"gammel værdi\": \"ny værdi\", \"gammel værdi\": \"ny værdi\"}` ).\n",
    "    - \"Extremely happy\" skal kodes til \"10\"\n",
    "    - \"Extremely unhappy\" skal kodes til \"0\"\n",
    "    \n",
    "4. Konverter variablen til numerisk med `.astype('float')`.\n",
    "\n",
    "5. Udregn gennemsnit for variablen med `.mean()`.\n",
    "\n",
    "{{%expand \"Løsning\"%}}"
   ]
  },
  {
   "cell_type": "code",
   "execution_count": 77,
   "metadata": {},
   "outputs": [
    {
     "name": "stdout",
     "output_type": "stream",
     "text": [
      "object\n",
      "float64\n"
     ]
    },
    {
     "data": {
      "text/plain": [
       "8.278666666666666"
      ]
     },
     "execution_count": 77,
     "metadata": {},
     "output_type": "execute_result"
    }
   ],
   "source": [
    "print(ess2014['happy'].dtypes)\n",
    "\n",
    "ess2014['happy_num'] = ess2014['happy']\n",
    "ess2014['happy_num'] = ess2014['happy_num'].replace({\"Extremely happy\": \"10\", \"Extremely unhappy\": \"0\"})\n",
    "ess2014['happy_num'] = ess2014['happy_num'].astype('float')\n",
    "\n",
    "print(ess2014['happy_num'].dtypes)\n",
    "\n",
    "ess2014['happy_num'].mean()"
   ]
  },
  {
   "cell_type": "markdown",
   "metadata": {},
   "source": [
    "{{%/expand %}}\n",
    "\n",
    "---"
   ]
  },
  {
   "cell_type": "markdown",
   "metadata": {},
   "source": [
    "# {#Kapitel}Kategoriske variable\n",
    "\n",
    "Variable, der har en afgrænset mængde svarmuligheder, kaldes for kategoriske."
   ]
  },
  {
   "cell_type": "markdown",
   "metadata": {},
   "source": [
    "# {#Afsnit}Typer af kategoriske variable (nominal, ordinal)\n",
    "\n",
    "Man adskiller mellem to typer af kategoriske variable.\n",
    "\n",
    "**Ordinale**\n",
    "\n",
    "Ordinalt skalerede variable er variable, som kan rangordnes; altså hvor der kan differentieres hierarkisk mellem værdierne.\n",
    "\n",
    "Af ESS2014 datasættet er `health` et eksempel på en ordinal-skaleret variabel."
   ]
  },
  {
   "cell_type": "code",
   "execution_count": 80,
   "metadata": {},
   "outputs": [
    {
     "data": {
      "text/plain": [
       "array(['Very good', 'Good', 'Bad', 'Fair', 'Very bad', nan], dtype=object)"
      ]
     },
     "execution_count": 80,
     "metadata": {},
     "output_type": "execute_result"
    }
   ],
   "source": [
    "ess2014['health'].unique()"
   ]
  },
  {
   "cell_type": "markdown",
   "metadata": {},
   "source": [
    "Variablen indeholder personens egen vurdering af helbred. \n",
    "\n",
    "Den er kategorisk, da man kun kan vælge mellem i forvejen definerede svarmuligheder. \n",
    "\n",
    "Den er ordinal, da man kan rangere værdierne: \"Good\" er bedre end \"Bad\", \"Very bad\" er værre end \"Fair\" osv."
   ]
  },
  {
   "cell_type": "markdown",
   "metadata": {},
   "source": [
    "**Nominale**\n",
    "\n",
    "Nominalt skalerede variable er variable, som *ikke* kan rangordnes.\n",
    "\n",
    "I ESS2014 datasættet er `gndr` et eksempel på en nominal-skaleret variabel:"
   ]
  },
  {
   "cell_type": "code",
   "execution_count": 81,
   "metadata": {},
   "outputs": [
    {
     "data": {
      "text/plain": [
       "<StringArray>\n",
       "['Female', 'Male']\n",
       "Length: 2, dtype: string"
      ]
     },
     "execution_count": 81,
     "metadata": {},
     "output_type": "execute_result"
    }
   ],
   "source": [
    "ess2014['gndr'].unique()"
   ]
  },
  {
   "cell_type": "markdown",
   "metadata": {},
   "source": [
    "**Talværdier og kategoriske variable**\n",
    "\n",
    "Selvom en variabel indeholder talværdier, kan de stadig godt være kategoriske.\n",
    "\n",
    "Et centralt karakteristika ved ikke-kategoriske (kontinuerlige) variable er, at man kan måle den præcise afstand mellem målinger. Det kan man fx for variable som `height` og `weight`.\n",
    "\n",
    "Ved variable som `ppltrst` og `happy` kan man ikke måle den præcise afstand. Selvom man kan sige, at 8 er større end 4 og man kan regne en difference mellem to personers score på disse variable, så er det stadig ikke en præcis afstand som regnes.\n",
    "\n",
    "Herunder vises fx værdierne for `ppltrst` for rækkeindeks 27 og 90:"
   ]
  },
  {
   "cell_type": "code",
   "execution_count": 84,
   "metadata": {},
   "outputs": [
    {
     "data": {
      "text/plain": [
       "27    8\n",
       "90    9\n",
       "Name: ppltrst, dtype: object"
      ]
     },
     "execution_count": 84,
     "metadata": {},
     "output_type": "execute_result"
    }
   ],
   "source": [
    "ess2014.loc[[27, 90], 'ppltrst']"
   ]
  },
  {
   "cell_type": "markdown",
   "metadata": {},
   "source": [
    "Her ses, at række 90 svarer 9 og række 27 svarer 8. Man kan derfor godt udregne, at række 90 har givet en højere score en række 27.\n",
    "\n",
    "Dog kan det argumenteres, at det ikke er den præcise afstand der regnes, da der er tale om en skala for, hvor meget man stoler på andre mennesker. Talværdien er derfor svær at omsætte til noget faktisk (hvor meget tillid er fx en score på 8 frem for en score på 9?), og hvordan spørgsmålet og skalaen tolkes vil variere fra person til person (er mængden af tillid, som den ene person tildeler en score på 8 den samme mængde, som en anden person tildeler en score på 8?).\n",
    "\n",
    "Af denne grund er sådanne variable som udgangspunkt kategoriske. Det ses dog ofte, at sådanne variable behandles som numeriske alligevel, da det er nødvendigt for mange typer analyser."
   ]
  },
  {
   "cell_type": "markdown",
   "metadata": {},
   "source": [
    "---\n",
    "\n",
    "## VIDENSCHECK\n",
    "\n",
    "*Er variablen `alcfreq` ordinalt eller nominalt skaleret?*\n",
    "\n",
    "{{%expand \"Løsning\"%}}\n",
    "`alcfreq` er en ordinalt skaleret variabel, da værdierne kan rangordnes.\n",
    "{{%/expand%}}\n",
    "\n",
    "---\n"
   ]
  },
  {
   "cell_type": "markdown",
   "metadata": {},
   "source": [
    "# {#Afsnit}Kategoriske variable i Python\n",
    "\n",
    "Python/Pandas kan ikke selv gætte sig til, hvad der er kategorisk, da de blot ligner tekst, set fra Pythons synspunkt.\n",
    "\n",
    "Når man arbejder med kategoriske variable i Python, skal man derfor selv kode dem om til at være kategorisk\n",
    "\n",
    "Variable kodes til kategoriske med `astype('category')`. Herunder kodes `health` om til kategorisk, da det er en kategorisk variabel:"
   ]
  },
  {
   "cell_type": "code",
   "execution_count": 87,
   "metadata": {},
   "outputs": [],
   "source": [
    "ess2014['health'] = ess2014['health'].astype('category')"
   ]
  },
  {
   "cell_type": "markdown",
   "metadata": {},
   "source": [
    "Når man kigger på variablen nu ses, at den er ændret til typen `category`. Derudover vises, hvilke kategorier variablen har."
   ]
  },
  {
   "cell_type": "code",
   "execution_count": 90,
   "metadata": {},
   "outputs": [
    {
     "data": {
      "text/plain": [
       "0    Very good\n",
       "1         Good\n",
       "2         Good\n",
       "3    Very good\n",
       "4          Bad\n",
       "Name: health, dtype: category\n",
       "Categories (5, object): ['Bad', 'Fair', 'Good', 'Very bad', 'Very good']"
      ]
     },
     "execution_count": 90,
     "metadata": {},
     "output_type": "execute_result"
    }
   ],
   "source": [
    "ess2014['health'].head()"
   ]
  },
  {
   "cell_type": "markdown",
   "metadata": {},
   "source": [
    "Variable kodes som standard til nominalt skalerede variable. Dette kan ses, ved at kigge på `dtypes`, hvor `ordered` angiver, om variablen er kodet nominalt eller ordinalt (`ordered = False` for nominalt, `ordered = True` for ordinalt):"
   ]
  },
  {
   "cell_type": "code",
   "execution_count": 94,
   "metadata": {},
   "outputs": [
    {
     "data": {
      "text/plain": [
       "CategoricalDtype(categories=['Bad', 'Fair', 'Good', 'Very bad', 'Very good'], ordered=False)"
      ]
     },
     "execution_count": 94,
     "metadata": {},
     "output_type": "execute_result"
    }
   ],
   "source": [
    "ess2014['health'].dtypes"
   ]
  },
  {
   "cell_type": "markdown",
   "metadata": {},
   "source": [
    "## Konvertering til ordinal\n",
    "\n",
    "For at konvertere til ordinal, skal man specificere sig egen type, som kan sættes på variablen.\n",
    "\n",
    "Indtil videre er der gennemgået forskellige \"indbyggede\" typer: `int`, `float`, `string`, `category`. Men det er også muligt at genere sin egen type.\n",
    "\n",
    "Dette er nødvendigt for at kode en variabel ordinal. Man gør følgende:\n",
    "\n",
    "- Dan et `CategoricalDtype` objekt\n",
    "- Specificer kategorierne som liste i argumentet `categories = ` (sørg for at skrive dem i rækkefølge fra lav til høj, hvis ordinal)\n",
    "- Specificer hvorvidt variablen er ordinal eller nominal med `ordered = True/False`\n",
    "\n",
    "Herunder dannes kateogi-objektet, som kan bruges til `health`. `CategoricalDtype` skal importeres, før den kan bruges:"
   ]
  },
  {
   "cell_type": "code",
   "execution_count": 96,
   "metadata": {},
   "outputs": [],
   "source": [
    "from pandas.api.types import CategoricalDtype\n",
    "\n",
    "health_cat = CategoricalDtype(categories = ['Very bad', 'Bad', 'Fair', 'Good', 'Very good'], ordered = True)"
   ]
  },
  {
   "cell_type": "markdown",
   "metadata": {},
   "source": [
    "Kategoriobjektet er nu dannet, men er ikke tilknyttet variablen:"
   ]
  },
  {
   "cell_type": "code",
   "execution_count": 98,
   "metadata": {},
   "outputs": [
    {
     "data": {
      "text/plain": [
       "CategoricalDtype(categories=['Very bad', 'Bad', 'Fair', 'Good', 'Very good'], ordered=True)"
      ]
     },
     "execution_count": 98,
     "metadata": {},
     "output_type": "execute_result"
    }
   ],
   "source": [
    "health_cat"
   ]
  },
  {
   "cell_type": "markdown",
   "metadata": {},
   "source": [
    "Kategoriobjektet tilknyttes med `astype()`:"
   ]
  },
  {
   "cell_type": "code",
   "execution_count": 99,
   "metadata": {},
   "outputs": [],
   "source": [
    "ess2014['health'] = ess2014['health'].astype(health_cat)"
   ]
  },
  {
   "cell_type": "markdown",
   "metadata": {},
   "source": [
    "`health` er nu kodet som ordinal - læg mærke til hvordan rækkefølge er angivet med `<`:"
   ]
  },
  {
   "cell_type": "code",
   "execution_count": 101,
   "metadata": {},
   "outputs": [
    {
     "data": {
      "text/plain": [
       "['Very good', 'Good', 'Bad', 'Fair', 'Very bad', NaN]\n",
       "Categories (5, object): ['Very bad' < 'Bad' < 'Fair' < 'Good' < 'Very good']"
      ]
     },
     "execution_count": 101,
     "metadata": {},
     "output_type": "execute_result"
    }
   ],
   "source": [
    "ess2014['health'].unique()"
   ]
  },
  {
   "cell_type": "markdown",
   "metadata": {},
   "source": [
    "---\n",
    "\n",
    "## ØVELSE: Konverter til kategorisk\n",
    "\n",
    "1. Tag et kig på variablen `alcfreq`. Er variablen nominal eller ordinal?\n",
    "\n",
    "2. Rekod `alcfreq` til at være kategorisk. Hvis den er ordinal, så dan et kategoriobjekt, som kan bruges til at kode variablen (tjek værdier i variablen med `.unique()`\n",
    "\n",
    "{{%expand \"Løsning\"%}}"
   ]
  },
  {
   "cell_type": "code",
   "execution_count": 102,
   "metadata": {},
   "outputs": [
    {
     "data": {
      "text/plain": [
       "['Never', 'Several times a week', 'Once a week', 'Every day', 'Less than once a month', 'Once a month', '2-3 times a month', NaN]\n",
       "Categories (7, object): ['Never' < 'Less than once a month' < 'Once a month' < '2-3 times a month' < 'Once a week' < 'Several times a week' < 'Every day']"
      ]
     },
     "execution_count": 102,
     "metadata": {},
     "output_type": "execute_result"
    }
   ],
   "source": [
    "ess2014['alcfreq'].unique() # Tjek værdier for at se, hvordan variablen er kodet (ordinalt)\n",
    "\n",
    "alc_cat = CategoricalDtype(categories = ['Never', 'Less than once a month', 'Once a month',   # Danner kategoriobjekt\n",
    "                                         '2-3 times a month', 'Once a week', 'Several times a week', \n",
    "                                         'Every day'], ordered = True)\n",
    "\n",
    "ess2014['alcfreq'] = ess2014['alcfreq'].astype(alc_cat) # Ændrer typen\n",
    "\n",
    "ess2014['alcfreq'].unique() # Bekræfter ændringen"
   ]
  },
  {
   "cell_type": "markdown",
   "metadata": {},
   "source": [
    "{{%/expand%}}\n",
    "\n",
    "---\n"
   ]
  },
  {
   "cell_type": "markdown",
   "metadata": {},
   "source": [
    "## Hvorfor rekode til ordinal?\n",
    "\n",
    "Rekodning til ordinal gøres ikke kun for syns skyld. Når man fortæller Python, at en variabel skal behandles som ordinal, kan man bruge rangordnen, når man arbejder med data.\n",
    "\n",
    "Fx kan man nu filtrere ESS2014 datasættet efter, hvor mange der har et selvvurderet helbred på `Fair` eller mindre:"
   ]
  },
  {
   "cell_type": "code",
   "execution_count": 106,
   "metadata": {},
   "outputs": [
    {
     "data": {
      "text/html": [
       "<div>\n",
       "<style scoped>\n",
       "    .dataframe tbody tr th:only-of-type {\n",
       "        vertical-align: middle;\n",
       "    }\n",
       "\n",
       "    .dataframe tbody tr th {\n",
       "        vertical-align: top;\n",
       "    }\n",
       "\n",
       "    .dataframe thead th {\n",
       "        text-align: right;\n",
       "    }\n",
       "</style>\n",
       "<table border=\"1\" class=\"dataframe\">\n",
       "  <thead>\n",
       "    <tr style=\"text-align: right;\">\n",
       "      <th></th>\n",
       "      <th>idno</th>\n",
       "      <th>ppltrst</th>\n",
       "      <th>happy</th>\n",
       "      <th>health</th>\n",
       "      <th>cgtsday</th>\n",
       "      <th>alcfreq</th>\n",
       "      <th>height</th>\n",
       "      <th>weight</th>\n",
       "      <th>gndr</th>\n",
       "      <th>yrbrn</th>\n",
       "      <th>height_m</th>\n",
       "      <th>age</th>\n",
       "      <th>height_cat</th>\n",
       "      <th>smoker</th>\n",
       "      <th>ppltrst_num</th>\n",
       "      <th>happy_num</th>\n",
       "    </tr>\n",
       "  </thead>\n",
       "  <tbody>\n",
       "    <tr>\n",
       "      <th>4</th>\n",
       "      <td>925410</td>\n",
       "      <td>4</td>\n",
       "      <td>8</td>\n",
       "      <td>Bad</td>\n",
       "      <td>NaN</td>\n",
       "      <td>Several times a week</td>\n",
       "      <td>156.0</td>\n",
       "      <td>60.0</td>\n",
       "      <td>Female</td>\n",
       "      <td>1969</td>\n",
       "      <td>1.56</td>\n",
       "      <td>45</td>\n",
       "      <td>short</td>\n",
       "      <td>not a smoker</td>\n",
       "      <td>4.0</td>\n",
       "      <td>8.0</td>\n",
       "    </tr>\n",
       "    <tr>\n",
       "      <th>11</th>\n",
       "      <td>926725</td>\n",
       "      <td>5</td>\n",
       "      <td>Extremely happy</td>\n",
       "      <td>Fair</td>\n",
       "      <td>NaN</td>\n",
       "      <td>Once a week</td>\n",
       "      <td>168.0</td>\n",
       "      <td>70.0</td>\n",
       "      <td>Male</td>\n",
       "      <td>1971</td>\n",
       "      <td>1.68</td>\n",
       "      <td>43</td>\n",
       "      <td>medium</td>\n",
       "      <td>not a smoker</td>\n",
       "      <td>5.0</td>\n",
       "      <td>10.0</td>\n",
       "    </tr>\n",
       "    <tr>\n",
       "      <th>12</th>\n",
       "      <td>940149</td>\n",
       "      <td>5</td>\n",
       "      <td>5</td>\n",
       "      <td>Fair</td>\n",
       "      <td>NaN</td>\n",
       "      <td>Every day</td>\n",
       "      <td>173.0</td>\n",
       "      <td>73.0</td>\n",
       "      <td>Male</td>\n",
       "      <td>1956</td>\n",
       "      <td>1.73</td>\n",
       "      <td>58</td>\n",
       "      <td>medium</td>\n",
       "      <td>not a smoker</td>\n",
       "      <td>5.0</td>\n",
       "      <td>5.0</td>\n",
       "    </tr>\n",
       "    <tr>\n",
       "      <th>13</th>\n",
       "      <td>922276</td>\n",
       "      <td>9</td>\n",
       "      <td>Extremely happy</td>\n",
       "      <td>Bad</td>\n",
       "      <td>NaN</td>\n",
       "      <td>Several times a week</td>\n",
       "      <td>171.0</td>\n",
       "      <td>50.0</td>\n",
       "      <td>Male</td>\n",
       "      <td>1952</td>\n",
       "      <td>1.71</td>\n",
       "      <td>62</td>\n",
       "      <td>medium</td>\n",
       "      <td>not a smoker</td>\n",
       "      <td>9.0</td>\n",
       "      <td>10.0</td>\n",
       "    </tr>\n",
       "    <tr>\n",
       "      <th>15</th>\n",
       "      <td>945903</td>\n",
       "      <td>2</td>\n",
       "      <td>2</td>\n",
       "      <td>Fair</td>\n",
       "      <td>NaN</td>\n",
       "      <td>Less than once a month</td>\n",
       "      <td>158.0</td>\n",
       "      <td>65.0</td>\n",
       "      <td>Female</td>\n",
       "      <td>1967</td>\n",
       "      <td>1.58</td>\n",
       "      <td>47</td>\n",
       "      <td>short</td>\n",
       "      <td>not a smoker</td>\n",
       "      <td>2.0</td>\n",
       "      <td>2.0</td>\n",
       "    </tr>\n",
       "  </tbody>\n",
       "</table>\n",
       "</div>"
      ],
      "text/plain": [
       "      idno ppltrst            happy health  cgtsday                 alcfreq  \\\n",
       "4   925410       4                8    Bad      NaN    Several times a week   \n",
       "11  926725       5  Extremely happy   Fair      NaN             Once a week   \n",
       "12  940149       5                5   Fair      NaN               Every day   \n",
       "13  922276       9  Extremely happy    Bad      NaN    Several times a week   \n",
       "15  945903       2                2   Fair      NaN  Less than once a month   \n",
       "\n",
       "    height  weight    gndr  yrbrn  height_m  age height_cat        smoker  \\\n",
       "4    156.0    60.0  Female   1969      1.56   45      short  not a smoker   \n",
       "11   168.0    70.0    Male   1971      1.68   43     medium  not a smoker   \n",
       "12   173.0    73.0    Male   1956      1.73   58     medium  not a smoker   \n",
       "13   171.0    50.0    Male   1952      1.71   62     medium  not a smoker   \n",
       "15   158.0    65.0  Female   1967      1.58   47      short  not a smoker   \n",
       "\n",
       "    ppltrst_num  happy_num  \n",
       "4           4.0        8.0  \n",
       "11          5.0       10.0  \n",
       "12          5.0        5.0  \n",
       "13          9.0       10.0  \n",
       "15          2.0        2.0  "
      ]
     },
     "execution_count": 106,
     "metadata": {},
     "output_type": "execute_result"
    }
   ],
   "source": [
    "ess2014.loc[ess2014['health'] <= 'Fair', :].head()"
   ]
  },
  {
   "cell_type": "markdown",
   "metadata": {},
   "source": [
    "## Rekodning af kategoriske variable\n",
    "\n",
    "Kategoriske variable rekodes ligesom tekstvariable med `.replace()`.\n",
    "\n",
    "Man kan med fordel specificere den dictionary, som skal rekodes efter, først, da man derved har den til rådighed, hvis fx flere variable skal rekodes på samme måde.\n",
    "\n",
    "I nedenstående dannes en ny `alcfreq` variabel, der inddeler respondenter efter, om de drikker mindst en gang om ugen, mindre end en gang om ugen eller aldrig. Læg mærke til, hvordan værdier slås sammen på denne måde:"
   ]
  },
  {
   "cell_type": "code",
   "execution_count": 107,
   "metadata": {},
   "outputs": [
    {
     "data": {
      "text/plain": [
       "['Never', 'Several times a week', 'Once a week', 'Every day', 'Less than once a month', 'Once a month', '2-3 times a month', NaN]\n",
       "Categories (7, object): ['Never' < 'Less than once a month' < 'Once a month' < '2-3 times a month' < 'Once a week' < 'Several times a week' < 'Every day']"
      ]
     },
     "execution_count": 107,
     "metadata": {},
     "output_type": "execute_result"
    }
   ],
   "source": [
    "ess2014['alcfreq'].unique()"
   ]
  },
  {
   "cell_type": "code",
   "execution_count": 129,
   "metadata": {},
   "outputs": [],
   "source": [
    "alc_recodedict = {'Several times a week': 'Once a week or more', 'Once a week': 'Once a week or more', \n",
    "                  'Every day': 'Once a week or more', 'Less than once a month': 'Less than once a week', \n",
    "                 'Once a month': 'Less than once a week', '2-3 times a month': 'Less than once a week'}\n",
    "\n",
    "ess2014['alcfreq_3cat'] = ess2014['alcfreq'].replace(alc_recodedict)"
   ]
  },
  {
   "cell_type": "markdown",
   "metadata": {},
   "source": [
    "Værdierne er nu ændret i den nye variabel. Bemærk, at typen konverteres tilbage til `object`. Det er derfor en fordel at rekode værdier *inden* man konverterer variablen til en kategorisk type."
   ]
  },
  {
   "cell_type": "code",
   "execution_count": 131,
   "metadata": {},
   "outputs": [
    {
     "data": {
      "text/plain": [
       "array(['Never', 'Once a week or more', 'Less than once a week', nan],\n",
       "      dtype=object)"
      ]
     },
     "execution_count": 131,
     "metadata": {},
     "output_type": "execute_result"
    }
   ],
   "source": [
    "ess2014['alcfreq_3cat'].unique()"
   ]
  },
  {
   "cell_type": "code",
   "execution_count": 103,
   "metadata": {},
   "outputs": [
    {
     "data": {
      "text/html": [
       "<div>\n",
       "<style scoped>\n",
       "    .dataframe tbody tr th:only-of-type {\n",
       "        vertical-align: middle;\n",
       "    }\n",
       "\n",
       "    .dataframe tbody tr th {\n",
       "        vertical-align: top;\n",
       "    }\n",
       "\n",
       "    .dataframe thead th {\n",
       "        text-align: right;\n",
       "    }\n",
       "</style>\n",
       "<table border=\"1\" class=\"dataframe\">\n",
       "  <thead>\n",
       "    <tr style=\"text-align: right;\">\n",
       "      <th></th>\n",
       "      <th>idno</th>\n",
       "      <th>ppltrst</th>\n",
       "      <th>happy</th>\n",
       "      <th>health</th>\n",
       "      <th>cgtsday</th>\n",
       "      <th>alcfreq</th>\n",
       "      <th>height</th>\n",
       "      <th>weight</th>\n",
       "      <th>gndr</th>\n",
       "      <th>yrbrn</th>\n",
       "      <th>height_m</th>\n",
       "      <th>age</th>\n",
       "      <th>height_cat</th>\n",
       "      <th>smoker</th>\n",
       "      <th>ppltrst_num</th>\n",
       "      <th>happy_num</th>\n",
       "    </tr>\n",
       "  </thead>\n",
       "  <tbody>\n",
       "    <tr>\n",
       "      <th>0</th>\n",
       "      <td>921490</td>\n",
       "      <td>4</td>\n",
       "      <td>Extremely happy</td>\n",
       "      <td>Very good</td>\n",
       "      <td>NaN</td>\n",
       "      <td>Never</td>\n",
       "      <td>167.0</td>\n",
       "      <td>62.0</td>\n",
       "      <td>Female</td>\n",
       "      <td>1965</td>\n",
       "      <td>1.67</td>\n",
       "      <td>49</td>\n",
       "      <td>medium</td>\n",
       "      <td>not a smoker</td>\n",
       "      <td>4.0</td>\n",
       "      <td>10.0</td>\n",
       "    </tr>\n",
       "    <tr>\n",
       "      <th>1</th>\n",
       "      <td>938348</td>\n",
       "      <td>Most people can be trusted</td>\n",
       "      <td>7</td>\n",
       "      <td>Good</td>\n",
       "      <td>NaN</td>\n",
       "      <td>Several times a week</td>\n",
       "      <td>168.0</td>\n",
       "      <td>70.0</td>\n",
       "      <td>Female</td>\n",
       "      <td>1973</td>\n",
       "      <td>1.68</td>\n",
       "      <td>41</td>\n",
       "      <td>medium</td>\n",
       "      <td>not a smoker</td>\n",
       "      <td>10.0</td>\n",
       "      <td>7.0</td>\n",
       "    </tr>\n",
       "    <tr>\n",
       "      <th>2</th>\n",
       "      <td>939019</td>\n",
       "      <td>5</td>\n",
       "      <td>8</td>\n",
       "      <td>Good</td>\n",
       "      <td>3.0</td>\n",
       "      <td>Once a week</td>\n",
       "      <td>182.0</td>\n",
       "      <td>90.0</td>\n",
       "      <td>Male</td>\n",
       "      <td>1980</td>\n",
       "      <td>1.82</td>\n",
       "      <td>34</td>\n",
       "      <td>medium</td>\n",
       "      <td>smoker</td>\n",
       "      <td>5.0</td>\n",
       "      <td>8.0</td>\n",
       "    </tr>\n",
       "    <tr>\n",
       "      <th>3</th>\n",
       "      <td>924985</td>\n",
       "      <td>8</td>\n",
       "      <td>9</td>\n",
       "      <td>Very good</td>\n",
       "      <td>NaN</td>\n",
       "      <td>Once a week</td>\n",
       "      <td>188.0</td>\n",
       "      <td>85.0</td>\n",
       "      <td>Male</td>\n",
       "      <td>1946</td>\n",
       "      <td>1.88</td>\n",
       "      <td>68</td>\n",
       "      <td>tall</td>\n",
       "      <td>not a smoker</td>\n",
       "      <td>8.0</td>\n",
       "      <td>9.0</td>\n",
       "    </tr>\n",
       "    <tr>\n",
       "      <th>4</th>\n",
       "      <td>925410</td>\n",
       "      <td>4</td>\n",
       "      <td>8</td>\n",
       "      <td>Bad</td>\n",
       "      <td>NaN</td>\n",
       "      <td>Several times a week</td>\n",
       "      <td>156.0</td>\n",
       "      <td>60.0</td>\n",
       "      <td>Female</td>\n",
       "      <td>1969</td>\n",
       "      <td>1.56</td>\n",
       "      <td>45</td>\n",
       "      <td>short</td>\n",
       "      <td>not a smoker</td>\n",
       "      <td>4.0</td>\n",
       "      <td>8.0</td>\n",
       "    </tr>\n",
       "  </tbody>\n",
       "</table>\n",
       "</div>"
      ],
      "text/plain": [
       "     idno                     ppltrst            happy     health  cgtsday  \\\n",
       "0  921490                           4  Extremely happy  Very good      NaN   \n",
       "1  938348  Most people can be trusted                7       Good      NaN   \n",
       "2  939019                           5                8       Good      3.0   \n",
       "3  924985                           8                9  Very good      NaN   \n",
       "4  925410                           4                8        Bad      NaN   \n",
       "\n",
       "                alcfreq  height  weight    gndr  yrbrn  height_m  age  \\\n",
       "0                 Never   167.0    62.0  Female   1965      1.67   49   \n",
       "1  Several times a week   168.0    70.0  Female   1973      1.68   41   \n",
       "2           Once a week   182.0    90.0    Male   1980      1.82   34   \n",
       "3           Once a week   188.0    85.0    Male   1946      1.88   68   \n",
       "4  Several times a week   156.0    60.0  Female   1969      1.56   45   \n",
       "\n",
       "  height_cat        smoker  ppltrst_num  happy_num  \n",
       "0     medium  not a smoker          4.0       10.0  \n",
       "1     medium  not a smoker         10.0        7.0  \n",
       "2     medium        smoker          5.0        8.0  \n",
       "3       tall  not a smoker          8.0        9.0  \n",
       "4      short  not a smoker          4.0        8.0  "
      ]
     },
     "execution_count": 103,
     "metadata": {},
     "output_type": "execute_result"
    }
   ],
   "source": [
    "ess2014.head()"
   ]
  },
  {
   "cell_type": "markdown",
   "metadata": {},
   "source": [
    "## Plotting a kategoriske variable\n",
    "\n",
    "Forskellige plots kan dannes pba. kategoriske. Få plots kan laves direkte på kategoriske, men skal i stedet laves på optællinger.\n",
    "\n",
    "`.value_counts()` tæller værdier op i en variabel:"
   ]
  },
  {
   "cell_type": "code",
   "execution_count": 132,
   "metadata": {},
   "outputs": [
    {
     "data": {
      "text/plain": [
       "Very good    298\n",
       "Good         266\n",
       "Fair         146\n",
       "Bad           29\n",
       "Very bad      11\n",
       "Name: health, dtype: int64"
      ]
     },
     "execution_count": 132,
     "metadata": {},
     "output_type": "execute_result"
    }
   ],
   "source": [
    "ess2014['health'].value_counts()"
   ]
  },
  {
   "cell_type": "markdown",
   "metadata": {},
   "source": [
    "`value_counts()` kan plottes direkte med fx `.plot.bar()`:"
   ]
  },
  {
   "cell_type": "code",
   "execution_count": 143,
   "metadata": {},
   "outputs": [
    {
     "data": {
      "text/plain": [
       "<AxesSubplot:>"
      ]
     },
     "execution_count": 143,
     "metadata": {},
     "output_type": "execute_result"
    },
    {
     "data": {
      "image/png": "[encoded data removed]",
      "text/plain": [
       "<Figure size 720x432 with 1 Axes>"
      ]
     },
     "metadata": {},
     "output_type": "display_data"
    }
   ],
   "source": [
    "ess2014['health'].value_counts().plot.bar()"
   ]
  },
  {
   "cell_type": "markdown",
   "metadata": {},
   "source": [
    "---\n",
    "\n",
    "## ØVELSE: Rekod kategorisk\n",
    "\n",
    "1. Dan en varibel, der består af variablen `health` rekodet til at indeholde kategorierne \"Good\", \"Fair\" og \"Bad\".\n",
    "    - \"Very good\" rekodes til \"Good\"\n",
    "    - \"Very bad\" rekodes til \"Bad\"\n",
    "\n",
    "2. (valgfri) Rekod variablen til at være ordinal\n",
    "\n",
    "3. Dan et cirkelplot af den rekodede variabel med `.plot.pie()` (husk at brug `value_counts()`)\n",
    "\n",
    "{{%expand \"Løsning\"%}}\n"
   ]
  },
  {
   "cell_type": "code",
   "execution_count": 155,
   "metadata": {},
   "outputs": [
    {
     "data": {
      "text/plain": [
       "<AxesSubplot:ylabel='health_3cats'>"
      ]
     },
     "execution_count": 155,
     "metadata": {},
     "output_type": "execute_result"
    },
    {
     "data": {
      "image/png": "[encoded data removed]",
      "text/plain": [
       "<Figure size 720x432 with 1 Axes>"
      ]
     },
     "metadata": {},
     "output_type": "display_data"
    }
   ],
   "source": [
    "health_recodedict = {'Very good': 'Good', 'Very bad': 'Bad'}\n",
    "\n",
    "health_cat3 = CategoricalDtype(categories = ['Bad', 'Fair', 'Good'], ordered = True)\n",
    "\n",
    "ess2014['health_3cats'] = ess2014['health'].replace(health_recodedict)\n",
    "ess2014['health_3cats'] = ess2014['health_3cats'].astype(health_cat3)\n",
    "\n",
    "ess2014['health_3cats'].value_counts().plot.pie()"
   ]
  },
  {
   "cell_type": "markdown",
   "metadata": {},
   "source": [
    "{{%/expand%}}\n",
    "\n",
    "---"
   ]
  },
  {
   "cell_type": "markdown",
   "metadata": {},
   "source": [
    "# {#Kapitel}Supplerende materiale"
   ]
  },
  {
   "cell_type": "markdown",
   "metadata": {},
   "source": [
    "# {#Afsnit}Litteratur\n",
    "\n",
    "- McKinney, W 2018: *Python for Data Analysis*, kapitel 5, side 125-167\n",
    "\n",
    "- McKinney, W 2018: *Python for Data Analysis*, kapitel 9, side 257-292\n",
    "\n",
    "- McKinney, W 2018: *Python for Data Analysis*, kapitel 12, side 369-378"
   ]
  },
  {
   "cell_type": "markdown",
   "metadata": {},
   "source": [
    "# {#Afsnit}Nyttige links\n",
    "\n",
    "**DataCamp: *Python for Data Science Cheat Sheet - Pandas Basics*** - https://datacamp-community-prod.s3.amazonaws.com/dbed353d-2757-4617-8206-8767ab379ab3\n",
    "\n",
    "**The Pandas Development Team: *10 Minutes to Pandas*** - https://pandas.pydata.org/docs/user_guide/10min.html#min\n",
    "\n",
    "**Waskom, Michael: *An introduction to seaborn*** - https://seaborn.pydata.org/introduction.html"
   ]
  },
  {
   "cell_type": "markdown",
   "metadata": {},
   "source": [
    "# {#END}"
   ]
  }
 ],
 "metadata": {
  "kernelspec": {
   "display_name": "Python 3",
   "language": "python",
   "name": "python3"
  },
  "language_info": {
   "codemirror_mode": {
    "name": "ipython",
    "version": 3
   },
   "file_extension": ".py",
   "mimetype": "text/x-python",
   "name": "python",
   "nbconvert_exporter": "python",
   "pygments_lexer": "ipython3",
   "version": "3.7.9"
  }
 },
 "nbformat": 4,
 "nbformat_minor": 4
}
