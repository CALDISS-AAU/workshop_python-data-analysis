{
 "cells": [
  {
   "cell_type": "markdown",
   "metadata": {},
   "source": [
    "- For at markere kapitel (intro tekst til kapitel): # {#Kapitel}\n",
    "\n",
    "- For at markere afsnit (under kapitel): # {#Afsnit}\n",
    "\n",
    "- Marker afslutning: # {#END}"
   ]
  },
  {
   "cell_type": "markdown",
   "metadata": {},
   "source": [
    "**Literature**\n",
    "\n"
   ]
  },
  {
   "cell_type": "markdown",
   "metadata": {},
   "source": [
    "**Learning objectives:**\n",
    "- Combining datasets: join, append\n",
    "- Replacing missing values\n",
    "- Using split-apply-combine\n",
    "- Manipulating strings\n",
    "- Using regular expression to find patterns in text\n",
    "- Using functions when manipulating variables\n",
    "- Easing recoding with for loops\n",
    "- Using conditionals in recoding\n",
    "- Being familiar with various recoding functions in pandas\n",
    "\n",
    "**Evidence/evaluation types:**\n",
    "- Able to combine datasets\n",
    "- Knowledge check: type of join is needed for a specific task?\n",
    "- Knowledge check: what are missing values?\n",
    "- Knowledge check: will a certain operation create missing values?\n",
    "- Able to replace missing with a certain value\n",
    "- Able to replace missing using a function\n",
    "- Knowledge check: when does it make sense to do split-apply-combine?\n",
    "- Able to calculate summary statistics on a group-basis\n",
    "- Knowledge check: what is a string?\n",
    "- Able to perform simple look-ups with regular expression\n",
    "- Able to define a function that can be used in recoding (using map)\n",
    "- Able to identify when a task can be automated using a for loop\n",
    "- Able to use the same function to recode several variables\n",
    "- Able to use pandas functions for recoding\n",
    "- Knowledge check: how a certain function for recoding works"
   ]
  },
  {
   "cell_type": "markdown",
   "metadata": {},
   "source": [
    "# {#Kapitel}Kombinering af datasæt i Python"
   ]
  },
  {
   "cell_type": "markdown",
   "metadata": {},
   "source": [
    "# {#Afsnit}Tilføj rækker (concatenate)\n",
    "\n",
    "- Øvelse: Tilføj rækker til datasæt"
   ]
  },
  {
   "cell_type": "markdown",
   "metadata": {},
   "source": [
    "# {#Afsnit}Joins\n",
    "\n",
    "- \"Teoretisk\": outer, inner, left, right\n",
    "- id'er/nøgler\n",
    "- Check: Hvad kan bruges som nøgle?\n",
    "- Check: Hvilken type join skal bruges for at gøre følgende: ..."
   ]
  },
  {
   "cell_type": "markdown",
   "metadata": {},
   "source": [
    "# {#Afsnit}Merge/Join med Pandas i Python\n",
    "\n",
    "- Øvelse: Join flere datasæt med join eller merge\n",
    "    - (Skal give missing i nogen kolonner - bruges i næste kapitel)"
   ]
  },
  {
   "cell_type": "markdown",
   "metadata": {},
   "source": [
    "# {#Kapitel}Håndtering af missing værdier"
   ]
  },
  {
   "cell_type": "markdown",
   "metadata": {},
   "source": [
    "# {#Afsnit}Hvad er missing værdier?\n",
    "\n",
    "- Hvad er årsager til missing?\n",
    "    - Både i dataindsamling (ikke svar)\n",
    "    - Og programmering (data af forskellig type - inkompatibel)\n",
    "    - Frasortering\n",
    "- Check: Inspicer data - hvor er der missing?\n",
    "- Check: Brug af join - giver det missing?\n",
    "- Check: Hvornår bruges missing?"
   ]
  },
  {
   "cell_type": "markdown",
   "metadata": {},
   "source": [
    "# {#Afsnit}Fra missing til værdi\n",
    "\n",
    "- Erstat missing med fillna\n",
    "- Brug funktioner og mapping\n",
    "- Øvelse: Erstat missing med bestemt værdi\n",
    "- Øvelse: Brug funktion til at erstatte flere værdier (mapping)"
   ]
  },
  {
   "cell_type": "markdown",
   "metadata": {},
   "source": [
    "# {#Afsnit}Fra værdi til missing\n",
    "\n",
    "- Hvornår giver det mening at have missing\n",
    "- Øvelse: Erstat enkelte værdier med missing.\n",
    "- Øvelse: Erstat værdier med missing baseret på funktion."
   ]
  },
  {
   "cell_type": "markdown",
   "metadata": {},
   "source": [
    "# {#Kapitel}Håndtering af tekst værdier (strings)"
   ]
  },
  {
   "cell_type": "markdown",
   "metadata": {},
   "source": [
    "# {#Afsnit}Hvad er string-værdier?\n",
    "\n",
    "- String værdier i lister o.l.\n",
    "- String værdier i pandas\n",
    "- Obs: String, kategorisk, objekt\n",
    "- Check: Er X en string?\n",
    "- f-strings, paste, format"
   ]
  },
  {
   "cell_type": "markdown",
   "metadata": {},
   "source": [
    "# {#Afsnit}Regular Expression: Find mønstre i tekst\n",
    "\n",
    "- Hvad er regex?\n",
    "- Hvad kan vi bruge det til?\n",
    "- Øvelse: Rekodning med regex\n",
    "- Check: Tolk en regex streng - hvilke tekststykker matcher det?"
   ]
  },
  {
   "cell_type": "markdown",
   "metadata": {},
   "source": [
    "# {#Kapitel}Avancerede rekodningsteknikker"
   ]
  },
  {
   "cell_type": "markdown",
   "metadata": {},
   "source": [
    "# {#Afsnit}Mapping og for-loops\n",
    "\n",
    "- Check: Hvornår giver det mening at bruge mapping/for-loops?"
   ]
  },
  {
   "cell_type": "markdown",
   "metadata": {},
   "source": [
    "# {#Afsnit}Brug af funktioner i rekodning\n",
    "\n",
    "- Øvelse: Skriv funktion til at bruge i rekodning af flere variable med mapping"
   ]
  },
  {
   "cell_type": "markdown",
   "metadata": {},
   "source": [
    "# {#Afsnit}Rekodningsfunktioner i pandas\n",
    "\n",
    "- Øvelse: Brug cut eller lignende"
   ]
  },
  {
   "cell_type": "markdown",
   "metadata": {},
   "source": [
    "# {#Kapitel}Split-apply-combine"
   ]
  },
  {
   "cell_type": "markdown",
   "metadata": {},
   "source": [
    "# {#Afsnit}Brug af split-apply til at opsummere data\n",
    "\n",
    "- Øvelse: summary statistics med split-apply"
   ]
  },
  {
   "cell_type": "markdown",
   "metadata": {},
   "source": [
    "# {#Afsnit}Brug af split-apply i rekodning\n",
    "\n",
    "- øvelse: rekod med plit-apply"
   ]
  },
  {
   "cell_type": "markdown",
   "metadata": {},
   "source": [
    "# {#Kapitel}Supplerende materiale"
   ]
  },
  {
   "cell_type": "markdown",
   "metadata": {},
   "source": [
    "# {#Afsnit}Litteratur\n",
    "\n",
    "- Python for Data Analysis, kap 7\n",
    "- Python for Data Analysis, kap 8\n",
    "- Python for Data Analysis, kap 10"
   ]
  },
  {
   "cell_type": "markdown",
   "metadata": {},
   "source": [
    "# {END}"
   ]
  }
 ],
 "metadata": {
  "kernelspec": {
   "display_name": "Python 3",
   "language": "python",
   "name": "python3"
  },
  "language_info": {
   "codemirror_mode": {
    "name": "ipython",
    "version": 3
   },
   "file_extension": ".py",
   "mimetype": "text/x-python",
   "name": "python",
   "nbconvert_exporter": "python",
   "pygments_lexer": "ipython3",
   "version": "3.7.3"
  }
 },
 "nbformat": 4,
 "nbformat_minor": 2
}
