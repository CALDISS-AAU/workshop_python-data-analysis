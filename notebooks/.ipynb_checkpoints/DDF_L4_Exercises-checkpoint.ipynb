{
 "cells": [
  {
   "cell_type": "markdown",
   "metadata": {
    "slideshow": {
     "slide_type": "slide"
    }
   },
   "source": [
    "# ØVELSE: Hvordan fordeler glæde sig på tværs af køn?"
   ]
  },
  {
   "cell_type": "markdown",
   "metadata": {
    "slideshow": {
     "slide_type": "-"
    }
   },
   "source": [
    "I skal i denne øvelse få et overblik over, hvordan fordelingen i glæde (variablen `happy`) er forskellige på tværs af køn.\n",
    "\n",
    "1. Grupper data efter `gndr` med `.groupby()`\n",
    "2. Brug `value_counts()` til at optælle fordelingen i variablen `happy`.\n",
    "3. Brug `unstack()` og `plot.bar()` til at visualisere fordelingen.\n",
    "\n",
    "***BONUS ØVELSE***\n",
    "Kategorierne i `happy` står i forkert rækkefølge. Løs dette ved at rekode værdierne sådan, at værdierne står i rækkefølge."
   ]
  },
  {
   "cell_type": "code",
   "execution_count": null,
   "metadata": {
    "slideshow": {
     "slide_type": "skip"
    }
   },
   "outputs": [],
   "source": []
  },
  {
   "cell_type": "markdown",
   "metadata": {
    "slideshow": {
     "slide_type": "slide"
    }
   },
   "source": [
    "# ØVELSE: Flere grupperinger\n",
    "\n",
    "1. Dan en kategorisk variabel, der inddeler respondeter i 3 lige store grupper efter vægt (brug `pd.cut()`)\n",
    "\n",
    "2. Dan en visualisering, der viser fordeling af svar i `alcfreq` splittet ud på køn og vægtkategori (brug enten seaborn eller `.plot` på grupperet data (`.groupby()`)"
   ]
  },
  {
   "cell_type": "code",
   "execution_count": null,
   "metadata": {
    "slideshow": {
     "slide_type": "skip"
    }
   },
   "outputs": [],
   "source": []
  },
  {
   "cell_type": "markdown",
   "metadata": {
    "slideshow": {
     "slide_type": "slide"
    }
   },
   "source": [
    "# ØVELSE: Håndtering af missing\n",
    "\n",
    "I skal lave jeres visualisering fra sidste øvelse igen (en visualisering, der viser fordeling af svar i `alcfreq` inden for hver gruppering af køn og vægtkategori), men denne gang vil vi gerne have nogen af missingværdierne i `weight` med.\n",
    "\n",
    "1. Dan en `weight_imputed` variabel, hvori missingværdier for `weight` erstattes med middelvægten.\n",
    "2. Dan vægtkategorien igen med `weight_imputed` variablen\n",
    "3. Dan visualiseringen igen\n",
    "\n",
    "***BONUSØVELSE***\n",
    "\n",
    "Sammenlign fordelingerne i `alcfreq` indenfor hver køn og vægtkateogi før og efter imputering/erstatning af missingværdi - Er der forskel?"
   ]
  },
  {
   "cell_type": "code",
   "execution_count": null,
   "metadata": {
    "slideshow": {
     "slide_type": "skip"
    }
   },
   "outputs": [],
   "source": []
  },
  {
   "cell_type": "markdown",
   "metadata": {
    "slideshow": {
     "slide_type": "slide"
    }
   },
   "source": [
    "# ØVELSE: Krydstabel\n",
    "\n",
    "Dan en krydstabel mellem `alcfreq` og vægtkategori-variablen fra sidste øvelse.\n",
    "\n",
    "Kombiner evt. med seaborns heatmap-funktion."
   ]
  },
  {
   "cell_type": "code",
   "execution_count": null,
   "metadata": {
    "slideshow": {
     "slide_type": "skip"
    }
   },
   "outputs": [],
   "source": []
  },
  {
   "cell_type": "markdown",
   "metadata": {
    "slideshow": {
     "slide_type": "slide"
    }
   },
   "source": [
    "# ØVELSE: Merge/Join med Pandas i Python\n",
    "\n",
    "Denne øvelse samler op på det meste, som er blevet gennemgået i dag. Vi vil gerne undersøge fordelingen i tillid til politiet (`trstplc`) på tværs af partitilhør.\n",
    "\n",
    "1. Vores data indeholder endnu ikke partitilhør, men det kan vi måske gøre noget ved...\n",
    "    - Indlæs datasættet `ESS2014DK_polpartsub.csv` fra 'https://github.com/CALDISS-AAU/workshop_python-data-analysis/raw/master/datasets/ESS2014DK_polpartsub.csv'\n",
    "    - Undersøg datasættet: Er der en nøgle? Brug `pd.merge()` til at tilføje `ESS2014DK_polpartsub` til det datasæt, I allerede har.\n",
    "2. Dan en krydstabel med `pd.crosstab()` over partitilhør (`polpartvt`) og tillid til politiet (`trstplc`)\n",
    "3. Der er værdier i partitilhør-variablen og variablen for tillid til politiet, som ikke kan bruges til noget. Konverter disse til missing med `replace()` (husk at `np.nan` værdien bruges til at ændre til missing).\n",
    "4. Dan krydstabellen igen\n",
    "\n",
    "***BONUSØVELSE***\n",
    "1. Undersøg, om fordelingen er forskellig på tværs af køn med groupby\n",
    "2. Find en passende måde at vise forskellen; enten ved brug af grafer eller ved at udregne middelværdi for tillid til politiet (dette kræver, at variablen konverteres til numerisk)\n",
    "    "
   ]
  },
  {
   "cell_type": "code",
   "execution_count": null,
   "metadata": {
    "slideshow": {
     "slide_type": "skip"
    }
   },
   "outputs": [],
   "source": []
  }
 ],
 "metadata": {
  "celltoolbar": "Slideshow",
  "kernelspec": {
   "display_name": "Python 3",
   "language": "python",
   "name": "python3"
  },
  "language_info": {
   "codemirror_mode": {
    "name": "ipython",
    "version": 3
   },
   "file_extension": ".py",
   "mimetype": "text/x-python",
   "name": "python",
   "nbconvert_exporter": "python",
   "pygments_lexer": "ipython3",
   "version": "3.6.10"
  }
 },
 "nbformat": 4,
 "nbformat_minor": 4
}
