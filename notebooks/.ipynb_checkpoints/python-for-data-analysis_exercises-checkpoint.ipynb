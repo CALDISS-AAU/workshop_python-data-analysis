{
 "cells": [
  {
   "cell_type": "code",
   "execution_count": 5,
   "metadata": {
    "slideshow": {
     "slide_type": "skip"
    }
   },
   "outputs": [],
   "source": [
    "import pandas as pd\n",
    "import numpy as np\n",
    "import seaborn as sns\n",
    "import matplotlib.pyplot as plt\n",
    "\n",
    "%matplotlib inline\n",
    "sns.set(rc={'figure.figsize':(10,6)}) \n",
    "\n",
    "ess2014 = pd.read_csv('https://github.com/CALDISS-AAU/workshop_python-data-analysis/raw/master/datasets/ESS2014DK_sub1.csv')"
   ]
  },
  {
   "cell_type": "markdown",
   "metadata": {
    "slideshow": {
     "slide_type": "slide"
    }
   },
   "source": [
    "## ØVELSE 1: Indlæs datasæt\n",
    "\n",
    "1. Indlæs datasættet ESS2014DK_sub1 med `pd.read_csv()`. Funktionen kan indlæse data direkte fra et link (husk at importere pandas biblioteket).\n",
    "\n",
    "    - Link til data: https://github.com/CALDISS-AAU/workshop_python-data-analysis/raw/master/datasets/ESS2014DK_sub1.csv\n",
    "    \n",
    "2. Brug `np.mean()` (`numpy.mean()`) til at udregne middelværdien af `height` variablen i datasættet. Hvad er middelværdien?\n"
   ]
  },
  {
   "cell_type": "code",
   "execution_count": 6,
   "metadata": {
    "slideshow": {
     "slide_type": "slide"
    }
   },
   "outputs": [
    {
     "name": "stdout",
     "output_type": "stream",
     "text": [
      "174.15887850467288\n"
     ]
    }
   ],
   "source": [
    "import pandas as pd\n",
    "import numpy as np\n",
    "\n",
    "ess2014 = pd.read_csv('https://github.com/CALDISS-AAU/workshop_python-data-analysis/raw/master/datasets/ESS2014DK_sub1.csv')\n",
    "\n",
    "print(np.mean(ess2014['height']))"
   ]
  },
  {
   "cell_type": "markdown",
   "metadata": {
    "slideshow": {
     "slide_type": "slide"
    }
   },
   "source": [
    "## ØVELSE 2: Deskriptive mål\n",
    "\n",
    "Brug `.describe()` eller passende numpy kommandoer til at finde ud af følgende:\n",
    "\n",
    "- Hvor gammel er den yngste person i datasættet?\n",
    "- Hvor gammel er den ældste person i datasættet?\n",
    "- Hvad er gennemsnitsalderen i datasættet?\n",
    "\n",
    "Husk at datasættet er fra 2014."
   ]
  },
  {
   "cell_type": "code",
   "execution_count": 7,
   "metadata": {
    "slideshow": {
     "slide_type": "subslide"
    }
   },
   "outputs": [
    {
     "name": "stdout",
     "output_type": "stream",
     "text": [
      "15 100 47.67509986684422\n"
     ]
    }
   ],
   "source": [
    "min_age = 2014 - ess2014['yrbrn'].max()\n",
    "max_age = 2014 - ess2014['yrbrn'].min()\n",
    "mean_age = 2014 - ess2014['yrbrn'].mean()\n",
    "\n",
    "print(min_age, max_age, mean_age)"
   ]
  },
  {
   "cell_type": "markdown",
   "metadata": {
    "slideshow": {
     "slide_type": "subslide"
    }
   },
   "source": [
    "*TIP*: Brug \"f-strings\" til at indsætte python-objekter direkte i et stykke tekst:"
   ]
  },
  {
   "cell_type": "code",
   "execution_count": 8,
   "metadata": {
    "slideshow": {
     "slide_type": "-"
    }
   },
   "outputs": [
    {
     "name": "stdout",
     "output_type": "stream",
     "text": [
      "Den yngste person i datasættet er 15 år gammel, den ældste person i datasættet er 100 år gammel og gennemsnitsalderen er 47.67509986684422 år.\n"
     ]
    }
   ],
   "source": [
    "print(f\"Den yngste person i datasættet er {min_age} år gammel, den ældste person i datasættet er {max_age} år gammel og gennemsnitsalderen er {mean_age} år.\")"
   ]
  },
  {
   "cell_type": "markdown",
   "metadata": {
    "slideshow": {
     "slide_type": "subslide"
    }
   },
   "source": [
    "*TIP*: Brug `np.round()` (fra `numpy`) til at afrunde værdier:"
   ]
  },
  {
   "cell_type": "code",
   "execution_count": 9,
   "metadata": {
    "slideshow": {
     "slide_type": "-"
    }
   },
   "outputs": [
    {
     "name": "stdout",
     "output_type": "stream",
     "text": [
      "Gennemsnitsalderen i datasættet er 48.0 år.\n"
     ]
    }
   ],
   "source": [
    "mean_age_rounded = np.round(mean_age, decimals = 0)\n",
    "\n",
    "print(f\"Gennemsnitsalderen i datasættet er {mean_age_rounded} år.\")"
   ]
  },
  {
   "cell_type": "markdown",
   "metadata": {
    "slideshow": {
     "slide_type": "slide"
    }
   },
   "source": [
    "## ØVELSE 3: Plotting\n",
    "\n",
    "Dan et histogram over varialben `yrbrn` i ESS2014DK datasættet."
   ]
  },
  {
   "cell_type": "code",
   "execution_count": 10,
   "metadata": {
    "slideshow": {
     "slide_type": "subslide"
    }
   },
   "outputs": [
    {
     "data": {
      "text/plain": [
       "<AxesSubplot:>"
      ]
     },
     "execution_count": 10,
     "metadata": {},
     "output_type": "execute_result"
    },
    {
     "data": {
      "image/png": "[encoded data removed]",
      "text/plain": [
       "<Figure size 720x432 with 1 Axes>"
      ]
     },
     "metadata": {},
     "output_type": "display_data"
    }
   ],
   "source": [
    "ess2014['yrbrn'].hist(bins = 30)"
   ]
  },
  {
   "cell_type": "markdown",
   "metadata": {
    "slideshow": {
     "slide_type": "slide"
    }
   },
   "source": [
    "## ØVELSE 4: Selekter observationer\n",
    "\n",
    "*Dan et subet bestående af mænd født efter 1980.*"
   ]
  },
  {
   "cell_type": "code",
   "execution_count": 11,
   "metadata": {
    "slideshow": {
     "slide_type": "subslide"
    }
   },
   "outputs": [
    {
     "data": {
      "text/html": [
       "<div>\n",
       "<style scoped>\n",
       "    .dataframe tbody tr th:only-of-type {\n",
       "        vertical-align: middle;\n",
       "    }\n",
       "\n",
       "    .dataframe tbody tr th {\n",
       "        vertical-align: top;\n",
       "    }\n",
       "\n",
       "    .dataframe thead th {\n",
       "        text-align: right;\n",
       "    }\n",
       "</style>\n",
       "<table border=\"1\" class=\"dataframe\">\n",
       "  <thead>\n",
       "    <tr style=\"text-align: right;\">\n",
       "      <th></th>\n",
       "      <th>idno</th>\n",
       "      <th>ppltrst</th>\n",
       "      <th>happy</th>\n",
       "      <th>health</th>\n",
       "      <th>cgtsday</th>\n",
       "      <th>alcfreq</th>\n",
       "      <th>height</th>\n",
       "      <th>weight</th>\n",
       "      <th>gndr</th>\n",
       "      <th>yrbrn</th>\n",
       "    </tr>\n",
       "  </thead>\n",
       "  <tbody>\n",
       "    <tr>\n",
       "      <th>10</th>\n",
       "      <td>943317</td>\n",
       "      <td>9</td>\n",
       "      <td>9</td>\n",
       "      <td>Very good</td>\n",
       "      <td>NaN</td>\n",
       "      <td>Once a month</td>\n",
       "      <td>178.0</td>\n",
       "      <td>72.0</td>\n",
       "      <td>Male</td>\n",
       "      <td>1989</td>\n",
       "    </tr>\n",
       "    <tr>\n",
       "      <th>33</th>\n",
       "      <td>923426</td>\n",
       "      <td>8</td>\n",
       "      <td>8</td>\n",
       "      <td>Good</td>\n",
       "      <td>20.0</td>\n",
       "      <td>Once a week</td>\n",
       "      <td>184.0</td>\n",
       "      <td>84.0</td>\n",
       "      <td>Male</td>\n",
       "      <td>1991</td>\n",
       "    </tr>\n",
       "    <tr>\n",
       "      <th>35</th>\n",
       "      <td>931443</td>\n",
       "      <td>5</td>\n",
       "      <td>Extremely happy</td>\n",
       "      <td>Good</td>\n",
       "      <td>NaN</td>\n",
       "      <td>Several times a week</td>\n",
       "      <td>185.0</td>\n",
       "      <td>66.0</td>\n",
       "      <td>Male</td>\n",
       "      <td>1990</td>\n",
       "    </tr>\n",
       "    <tr>\n",
       "      <th>36</th>\n",
       "      <td>935934</td>\n",
       "      <td>7</td>\n",
       "      <td>5</td>\n",
       "      <td>Fair</td>\n",
       "      <td>2.0</td>\n",
       "      <td>Several times a week</td>\n",
       "      <td>188.0</td>\n",
       "      <td>74.0</td>\n",
       "      <td>Male</td>\n",
       "      <td>1994</td>\n",
       "    </tr>\n",
       "    <tr>\n",
       "      <th>43</th>\n",
       "      <td>935251</td>\n",
       "      <td>6</td>\n",
       "      <td>7</td>\n",
       "      <td>Good</td>\n",
       "      <td>NaN</td>\n",
       "      <td>Once a week</td>\n",
       "      <td>190.0</td>\n",
       "      <td>93.0</td>\n",
       "      <td>Male</td>\n",
       "      <td>1991</td>\n",
       "    </tr>\n",
       "  </tbody>\n",
       "</table>\n",
       "</div>"
      ],
      "text/plain": [
       "      idno ppltrst            happy     health  cgtsday               alcfreq  \\\n",
       "10  943317       9                9  Very good      NaN          Once a month   \n",
       "33  923426       8                8       Good     20.0           Once a week   \n",
       "35  931443       5  Extremely happy       Good      NaN  Several times a week   \n",
       "36  935934       7                5       Fair      2.0  Several times a week   \n",
       "43  935251       6                7       Good      NaN           Once a week   \n",
       "\n",
       "    height  weight  gndr  yrbrn  \n",
       "10   178.0    72.0  Male   1989  \n",
       "33   184.0    84.0  Male   1991  \n",
       "35   185.0    66.0  Male   1990  \n",
       "36   188.0    74.0  Male   1994  \n",
       "43   190.0    93.0  Male   1991  "
      ]
     },
     "execution_count": 11,
     "metadata": {},
     "output_type": "execute_result"
    }
   ],
   "source": [
    "ess2014_subset = ess2014.loc[(ess2014['gndr'] == 'Male') & (ess2014['yrbrn'] > 1980), :]\n",
    "\n",
    "ess2014_subset.head()"
   ]
  },
  {
   "cell_type": "markdown",
   "metadata": {
    "slideshow": {
     "slide_type": "slide"
    }
   },
   "source": [
    "\n",
    "## ØVELSE 5: Dan en aldersvariabel\n",
    "\n",
    "*Tilføj en aldersvariabel til ESS2014DK datasættet (husk at data er fra 2014)*\n"
   ]
  },
  {
   "cell_type": "code",
   "execution_count": 49,
   "metadata": {
    "slideshow": {
     "slide_type": "subslide"
    }
   },
   "outputs": [
    {
     "data": {
      "text/html": [
       "<div>\n",
       "<style scoped>\n",
       "    .dataframe tbody tr th:only-of-type {\n",
       "        vertical-align: middle;\n",
       "    }\n",
       "\n",
       "    .dataframe tbody tr th {\n",
       "        vertical-align: top;\n",
       "    }\n",
       "\n",
       "    .dataframe thead th {\n",
       "        text-align: right;\n",
       "    }\n",
       "</style>\n",
       "<table border=\"1\" class=\"dataframe\">\n",
       "  <thead>\n",
       "    <tr style=\"text-align: right;\">\n",
       "      <th></th>\n",
       "      <th>idno</th>\n",
       "      <th>ppltrst</th>\n",
       "      <th>happy</th>\n",
       "      <th>health</th>\n",
       "      <th>cgtsday</th>\n",
       "      <th>alcfreq</th>\n",
       "      <th>height</th>\n",
       "      <th>weight</th>\n",
       "      <th>gndr</th>\n",
       "      <th>yrbrn</th>\n",
       "      <th>height_m</th>\n",
       "      <th>age</th>\n",
       "    </tr>\n",
       "  </thead>\n",
       "  <tbody>\n",
       "    <tr>\n",
       "      <th>0</th>\n",
       "      <td>921490</td>\n",
       "      <td>4</td>\n",
       "      <td>Extremely happy</td>\n",
       "      <td>Very good</td>\n",
       "      <td>NaN</td>\n",
       "      <td>Never</td>\n",
       "      <td>167.0</td>\n",
       "      <td>62.0</td>\n",
       "      <td>Female</td>\n",
       "      <td>1965</td>\n",
       "      <td>1.67</td>\n",
       "      <td>49</td>\n",
       "    </tr>\n",
       "    <tr>\n",
       "      <th>1</th>\n",
       "      <td>938348</td>\n",
       "      <td>Most people can be trusted</td>\n",
       "      <td>7</td>\n",
       "      <td>Good</td>\n",
       "      <td>NaN</td>\n",
       "      <td>Several times a week</td>\n",
       "      <td>168.0</td>\n",
       "      <td>70.0</td>\n",
       "      <td>Female</td>\n",
       "      <td>1973</td>\n",
       "      <td>1.68</td>\n",
       "      <td>41</td>\n",
       "    </tr>\n",
       "    <tr>\n",
       "      <th>2</th>\n",
       "      <td>939019</td>\n",
       "      <td>5</td>\n",
       "      <td>8</td>\n",
       "      <td>Good</td>\n",
       "      <td>3.0</td>\n",
       "      <td>Once a week</td>\n",
       "      <td>182.0</td>\n",
       "      <td>90.0</td>\n",
       "      <td>Male</td>\n",
       "      <td>1980</td>\n",
       "      <td>1.82</td>\n",
       "      <td>34</td>\n",
       "    </tr>\n",
       "    <tr>\n",
       "      <th>3</th>\n",
       "      <td>924985</td>\n",
       "      <td>8</td>\n",
       "      <td>9</td>\n",
       "      <td>Very good</td>\n",
       "      <td>NaN</td>\n",
       "      <td>Once a week</td>\n",
       "      <td>188.0</td>\n",
       "      <td>85.0</td>\n",
       "      <td>Male</td>\n",
       "      <td>1946</td>\n",
       "      <td>1.88</td>\n",
       "      <td>68</td>\n",
       "    </tr>\n",
       "    <tr>\n",
       "      <th>4</th>\n",
       "      <td>925410</td>\n",
       "      <td>4</td>\n",
       "      <td>8</td>\n",
       "      <td>Bad</td>\n",
       "      <td>NaN</td>\n",
       "      <td>Several times a week</td>\n",
       "      <td>156.0</td>\n",
       "      <td>60.0</td>\n",
       "      <td>Female</td>\n",
       "      <td>1969</td>\n",
       "      <td>1.56</td>\n",
       "      <td>45</td>\n",
       "    </tr>\n",
       "  </tbody>\n",
       "</table>\n",
       "</div>"
      ],
      "text/plain": [
       "     idno                     ppltrst            happy     health  cgtsday  \\\n",
       "0  921490                           4  Extremely happy  Very good      NaN   \n",
       "1  938348  Most people can be trusted                7       Good      NaN   \n",
       "2  939019                           5                8       Good      3.0   \n",
       "3  924985                           8                9  Very good      NaN   \n",
       "4  925410                           4                8        Bad      NaN   \n",
       "\n",
       "                alcfreq  height  weight    gndr  yrbrn  height_m  age  \n",
       "0                 Never   167.0    62.0  Female   1965      1.67   49  \n",
       "1  Several times a week   168.0    70.0  Female   1973      1.68   41  \n",
       "2           Once a week   182.0    90.0    Male   1980      1.82   34  \n",
       "3           Once a week   188.0    85.0    Male   1946      1.88   68  \n",
       "4  Several times a week   156.0    60.0  Female   1969      1.56   45  "
      ]
     },
     "execution_count": 49,
     "metadata": {},
     "output_type": "execute_result"
    }
   ],
   "source": [
    "ess2014['age'] = 2014 - ess2014['yrbrn']\n",
    "\n",
    "ess2014.head()"
   ]
  },
  {
   "cell_type": "markdown",
   "metadata": {
    "slideshow": {
     "slide_type": "slide"
    }
   },
   "source": [
    "## ØVELSE 6: Rekodning\n",
    "\n",
    "`cgtsday` angiver, hvor mange cigaretter om dagen personen ryger. Ud fra denne kan dannes en \"ryger\"-variabel.\n",
    "\n",
    "*Dan en variabel, der angiver, hvorvidt personen ryger eller ej*\n",
    "\n",
    "TIP: Brug `isnull()` og `notnull()` til at selektere missingværdier eller ikke-missingværdier"
   ]
  },
  {
   "cell_type": "code",
   "execution_count": 12,
   "metadata": {
    "slideshow": {
     "slide_type": "subslide"
    }
   },
   "outputs": [
    {
     "data": {
      "text/html": [
       "<div>\n",
       "<style scoped>\n",
       "    .dataframe tbody tr th:only-of-type {\n",
       "        vertical-align: middle;\n",
       "    }\n",
       "\n",
       "    .dataframe tbody tr th {\n",
       "        vertical-align: top;\n",
       "    }\n",
       "\n",
       "    .dataframe thead th {\n",
       "        text-align: right;\n",
       "    }\n",
       "</style>\n",
       "<table border=\"1\" class=\"dataframe\">\n",
       "  <thead>\n",
       "    <tr style=\"text-align: right;\">\n",
       "      <th></th>\n",
       "      <th>idno</th>\n",
       "      <th>ppltrst</th>\n",
       "      <th>happy</th>\n",
       "      <th>health</th>\n",
       "      <th>cgtsday</th>\n",
       "      <th>alcfreq</th>\n",
       "      <th>height</th>\n",
       "      <th>weight</th>\n",
       "      <th>gndr</th>\n",
       "      <th>yrbrn</th>\n",
       "      <th>smoker</th>\n",
       "    </tr>\n",
       "  </thead>\n",
       "  <tbody>\n",
       "    <tr>\n",
       "      <th>0</th>\n",
       "      <td>921490</td>\n",
       "      <td>4</td>\n",
       "      <td>Extremely happy</td>\n",
       "      <td>Very good</td>\n",
       "      <td>NaN</td>\n",
       "      <td>Never</td>\n",
       "      <td>167.0</td>\n",
       "      <td>62.0</td>\n",
       "      <td>Female</td>\n",
       "      <td>1965</td>\n",
       "      <td>not a smoker</td>\n",
       "    </tr>\n",
       "    <tr>\n",
       "      <th>1</th>\n",
       "      <td>938348</td>\n",
       "      <td>Most people can be trusted</td>\n",
       "      <td>7</td>\n",
       "      <td>Good</td>\n",
       "      <td>NaN</td>\n",
       "      <td>Several times a week</td>\n",
       "      <td>168.0</td>\n",
       "      <td>70.0</td>\n",
       "      <td>Female</td>\n",
       "      <td>1973</td>\n",
       "      <td>not a smoker</td>\n",
       "    </tr>\n",
       "    <tr>\n",
       "      <th>2</th>\n",
       "      <td>939019</td>\n",
       "      <td>5</td>\n",
       "      <td>8</td>\n",
       "      <td>Good</td>\n",
       "      <td>3.0</td>\n",
       "      <td>Once a week</td>\n",
       "      <td>182.0</td>\n",
       "      <td>90.0</td>\n",
       "      <td>Male</td>\n",
       "      <td>1980</td>\n",
       "      <td>smoker</td>\n",
       "    </tr>\n",
       "    <tr>\n",
       "      <th>3</th>\n",
       "      <td>924985</td>\n",
       "      <td>8</td>\n",
       "      <td>9</td>\n",
       "      <td>Very good</td>\n",
       "      <td>NaN</td>\n",
       "      <td>Once a week</td>\n",
       "      <td>188.0</td>\n",
       "      <td>85.0</td>\n",
       "      <td>Male</td>\n",
       "      <td>1946</td>\n",
       "      <td>not a smoker</td>\n",
       "    </tr>\n",
       "    <tr>\n",
       "      <th>4</th>\n",
       "      <td>925410</td>\n",
       "      <td>4</td>\n",
       "      <td>8</td>\n",
       "      <td>Bad</td>\n",
       "      <td>NaN</td>\n",
       "      <td>Several times a week</td>\n",
       "      <td>156.0</td>\n",
       "      <td>60.0</td>\n",
       "      <td>Female</td>\n",
       "      <td>1969</td>\n",
       "      <td>not a smoker</td>\n",
       "    </tr>\n",
       "    <tr>\n",
       "      <th>5</th>\n",
       "      <td>928947</td>\n",
       "      <td>5</td>\n",
       "      <td>Extremely happy</td>\n",
       "      <td>Good</td>\n",
       "      <td>20.0</td>\n",
       "      <td>Every day</td>\n",
       "      <td>167.0</td>\n",
       "      <td>75.0</td>\n",
       "      <td>Male</td>\n",
       "      <td>1950</td>\n",
       "      <td>smoker</td>\n",
       "    </tr>\n",
       "    <tr>\n",
       "      <th>6</th>\n",
       "      <td>947921</td>\n",
       "      <td>7</td>\n",
       "      <td>8</td>\n",
       "      <td>Good</td>\n",
       "      <td>NaN</td>\n",
       "      <td>Less than once a month</td>\n",
       "      <td>169.0</td>\n",
       "      <td>63.0</td>\n",
       "      <td>Female</td>\n",
       "      <td>1980</td>\n",
       "      <td>not a smoker</td>\n",
       "    </tr>\n",
       "    <tr>\n",
       "      <th>7</th>\n",
       "      <td>926953</td>\n",
       "      <td>Most people can be trusted</td>\n",
       "      <td>8</td>\n",
       "      <td>Good</td>\n",
       "      <td>NaN</td>\n",
       "      <td>Once a month</td>\n",
       "      <td>184.0</td>\n",
       "      <td>73.0</td>\n",
       "      <td>Male</td>\n",
       "      <td>1940</td>\n",
       "      <td>not a smoker</td>\n",
       "    </tr>\n",
       "    <tr>\n",
       "      <th>8</th>\n",
       "      <td>943553</td>\n",
       "      <td>8</td>\n",
       "      <td>8</td>\n",
       "      <td>Good</td>\n",
       "      <td>NaN</td>\n",
       "      <td>Once a week</td>\n",
       "      <td>182.0</td>\n",
       "      <td>86.0</td>\n",
       "      <td>Male</td>\n",
       "      <td>1971</td>\n",
       "      <td>not a smoker</td>\n",
       "    </tr>\n",
       "    <tr>\n",
       "      <th>9</th>\n",
       "      <td>936299</td>\n",
       "      <td>8</td>\n",
       "      <td>9</td>\n",
       "      <td>Very good</td>\n",
       "      <td>8.0</td>\n",
       "      <td>Several times a week</td>\n",
       "      <td>172.0</td>\n",
       "      <td>73.0</td>\n",
       "      <td>Female</td>\n",
       "      <td>1965</td>\n",
       "      <td>smoker</td>\n",
       "    </tr>\n",
       "  </tbody>\n",
       "</table>\n",
       "</div>"
      ],
      "text/plain": [
       "     idno                     ppltrst            happy     health  cgtsday  \\\n",
       "0  921490                           4  Extremely happy  Very good      NaN   \n",
       "1  938348  Most people can be trusted                7       Good      NaN   \n",
       "2  939019                           5                8       Good      3.0   \n",
       "3  924985                           8                9  Very good      NaN   \n",
       "4  925410                           4                8        Bad      NaN   \n",
       "5  928947                           5  Extremely happy       Good     20.0   \n",
       "6  947921                           7                8       Good      NaN   \n",
       "7  926953  Most people can be trusted                8       Good      NaN   \n",
       "8  943553                           8                8       Good      NaN   \n",
       "9  936299                           8                9  Very good      8.0   \n",
       "\n",
       "                  alcfreq  height  weight    gndr  yrbrn        smoker  \n",
       "0                   Never   167.0    62.0  Female   1965  not a smoker  \n",
       "1    Several times a week   168.0    70.0  Female   1973  not a smoker  \n",
       "2             Once a week   182.0    90.0    Male   1980        smoker  \n",
       "3             Once a week   188.0    85.0    Male   1946  not a smoker  \n",
       "4    Several times a week   156.0    60.0  Female   1969  not a smoker  \n",
       "5               Every day   167.0    75.0    Male   1950        smoker  \n",
       "6  Less than once a month   169.0    63.0  Female   1980  not a smoker  \n",
       "7            Once a month   184.0    73.0    Male   1940  not a smoker  \n",
       "8             Once a week   182.0    86.0    Male   1971  not a smoker  \n",
       "9    Several times a week   172.0    73.0  Female   1965        smoker  "
      ]
     },
     "execution_count": 12,
     "metadata": {},
     "output_type": "execute_result"
    }
   ],
   "source": [
    "ess2014['smoker'] = np.nan\n",
    "\n",
    "ess2014.loc[(ess2014['cgtsday'].isnull()) | (ess2014['cgtsday'] == 0), 'smoker'] = 'not a smoker'\n",
    "ess2014.loc[ess2014['cgtsday'].notnull() | (ess2014['cgtsday'] > 0), 'smoker'] = 'smoker'\n",
    "\n",
    "ess2014.head(10)"
   ]
  },
  {
   "cell_type": "markdown",
   "metadata": {
    "slideshow": {
     "slide_type": "slide"
    }
   },
   "source": [
    "## ØVELSE 7: Ændr variabeltypen\n",
    "\n",
    "1. Check hvilken type variabel `happy` er med `.dtypes`.\n",
    "\n",
    "2. Variablen kan laves til numerisk. Lav en kopi af variablen (evt. kald den `happy_num`).\n",
    "\n",
    "3. Rekod tekstværdierne til tal med `.replace()` - Husk at rekodninger skal specificeres som en dictionary ( `{\"gammel værdi\": \"ny værdi\", \"gammel værdi\": \"ny værdi\"}` ).\n",
    "    - \"Extremely happy\" skal kodes til \"10\"\n",
    "    - \"Extremely unhappy\" skal kodes til \"0\"\n",
    "    \n",
    "4. Konverter variablen til numerisk med `.astype('float')`.\n",
    "\n",
    "5. Udregn gennemsnit for variablen med `.mean()`."
   ]
  },
  {
   "cell_type": "code",
   "execution_count": 13,
   "metadata": {
    "slideshow": {
     "slide_type": "subslide"
    }
   },
   "outputs": [
    {
     "name": "stdout",
     "output_type": "stream",
     "text": [
      "object\n",
      "float64\n"
     ]
    },
    {
     "data": {
      "text/plain": [
       "8.278666666666666"
      ]
     },
     "execution_count": 13,
     "metadata": {},
     "output_type": "execute_result"
    }
   ],
   "source": [
    "print(ess2014['happy'].dtypes)\n",
    "\n",
    "ess2014['happy_num'] = ess2014['happy']\n",
    "ess2014['happy_num'] = ess2014['happy_num'].replace({\"Extremely happy\": \"10\", \"Extremely unhappy\": \"0\"})\n",
    "ess2014['happy_num'] = ess2014['happy_num'].astype('float')\n",
    "\n",
    "print(ess2014['happy_num'].dtypes)\n",
    "\n",
    "ess2014['happy_num'].mean()"
   ]
  },
  {
   "cell_type": "markdown",
   "metadata": {
    "slideshow": {
     "slide_type": "slide"
    }
   },
   "source": [
    "## ØVELSE 8: Konverter til kategorisk\n",
    "\n",
    "1. Tag et kig på variablen `alcfreq`. Er variablen nominal eller ordinal?\n",
    "\n",
    "2. Rekod `alcfreq` til at være kategorisk. Hvis den er ordinal, så dan et kategoriobjekt, som kan bruges til at kode variablen (tjek værdier i variablen med `.unique()`"
   ]
  },
  {
   "cell_type": "code",
   "execution_count": 15,
   "metadata": {
    "slideshow": {
     "slide_type": "subslide"
    }
   },
   "outputs": [
    {
     "data": {
      "text/plain": [
       "['Never', 'Several times a week', 'Once a week', 'Every day', 'Less than once a month', 'Once a month', '2-3 times a month', NaN]\n",
       "Categories (7, object): ['Never' < 'Less than once a month' < 'Once a month' < '2-3 times a month' < 'Once a week' < 'Several times a week' < 'Every day']"
      ]
     },
     "execution_count": 15,
     "metadata": {},
     "output_type": "execute_result"
    }
   ],
   "source": [
    "from pandas.api.types import CategoricalDtype\n",
    "\n",
    "ess2014['alcfreq'].unique() # Tjek værdier for at se, hvordan variablen er kodet (ordinalt)\n",
    "\n",
    "alc_cat = CategoricalDtype(categories = ['Never', 'Less than once a month', 'Once a month',   # Danner kategoriobjekt\n",
    "                                         '2-3 times a month', 'Once a week', 'Several times a week', \n",
    "                                         'Every day'], ordered = True)\n",
    "\n",
    "ess2014['alcfreq'] = ess2014['alcfreq'].astype(alc_cat) # Ændrer typen\n",
    "\n",
    "ess2014['alcfreq'].unique() # Bekræfter ændringen"
   ]
  },
  {
   "cell_type": "markdown",
   "metadata": {
    "slideshow": {
     "slide_type": "slide"
    }
   },
   "source": [
    "## ØVELSE 9: Rekod kategorisk\n",
    "\n",
    "1. Dan en varibel, der består af variablen `health` rekodet til at indeholde kategorierne \"Good\", \"Fair\" og \"Bad\".\n",
    "    - \"Very good\" rekodes til \"Good\"\n",
    "    - \"Very bad\" rekodes til \"Bad\"\n",
    "\n",
    "2. (valgfri) Rekod variablen til at være ordinal\n",
    "\n",
    "3. Dan et cirkelplot af den rekodede variabel med `.plot.pie()` (husk at brug `value_counts()`)"
   ]
  },
  {
   "cell_type": "code",
   "execution_count": 16,
   "metadata": {
    "slideshow": {
     "slide_type": "subslide"
    }
   },
   "outputs": [
    {
     "data": {
      "text/plain": [
       "<AxesSubplot:ylabel='health_3cats'>"
      ]
     },
     "execution_count": 16,
     "metadata": {},
     "output_type": "execute_result"
    },
    {
     "data": {
      "image/png": "[encoded data removed]",
      "text/plain": [
       "<Figure size 720x432 with 1 Axes>"
      ]
     },
     "metadata": {},
     "output_type": "display_data"
    }
   ],
   "source": [
    "health_recodedict = {'Very good': 'Good', 'Very bad': 'Bad'}\n",
    "\n",
    "health_cat3 = CategoricalDtype(categories = ['Bad', 'Fair', 'Good'], ordered = True)\n",
    "\n",
    "ess2014['health_3cats'] = ess2014['health'].replace(health_recodedict)\n",
    "ess2014['health_3cats'] = ess2014['health_3cats'].astype(health_cat3)\n",
    "\n",
    "ess2014['health_3cats'].value_counts().plot.pie()"
   ]
  }
 ],
 "metadata": {
  "celltoolbar": "Slideshow",
  "kernelspec": {
   "display_name": "Python 3",
   "language": "python",
   "name": "python3"
  },
  "language_info": {
   "codemirror_mode": {
    "name": "ipython",
    "version": 3
   },
   "file_extension": ".py",
   "mimetype": "text/x-python",
   "name": "python",
   "nbconvert_exporter": "python",
   "pygments_lexer": "ipython3",
   "version": "3.7.4"
  }
 },
 "nbformat": 4,
 "nbformat_minor": 4
}
