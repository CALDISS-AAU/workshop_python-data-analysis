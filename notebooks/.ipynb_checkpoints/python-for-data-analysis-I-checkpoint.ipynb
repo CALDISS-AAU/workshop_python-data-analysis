{
 "cells": [
  {
   "cell_type": "markdown",
   "metadata": {},
   "source": [
    "- For at markere kapitel (intro tekst til kapitel): # {#Kapitel}\n",
    "\n",
    "- For at markere afsnit (under kapitel): # {#Afsnit}\n",
    "\n",
    "- Marker afslutning: # {#END}"
   ]
  },
  {
   "cell_type": "markdown",
   "metadata": {},
   "source": [
    "**Literature**\n",
    "\n",
    "https://www.oreilly.com/content/data-visualization-with-seaborn/"
   ]
  },
  {
   "cell_type": "markdown",
   "metadata": {},
   "source": [
    "**Learning objectives:**\n",
    "- Importing datasets - locally and from URL\n",
    "- Inspecting a dataset: rows, columns, types\n",
    "- Performing summary statistics\n",
    "- Visualizing numerical data with scatterplots\n",
    "- Visualizing distributions: boxplots, density charts\n",
    "- Visualizing time series with line charts\n",
    "- Visualizing categorical data with barcharts\n",
    "- Reflect on the output of an visualization\n",
    "- Subsetting data with indexing and selection: loc, iloc\n",
    "- Using booleans for subsetting\n",
    "- Variable manipulation: recode, generate\n",
    "- Variabeltyper med Pandas\n",
    "- Working with categorical data with Pandas: nominal, ordinal\n",
    "- Recoding categorical variables with mappings\n",
    "\n",
    "**Evidence/evaluation types:**\n",
    "- Able to import a dataset\n",
    "- Can determine dimensions of a dataset (number of rows and columns)\n",
    "- Exercise: Summary statistics for specific variables\n",
    "- Able to create visualizations\n",
    "- Knowledge checks: Make conclusions/inferences based on visualizations\n",
    "- Exercise: Create a subset of a dataset\n",
    "- Knowledge check: Will a recode operation always change the original data?\n",
    "- Exercise: Generate a variable based on another variable\n",
    "- Exercise: Recode an existing variable\n",
    "- Knowledge check: Determine the variable type\n",
    "- Exercise: Change the type of a variable\n",
    "- Knowledge check: Is a variabel nominal or ordinal?\n",
    "- Exercise: Convert a character variable to a categorical\n",
    "- Exercise: Recoding categorical variable"
   ]
  },
  {
   "cell_type": "markdown",
   "metadata": {},
   "source": [
    "# Introduktion til Python til Dataanalyse\n",
    "\n",
    "Denne lektion gennemgår hvordan Python anvendes til dataanalyse. Der introduceres især til data frames i Python biblioteket \"pandas\"."
   ]
  },
  {
   "cell_type": "markdown",
   "metadata": {},
   "source": [
    "# {#Kapitel}Data i Python\n",
    "\n",
    "I dette første kapitel tages et kig på, hvad data er for en størrelse, og hvordan et struktureret datasæt ser ud i Python. "
   ]
  },
  {
   "attachments": {},
   "cell_type": "markdown",
   "metadata": {},
   "source": [
    "# {#Afsnit}Data og datasæt\n",
    "\n",
    "I disse Python lektioner gennemgås, hvordan Python anvendes til dataanalyse, men hvad er data overhovedet for noget?\n",
    "\n",
    "Som udgangspunkt arbejder vi med en meget bred forståelse af data: alle former for information om noget. Grunden til at der i dag er så meget snak om data, dataanalyse, maskinlæring osv., er fordi at stadig mere og mere information digitaliseres, hvorfor det kan gøres til genstand for analyser.\n",
    "\n",
    "Navn, alder, uddannelse, indkomst, yndlingsfilm, mest aflyttede sange i 2020, antal gange rejst med bus 2 i Aalborg, køb i supermarkeder, størrelse på bolig, indbo, brug af el, varme og vand osv. Alle disse informationer er data og alt sammen kan indgå i analyser til at sige noget om en person eller, mere relevant, flere personer med lignende karakteristika.\n",
    "\n",
    "Data som en mere eller mindre tilfældig strøm af tilfældig information er vanskelig at arbejde med. Data skal på en eller anden måde være i system for, at det kan analyseres - det gælder både maskinel/computationel analyse eller menneskelig analyse.\n",
    "\n",
    "Når man taler om et datasæt, mener man typisk en eller anden form for afgrænset mængde data, der måske eller måske ikke er struktureret i en eller anden form.\n",
    "\n",
    "## Struktureret og ustruktureret data\n",
    "\n",
    "Man adskiller typisk mellem struktureret og ustruktureret data.\n",
    "\n",
    "**Struktureret data**\n",
    "\n",
    "*Struktureret data* er data, der på en eller anden måde er sat i system. Den klassiske repræsentation af struktureret data er i et tabulært format, hvor hver række indeholder en *observation* og hver kolonne indeholder en *variabel* (eller \"feature\", som det omtales inden for maskinlæring. En observation kan være en person, et land, et firma, et tidspunkt, en kommune osv., mens en variabel er en eller anden form for information om observationen.\n",
    "\n",
    "Tabellen herunder er et eksempel på struktureret data:\n",
    "\n",
    "|Navn |Alder |Beskæftigelse |\n",
    "|-----|------|--------------|\n",
    "|Lars | 34 | Slagter|\n",
    "|Gertrud | 62 | Rådgiver|\n",
    "|Henning | 43 | Revisor|\n",
    "|Agnes | 38 | Tømrer|\n",
    "\n",
    "Struktureret data er kendeteget ved at være sat i system sådan, at man umiddelbart kan analysere og spørge data om noget. I ovenstående tabel kan man fx meget hurtigt undersøge, hvor mange der er ældre end 40, hvem der har et fornavn der starter med \"H\" eller hvem der har beskæftigelse inden for byggeri.\n",
    "\n",
    "**Ustruktureret data**\n",
    "\n",
    "*Ustruktureret data* er data, som - kort sagt - ikke er sat i system. Hvis data ikke er struktureret, vil man typisk kalde det ustruktureret data. Tekst, billeder og video er typiske eksempler på ustruktureret data, da disse blot er rå information uden nogen måde at adskille en type information fra en anden. Mange moderne dataanalyseteknikker fokuserer på ustruktureret data, hvor man enten udvikler teknikker til at skabe overblik over ustruktureret data eller forsøger at give data en form for struktur.\n",
    "\n",
    "Nedenstående er et eksempel på ustruktureret data:\n",
    "\n",
    "```\n",
    "[\"Hvorfor går man ikke i dialog med ⁦@DRC_dk⁩ i stedet for at opsige kontrakten uden varsel. Er det kun for at føre stærk mand politik? DRC yder en fremragende indsats på baggrund af den opgave de har fået #dkpol https://jyllands-posten.dk/indland/ECE12248020/tesfaye-forsoeger-sig-med-en-ny-loesning-paa-alle-udlaendingeministres-problem/ …\",\n",
    "\"Alle tæller ❤️ https://twitter.com/cekicozlem/status/1276034922587832326 …\",\n",
    "\"Det er så godt arbejde💚 https://twitter.com/fannybroholm/status/1275360842847080449 …\",\n",
    "\"Tilfreds med den klima og energiaftale, der er lavet nu. Det er den første delaftale om at nå 70% reduktion i 2030. Særligt glad for at den indeholder principaftale om en CO2 afgiftsreform #dkpol #dkgreen pic.twitter.com/3slrMxLT5B\",\n",
    "\"Godt første skridt for den fri natur #dkpol #dkgreen ⁦@alternativet_⁩ https://www.altinget.dk/miljoe/artikel/wermelin-lander-aftale-om-de-foerste-naturnationalparker …\",\n",
    "\"Spændende udmelding. ⁦@alternativet_⁩ ønsker også en grøn   Klimaafgift, hvor udgangspunktet er at forureneren betaler #dkgreen #dkpol https://www.altinget.dk/artikel/venstre-og-radikale-laegger-faelles-pres-paa-regeringen-vil-have-ensartet-co2-afgift?SNSubscribed=true&ref=newsletter&refid=fredag-middag-190620&utm_campaign=altingetdk%20Altinget.dk&utm_medium%09=e-mail&utm_source=nyhedsbrev …\",\n",
    "\"Så vigtigt at KL tager ansvar for den proces #dkpol #dkgreen https://www.altinget.dk/miljoe/artikel/professor-om-affaldsaftale-kl-og-kommunerne-skal-gribe-chancen-for-at-loese-tingene-selv …\",\n",
    "\"Hurra - stor dag for Danmark💚👏🏼👏🏼 https://twitter.com/alternativet_/status/1273555055476723713 …\",\n",
    "\"Til klimaforhandlinger i Finansministeriet. Vi sidder og diskuterer rammerne - de næste dage bliver intensive #dkpol #dkgreen @alternativet_ @ Christiansborg Palace  https://www.instagram.com/p/CBi3d0oB9lB/?igshid=ii78cjnx2n72 …\",\n",
    "\"Aftale om mindre affald, mindre forbrænding og mere genbrug - god dag for klimaet og miljøet. 1. skridt i en stor miljøpakke #dkpol ⁦@alternativet_⁩ https://www.dr.dk/nyheder/indland/live-regeringen-praesenterer-ny-aftale-om-affald …\"]\n",
    "```\n",
    "\n",
    "I ovenstående kan man stadig overføre ideen om observationer (i dette tilfælde tweets fra danske politikere), men der er ingen variable eller features givet på forhånd. Der er derfor ingen umiddelbar struktur at gøre brug af for at foretage sig analyser.\n",
    "\n",
    "## Fra data til dataanalyse\n",
    "\n",
    "Uanset om data er struktureret eller ustruktureret, er de næsten aldrig klar til at analysere med det samme. Data skal næsten altid tilpasses den analyse, som man ønsker at foretage og de spørgsmål, som man ønsker at få svar på med sin analyse. \n",
    "\n",
    "For struktureret data indebærer dette at få identificeret de relevante dele af sine data (er det fx alle observationer, der er relevante?) samt undersøge og rekode variable sådan, at de meningsfuldt kan bruges i sin analyse.\n",
    "\n",
    "For ustruktureret data indebærer det på en eller anden måde at få sat system i eller skabt overblik over data.\n",
    "\n",
    "Ofte vil man også arbejde med data fra flere kilder, hvorfor en del forarbejde også kan gå med at få data kombineret i et samlet datasæt.\n",
    "\n",
    "---\n",
    "## VIDENSCHECK\n",
    "\n",
    "*Hvilke af nedenstående er eksempler på datasæt?:*\n",
    "\n",
    "* Navnet på butikschefen i det lokale supermarked\n",
    "* Alle værker af H.C. Andersen\n",
    "* En oversigt over medlemmer af DFØJ med information om navn, fødselsår, arbejdssted og uddannelse\n",
    "* Filmen \"Vampire's Kiss\" med Nicolas Cage fra 1988\n",
    "* Et kontoudtog\n",
    "* Alle film med Nicolas Cage\n",
    "\n",
    "{{%expand \"Løsning\" %}} Distinktionen mellem data og datasæt kan være vanskelig; særligt når man også taler om datasæt af ustruktureret data.\n",
    "\n",
    "Her gives et bud på hver.\n",
    "\n",
    "* Navnet på butikschefen i det lokale supermarked: *Ikke et datasæt, da det blot er en enkelt information (et enkelt datapunkt)*\n",
    "\n",
    "\n",
    "* Alle værker af H.C. Andersen: *Et ustruktureret datasæt. Literatur- og kulturstudier beskæftiger sig meget med indhold af literære værker. Med teknikker i dag kan man godt analysere samlinger af tekst.*\n",
    "\n",
    "\n",
    "* En oversigt over medlemmer af DFØJ med information om navn, fødselsår, arbejdssted og uddannelse: *Et \"klassisk\" struktureret datasæt. Observationerne er medlemmerne af DFØJ og variablene er de forskellige informationer for hvert medlem.*\n",
    "\n",
    "\n",
    "* Filmen \"Vampire's Kiss\" med Nicolas Cage fra 1988: *Ikke et datasæt.*\n",
    "\n",
    "\n",
    "* Et kontoudtog: *Diskutabelt. Ofte er en enkelt persons kontoudtog ikke af megen interesse (udover for personen selv og personens bankrådgiver). En samling af kontoudtog vil nok være mere at betragte som et egentlig datasæt (et datasæt med transaktioner som observationer og beløb, tidspunkt og beskrivelse som variable), men et enkelt datasæt kunne også betragtes som et datasæt af transaktioner for den ene person.*\n",
    "\n",
    "\n",
    "* Alle film med Nicolas Cage: *Et ustruktureret datasæt. Lig med værkerne af H.C. Andersen kunne et studie af dette også være af interesse. Computationel analyse af disse er noget mere kompliceret, men mulig!*\n",
    "\n",
    "{{% /expand%}}"
   ]
  },
  {
   "cell_type": "markdown",
   "metadata": {},
   "source": [
    "# {#Afsnit}Introduktion til pandas\n",
    "\n",
    "`pandas` (https://pandas.pydata.org/) er et Python bibliotek til datahåndtering og dataanalyse. Pandas egner sig særligt til data i tabeller struktureret i rækker og kolonner. En datatabel kaldes inden for pandas en \"DataFrame\"; et bestemt Python objekt specifikt til at lagre og bearbejde data i tabeller.\n",
    "\n",
    "Denne lektion gennemgår diverse basale funktioner til at indlæse, udforske og håndtere en pandas DataFrame. Se også den officielle dokumentation for flere guides, introduktioner og beskrivelser til at arbejde med pandas: https://pandas.pydata.org/docs/\n",
    "\n",
    "## Indlæsning af data med pandas\n",
    "\n",
    "`pandas` pakken indeholder funktioner til at indlæse data i forskellige formater; herunder CSV, JSON, Excel, Stata, SAS osv.\n",
    "\n",
    "I det nedenstående indlæses pandas biblioteket, hvorefter datasættet \"ESS2014DK_subset.csv\" indlæses. Biblioteket `numpy` indlæses også, da det indeholder en række brugbare funktioner til at foretage beregninger på pandas dataframes:"
   ]
  },
  {
   "cell_type": "code",
   "execution_count": 2,
   "metadata": {},
   "outputs": [],
   "source": [
    "import numpy as np\n",
    "import pandas as pd\n",
    "\n",
    "ess2014 = pd.read_csv('https://github.com/CALDISS-AAU/workshop_python-data-analysis/raw/master/data/ESS2014DK_subset.csv')"
   ]
  },
  {
   "cell_type": "markdown",
   "metadata": {},
   "source": [
    "{{% notice note %}}\n",
    "Bemærk importkonventionerne for `numpy` og `pandas`. `numpy` importeres typisk som `np` og `pandas` typisk som `pd`.\n",
    "{{% /notice%}}"
   ]
  },
  {
   "cell_type": "markdown",
   "metadata": {},
   "source": [
    "{{% notice info %}}\n",
    "Datasættet, som indlæses her, er et uddrag af datasættet fra European Social Survey (ESS) 2014. ESS er en europæisk surveyundersøgelse, der gentages hvert andet år. Surveyet behandler spørgsmål om folks helbred, beskæftigelse, politiske holdninger, tillid osv. I dette uddrag er der kun inkluderet de danske respondenter og et mindre udpluk variable.\n",
    "{{% /notice%}}"
   ]
  },
  {
   "cell_type": "code",
   "execution_count": null,
   "metadata": {},
   "outputs": [],
   "source": []
  },
  {
   "cell_type": "markdown",
   "metadata": {},
   "source": [
    "# {#Afsnit}Indlæsning af data i Python\n",
    "\n",
    "- Øvelse: indlæs data\n",
    "- Check: hvilken type data?\n",
    "\n",
    "- Serier og data frames"
   ]
  },
  {
   "cell_type": "markdown",
   "metadata": {},
   "source": [
    "# {#Kapitel}Udforsk Data i Python"
   ]
  },
  {
   "cell_type": "markdown",
   "metadata": {},
   "source": [
    "# {#Afsnit}Deskriptive statistikker\n",
    "\n",
    "- Øvelse: Inspicer data\n",
    "- Øvelse: Hvad er mean for X?"
   ]
  },
  {
   "cell_type": "markdown",
   "metadata": {},
   "source": [
    "# {#Afsnit}Visualisering med seaborn"
   ]
  },
  {
   "cell_type": "markdown",
   "metadata": {},
   "source": [
    "# {#Afsnit}Visualiseringer (tidsserier, scatter, søjler, boxplots)\n",
    "\n",
    "- Øvelse: Visualisering - hvad kan udledes umiddelbart?"
   ]
  },
  {
   "cell_type": "markdown",
   "metadata": {},
   "source": [
    "# {#Kapitel}Datahåndtering med pandas"
   ]
  },
  {
   "cell_type": "markdown",
   "metadata": {},
   "source": [
    "# {#Afsnit}Subsetting\n",
    "\n",
    "- loc, iloc\n",
    "- booleans\n",
    "- Check: hvornår bruges loc og iloc?"
   ]
  },
  {
   "cell_type": "markdown",
   "metadata": {},
   "source": [
    "# {#Afsnit}Rekodning\n",
    "\n",
    "- Check: hvornår ændres variable ved rekodning?"
   ]
  },
  {
   "cell_type": "markdown",
   "metadata": {},
   "source": [
    "# {#Afsnit}Variabelgenerering\n",
    "\n",
    "- Øvelse: Dan subset med ny variabel"
   ]
  },
  {
   "cell_type": "markdown",
   "metadata": {},
   "source": [
    "# {#Afsnit}Variabeltyper (numerisk og tekst)\n",
    "\n",
    "- Check: Hvilken variabeltype?\n",
    "- Øvelse: Ændr variabeltype"
   ]
  },
  {
   "cell_type": "markdown",
   "metadata": {},
   "source": [
    "# {#Kapitel}Kategoriske variable"
   ]
  },
  {
   "cell_type": "markdown",
   "metadata": {},
   "source": [
    "# {#Afsnit}Typer af kategoriske variable (nominal, ordinal)\n",
    "\n",
    "- Check: Er variabel ordinal eller nominal? (\"teoretisk\")"
   ]
  },
  {
   "cell_type": "markdown",
   "metadata": {},
   "source": [
    "# {#Afsnit}Kategoriske variable i Python\n",
    "\n",
    "- Check: Er variabel ordinal eller nominal? (kodning i python)\n",
    "- Øvelse: Konverter fra karakter til kategorisk\n",
    "- Øvelse: Konverter fra nominal til ordinal"
   ]
  },
  {
   "cell_type": "markdown",
   "metadata": {},
   "source": [
    "# {#Afsnit}Rekodning af kategoriske variable\n",
    "\n",
    "- Øvelse: Rekod kategorisk med mapping"
   ]
  },
  {
   "cell_type": "markdown",
   "metadata": {},
   "source": [
    "# {#Kapitel}Supplerende materiale"
   ]
  },
  {
   "cell_type": "markdown",
   "metadata": {},
   "source": [
    "# {#Afsnit}Litteratur\n",
    "\n",
    "- Python for Data Analysis, kap 5\n",
    "- Python for Data Analysis, kap 9 - seaborn\n",
    "- Python for Data Analysis, kap 12 - categorical"
   ]
  },
  {
   "cell_type": "markdown",
   "metadata": {},
   "source": [
    "# {#END}"
   ]
  },
  {
   "cell_type": "code",
   "execution_count": null,
   "metadata": {},
   "outputs": [],
   "source": []
  }
 ],
 "metadata": {
  "kernelspec": {
   "display_name": "Python 3",
   "language": "python",
   "name": "python3"
  },
  "language_info": {
   "codemirror_mode": {
    "name": "ipython",
    "version": 3
   },
   "file_extension": ".py",
   "mimetype": "text/x-python",
   "name": "python",
   "nbconvert_exporter": "python",
   "pygments_lexer": "ipython3",
   "version": "3.6.10"
  }
 },
 "nbformat": 4,
 "nbformat_minor": 2
}
