{
 "cells": [
  {
   "cell_type": "markdown",
   "metadata": {},
   "source": [
    "- For at markere kapitel (intro tekst til kapitel): # {#Kapitel}\n",
    "\n",
    "- For at markere afsnit (under kapitel): # {#Afsnit}\n",
    "\n",
    "- Marker afslutning: # {#END}"
   ]
  },
  {
   "cell_type": "markdown",
   "metadata": {},
   "source": [
    "**Literature**\n",
    "\n",
    "https://www.oreilly.com/content/data-visualization-with-seaborn/"
   ]
  },
  {
   "cell_type": "markdown",
   "metadata": {},
   "source": [
    "**Learning objectives:**\n",
    "- Importing datasets - locally and from URL\n",
    "- Inspecting a dataset: rows, columns, types\n",
    "- Performing summary statistics\n",
    "- Visualizing numerical data with scatterplots\n",
    "- Visualizing distributions: boxplots, density charts\n",
    "- Visualizing time series with line charts\n",
    "- Visualizing categorical data with barcharts\n",
    "- Reflect on the output of an visualization\n",
    "- Subsetting data with indexing and selection: loc, iloc\n",
    "- Using booleans for subsetting\n",
    "- Variable manipulation: recode, generate\n",
    "- Variabeltyper med Pandas\n",
    "- Working with categorical data with Pandas: nominal, ordinal\n",
    "- Recoding categorical variables with mappings\n",
    "\n",
    "**Evidence/evaluation types:**\n",
    "- Able to import a dataset\n",
    "- Can determine dimensions of a dataset (number of rows and columns)\n",
    "- Exercise: Summary statistics for specific variables\n",
    "- Able to create visualizations\n",
    "- Knowledge checks: Make conclusions/inferences based on visualizations\n",
    "- Exercise: Create a subset of a dataset\n",
    "- Knowledge check: Will a recode operation always change the original data?\n",
    "- Exercise: Generate a variable based on another variable\n",
    "- Exercise: Recode an existing variable\n",
    "- Knowledge check: Determine the variable type\n",
    "- Exercise: Change the type of a variable\n",
    "- Knowledge check: Is a variabel nominal or ordinal?\n",
    "- Exercise: Convert a character variable to a categorical\n",
    "- Exercise: Recoding categorical variable"
   ]
  },
  {
   "cell_type": "markdown",
   "metadata": {},
   "source": [
    "# Introduktion til Python til Dataanalyse\n",
    "\n",
    "Denne lektion gennemgår hvordan Python anvendes til dataanalyse. Der introduceres især til data frames i Python biblioteket \"pandas\"."
   ]
  },
  {
   "cell_type": "markdown",
   "metadata": {},
   "source": [
    "# {#Kapitel}Data i Python\n",
    "\n",
    "I dette første kapitel tages et kig på, hvad data er for en størrelse, og hvordan et struktureret datasæt ser ud i Python. "
   ]
  },
  {
   "cell_type": "markdown",
   "metadata": {},
   "source": [
    "# {#Afsnit}Data og datasæt\n",
    "\n",
    "I disse Python lektioner gennemgås, hvordan Python anvendes til dataanalyse, men hvad er data overhovedet for noget?\n",
    "\n",
    "Som udgangspunkt arbejder vi med en meget bred forståelse af data: alle former for information om noget. Grunden til at der i dag er så meget snak om data, dataanalyse, maskinlæring osv., er fordi at stadig mere og mere information digitaliseres, hvorfor det kan gøres til genstand for analyser.\n",
    "\n",
    "Navn, alder, uddannelse, indkomst, yndlingsfilm, mest aflyttede sange i 2020, antal gange rejst med bus 2 i Aalborg, køb i supermarkeder, størrelse på bolig, indbo, brug af el, varme og vand osv. Alle disse informationer er data og alt sammen kan indgå i analyser til at sige noget om en person eller, mere relevant, flere personer med lignende karakteristika.\n",
    "\n",
    "Data som en mere eller mindre tilfældig strøm af tilfældig information er vanskelig at arbejde med. Data skal på en eller anden måde være i system for, at det kan analyseres - det gælder både maskinel/computationel analyse eller menneskelig analyse.\n",
    "\n",
    "Når man taler om et datasæt, mener man typisk en eller anden form for afgrænset mængde data, der måske eller måske ikke er struktureret i en eller anden form.\n",
    "\n",
    "## Struktureret og ustruktureret data\n",
    "\n",
    "Man adskiller typisk mellem struktureret og ustruktureret data.\n",
    "\n",
    "**Struktureret data**\n",
    "\n",
    "*Struktureret data* er data, der på en eller anden måde er sat i system. Den klassiske repræsentation af struktureret data er i et tabulært format, hvor hver række indeholder en *observation* og hver kolonne indeholder en *variabel* (eller \"feature\", som det omtales inden for maskinlæring. En observation kan være en person, et land, et firma, et tidspunkt, en kommune osv., mens en variabel er en eller anden form for information om observationen.\n",
    "\n",
    "Tabellen herunder er et eksempel på struktureret data:\n",
    "\n",
    "|Navn |Alder |Beskæftigelse |\n",
    "|-----|------|--------------|\n",
    "|Lars | 34 | Slagter|\n",
    "|Gertrud | 62 | Rådgiver|\n",
    "|Henning | 43 | Revisor|\n",
    "|Agnes | 38 | Tømrer|\n",
    "\n",
    "Struktureret data er kendeteget ved at være sat i system sådan, at man umiddelbart kan analysere og spørge data om noget. I ovenstående tabel kan man fx meget hurtigt undersøge, hvor mange der er ældre end 40, hvem der har et fornavn der starter med \"H\" eller hvem der har beskæftigelse inden for byggeri.\n",
    "\n",
    "**Ustruktureret data**\n",
    "\n",
    "*Ustruktureret data* er data, som - kort sagt - ikke er sat i system. Hvis data ikke er struktureret, vil man typisk kalde det ustruktureret data. Tekst, billeder og video er typiske eksempler på ustruktureret data, da disse blot er rå information uden nogen måde at adskille en type information fra en anden. Mange moderne dataanalyseteknikker fokuserer på ustruktureret data, hvor man enten udvikler teknikker til at skabe overblik over ustruktureret data eller forsøger at give data en form for struktur.\n",
    "\n",
    "Nedenstående er et eksempel på ustruktureret data:\n",
    "\n",
    "```\n",
    "[\"Hvorfor går man ikke i dialog med ⁦@DRC_dk⁩ i stedet for at opsige kontrakten uden varsel. Er det kun for at føre stærk mand politik? DRC yder en fremragende indsats på baggrund af den opgave de har fået #dkpol https://jyllands-posten.dk/indland/ECE12248020/tesfaye-forsoeger-sig-med-en-ny-loesning-paa-alle-udlaendingeministres-problem/ …\",\n",
    "\"Alle tæller ❤️ https://twitter.com/cekicozlem/status/1276034922587832326 …\",\n",
    "\"Det er så godt arbejde💚 https://twitter.com/fannybroholm/status/1275360842847080449 …\",\n",
    "\"Tilfreds med den klima og energiaftale, der er lavet nu. Det er den første delaftale om at nå 70% reduktion i 2030. Særligt glad for at den indeholder principaftale om en CO2 afgiftsreform #dkpol #dkgreen pic.twitter.com/3slrMxLT5B\",\n",
    "\"Godt første skridt for den fri natur #dkpol #dkgreen ⁦@alternativet_⁩ https://www.altinget.dk/miljoe/artikel/wermelin-lander-aftale-om-de-foerste-naturnationalparker …\",\n",
    "\"Spændende udmelding. ⁦@alternativet_⁩ ønsker også en grøn   Klimaafgift, hvor udgangspunktet er at forureneren betaler #dkgreen #dkpol https://www.altinget.dk/artikel/venstre-og-radikale-laegger-faelles-pres-paa-regeringen-vil-have-ensartet-co2-afgift?SNSubscribed=true&ref=newsletter&refid=fredag-middag-190620&utm_campaign=altingetdk%20Altinget.dk&utm_medium%09=e-mail&utm_source=nyhedsbrev …\",\n",
    "\"Så vigtigt at KL tager ansvar for den proces #dkpol #dkgreen https://www.altinget.dk/miljoe/artikel/professor-om-affaldsaftale-kl-og-kommunerne-skal-gribe-chancen-for-at-loese-tingene-selv …\",\n",
    "\"Hurra - stor dag for Danmark💚👏🏼👏🏼 https://twitter.com/alternativet_/status/1273555055476723713 …\",\n",
    "\"Til klimaforhandlinger i Finansministeriet. Vi sidder og diskuterer rammerne - de næste dage bliver intensive #dkpol #dkgreen @alternativet_ @ Christiansborg Palace  https://www.instagram.com/p/CBi3d0oB9lB/?igshid=ii78cjnx2n72 …\",\n",
    "\"Aftale om mindre affald, mindre forbrænding og mere genbrug - god dag for klimaet og miljøet. 1. skridt i en stor miljøpakke #dkpol ⁦@alternativet_⁩ https://www.dr.dk/nyheder/indland/live-regeringen-praesenterer-ny-aftale-om-affald …\"]\n",
    "```\n",
    "\n",
    "I ovenstående kan man stadig overføre ideen om observationer (i dette tilfælde tweets fra danske politikere), men der er ingen variable eller features givet på forhånd. Der er derfor ingen umiddelbar struktur at gøre brug af for at foretage sig analyser.\n",
    "\n",
    "## Fra data til dataanalyse\n",
    "\n",
    "Uanset om data er struktureret eller ustruktureret, er de næsten aldrig klar til at analysere med det samme. Data skal næsten altid tilpasses den analyse, som man ønsker at foretage og de spørgsmål, som man ønsker at få svar på med sin analyse. \n",
    "\n",
    "For struktureret data indebærer dette at få identificeret de relevante dele af sine data (er det fx alle observationer, der er relevante?) samt undersøge og rekode variable sådan, at de meningsfuldt kan bruges i sin analyse.\n",
    "\n",
    "For ustruktureret data indebærer det på en eller anden måde at få sat system i eller skabt overblik over data.\n",
    "\n",
    "Ofte vil man også arbejde med data fra flere kilder, hvorfor en del forarbejde også kan gå med at få data kombineret i et samlet datasæt.\n",
    "\n",
    "---\n",
    "## VIDENSCHECK\n",
    "\n",
    "*Hvilke af nedenstående er eksempler på datasæt?:*\n",
    "\n",
    "* Navnet på butikschefen i det lokale supermarked\n",
    "* Alle værker af H.C. Andersen\n",
    "* En oversigt over medlemmer af DFØJ med information om navn, fødselsår, arbejdssted og uddannelse\n",
    "* Filmen \"Vampire's Kiss\" med Nicolas Cage fra 1988\n",
    "* Et kontoudtog\n",
    "* Alle film med Nicolas Cage\n",
    "\n",
    "{{%expand \"Løsning\" %}} Distinktionen mellem data og datasæt kan være vanskelig; særligt når man også taler om datasæt af ustruktureret data.\n",
    "\n",
    "Her gives et bud på hver.\n",
    "\n",
    "* Navnet på butikschefen i det lokale supermarked: *Ikke et datasæt, da det blot er en enkelt information (et enkelt datapunkt)*\n",
    "\n",
    "\n",
    "* Alle værker af H.C. Andersen: *Et ustruktureret datasæt. Literatur- og kulturstudier beskæftiger sig meget med indhold af literære værker. Med teknikker i dag kan man godt analysere samlinger af tekst.*\n",
    "\n",
    "\n",
    "* En oversigt over medlemmer af DFØJ med information om navn, fødselsår, arbejdssted og uddannelse: *Et \"klassisk\" struktureret datasæt. Observationerne er medlemmerne af DFØJ og variablene er de forskellige informationer for hvert medlem.*\n",
    "\n",
    "\n",
    "* Filmen \"Vampire's Kiss\" med Nicolas Cage fra 1988: *Ikke et datasæt.*\n",
    "\n",
    "\n",
    "* Et kontoudtog: *Diskutabelt. Ofte er en enkelt persons kontoudtog ikke af megen interesse (udover for personen selv og personens bankrådgiver). En samling af kontoudtog vil nok være mere at betragte som et egentlig datasæt (et datasæt med transaktioner som observationer og beløb, tidspunkt og beskrivelse som variable), men et enkelt datasæt kunne også betragtes som et datasæt af transaktioner for den ene person.*\n",
    "\n",
    "\n",
    "* Alle film med Nicolas Cage: *Et ustruktureret datasæt. Lig med værkerne af H.C. Andersen kunne et studie af dette også være af interesse. Computationel analyse af disse er noget mere kompliceret, men mulig!*\n",
    "\n",
    "{{% /expand%}}"
   ]
  },
  {
   "cell_type": "markdown",
   "metadata": {},
   "source": [
    "# {#Afsnit}Introduktion til pandas\n",
    "\n",
    "Pakken `pandas` (https://pandas.pydata.org/) er et Python bibliotek til datahåndtering og dataanalyse. Pandas egner sig særligt til data i tabeller struktureret i rækker og kolonner. En datatabel kaldes inden for pandas en \"DataFrame\"; et bestemt Python objekt specifikt til at lagre og bearbejde data i tabeller.\n",
    "\n",
    "Denne lektion gennemgår diverse basale funktioner til at indlæse, udforske og håndtere en pandas DataFrame. Se også den officielle dokumentation for flere guides, introduktioner og beskrivelser til at arbejde med pandas: https://pandas.pydata.org/docs/\n",
    "\n",
    "## Indlæs og inspicer data med pandas\n",
    "\n",
    "`pandas` pakken indeholder funktioner til at indlæse data i forskellige formater; herunder CSV, JSON, Excel, Stata, SAS osv.\n",
    "\n",
    "I det nedenstående indlæses pandas biblioteket, hvorefter datasættet \"ESS2014DK_subset.csv\" indlæses. Biblioteket `numpy` indlæses også, da det indeholder en række brugbare funktioner til at foretage beregninger på pandas dataframes:"
   ]
  },
  {
   "cell_type": "code",
   "execution_count": 149,
   "metadata": {},
   "outputs": [],
   "source": [
    "import numpy as np\n",
    "import pandas as pd\n",
    "\n",
    "ess2014 = pd.read_csv('https://github.com/CALDISS-AAU/workshop_python-data-analysis/raw/master/datasets/ESS2014DK_subset.csv')"
   ]
  },
  {
   "cell_type": "markdown",
   "metadata": {},
   "source": [
    "{{% notice note %}}\n",
    "Bemærk importkonventionerne for `numpy` og `pandas`. `numpy` importeres typisk som `np` og `pandas` typisk som `pd`.\n",
    "{{% /notice%}}"
   ]
  },
  {
   "cell_type": "markdown",
   "metadata": {},
   "source": [
    "{{% notice info %}}\n",
    "Datasættet, som indlæses her, er et uddrag af datasættet fra European Social Survey (ESS) 2014. ESS er en europæisk surveyundersøgelse, der gentages hvert andet år. Surveyet behandler spørgsmål om folks helbred, beskæftigelse, politiske holdninger, tillid osv. I dette uddrag er der kun inkluderet de danske respondenter og et mindre udpluk variable.\n",
    "{{% /notice%}}"
   ]
  },
  {
   "cell_type": "markdown",
   "metadata": {},
   "source": [
    "Datasættet er nu indlæst som et dataframe objekt i Python, som man kan interagere med. \n",
    "\n",
    "Metoden `.head()` printer de første fem rækker af datasættet:"
   ]
  },
  {
   "cell_type": "code",
   "execution_count": 150,
   "metadata": {},
   "outputs": [
    {
     "data": {
      "text/html": [
       "<div>\n",
       "<style scoped>\n",
       "    .dataframe tbody tr th:only-of-type {\n",
       "        vertical-align: middle;\n",
       "    }\n",
       "\n",
       "    .dataframe tbody tr th {\n",
       "        vertical-align: top;\n",
       "    }\n",
       "\n",
       "    .dataframe thead th {\n",
       "        text-align: right;\n",
       "    }\n",
       "</style>\n",
       "<table border=\"1\" class=\"dataframe\">\n",
       "  <thead>\n",
       "    <tr style=\"text-align: right;\">\n",
       "      <th></th>\n",
       "      <th>idno</th>\n",
       "      <th>ppltrst</th>\n",
       "      <th>happy</th>\n",
       "      <th>health</th>\n",
       "      <th>cgtsday</th>\n",
       "      <th>alcfreq</th>\n",
       "      <th>height</th>\n",
       "      <th>weight</th>\n",
       "      <th>gndr</th>\n",
       "      <th>yrbrn</th>\n",
       "    </tr>\n",
       "  </thead>\n",
       "  <tbody>\n",
       "    <tr>\n",
       "      <th>0</th>\n",
       "      <td>921018</td>\n",
       "      <td>6</td>\n",
       "      <td>9</td>\n",
       "      <td>Very good</td>\n",
       "      <td>10.0</td>\n",
       "      <td>2-3 times a month</td>\n",
       "      <td>178.0</td>\n",
       "      <td>64.0</td>\n",
       "      <td>Male</td>\n",
       "      <td>1990</td>\n",
       "    </tr>\n",
       "    <tr>\n",
       "      <th>1</th>\n",
       "      <td>921026</td>\n",
       "      <td>8</td>\n",
       "      <td>8</td>\n",
       "      <td>Very good</td>\n",
       "      <td>NaN</td>\n",
       "      <td>Several times a week</td>\n",
       "      <td>172.0</td>\n",
       "      <td>64.0</td>\n",
       "      <td>Female</td>\n",
       "      <td>1948</td>\n",
       "    </tr>\n",
       "    <tr>\n",
       "      <th>2</th>\n",
       "      <td>921034</td>\n",
       "      <td>8</td>\n",
       "      <td>8</td>\n",
       "      <td>Good</td>\n",
       "      <td>NaN</td>\n",
       "      <td>Every day</td>\n",
       "      <td>176.0</td>\n",
       "      <td>87.0</td>\n",
       "      <td>Male</td>\n",
       "      <td>1957</td>\n",
       "    </tr>\n",
       "    <tr>\n",
       "      <th>3</th>\n",
       "      <td>921076</td>\n",
       "      <td>8</td>\n",
       "      <td>8</td>\n",
       "      <td>Good</td>\n",
       "      <td>NaN</td>\n",
       "      <td>Several times a week</td>\n",
       "      <td>162.0</td>\n",
       "      <td>70.0</td>\n",
       "      <td>Female</td>\n",
       "      <td>1958</td>\n",
       "    </tr>\n",
       "    <tr>\n",
       "      <th>4</th>\n",
       "      <td>921084</td>\n",
       "      <td>5</td>\n",
       "      <td>8</td>\n",
       "      <td>Very good</td>\n",
       "      <td>NaN</td>\n",
       "      <td>Every day</td>\n",
       "      <td>175.0</td>\n",
       "      <td>80.0</td>\n",
       "      <td>Male</td>\n",
       "      <td>1936</td>\n",
       "    </tr>\n",
       "  </tbody>\n",
       "</table>\n",
       "</div>"
      ],
      "text/plain": [
       "     idno ppltrst happy     health  cgtsday               alcfreq  height  \\\n",
       "0  921018       6     9  Very good     10.0     2-3 times a month   178.0   \n",
       "1  921026       8     8  Very good      NaN  Several times a week   172.0   \n",
       "2  921034       8     8       Good      NaN             Every day   176.0   \n",
       "3  921076       8     8       Good      NaN  Several times a week   162.0   \n",
       "4  921084       5     8  Very good      NaN             Every day   175.0   \n",
       "\n",
       "   weight    gndr  yrbrn  \n",
       "0    64.0    Male   1990  \n",
       "1    64.0  Female   1948  \n",
       "2    87.0    Male   1957  \n",
       "3    70.0  Female   1958  \n",
       "4    80.0    Male   1936  "
      ]
     },
     "execution_count": 150,
     "metadata": {},
     "output_type": "execute_result"
    }
   ],
   "source": [
    "ess2014.head()"
   ]
  },
  {
   "cell_type": "markdown",
   "metadata": {},
   "source": [
    "Dataframes er et tabulært dataformat. Når en fil indlæses som en pandas dataframe, skal filen derfor være i et format, der kan konverteres til tabelformat (data i rækker og kolonner).\n",
    "\n",
    "I dette datasæt udgør observationerne (rækkerne) enkeltpersoner, som har besvaret spørgeskemaet. De enkelte kolonner indeholder oplysninger om de enkelte personer. \n",
    "Af ovenstående print af de første fem række kan man fx læse, at personen i række 4 (rækkeindeks 3) er en kvinde født i 1958, som er 162 cm høj."
   ]
  },
  {
   "cell_type": "markdown",
   "metadata": {},
   "source": [
    "{{% notice info %}} Subsettet af ESS 2014 indeholder følgende kolonner:\n",
    "- `idno`: Personens id-numre/respondentnøgle\n",
    "- `ppltrst`: Personens vurdering på en skala fra 0-10 af, hvor meget de stoler på andre mennesker\n",
    "- `happy`: Personens vurdering på en skala fra 0-10 af, hvor glade de føler sig\n",
    "- `health`: Personens vurdering af eget helbred fra \"Very bad\" til \"Very good\"\n",
    "- `cgtsday`: Antal cigaretter personen ryger om dagen\n",
    "- `alcfreq`: Hvor ofte personen drikker alkohol\n",
    "- `height`: Personens højde i centimeter\n",
    "- `weight`: Personens vægt i kilo\n",
    "- `gndr`: Personens køn (mand/kvinde)\n",
    "- `yrbrn`: Personens fødselsår\n",
    "{{% /notice %}}"
   ]
  },
  {
   "cell_type": "markdown",
   "metadata": {},
   "source": [
    "{{% notice info %}} **NaN?**\n",
    "\n",
    "Som det ses af datasættet fremgår værdien `NaN` flere gange i datasættet (særligt under kolonnen `cgtsday`). \n",
    "\n",
    "`NaN` angiver missingværdi. En missingværdi er en ikke-gyldig værdi; fx hvis en person ikke svarer, informationen ikke har været muligt at skaffe eller andet.\n",
    "\n",
    "{{% /notice %}}"
   ]
  },
  {
   "cell_type": "markdown",
   "metadata": {},
   "source": [
    "## Series og dataframes"
   ]
  },
  {
   "cell_type": "markdown",
   "metadata": {},
   "source": [
    "En dataframe kan siges at bestå af en samling af kolonner. En kolonne i en dataframe kaldes en `series`.\n",
    "\n",
    "Navnene på kolonnerne, som en dataframe indeholder, kan ses af attributen `.columns`:"
   ]
  },
  {
   "cell_type": "code",
   "execution_count": 151,
   "metadata": {},
   "outputs": [
    {
     "data": {
      "text/plain": [
       "Index(['idno', 'ppltrst', 'happy', 'health', 'cgtsday', 'alcfreq', 'height',\n",
       "       'weight', 'gndr', 'yrbrn'],\n",
       "      dtype='object')"
      ]
     },
     "execution_count": 151,
     "metadata": {},
     "output_type": "execute_result"
    }
   ],
   "source": [
    "ess2014.columns"
   ]
  },
  {
   "cell_type": "markdown",
   "metadata": {},
   "source": [
    "Hver kolonne ligger som et attribut i dataframen, og kan derfor tilgås direkte. Herunder printes `health` kolonnen:"
   ]
  },
  {
   "cell_type": "code",
   "execution_count": 152,
   "metadata": {},
   "outputs": [
    {
     "name": "stdout",
     "output_type": "stream",
     "text": [
      "0    Very good\n",
      "1    Very good\n",
      "2         Good\n",
      "3         Good\n",
      "4    Very good\n",
      "Name: health, dtype: object\n"
     ]
    }
   ],
   "source": [
    "print(ess2014.health.head())"
   ]
  },
  {
   "cell_type": "markdown",
   "metadata": {},
   "source": [
    "Dog vil man typisk refere til enkeltkolonner på denne måde:"
   ]
  },
  {
   "cell_type": "code",
   "execution_count": 153,
   "metadata": {},
   "outputs": [
    {
     "name": "stdout",
     "output_type": "stream",
     "text": [
      "0    Very good\n",
      "1    Very good\n",
      "2         Good\n",
      "3         Good\n",
      "4    Very good\n",
      "Name: health, dtype: object\n"
     ]
    }
   ],
   "source": [
    "print(ess2014['health'].head())"
   ]
  },
  {
   "cell_type": "markdown",
   "metadata": {},
   "source": [
    "Der er ikke forskel mellem de to måder at gøre det på, men sidstviste måde er mere gængs og gør kode mere overskuelig."
   ]
  },
  {
   "cell_type": "markdown",
   "metadata": {},
   "source": [
    "Typen kan tjekkes med `type()`. Herunder ses det, at hele dataframen er et dataframe objekt, mens den enkelte kolonne (`health`) er et series objekt:"
   ]
  },
  {
   "cell_type": "code",
   "execution_count": 154,
   "metadata": {},
   "outputs": [
    {
     "name": "stdout",
     "output_type": "stream",
     "text": [
      "<class 'pandas.core.frame.DataFrame'>\n",
      "<class 'pandas.core.series.Series'>\n"
     ]
    }
   ],
   "source": [
    "print(type(ess2014))\n",
    "print(type(ess2014['health']))"
   ]
  },
  {
   "cell_type": "markdown",
   "metadata": {},
   "source": [
    "### Pandas series og lister\n",
    "\n",
    "En pandas series er på mange måder sammenlignelig med en Python liste: Det er en række værdier, hvor hvert element har et indeks.\n",
    "\n",
    "Ligesom med lister, kan enkeltelementer af en series tilgås ved at refere til deres indeks:"
   ]
  },
  {
   "cell_type": "code",
   "execution_count": 155,
   "metadata": {},
   "outputs": [
    {
     "name": "stdout",
     "output_type": "stream",
     "text": [
      "Very good\n"
     ]
    }
   ],
   "source": [
    "print(ess2014['health'][122]) #Printer indeks 122"
   ]
  },
  {
   "cell_type": "markdown",
   "metadata": {},
   "source": [
    "Lister kan konverteres direkte til pandas series med `pd.Series()`:"
   ]
  },
  {
   "cell_type": "code",
   "execution_count": 156,
   "metadata": {},
   "outputs": [
    {
     "name": "stdout",
     "output_type": "stream",
     "text": [
      "[1, 5, 9, 12, 18]\n",
      "0     1\n",
      "1     5\n",
      "2     9\n",
      "3    12\n",
      "4    18\n",
      "dtype: int64\n"
     ]
    }
   ],
   "source": [
    "a_list = [1, 5, 9, 12, 18]\n",
    "a_series = pd.Series(a_list)\n",
    "\n",
    "print(a_list)\n",
    "print(a_series)"
   ]
  },
  {
   "cell_type": "markdown",
   "metadata": {},
   "source": [
    "Læg i ovenstående mærke til, at når en series printes, printes elementernes indeks ud også. Dette er fordi, at man selv kan specificere indeksværdier i en pandas series:"
   ]
  },
  {
   "cell_type": "code",
   "execution_count": 157,
   "metadata": {},
   "outputs": [
    {
     "name": "stdout",
     "output_type": "stream",
     "text": [
      "value1     1\n",
      "value2     5\n",
      "value3     9\n",
      "value4    12\n",
      "value5    18\n",
      "dtype: int64\n"
     ]
    }
   ],
   "source": [
    "values = [\"value1\", \"value2\", \"value3\", \"value4\", \"value5\"]\n",
    "a_series = pd.Series(a_list, index = values)\n",
    "\n",
    "print(a_series)"
   ]
  },
  {
   "cell_type": "markdown",
   "metadata": {},
   "source": [
    "Gives en serie indeksværdier, kan enkeltelementer referes til både med deres indeksnummer og indeksværdi:"
   ]
  },
  {
   "cell_type": "code",
   "execution_count": 158,
   "metadata": {},
   "outputs": [
    {
     "name": "stdout",
     "output_type": "stream",
     "text": [
      "9\n",
      "9\n"
     ]
    }
   ],
   "source": [
    "print(a_series[2]) # Printer den 3. værdi ud fra indeksnummer (indeks 2)\n",
    "print(a_series['value3']) # Printer den 3. værdi ud fra indeksværdi (\"value3\")"
   ]
  },
  {
   "cell_type": "markdown",
   "metadata": {},
   "source": [
    "**Operationer på serier**\n",
    "\n",
    "Den store forskel på lister og pandas series er, at man kan foretage beregninger direkte på serier.\n",
    "\n",
    "Fx kan man ikke multiplicere enkeltværdierne i en liste direkte (nedenstående printer bare listen 2 gange):"
   ]
  },
  {
   "cell_type": "code",
   "execution_count": 159,
   "metadata": {},
   "outputs": [
    {
     "data": {
      "text/plain": [
       "[1, 5, 9, 12, 18, 1, 5, 9, 12, 18]"
      ]
     },
     "execution_count": 159,
     "metadata": {},
     "output_type": "execute_result"
    }
   ],
   "source": [
    "a_list * 2"
   ]
  },
  {
   "cell_type": "markdown",
   "metadata": {},
   "source": [
    "Pandas series kan man derimod foretage operationer direkte på:"
   ]
  },
  {
   "cell_type": "code",
   "execution_count": 160,
   "metadata": {},
   "outputs": [
    {
     "data": {
      "text/plain": [
       "value1     2\n",
       "value2    10\n",
       "value3    18\n",
       "value4    24\n",
       "value5    36\n",
       "dtype: int64"
      ]
     },
     "execution_count": 160,
     "metadata": {},
     "output_type": "execute_result"
    }
   ],
   "source": [
    "a_series * 2"
   ]
  },
  {
   "cell_type": "markdown",
   "metadata": {},
   "source": [
    "Dette gør også, at man kan bruge funktioner fra fx `numpy` til at udregne forskellige mål ud fra en series.\n",
    "\n",
    "Herunder udregnes fx middelværdi for `a_series`:"
   ]
  },
  {
   "cell_type": "code",
   "execution_count": 161,
   "metadata": {},
   "outputs": [
    {
     "data": {
      "text/plain": [
       "9.0"
      ]
     },
     "execution_count": 161,
     "metadata": {},
     "output_type": "execute_result"
    }
   ],
   "source": [
    "import numpy as np\n",
    "\n",
    "np.mean(a_series)"
   ]
  },
  {
   "cell_type": "markdown",
   "metadata": {},
   "source": [
    "---\n",
    "## ØVELSE: Indlæs datasæt\n",
    "\n",
    "1. Indlæs datasættet ESS2014DK med `pd.read_csv()`. Funktionen kan indlæse data direkte fra et link (husk at importere pandas biblioteket).\n",
    "\n",
    "    - Link til data: https://github.com/CALDISS-AAU/workshop_python-data-analysis/raw/master/datasets/ESS2014DK_subset.csv\n",
    "    \n",
    "2. Brug `np.mean()` (`numpy.mean()`) til at udregne middelværdien af `height` variablen i datasættet. Hvad er middelværdien?\n"
   ]
  },
  {
   "cell_type": "markdown",
   "metadata": {},
   "source": [
    "\n",
    "{{%expand \"Løsning\" %}} "
   ]
  },
  {
   "cell_type": "code",
   "execution_count": 162,
   "metadata": {},
   "outputs": [
    {
     "name": "stdout",
     "output_type": "stream",
     "text": [
      "173.75217100868403\n"
     ]
    }
   ],
   "source": [
    "import pandas as pd\n",
    "import numpy as np\n",
    "\n",
    "ess2014 = pd.read_csv('https://github.com/CALDISS-AAU/workshop_python-data-analysis/raw/master/datasets/ESS2014DK_subset.csv')\n",
    "\n",
    "print(np.mean(ess2014['height']))"
   ]
  },
  {
   "cell_type": "markdown",
   "metadata": {},
   "source": [
    "{{% /expand%}}\n",
    "\n",
    "---"
   ]
  },
  {
   "cell_type": "markdown",
   "metadata": {},
   "source": [
    "# {#Afsnit}Variabeltyper\n",
    "\n",
    "Man adskiller overordnet mellem to typer af variable; særligt inden for strukuterede datasæt: kontinuerlige og kategoriske. \n",
    "\n",
    "\n",
    "## Kontinuerlige variable\n",
    "\n",
    "Kontinuerlige variable kan tage en nærmest uafgrænset mængde af forskellige numeriske værdier, hvor man ikke i forvejen kan afgrænse, hvilke værdier, som variablen kan antage. Indkomst, vægt og alder er eksempler på kontinuerlige variable. Selvfølgelig er der værdier, som disse variable ikke kan tage - fx negative værdier - men man kan med disse variable ikke vide i forvejen, hvilke værdier, man vil ende ud med. \n",
    "\n",
    "I datasættet ESS2014DK er `weight`, `height` og `yrbrn` eksempler på kontinuerlige variable. \n",
    "\n",
    "Tag fx et kig på værdierne i `height`:"
   ]
  },
  {
   "cell_type": "code",
   "execution_count": 163,
   "metadata": {},
   "outputs": [
    {
     "data": {
      "text/plain": [
       "0    178.0\n",
       "1    172.0\n",
       "2    176.0\n",
       "3    162.0\n",
       "4    175.0\n",
       "5    160.0\n",
       "6    167.0\n",
       "7    194.0\n",
       "8    176.0\n",
       "9    157.0\n",
       "Name: height, dtype: float64"
      ]
     },
     "execution_count": 163,
     "metadata": {},
     "output_type": "execute_result"
    }
   ],
   "source": [
    "ess2014['height'].head(10)"
   ]
  },
  {
   "cell_type": "markdown",
   "metadata": {},
   "source": [
    "Variablen indeholder personens højde i cm og kan derfor antale et stort antal forskellige værdier. Variablen er kontinuerlig, fordi selvom variablen selvfølgelig ikke kan antage alle værdier (fx -157 eller 1.234), så kan det ikke i forvejen afgrænses præcist, hvilke værdier der vil ende i datasættet."
   ]
  },
  {
   "cell_type": "markdown",
   "metadata": {},
   "source": [
    "## Kategoriske variable\n",
    "\n",
    "Kategoriske variable kan i modsætning til kontinuerlige kun antage et afgrænset og i forvejen defineret sæt af værdier. \n",
    "\n",
    "Fødselskommune, partitilhør eller hvorvidt man kan lide jazz, er eksempler på kategoriske variable. Spørgsmål i spørgeskemaer med forhåndsdefinerede svarmuligheder er altid kategoriske. \n",
    "\n",
    "I datasættet ESS2014DK er `happy`, `health` og `alcfreq` eksempler på kategoriske variable.\n",
    "\n",
    "Tag et kig på værdierne i `health`:"
   ]
  },
  {
   "cell_type": "code",
   "execution_count": 164,
   "metadata": {},
   "outputs": [
    {
     "data": {
      "text/plain": [
       "0    Very good\n",
       "1    Very good\n",
       "2         Good\n",
       "3         Good\n",
       "4    Very good\n",
       "5         Fair\n",
       "6         Good\n",
       "7         Fair\n",
       "8         Fair\n",
       "9         Good\n",
       "Name: health, dtype: object"
      ]
     },
     "execution_count": 164,
     "metadata": {},
     "output_type": "execute_result"
    }
   ],
   "source": [
    "ess2014['health'].head(10)"
   ]
  },
  {
   "cell_type": "markdown",
   "metadata": {},
   "source": [
    "Variablen indeholder personens vurdering af eget helbred fra \"Very bad\" til \"Very good\". Det er derfor i forvejen afgrænset, hvilke værdier, der kan optræde i datasættet, hvorfor den er kategorisk."
   ]
  },
  {
   "cell_type": "markdown",
   "metadata": {},
   "source": [
    "---\n",
    "## VIDENSCHECK\n",
    "\n",
    "Tag et kig på variablerne `cgtsday` og `ppltrst`. \n",
    "\n",
    "*Hvilken type variabel er de?*\n",
    "\n",
    "{{%expand \"Løsning\" %}} `cgtsday` er kontinuerlig, da den kan antage et ikke i forvejen afgrænset forskellige numeriske værdier. \n",
    "\n",
    "`ppltrst` er kategorisk, da den kun kan antage i forvejen definerede værdier.\n",
    "\n",
    "{{%/expand %}}\n",
    "\n",
    "---"
   ]
  },
  {
   "cell_type": "markdown",
   "metadata": {},
   "source": [
    "# {#Kapitel}Udforsk Data i Python\n",
    "\n",
    "Med datasættet indlæst, kan forskellige funktioner bruges til at udforske indholdet i data - enten ved at beregne forskellige deskriptive mål eller ved at foretage visualiseringer."
   ]
  },
  {
   "cell_type": "markdown",
   "metadata": {},
   "source": [
    "# {#Afsnit}Deskriptive mål\n",
    "\n",
    "Én måde at udforske et datasæt er ved at se nærmere på forskellige deskriptive mål for variable i datasættet.\n",
    "\n",
    "Metoden `.describe()` danner deskriptive mål for alle (kompatible) variable i datasættet:"
   ]
  },
  {
   "cell_type": "code",
   "execution_count": 165,
   "metadata": {},
   "outputs": [
    {
     "data": {
      "text/html": [
       "<div>\n",
       "<style scoped>\n",
       "    .dataframe tbody tr th:only-of-type {\n",
       "        vertical-align: middle;\n",
       "    }\n",
       "\n",
       "    .dataframe tbody tr th {\n",
       "        vertical-align: top;\n",
       "    }\n",
       "\n",
       "    .dataframe thead th {\n",
       "        text-align: right;\n",
       "    }\n",
       "</style>\n",
       "<table border=\"1\" class=\"dataframe\">\n",
       "  <thead>\n",
       "    <tr style=\"text-align: right;\">\n",
       "      <th></th>\n",
       "      <th>idno</th>\n",
       "      <th>cgtsday</th>\n",
       "      <th>height</th>\n",
       "      <th>weight</th>\n",
       "      <th>yrbrn</th>\n",
       "    </tr>\n",
       "  </thead>\n",
       "  <tbody>\n",
       "    <tr>\n",
       "      <th>count</th>\n",
       "      <td>1502.000000</td>\n",
       "      <td>330.000000</td>\n",
       "      <td>1497.000000</td>\n",
       "      <td>1473.000000</td>\n",
       "      <td>1502.000000</td>\n",
       "    </tr>\n",
       "    <tr>\n",
       "      <th>mean</th>\n",
       "      <td>935551.059254</td>\n",
       "      <td>12.000000</td>\n",
       "      <td>173.752171</td>\n",
       "      <td>75.855261</td>\n",
       "      <td>1965.891478</td>\n",
       "    </tr>\n",
       "    <tr>\n",
       "      <th>std</th>\n",
       "      <td>8588.682562</td>\n",
       "      <td>9.237495</td>\n",
       "      <td>9.625371</td>\n",
       "      <td>15.599516</td>\n",
       "      <td>18.946140</td>\n",
       "    </tr>\n",
       "    <tr>\n",
       "      <th>min</th>\n",
       "      <td>921018.000000</td>\n",
       "      <td>0.000000</td>\n",
       "      <td>142.000000</td>\n",
       "      <td>38.000000</td>\n",
       "      <td>1914.000000</td>\n",
       "    </tr>\n",
       "    <tr>\n",
       "      <th>25%</th>\n",
       "      <td>928066.500000</td>\n",
       "      <td>5.000000</td>\n",
       "      <td>167.000000</td>\n",
       "      <td>65.000000</td>\n",
       "      <td>1951.000000</td>\n",
       "    </tr>\n",
       "    <tr>\n",
       "      <th>50%</th>\n",
       "      <td>935772.000000</td>\n",
       "      <td>10.000000</td>\n",
       "      <td>173.000000</td>\n",
       "      <td>74.000000</td>\n",
       "      <td>1966.000000</td>\n",
       "    </tr>\n",
       "    <tr>\n",
       "      <th>75%</th>\n",
       "      <td>942859.500000</td>\n",
       "      <td>20.000000</td>\n",
       "      <td>180.000000</td>\n",
       "      <td>85.000000</td>\n",
       "      <td>1981.000000</td>\n",
       "    </tr>\n",
       "    <tr>\n",
       "      <th>max</th>\n",
       "      <td>950516.000000</td>\n",
       "      <td>102.000000</td>\n",
       "      <td>204.000000</td>\n",
       "      <td>137.000000</td>\n",
       "      <td>1999.000000</td>\n",
       "    </tr>\n",
       "  </tbody>\n",
       "</table>\n",
       "</div>"
      ],
      "text/plain": [
       "                idno     cgtsday       height       weight        yrbrn\n",
       "count    1502.000000  330.000000  1497.000000  1473.000000  1502.000000\n",
       "mean   935551.059254   12.000000   173.752171    75.855261  1965.891478\n",
       "std      8588.682562    9.237495     9.625371    15.599516    18.946140\n",
       "min    921018.000000    0.000000   142.000000    38.000000  1914.000000\n",
       "25%    928066.500000    5.000000   167.000000    65.000000  1951.000000\n",
       "50%    935772.000000   10.000000   173.000000    74.000000  1966.000000\n",
       "75%    942859.500000   20.000000   180.000000    85.000000  1981.000000\n",
       "max    950516.000000  102.000000   204.000000   137.000000  1999.000000"
      ]
     },
     "execution_count": 165,
     "metadata": {},
     "output_type": "execute_result"
    }
   ],
   "source": [
    "ess2014.describe()"
   ]
  },
  {
   "cell_type": "markdown",
   "metadata": {},
   "source": [
    "Metoden fungerer også på enkeltvariable:"
   ]
  },
  {
   "cell_type": "code",
   "execution_count": 166,
   "metadata": {},
   "outputs": [
    {
     "data": {
      "text/plain": [
       "count    1473.000000\n",
       "mean       75.855261\n",
       "std        15.599516\n",
       "min        38.000000\n",
       "25%        65.000000\n",
       "50%        74.000000\n",
       "75%        85.000000\n",
       "max       137.000000\n",
       "Name: weight, dtype: float64"
      ]
     },
     "execution_count": 166,
     "metadata": {},
     "output_type": "execute_result"
    }
   ],
   "source": [
    "ess2014['weight'].describe()"
   ]
  },
  {
   "cell_type": "markdown",
   "metadata": {},
   "source": [
    "`.describe()` danner følgende mål:\n",
    "- `count`: Antal svar ekskl. missing\n",
    "- `mean`: Middelværdien\n",
    "- `std`: Standardafvigelsen\n",
    "- `min`: Minimumværdien\n",
    "- `25%`: 1. kvartil\n",
    "- `50%`: 2. kvartil\n",
    "- `75%`: 3. kvartil\n",
    "- `max`: Maksimumværdien"
   ]
  },
  {
   "cell_type": "markdown",
   "metadata": {},
   "source": [
    "Der knytter sig også en række metoder til at danne de enkelte deskriptive mål.\n",
    "\n",
    "Herunder printes fx middelværdien, standardafvigelsen, minimums- og maksimumsværdien for variablen `weight`:"
   ]
  },
  {
   "cell_type": "code",
   "execution_count": 167,
   "metadata": {},
   "outputs": [
    {
     "name": "stdout",
     "output_type": "stream",
     "text": [
      "75.85526137135099\n",
      "15.599515776965527\n",
      "38.0\n",
      "137.0\n"
     ]
    }
   ],
   "source": [
    "import numpy as np\n",
    "\n",
    "print(ess2014['weight'].mean())\n",
    "print(ess2014['weight'].std())\n",
    "print(ess2014['weight'].min())\n",
    "print(ess2014['weight'].max())"
   ]
  },
  {
   "cell_type": "code",
   "execution_count": 168,
   "metadata": {},
   "outputs": [
    {
     "data": {
      "text/plain": [
       "float"
      ]
     },
     "execution_count": 168,
     "metadata": {},
     "output_type": "execute_result"
    }
   ],
   "source": [
    "type(ess2014['weight'].std())"
   ]
  },
  {
   "cell_type": "markdown",
   "metadata": {},
   "source": [
    "Ovenstående værdier fortæller, at `weight` indeholder værdier fra 38.0 til 137.0 med en middelværdi på 75.86 og en standardafvigelse på 15.59 (middelværdien af de afstande, som hver observation afviger fra middelværdien)."
   ]
  },
  {
   "cell_type": "markdown",
   "metadata": {},
   "source": [
    "## Deskriptive mål og kategoriske variable\n",
    "\n",
    "Sammenlignes outputtet fra `.describe()` med indholdet af datasættet ses, at der ikke udregnes deskriptive mål for alle variable. \n",
    "\n",
    "Når `.describe()` bruges på et hel dataframe, udregnes kun mål for numeriske variabeltyper; altså variable, der kun består af tal.\n",
    "\n",
    "Metoden kan dog også bruges på en kategorisk variabel som `ppltrst`:"
   ]
  },
  {
   "cell_type": "code",
   "execution_count": 169,
   "metadata": {},
   "outputs": [
    {
     "data": {
      "text/plain": [
       "count     1500\n",
       "unique      11\n",
       "top          8\n",
       "freq       475\n",
       "Name: ppltrst, dtype: object"
      ]
     },
     "execution_count": 169,
     "metadata": {},
     "output_type": "execute_result"
    }
   ],
   "source": [
    "ess2014['ppltrst'].describe()"
   ]
  },
  {
   "cell_type": "markdown",
   "metadata": {},
   "source": [
    "**Hvornår er en variabel kategorisk?**\n",
    "\n",
    "Det kan måske give anledning til undren, hvorfor der fx ikke kan beregnes en middelværdi af `ppltrst`, da variablen umiddelbart indeholder tal:"
   ]
  },
  {
   "cell_type": "code",
   "execution_count": 170,
   "metadata": {},
   "outputs": [
    {
     "data": {
      "text/plain": [
       "0    6\n",
       "1    8\n",
       "2    8\n",
       "3    8\n",
       "4    5\n",
       "Name: ppltrst, dtype: object"
      ]
     },
     "execution_count": 170,
     "metadata": {},
     "output_type": "execute_result"
    }
   ],
   "source": [
    "ess2014['ppltrst'].head()"
   ]
  },
  {
   "cell_type": "markdown",
   "metadata": {},
   "source": [
    "Ved et nærmere kig viser det sig dog, at variablen også indeholder tekstværdier.\n",
    "\n",
    "`.unique()` returnerer de unikke værdier i variablen:"
   ]
  },
  {
   "cell_type": "code",
   "execution_count": 171,
   "metadata": {},
   "outputs": [
    {
     "data": {
      "text/plain": [
       "array(['6', '8', '5', '9', '7', '3', '4', 'Most people can be trusted',\n",
       "       '2', \"You can't be too careful\", '1', nan], dtype=object)"
      ]
     },
     "execution_count": 171,
     "metadata": {},
     "output_type": "execute_result"
    }
   ],
   "source": [
    "ess2014['ppltrst'].unique()"
   ]
  },
  {
   "cell_type": "markdown",
   "metadata": {},
   "source": [
    "Af ovenstående ses, at variablen indeholder tekstværdierne \"Most people can be trusted\" (svarende til 10 på skalaen) og \"You can't be too careful\" (svarende til 0 på skalaen).\n",
    "\n",
    "Hvis der skal udregnes middelværdi på denne variablen, skal værdierne først konverteres om til numeriske værdier (mere om dette senere)."
   ]
  },
  {
   "cell_type": "markdown",
   "metadata": {},
   "source": [
    "---\n",
    "## ØVELSE: Deskriptive mål\n",
    "\n",
    "Brug `.describe()` eller passende numpy kommandoer til at finde ud af følgende:\n",
    "\n",
    "- Hvor gammel er den yngste person i datasættet?\n",
    "- Hvor gammel er den ældste person i datasættet?\n",
    "- Hvad er gennemsnitsalderen i datasættet?\n",
    "\n",
    "Husk at datasættet er fra 2014."
   ]
  },
  {
   "cell_type": "markdown",
   "metadata": {},
   "source": [
    "{{%expand \"Løsning\" %}}\n"
   ]
  },
  {
   "cell_type": "code",
   "execution_count": 172,
   "metadata": {},
   "outputs": [
    {
     "name": "stdout",
     "output_type": "stream",
     "text": [
      "15 100 48.108521970705624\n"
     ]
    }
   ],
   "source": [
    "min_age = 2014 - ess2014['yrbrn'].max()\n",
    "max_age = 2014 - ess2014['yrbrn'].min()\n",
    "mean_age = 2014 - ess2014['yrbrn'].mean()\n",
    "\n",
    "print(min_age, max_age, mean_age)"
   ]
  },
  {
   "cell_type": "markdown",
   "metadata": {},
   "source": [
    "{{% notice tip %}} Brug \"f-strings\" til at indsætte python-objekter direkte i et stykke tekst: {{%/ notice%}}"
   ]
  },
  {
   "cell_type": "code",
   "execution_count": 173,
   "metadata": {},
   "outputs": [
    {
     "name": "stdout",
     "output_type": "stream",
     "text": [
      "Den yngste person i datasættet er 15 år gammel, den ældste person i datasættet er 100 år gammel og gennemsnitsalderen er 48.108521970705624 år.\n"
     ]
    }
   ],
   "source": [
    "print(f\"Den yngste person i datasættet er {min_age} år gammel, den ældste person i datasættet er {max_age} år gammel og gennemsnitsalderen er {mean_age} år.\")"
   ]
  },
  {
   "cell_type": "markdown",
   "metadata": {},
   "source": [
    "{{% notice tip %}} Brug `np.round()` (fra `numpy`) til at afrunde værdier: {{% /notice%}}"
   ]
  },
  {
   "cell_type": "code",
   "execution_count": 174,
   "metadata": {},
   "outputs": [
    {
     "name": "stdout",
     "output_type": "stream",
     "text": [
      "Gennemsnitsalderen i datasættet er 48.0 år.\n"
     ]
    }
   ],
   "source": [
    "mean_age_rounded = np.round(mean_age, decimals = 0)\n",
    "\n",
    "print(f\"Gennemsnitsalderen i datasættet er {mean_age_rounded} år.\")"
   ]
  },
  {
   "cell_type": "markdown",
   "metadata": {},
   "source": [
    "{{% /expand%}}"
   ]
  },
  {
   "cell_type": "markdown",
   "metadata": {},
   "source": [
    "# {#Afsnit}Visualisering af data med seaborn\n",
    "\n",
    "En god måde at udforske sit datasæt er ved at anvende visualiseringer. På den måde kan man visuelt orientere sig i, hvad data indeholder og hvordan data fordeler sig.\n",
    "\n",
    "I dette afsnit bruges pakken `seaborn` til at danne visualiseringer. `seaborn` bygger ovenpå `matplotlib`, men giver visualiseringerne et mere moderne udseende, og giver flere muligheder for at passe visualiseringen til.\n",
    "\n",
    "Fordi `seaborn` bygger ovenpå `matplotlib` skal begge biblioteker importeres (læg mærke til importkonventionerne). Derefter aktiveres `seaborn` med `sns.set()`. Når aktiveret erstatter `seaborn` standard `matplotlib` plots:"
   ]
  },
  {
   "cell_type": "code",
   "execution_count": 175,
   "metadata": {},
   "outputs": [],
   "source": [
    "%matplotlib inline\n",
    "import matplotlib.pyplot as plt\n",
    "import seaborn as sns\n",
    "\n",
    "sns.set()"
   ]
  },
  {
   "cell_type": "markdown",
   "metadata": {},
   "source": [
    "{{%notice info}} Linjen `%matplotlib inline` er en såkaldt \"magic function\". Den bruges, når man skriver Python i Jupyter Notebook, da den gør sådan, at plots printes direkte i notebooken. Hvis ikke den linje er kørt, vil plots dukke op i et vindue for sig (nogen gange er indstillingen dog sat til i forvejen).\n",
    "\n",
    "{{/%notice}}"
   ]
  },
  {
   "cell_type": "markdown",
   "metadata": {},
   "source": [
    "Når man bruger `seaborn` sammen med `pandas` kan man lave visualiseringer/plots på to måder. Med den ene måde kalder man den specifikke visualiseringsfunktion fra seaborn og specificerer data, som skal bruges i visualisering. Med den anden måde referer man til den specifikke kolonne (series) fra dataframe, som man ønsker at visualisere og specificerer et plot (denne måde virker derfor kun til at visualisere én variabel).\n",
    "\n",
    "## Plotting af series og dataframes\n",
    "\n",
    "Der er en række metoder tilknyttet specifikt til pandas dataframe og series, så man kan danne et plot direkte fra.\n",
    "\n",
    "### Histogram\n",
    "\n",
    "`.plot.hist()` danner fx et histogram over variablen:"
   ]
  },
  {
   "cell_type": "code",
   "execution_count": 176,
   "metadata": {},
   "outputs": [
    {
     "data": {
      "text/plain": [
       "<AxesSubplot:ylabel='Frequency'>"
      ]
     },
     "execution_count": 176,
     "metadata": {},
     "output_type": "execute_result"
    },
    {
     "data": {
      "image/png": "[encoded data removed]",
      "text/plain": [
       "<Figure size 720x432 with 1 Axes>"
      ]
     },
     "metadata": {},
     "output_type": "display_data"
    }
   ],
   "source": [
    "sns.set(rc={'figure.figsize':(10,6)}) # Ændrer størrelsen af plots\n",
    "ess2014['height'].plot.hist()"
   ]
  },
  {
   "cell_type": "markdown",
   "metadata": {},
   "source": [
    "Et histogram viser observationer som bjælker i intervaller sorteret efter værdi (lav til højest). På den måde kan man hurtigt danne sig et overblik over, hvordan data fordeler sig.\n",
    "\n",
    "Af ovenstående ses fx at omkring 340 personer har en højde på omkring 168-173 cm. Desuden ses at meget få har en højde omkring 200 cm.\n",
    "\n",
    "Størrelsen på bjælkerne kan ændres med argumentet `bins = `:"
   ]
  },
  {
   "cell_type": "code",
   "execution_count": 177,
   "metadata": {},
   "outputs": [
    {
     "data": {
      "text/plain": [
       "<AxesSubplot:ylabel='Frequency'>"
      ]
     },
     "execution_count": 177,
     "metadata": {},
     "output_type": "execute_result"
    },
    {
     "data": {
      "image/png": "[encoded data removed]",
      "text/plain": [
       "<Figure size 720x432 with 1 Axes>"
      ]
     },
     "metadata": {},
     "output_type": "display_data"
    }
   ],
   "source": [
    "ess2014['height'].plot.hist(bins = 30)"
   ]
  },
  {
   "cell_type": "markdown",
   "metadata": {},
   "source": [
    "### Boxplot\n",
    "\n",
    "`.plot.box()` danner et boxplot over variablen:"
   ]
  },
  {
   "cell_type": "code",
   "execution_count": 178,
   "metadata": {},
   "outputs": [
    {
     "data": {
      "text/plain": [
       "<AxesSubplot:>"
      ]
     },
     "execution_count": 178,
     "metadata": {},
     "output_type": "execute_result"
    },
    {
     "data": {
      "image/png": "[encoded data removed]",
      "text/plain": [
       "<Figure size 720x432 with 1 Axes>"
      ]
     },
     "metadata": {},
     "output_type": "display_data"
    }
   ],
   "source": [
    "ess2014['height'].plot.box()"
   ]
  },
  {
   "cell_type": "markdown",
   "metadata": {},
   "source": [
    "Et boxplot er en anden måde at se på fordelingen af en variabel. Den vandrette linje i midten er middelværdien. De øvrige linjer angiver (fra top til bund): minimum, 1. kvartil, 3. kvartil, maksimum.\n",
    "\n",
    "Metoden kan også anvendes på en dataframe:"
   ]
  },
  {
   "cell_type": "code",
   "execution_count": 179,
   "metadata": {},
   "outputs": [
    {
     "data": {
      "text/plain": [
       "<AxesSubplot:>"
      ]
     },
     "execution_count": 179,
     "metadata": {},
     "output_type": "execute_result"
    },
    {
     "data": {
      "image/png": "[encoded data removed]",
      "text/plain": [
       "<Figure size 720x432 with 1 Axes>"
      ]
     },
     "metadata": {},
     "output_type": "display_data"
    }
   ],
   "source": [
    "ess2014.plot.box()"
   ]
  },
  {
   "cell_type": "markdown",
   "metadata": {},
   "source": [
    "Ovenstående plot giver ikke meget mening, da variable ikke har sammenlignelige værdier, hvorfor y-aksen bliver helt tosset.\n",
    "\n",
    "Hvis man har et datasættet med flere variable med sammenlignelige værdier, kan man visualisere disse ved at dannet et subset af datasættet og lave et plot (mere om dette senere)."
   ]
  },
  {
   "cell_type": "markdown",
   "metadata": {},
   "source": [
    "### Andre plots\n",
    "\n",
    "Her er nogen andre plots, der kan dannes direkte på baggrund af en series (hvis variabeltypen tillader):\n",
    "\n",
    "- `.plot.bar()`: Danner et barplot over variablen\n",
    "- `.plot.pie()`: Danner et cirkelplotsover variablen\n",
    "- `.plot.line()`: Danner et linjeplot \n",
    "\n",
    "Barplots og cirkelplots egner sig bedre til kategoriske variable. Dog er kategoriske variable i datasættet (fx `happy` og `ppltrst`) lige nu kodet på en måde, der ikke tillader at lave plots over dem.\n",
    "\n",
    "Dette gennemgås senere."
   ]
  },
  {
   "cell_type": "markdown",
   "metadata": {},
   "source": [
    "## Plotting med seaborn\n",
    "\n",
    "Plots kan også dannes ved først at refere specifikt til den plotting funtkion, som man vil bruge, og derefter specificere data.\n",
    "\n",
    "Nedenstående linje danner et scatterplot for `height` og `weight`. Ved `seaborn` plottingfunktioner specificeres, hvilke værdier der skal udgøre x-aksen og hvilke, der skal udgøre y-aksen. `seaborn` forventer typisk series, så man kan specificere series direkte i funktionerne. Dog kan man også, som i nedenstående, specificere kolonne/variabelnavne og til sidst specificere data med argumentet `data = `:"
   ]
  },
  {
   "cell_type": "code",
   "execution_count": 180,
   "metadata": {},
   "outputs": [
    {
     "data": {
      "text/plain": [
       "<AxesSubplot:xlabel='height', ylabel='weight'>"
      ]
     },
     "execution_count": 180,
     "metadata": {},
     "output_type": "execute_result"
    },
    {
     "data": {
      "image/png": "[encoded data removed]",
      "text/plain": [
       "<Figure size 720x432 with 1 Axes>"
      ]
     },
     "metadata": {},
     "output_type": "display_data"
    }
   ],
   "source": [
    "sns.scatterplot(data = ess2014, x = 'height', y = 'weight')"
   ]
  },
  {
   "cell_type": "markdown",
   "metadata": {},
   "source": [
    "Et scatterplot danner en prik for hver observations placering på to variable. Plottet egner sig derfor særdeles godt til at udforske umiddelbare sammenhænge (om en variabel er beslægtet med en anden).\n",
    "\n",
    "Af ovenstående ses det, at vægt tenderer en smule til at stige i takt med højden (hvilket selvfølgelig ikke er overraskende)."
   ]
  },
  {
   "cell_type": "markdown",
   "metadata": {},
   "source": [
    "---\n",
    "## ØVELSE: Plotting\n",
    "\n",
    "Dan et histogram over varialben `yrbrn` i ESS2014DK datasættet.\n",
    "\n",
    "{{%expand \"Løsning\" %}}"
   ]
  },
  {
   "cell_type": "code",
   "execution_count": 181,
   "metadata": {},
   "outputs": [
    {
     "data": {
      "text/plain": [
       "<AxesSubplot:>"
      ]
     },
     "execution_count": 181,
     "metadata": {},
     "output_type": "execute_result"
    },
    {
     "data": {
      "image/png": "[encoded data removed]",
      "text/plain": [
       "<Figure size 720x432 with 1 Axes>"
      ]
     },
     "metadata": {},
     "output_type": "display_data"
    }
   ],
   "source": [
    "ess2014['yrbrn'].hist(bins = 30)"
   ]
  },
  {
   "cell_type": "markdown",
   "metadata": {},
   "source": [
    "{{%/expand}}\n",
    "\n",
    "---"
   ]
  },
  {
   "cell_type": "markdown",
   "metadata": {},
   "source": [
    "# {#Kapitel}Datahåndtering med pandas\n",
    "\n",
    "Indtil videre er data blevet udforsket, som det er. Dog er et datasæt sjældent til at gå lige til, og vil ofte kræve forskellige håndteringer.\n",
    "\n",
    "Typiske datahåndteringer inkluderer:\n",
    "\n",
    "- Udvælge specifikke observationer af variable af datasættet, som er særligt relevante\n",
    "- Rekode variable, fx ved at slå værdier sammen\n",
    "- Danne nye variable, fx på baggrund af eksisterende variable\n",
    "- Ændre typen af variabel, hvis den ikke kan læses ordentlig af Python"
   ]
  },
  {
   "cell_type": "markdown",
   "metadata": {},
   "source": [
    "# {#Afsnit}Subsetting (draft)\n",
    "\n",
    "\"Subsetting\" vil sige at udvælge specifikke dele af data.\n",
    "\n",
    "Man subsetter pandas med metoderne `.loc()` og `.iloc()`. `.loc()` bruges til at subsette ud fra række- og kolonnenavne, mens `.iloc()` bruges til at subsette ud fra række- og kolnneindeks.\n",
    "\n",
    "Format for subsetting: `data.loc[rækker, kolonner]`\n",
    "\n",
    "Selekter bestemte rækker:"
   ]
  },
  {
   "cell_type": "code",
   "execution_count": 182,
   "metadata": {},
   "outputs": [
    {
     "data": {
      "text/html": [
       "<div>\n",
       "<style scoped>\n",
       "    .dataframe tbody tr th:only-of-type {\n",
       "        vertical-align: middle;\n",
       "    }\n",
       "\n",
       "    .dataframe tbody tr th {\n",
       "        vertical-align: top;\n",
       "    }\n",
       "\n",
       "    .dataframe thead th {\n",
       "        text-align: right;\n",
       "    }\n",
       "</style>\n",
       "<table border=\"1\" class=\"dataframe\">\n",
       "  <thead>\n",
       "    <tr style=\"text-align: right;\">\n",
       "      <th></th>\n",
       "      <th>idno</th>\n",
       "      <th>ppltrst</th>\n",
       "      <th>happy</th>\n",
       "      <th>health</th>\n",
       "      <th>cgtsday</th>\n",
       "      <th>alcfreq</th>\n",
       "      <th>height</th>\n",
       "      <th>weight</th>\n",
       "      <th>gndr</th>\n",
       "      <th>yrbrn</th>\n",
       "    </tr>\n",
       "  </thead>\n",
       "  <tbody>\n",
       "    <tr>\n",
       "      <th>2</th>\n",
       "      <td>921034</td>\n",
       "      <td>8</td>\n",
       "      <td>8</td>\n",
       "      <td>Good</td>\n",
       "      <td>NaN</td>\n",
       "      <td>Every day</td>\n",
       "      <td>176.0</td>\n",
       "      <td>87.0</td>\n",
       "      <td>Male</td>\n",
       "      <td>1957</td>\n",
       "    </tr>\n",
       "    <tr>\n",
       "      <th>3</th>\n",
       "      <td>921076</td>\n",
       "      <td>8</td>\n",
       "      <td>8</td>\n",
       "      <td>Good</td>\n",
       "      <td>NaN</td>\n",
       "      <td>Several times a week</td>\n",
       "      <td>162.0</td>\n",
       "      <td>70.0</td>\n",
       "      <td>Female</td>\n",
       "      <td>1958</td>\n",
       "    </tr>\n",
       "    <tr>\n",
       "      <th>4</th>\n",
       "      <td>921084</td>\n",
       "      <td>5</td>\n",
       "      <td>8</td>\n",
       "      <td>Very good</td>\n",
       "      <td>NaN</td>\n",
       "      <td>Every day</td>\n",
       "      <td>175.0</td>\n",
       "      <td>80.0</td>\n",
       "      <td>Male</td>\n",
       "      <td>1936</td>\n",
       "    </tr>\n",
       "    <tr>\n",
       "      <th>5</th>\n",
       "      <td>921131</td>\n",
       "      <td>8</td>\n",
       "      <td>8</td>\n",
       "      <td>Fair</td>\n",
       "      <td>NaN</td>\n",
       "      <td>Several times a week</td>\n",
       "      <td>160.0</td>\n",
       "      <td>70.0</td>\n",
       "      <td>Female</td>\n",
       "      <td>1940</td>\n",
       "    </tr>\n",
       "    <tr>\n",
       "      <th>6</th>\n",
       "      <td>921165</td>\n",
       "      <td>8</td>\n",
       "      <td>Extremely happy</td>\n",
       "      <td>Good</td>\n",
       "      <td>NaN</td>\n",
       "      <td>Once a week</td>\n",
       "      <td>167.0</td>\n",
       "      <td>78.0</td>\n",
       "      <td>Female</td>\n",
       "      <td>1965</td>\n",
       "    </tr>\n",
       "    <tr>\n",
       "      <th>7</th>\n",
       "      <td>921181</td>\n",
       "      <td>9</td>\n",
       "      <td>9</td>\n",
       "      <td>Fair</td>\n",
       "      <td>NaN</td>\n",
       "      <td>Once a week</td>\n",
       "      <td>194.0</td>\n",
       "      <td>102.0</td>\n",
       "      <td>Male</td>\n",
       "      <td>1956</td>\n",
       "    </tr>\n",
       "    <tr>\n",
       "      <th>8</th>\n",
       "      <td>921199</td>\n",
       "      <td>9</td>\n",
       "      <td>8</td>\n",
       "      <td>Fair</td>\n",
       "      <td>20.0</td>\n",
       "      <td>2-3 times a month</td>\n",
       "      <td>176.0</td>\n",
       "      <td>62.0</td>\n",
       "      <td>Female</td>\n",
       "      <td>1993</td>\n",
       "    </tr>\n",
       "    <tr>\n",
       "      <th>9</th>\n",
       "      <td>921204</td>\n",
       "      <td>9</td>\n",
       "      <td>8</td>\n",
       "      <td>Good</td>\n",
       "      <td>NaN</td>\n",
       "      <td>Once a week</td>\n",
       "      <td>157.0</td>\n",
       "      <td>48.0</td>\n",
       "      <td>Female</td>\n",
       "      <td>1941</td>\n",
       "    </tr>\n",
       "    <tr>\n",
       "      <th>10</th>\n",
       "      <td>921220</td>\n",
       "      <td>8</td>\n",
       "      <td>8</td>\n",
       "      <td>Fair</td>\n",
       "      <td>NaN</td>\n",
       "      <td>Every day</td>\n",
       "      <td>178.0</td>\n",
       "      <td>80.0</td>\n",
       "      <td>Male</td>\n",
       "      <td>1949</td>\n",
       "    </tr>\n",
       "  </tbody>\n",
       "</table>\n",
       "</div>"
      ],
      "text/plain": [
       "      idno ppltrst            happy     health  cgtsday               alcfreq  \\\n",
       "2   921034       8                8       Good      NaN             Every day   \n",
       "3   921076       8                8       Good      NaN  Several times a week   \n",
       "4   921084       5                8  Very good      NaN             Every day   \n",
       "5   921131       8                8       Fair      NaN  Several times a week   \n",
       "6   921165       8  Extremely happy       Good      NaN           Once a week   \n",
       "7   921181       9                9       Fair      NaN           Once a week   \n",
       "8   921199       9                8       Fair     20.0     2-3 times a month   \n",
       "9   921204       9                8       Good      NaN           Once a week   \n",
       "10  921220       8                8       Fair      NaN             Every day   \n",
       "\n",
       "    height  weight    gndr  yrbrn  \n",
       "2    176.0    87.0    Male   1957  \n",
       "3    162.0    70.0  Female   1958  \n",
       "4    175.0    80.0    Male   1936  \n",
       "5    160.0    70.0  Female   1940  \n",
       "6    167.0    78.0  Female   1965  \n",
       "7    194.0   102.0    Male   1956  \n",
       "8    176.0    62.0  Female   1993  \n",
       "9    157.0    48.0  Female   1941  \n",
       "10   178.0    80.0    Male   1949  "
      ]
     },
     "execution_count": 182,
     "metadata": {},
     "output_type": "execute_result"
    }
   ],
   "source": [
    "ess2014.loc[2:10, :]"
   ]
  },
  {
   "cell_type": "markdown",
   "metadata": {},
   "source": [
    "Selekter bestemte kolonner (specificeres som en liste):"
   ]
  },
  {
   "cell_type": "code",
   "execution_count": 183,
   "metadata": {},
   "outputs": [
    {
     "data": {
      "text/html": [
       "<div>\n",
       "<style scoped>\n",
       "    .dataframe tbody tr th:only-of-type {\n",
       "        vertical-align: middle;\n",
       "    }\n",
       "\n",
       "    .dataframe tbody tr th {\n",
       "        vertical-align: top;\n",
       "    }\n",
       "\n",
       "    .dataframe thead th {\n",
       "        text-align: right;\n",
       "    }\n",
       "</style>\n",
       "<table border=\"1\" class=\"dataframe\">\n",
       "  <thead>\n",
       "    <tr style=\"text-align: right;\">\n",
       "      <th></th>\n",
       "      <th>gndr</th>\n",
       "      <th>alcfreq</th>\n",
       "    </tr>\n",
       "  </thead>\n",
       "  <tbody>\n",
       "    <tr>\n",
       "      <th>0</th>\n",
       "      <td>Male</td>\n",
       "      <td>2-3 times a month</td>\n",
       "    </tr>\n",
       "    <tr>\n",
       "      <th>1</th>\n",
       "      <td>Female</td>\n",
       "      <td>Several times a week</td>\n",
       "    </tr>\n",
       "    <tr>\n",
       "      <th>2</th>\n",
       "      <td>Male</td>\n",
       "      <td>Every day</td>\n",
       "    </tr>\n",
       "    <tr>\n",
       "      <th>3</th>\n",
       "      <td>Female</td>\n",
       "      <td>Several times a week</td>\n",
       "    </tr>\n",
       "    <tr>\n",
       "      <th>4</th>\n",
       "      <td>Male</td>\n",
       "      <td>Every day</td>\n",
       "    </tr>\n",
       "  </tbody>\n",
       "</table>\n",
       "</div>"
      ],
      "text/plain": [
       "     gndr               alcfreq\n",
       "0    Male     2-3 times a month\n",
       "1  Female  Several times a week\n",
       "2    Male             Every day\n",
       "3  Female  Several times a week\n",
       "4    Male             Every day"
      ]
     },
     "execution_count": 183,
     "metadata": {},
     "output_type": "execute_result"
    }
   ],
   "source": [
    "ess2014.loc[:, ['gndr', 'alcfreq']].head()"
   ]
  },
  {
   "cell_type": "markdown",
   "metadata": {},
   "source": [
    "Selekter bestemte rækker og kolonner:"
   ]
  },
  {
   "cell_type": "code",
   "execution_count": 184,
   "metadata": {},
   "outputs": [
    {
     "data": {
      "text/html": [
       "<div>\n",
       "<style scoped>\n",
       "    .dataframe tbody tr th:only-of-type {\n",
       "        vertical-align: middle;\n",
       "    }\n",
       "\n",
       "    .dataframe tbody tr th {\n",
       "        vertical-align: top;\n",
       "    }\n",
       "\n",
       "    .dataframe thead th {\n",
       "        text-align: right;\n",
       "    }\n",
       "</style>\n",
       "<table border=\"1\" class=\"dataframe\">\n",
       "  <thead>\n",
       "    <tr style=\"text-align: right;\">\n",
       "      <th></th>\n",
       "      <th>gndr</th>\n",
       "      <th>alcfreq</th>\n",
       "    </tr>\n",
       "  </thead>\n",
       "  <tbody>\n",
       "    <tr>\n",
       "      <th>2</th>\n",
       "      <td>Male</td>\n",
       "      <td>Every day</td>\n",
       "    </tr>\n",
       "    <tr>\n",
       "      <th>3</th>\n",
       "      <td>Female</td>\n",
       "      <td>Several times a week</td>\n",
       "    </tr>\n",
       "    <tr>\n",
       "      <th>4</th>\n",
       "      <td>Male</td>\n",
       "      <td>Every day</td>\n",
       "    </tr>\n",
       "    <tr>\n",
       "      <th>5</th>\n",
       "      <td>Female</td>\n",
       "      <td>Several times a week</td>\n",
       "    </tr>\n",
       "    <tr>\n",
       "      <th>6</th>\n",
       "      <td>Female</td>\n",
       "      <td>Once a week</td>\n",
       "    </tr>\n",
       "    <tr>\n",
       "      <th>7</th>\n",
       "      <td>Male</td>\n",
       "      <td>Once a week</td>\n",
       "    </tr>\n",
       "    <tr>\n",
       "      <th>8</th>\n",
       "      <td>Female</td>\n",
       "      <td>2-3 times a month</td>\n",
       "    </tr>\n",
       "    <tr>\n",
       "      <th>9</th>\n",
       "      <td>Female</td>\n",
       "      <td>Once a week</td>\n",
       "    </tr>\n",
       "    <tr>\n",
       "      <th>10</th>\n",
       "      <td>Male</td>\n",
       "      <td>Every day</td>\n",
       "    </tr>\n",
       "  </tbody>\n",
       "</table>\n",
       "</div>"
      ],
      "text/plain": [
       "      gndr               alcfreq\n",
       "2     Male             Every day\n",
       "3   Female  Several times a week\n",
       "4     Male             Every day\n",
       "5   Female  Several times a week\n",
       "6   Female           Once a week\n",
       "7     Male           Once a week\n",
       "8   Female     2-3 times a month\n",
       "9   Female           Once a week\n",
       "10    Male             Every day"
      ]
     },
     "execution_count": 184,
     "metadata": {},
     "output_type": "execute_result"
    }
   ],
   "source": [
    "ess2014.loc[2:10, ['gndr', 'alcfreq']]"
   ]
  },
  {
   "cell_type": "markdown",
   "metadata": {},
   "source": [
    "Selekter ud fra kolonneindeks:"
   ]
  },
  {
   "cell_type": "code",
   "execution_count": 185,
   "metadata": {},
   "outputs": [
    {
     "data": {
      "text/html": [
       "<div>\n",
       "<style scoped>\n",
       "    .dataframe tbody tr th:only-of-type {\n",
       "        vertical-align: middle;\n",
       "    }\n",
       "\n",
       "    .dataframe tbody tr th {\n",
       "        vertical-align: top;\n",
       "    }\n",
       "\n",
       "    .dataframe thead th {\n",
       "        text-align: right;\n",
       "    }\n",
       "</style>\n",
       "<table border=\"1\" class=\"dataframe\">\n",
       "  <thead>\n",
       "    <tr style=\"text-align: right;\">\n",
       "      <th></th>\n",
       "      <th>gndr</th>\n",
       "      <th>height</th>\n",
       "    </tr>\n",
       "  </thead>\n",
       "  <tbody>\n",
       "    <tr>\n",
       "      <th>2</th>\n",
       "      <td>Male</td>\n",
       "      <td>176.0</td>\n",
       "    </tr>\n",
       "    <tr>\n",
       "      <th>3</th>\n",
       "      <td>Female</td>\n",
       "      <td>162.0</td>\n",
       "    </tr>\n",
       "    <tr>\n",
       "      <th>4</th>\n",
       "      <td>Male</td>\n",
       "      <td>175.0</td>\n",
       "    </tr>\n",
       "    <tr>\n",
       "      <th>5</th>\n",
       "      <td>Female</td>\n",
       "      <td>160.0</td>\n",
       "    </tr>\n",
       "    <tr>\n",
       "      <th>6</th>\n",
       "      <td>Female</td>\n",
       "      <td>167.0</td>\n",
       "    </tr>\n",
       "    <tr>\n",
       "      <th>7</th>\n",
       "      <td>Male</td>\n",
       "      <td>194.0</td>\n",
       "    </tr>\n",
       "    <tr>\n",
       "      <th>8</th>\n",
       "      <td>Female</td>\n",
       "      <td>176.0</td>\n",
       "    </tr>\n",
       "    <tr>\n",
       "      <th>9</th>\n",
       "      <td>Female</td>\n",
       "      <td>157.0</td>\n",
       "    </tr>\n",
       "  </tbody>\n",
       "</table>\n",
       "</div>"
      ],
      "text/plain": [
       "     gndr  height\n",
       "2    Male   176.0\n",
       "3  Female   162.0\n",
       "4    Male   175.0\n",
       "5  Female   160.0\n",
       "6  Female   167.0\n",
       "7    Male   194.0\n",
       "8  Female   176.0\n",
       "9  Female   157.0"
      ]
     },
     "execution_count": 185,
     "metadata": {},
     "output_type": "execute_result"
    }
   ],
   "source": [
    "ess2014.iloc[2:10, [8, 6]]"
   ]
  },
  {
   "cell_type": "markdown",
   "metadata": {},
   "source": [
    "Bemærk at datasæt ikke ændres. Hvis subset skal gemmes, skal det gemmes i et nyt objekt (ny dataframe):"
   ]
  },
  {
   "cell_type": "code",
   "execution_count": 186,
   "metadata": {},
   "outputs": [
    {
     "data": {
      "text/html": [
       "<div>\n",
       "<style scoped>\n",
       "    .dataframe tbody tr th:only-of-type {\n",
       "        vertical-align: middle;\n",
       "    }\n",
       "\n",
       "    .dataframe tbody tr th {\n",
       "        vertical-align: top;\n",
       "    }\n",
       "\n",
       "    .dataframe thead th {\n",
       "        text-align: right;\n",
       "    }\n",
       "</style>\n",
       "<table border=\"1\" class=\"dataframe\">\n",
       "  <thead>\n",
       "    <tr style=\"text-align: right;\">\n",
       "      <th></th>\n",
       "      <th>gndr</th>\n",
       "      <th>alcfreq</th>\n",
       "    </tr>\n",
       "  </thead>\n",
       "  <tbody>\n",
       "    <tr>\n",
       "      <th>2</th>\n",
       "      <td>Male</td>\n",
       "      <td>Every day</td>\n",
       "    </tr>\n",
       "    <tr>\n",
       "      <th>3</th>\n",
       "      <td>Female</td>\n",
       "      <td>Several times a week</td>\n",
       "    </tr>\n",
       "    <tr>\n",
       "      <th>4</th>\n",
       "      <td>Male</td>\n",
       "      <td>Every day</td>\n",
       "    </tr>\n",
       "    <tr>\n",
       "      <th>5</th>\n",
       "      <td>Female</td>\n",
       "      <td>Several times a week</td>\n",
       "    </tr>\n",
       "    <tr>\n",
       "      <th>6</th>\n",
       "      <td>Female</td>\n",
       "      <td>Once a week</td>\n",
       "    </tr>\n",
       "  </tbody>\n",
       "</table>\n",
       "</div>"
      ],
      "text/plain": [
       "     gndr               alcfreq\n",
       "2    Male             Every day\n",
       "3  Female  Several times a week\n",
       "4    Male             Every day\n",
       "5  Female  Several times a week\n",
       "6  Female           Once a week"
      ]
     },
     "execution_count": 186,
     "metadata": {},
     "output_type": "execute_result"
    }
   ],
   "source": [
    "ess2014_subset = ess2014.loc[2:10, ['gndr', 'alcfreq']]\n",
    "\n",
    "ess2014_subset.head()"
   ]
  },
  {
   "cell_type": "markdown",
   "metadata": {},
   "source": [
    "## Subsetting med booleans (logiske værdier)\n",
    "\n",
    "I stedet for at specificere indeksnumrene, kan man i stedet specificere betingelser:"
   ]
  },
  {
   "cell_type": "code",
   "execution_count": 187,
   "metadata": {},
   "outputs": [
    {
     "data": {
      "text/html": [
       "<div>\n",
       "<style scoped>\n",
       "    .dataframe tbody tr th:only-of-type {\n",
       "        vertical-align: middle;\n",
       "    }\n",
       "\n",
       "    .dataframe tbody tr th {\n",
       "        vertical-align: top;\n",
       "    }\n",
       "\n",
       "    .dataframe thead th {\n",
       "        text-align: right;\n",
       "    }\n",
       "</style>\n",
       "<table border=\"1\" class=\"dataframe\">\n",
       "  <thead>\n",
       "    <tr style=\"text-align: right;\">\n",
       "      <th></th>\n",
       "      <th>idno</th>\n",
       "      <th>ppltrst</th>\n",
       "      <th>happy</th>\n",
       "      <th>health</th>\n",
       "      <th>cgtsday</th>\n",
       "      <th>alcfreq</th>\n",
       "      <th>height</th>\n",
       "      <th>weight</th>\n",
       "      <th>gndr</th>\n",
       "      <th>yrbrn</th>\n",
       "    </tr>\n",
       "  </thead>\n",
       "  <tbody>\n",
       "    <tr>\n",
       "      <th>7</th>\n",
       "      <td>921181</td>\n",
       "      <td>9</td>\n",
       "      <td>9</td>\n",
       "      <td>Fair</td>\n",
       "      <td>NaN</td>\n",
       "      <td>Once a week</td>\n",
       "      <td>194.0</td>\n",
       "      <td>102.0</td>\n",
       "      <td>Male</td>\n",
       "      <td>1956</td>\n",
       "    </tr>\n",
       "    <tr>\n",
       "      <th>11</th>\n",
       "      <td>921254</td>\n",
       "      <td>7</td>\n",
       "      <td>4</td>\n",
       "      <td>Very good</td>\n",
       "      <td>NaN</td>\n",
       "      <td>Once a week</td>\n",
       "      <td>185.0</td>\n",
       "      <td>70.0</td>\n",
       "      <td>Male</td>\n",
       "      <td>1977</td>\n",
       "    </tr>\n",
       "    <tr>\n",
       "      <th>13</th>\n",
       "      <td>921288</td>\n",
       "      <td>8</td>\n",
       "      <td>8</td>\n",
       "      <td>Very good</td>\n",
       "      <td>NaN</td>\n",
       "      <td>Several times a week</td>\n",
       "      <td>191.0</td>\n",
       "      <td>95.0</td>\n",
       "      <td>Male</td>\n",
       "      <td>1949</td>\n",
       "    </tr>\n",
       "    <tr>\n",
       "      <th>14</th>\n",
       "      <td>921296</td>\n",
       "      <td>5</td>\n",
       "      <td>9</td>\n",
       "      <td>Good</td>\n",
       "      <td>NaN</td>\n",
       "      <td>Once a week</td>\n",
       "      <td>202.0</td>\n",
       "      <td>108.0</td>\n",
       "      <td>Male</td>\n",
       "      <td>1988</td>\n",
       "    </tr>\n",
       "    <tr>\n",
       "      <th>15</th>\n",
       "      <td>921319</td>\n",
       "      <td>8</td>\n",
       "      <td>Extremely happy</td>\n",
       "      <td>Fair</td>\n",
       "      <td>10.0</td>\n",
       "      <td>Once a week</td>\n",
       "      <td>185.0</td>\n",
       "      <td>82.0</td>\n",
       "      <td>Male</td>\n",
       "      <td>1997</td>\n",
       "    </tr>\n",
       "  </tbody>\n",
       "</table>\n",
       "</div>"
      ],
      "text/plain": [
       "      idno ppltrst            happy     health  cgtsday               alcfreq  \\\n",
       "7   921181       9                9       Fair      NaN           Once a week   \n",
       "11  921254       7                4  Very good      NaN           Once a week   \n",
       "13  921288       8                8  Very good      NaN  Several times a week   \n",
       "14  921296       5                9       Good      NaN           Once a week   \n",
       "15  921319       8  Extremely happy       Fair     10.0           Once a week   \n",
       "\n",
       "    height  weight  gndr  yrbrn  \n",
       "7    194.0   102.0  Male   1956  \n",
       "11   185.0    70.0  Male   1977  \n",
       "13   191.0    95.0  Male   1949  \n",
       "14   202.0   108.0  Male   1988  \n",
       "15   185.0    82.0  Male   1997  "
      ]
     },
     "execution_count": 187,
     "metadata": {},
     "output_type": "execute_result"
    }
   ],
   "source": [
    "ess2014.loc[ess2014['height'] > 180, :].head()"
   ]
  },
  {
   "cell_type": "code",
   "execution_count": 188,
   "metadata": {},
   "outputs": [
    {
     "data": {
      "text/html": [
       "<div>\n",
       "<style scoped>\n",
       "    .dataframe tbody tr th:only-of-type {\n",
       "        vertical-align: middle;\n",
       "    }\n",
       "\n",
       "    .dataframe tbody tr th {\n",
       "        vertical-align: top;\n",
       "    }\n",
       "\n",
       "    .dataframe thead th {\n",
       "        text-align: right;\n",
       "    }\n",
       "</style>\n",
       "<table border=\"1\" class=\"dataframe\">\n",
       "  <thead>\n",
       "    <tr style=\"text-align: right;\">\n",
       "      <th></th>\n",
       "      <th>idno</th>\n",
       "      <th>ppltrst</th>\n",
       "      <th>happy</th>\n",
       "      <th>health</th>\n",
       "      <th>cgtsday</th>\n",
       "      <th>alcfreq</th>\n",
       "      <th>height</th>\n",
       "      <th>weight</th>\n",
       "      <th>gndr</th>\n",
       "      <th>yrbrn</th>\n",
       "    </tr>\n",
       "  </thead>\n",
       "  <tbody>\n",
       "    <tr>\n",
       "      <th>118</th>\n",
       "      <td>923141</td>\n",
       "      <td>7</td>\n",
       "      <td>9</td>\n",
       "      <td>Very good</td>\n",
       "      <td>NaN</td>\n",
       "      <td>Several times a week</td>\n",
       "      <td>186.0</td>\n",
       "      <td>75.0</td>\n",
       "      <td>Female</td>\n",
       "      <td>1970</td>\n",
       "    </tr>\n",
       "    <tr>\n",
       "      <th>347</th>\n",
       "      <td>927331</td>\n",
       "      <td>5</td>\n",
       "      <td>Extremely happy</td>\n",
       "      <td>Very good</td>\n",
       "      <td>NaN</td>\n",
       "      <td>Never</td>\n",
       "      <td>181.0</td>\n",
       "      <td>NaN</td>\n",
       "      <td>Female</td>\n",
       "      <td>1981</td>\n",
       "    </tr>\n",
       "    <tr>\n",
       "      <th>363</th>\n",
       "      <td>927771</td>\n",
       "      <td>8</td>\n",
       "      <td>Extremely happy</td>\n",
       "      <td>Good</td>\n",
       "      <td>NaN</td>\n",
       "      <td>Once a month</td>\n",
       "      <td>181.0</td>\n",
       "      <td>63.0</td>\n",
       "      <td>Female</td>\n",
       "      <td>1984</td>\n",
       "    </tr>\n",
       "    <tr>\n",
       "      <th>458</th>\n",
       "      <td>929642</td>\n",
       "      <td>8</td>\n",
       "      <td>8</td>\n",
       "      <td>Good</td>\n",
       "      <td>NaN</td>\n",
       "      <td>2-3 times a month</td>\n",
       "      <td>184.0</td>\n",
       "      <td>71.0</td>\n",
       "      <td>Female</td>\n",
       "      <td>1998</td>\n",
       "    </tr>\n",
       "    <tr>\n",
       "      <th>563</th>\n",
       "      <td>931833</td>\n",
       "      <td>8</td>\n",
       "      <td>9</td>\n",
       "      <td>Very good</td>\n",
       "      <td>NaN</td>\n",
       "      <td>Once a week</td>\n",
       "      <td>184.0</td>\n",
       "      <td>70.0</td>\n",
       "      <td>Female</td>\n",
       "      <td>1993</td>\n",
       "    </tr>\n",
       "  </tbody>\n",
       "</table>\n",
       "</div>"
      ],
      "text/plain": [
       "       idno ppltrst            happy     health  cgtsday  \\\n",
       "118  923141       7                9  Very good      NaN   \n",
       "347  927331       5  Extremely happy  Very good      NaN   \n",
       "363  927771       8  Extremely happy       Good      NaN   \n",
       "458  929642       8                8       Good      NaN   \n",
       "563  931833       8                9  Very good      NaN   \n",
       "\n",
       "                  alcfreq  height  weight    gndr  yrbrn  \n",
       "118  Several times a week   186.0    75.0  Female   1970  \n",
       "347                 Never   181.0     NaN  Female   1981  \n",
       "363          Once a month   181.0    63.0  Female   1984  \n",
       "458     2-3 times a month   184.0    71.0  Female   1998  \n",
       "563           Once a week   184.0    70.0  Female   1993  "
      ]
     },
     "execution_count": 188,
     "metadata": {},
     "output_type": "execute_result"
    }
   ],
   "source": [
    "ess2014.loc[(ess2014['height'] > 180) & (ess2014['gndr'] == 'Female'), :].head()"
   ]
  },
  {
   "cell_type": "markdown",
   "metadata": {},
   "source": [
    "---\n",
    "## VIDENSCHECK\n",
    "\n",
    "*Hvad er forskellen på `.loc[]` og `.iloc[]`?*\n",
    "\n",
    "{{%expand \"Løsning\"}}\n",
    "\n",
    "`.loc[]` bruges til at selektere ud fra række- og kolonne*navne*.\n",
    "\n",
    "`.iloc[]` bruges til at selektere ud fra række- og kolonne*indeks*.\n",
    "\n",
    "Bemærk, at hvis rækker ikke har navne, referes blot til deres indeks med `.loc[]` også.\n",
    "\n",
    "{{%/expand}}\n",
    "\n",
    "---"
   ]
  },
  {
   "cell_type": "markdown",
   "metadata": {},
   "source": [
    "---\n",
    "\n",
    "## ØVELSE: Selekter observationer\n",
    "\n",
    "*Dan et subet bestående af mænd født efter 1980.*\n",
    "\n",
    "{{%expand \"Løsning\"}}"
   ]
  },
  {
   "cell_type": "code",
   "execution_count": 189,
   "metadata": {},
   "outputs": [
    {
     "data": {
      "text/html": [
       "<div>\n",
       "<style scoped>\n",
       "    .dataframe tbody tr th:only-of-type {\n",
       "        vertical-align: middle;\n",
       "    }\n",
       "\n",
       "    .dataframe tbody tr th {\n",
       "        vertical-align: top;\n",
       "    }\n",
       "\n",
       "    .dataframe thead th {\n",
       "        text-align: right;\n",
       "    }\n",
       "</style>\n",
       "<table border=\"1\" class=\"dataframe\">\n",
       "  <thead>\n",
       "    <tr style=\"text-align: right;\">\n",
       "      <th></th>\n",
       "      <th>idno</th>\n",
       "      <th>ppltrst</th>\n",
       "      <th>happy</th>\n",
       "      <th>health</th>\n",
       "      <th>cgtsday</th>\n",
       "      <th>alcfreq</th>\n",
       "      <th>height</th>\n",
       "      <th>weight</th>\n",
       "      <th>gndr</th>\n",
       "      <th>yrbrn</th>\n",
       "    </tr>\n",
       "  </thead>\n",
       "  <tbody>\n",
       "    <tr>\n",
       "      <th>0</th>\n",
       "      <td>921018</td>\n",
       "      <td>6</td>\n",
       "      <td>9</td>\n",
       "      <td>Very good</td>\n",
       "      <td>10.0</td>\n",
       "      <td>2-3 times a month</td>\n",
       "      <td>178.0</td>\n",
       "      <td>64.0</td>\n",
       "      <td>Male</td>\n",
       "      <td>1990</td>\n",
       "    </tr>\n",
       "    <tr>\n",
       "      <th>12</th>\n",
       "      <td>921262</td>\n",
       "      <td>8</td>\n",
       "      <td>8</td>\n",
       "      <td>Very good</td>\n",
       "      <td>NaN</td>\n",
       "      <td>2-3 times a month</td>\n",
       "      <td>180.0</td>\n",
       "      <td>93.0</td>\n",
       "      <td>Male</td>\n",
       "      <td>1987</td>\n",
       "    </tr>\n",
       "    <tr>\n",
       "      <th>14</th>\n",
       "      <td>921296</td>\n",
       "      <td>5</td>\n",
       "      <td>9</td>\n",
       "      <td>Good</td>\n",
       "      <td>NaN</td>\n",
       "      <td>Once a week</td>\n",
       "      <td>202.0</td>\n",
       "      <td>108.0</td>\n",
       "      <td>Male</td>\n",
       "      <td>1988</td>\n",
       "    </tr>\n",
       "    <tr>\n",
       "      <th>15</th>\n",
       "      <td>921319</td>\n",
       "      <td>8</td>\n",
       "      <td>Extremely happy</td>\n",
       "      <td>Fair</td>\n",
       "      <td>10.0</td>\n",
       "      <td>Once a week</td>\n",
       "      <td>185.0</td>\n",
       "      <td>82.0</td>\n",
       "      <td>Male</td>\n",
       "      <td>1997</td>\n",
       "    </tr>\n",
       "    <tr>\n",
       "      <th>19</th>\n",
       "      <td>921393</td>\n",
       "      <td>7</td>\n",
       "      <td>8</td>\n",
       "      <td>Very good</td>\n",
       "      <td>NaN</td>\n",
       "      <td>Less than once a month</td>\n",
       "      <td>184.0</td>\n",
       "      <td>67.0</td>\n",
       "      <td>Male</td>\n",
       "      <td>1985</td>\n",
       "    </tr>\n",
       "  </tbody>\n",
       "</table>\n",
       "</div>"
      ],
      "text/plain": [
       "      idno ppltrst            happy     health  cgtsday  \\\n",
       "0   921018       6                9  Very good     10.0   \n",
       "12  921262       8                8  Very good      NaN   \n",
       "14  921296       5                9       Good      NaN   \n",
       "15  921319       8  Extremely happy       Fair     10.0   \n",
       "19  921393       7                8  Very good      NaN   \n",
       "\n",
       "                   alcfreq  height  weight  gndr  yrbrn  \n",
       "0        2-3 times a month   178.0    64.0  Male   1990  \n",
       "12       2-3 times a month   180.0    93.0  Male   1987  \n",
       "14             Once a week   202.0   108.0  Male   1988  \n",
       "15             Once a week   185.0    82.0  Male   1997  \n",
       "19  Less than once a month   184.0    67.0  Male   1985  "
      ]
     },
     "execution_count": 189,
     "metadata": {},
     "output_type": "execute_result"
    }
   ],
   "source": [
    "ess2014_subset = ess2014.loc[(ess2014['gndr'] == 'Male') & (ess2014['yrbrn'] > 1980), :]\n",
    "\n",
    "ess2014_subset.head()"
   ]
  },
  {
   "cell_type": "markdown",
   "metadata": {},
   "source": [
    "{{%/expand}}"
   ]
  },
  {
   "cell_type": "markdown",
   "metadata": {},
   "source": [
    "# {#Afsnit}Variabelgenerering og rekodning (draft)\n",
    "\n",
    "## Variabelgenerering\n",
    "\n",
    "Ofte har man brug for at tilføje oplysninger til et datasæt i form af nye variable.\n",
    "\n",
    "Man danner en ny variabel blot ved at referere til et kolonnenavn, som endnu ikke er brugt.\n",
    "\n",
    "I nedenstående dannes `height_m`; en variabel for højde i meter:"
   ]
  },
  {
   "cell_type": "code",
   "execution_count": 190,
   "metadata": {},
   "outputs": [
    {
     "data": {
      "text/html": [
       "<div>\n",
       "<style scoped>\n",
       "    .dataframe tbody tr th:only-of-type {\n",
       "        vertical-align: middle;\n",
       "    }\n",
       "\n",
       "    .dataframe tbody tr th {\n",
       "        vertical-align: top;\n",
       "    }\n",
       "\n",
       "    .dataframe thead th {\n",
       "        text-align: right;\n",
       "    }\n",
       "</style>\n",
       "<table border=\"1\" class=\"dataframe\">\n",
       "  <thead>\n",
       "    <tr style=\"text-align: right;\">\n",
       "      <th></th>\n",
       "      <th>idno</th>\n",
       "      <th>ppltrst</th>\n",
       "      <th>happy</th>\n",
       "      <th>health</th>\n",
       "      <th>cgtsday</th>\n",
       "      <th>alcfreq</th>\n",
       "      <th>height</th>\n",
       "      <th>weight</th>\n",
       "      <th>gndr</th>\n",
       "      <th>yrbrn</th>\n",
       "      <th>height_m</th>\n",
       "    </tr>\n",
       "  </thead>\n",
       "  <tbody>\n",
       "    <tr>\n",
       "      <th>0</th>\n",
       "      <td>921018</td>\n",
       "      <td>6</td>\n",
       "      <td>9</td>\n",
       "      <td>Very good</td>\n",
       "      <td>10.0</td>\n",
       "      <td>2-3 times a month</td>\n",
       "      <td>178.0</td>\n",
       "      <td>64.0</td>\n",
       "      <td>Male</td>\n",
       "      <td>1990</td>\n",
       "      <td>1.78</td>\n",
       "    </tr>\n",
       "    <tr>\n",
       "      <th>1</th>\n",
       "      <td>921026</td>\n",
       "      <td>8</td>\n",
       "      <td>8</td>\n",
       "      <td>Very good</td>\n",
       "      <td>NaN</td>\n",
       "      <td>Several times a week</td>\n",
       "      <td>172.0</td>\n",
       "      <td>64.0</td>\n",
       "      <td>Female</td>\n",
       "      <td>1948</td>\n",
       "      <td>1.72</td>\n",
       "    </tr>\n",
       "    <tr>\n",
       "      <th>2</th>\n",
       "      <td>921034</td>\n",
       "      <td>8</td>\n",
       "      <td>8</td>\n",
       "      <td>Good</td>\n",
       "      <td>NaN</td>\n",
       "      <td>Every day</td>\n",
       "      <td>176.0</td>\n",
       "      <td>87.0</td>\n",
       "      <td>Male</td>\n",
       "      <td>1957</td>\n",
       "      <td>1.76</td>\n",
       "    </tr>\n",
       "    <tr>\n",
       "      <th>3</th>\n",
       "      <td>921076</td>\n",
       "      <td>8</td>\n",
       "      <td>8</td>\n",
       "      <td>Good</td>\n",
       "      <td>NaN</td>\n",
       "      <td>Several times a week</td>\n",
       "      <td>162.0</td>\n",
       "      <td>70.0</td>\n",
       "      <td>Female</td>\n",
       "      <td>1958</td>\n",
       "      <td>1.62</td>\n",
       "    </tr>\n",
       "    <tr>\n",
       "      <th>4</th>\n",
       "      <td>921084</td>\n",
       "      <td>5</td>\n",
       "      <td>8</td>\n",
       "      <td>Very good</td>\n",
       "      <td>NaN</td>\n",
       "      <td>Every day</td>\n",
       "      <td>175.0</td>\n",
       "      <td>80.0</td>\n",
       "      <td>Male</td>\n",
       "      <td>1936</td>\n",
       "      <td>1.75</td>\n",
       "    </tr>\n",
       "  </tbody>\n",
       "</table>\n",
       "</div>"
      ],
      "text/plain": [
       "     idno ppltrst happy     health  cgtsday               alcfreq  height  \\\n",
       "0  921018       6     9  Very good     10.0     2-3 times a month   178.0   \n",
       "1  921026       8     8  Very good      NaN  Several times a week   172.0   \n",
       "2  921034       8     8       Good      NaN             Every day   176.0   \n",
       "3  921076       8     8       Good      NaN  Several times a week   162.0   \n",
       "4  921084       5     8  Very good      NaN             Every day   175.0   \n",
       "\n",
       "   weight    gndr  yrbrn  height_m  \n",
       "0    64.0    Male   1990      1.78  \n",
       "1    64.0  Female   1948      1.72  \n",
       "2    87.0    Male   1957      1.76  \n",
       "3    70.0  Female   1958      1.62  \n",
       "4    80.0    Male   1936      1.75  "
      ]
     },
     "execution_count": 190,
     "metadata": {},
     "output_type": "execute_result"
    }
   ],
   "source": [
    "ess2014['height_m'] = ess2014['height'] / 100\n",
    "\n",
    "ess2014.head()"
   ]
  },
  {
   "cell_type": "markdown",
   "metadata": {},
   "source": [
    "---\n",
    "\n",
    "## ØVELSE: Dan en aldersvariabel\n",
    "\n",
    "*Tilføj en aldersvariabel til ESS2014DK datasættet (husk at data er fra 2014)*\n",
    "\n",
    "{{%expand \"Løsning\"}}"
   ]
  },
  {
   "cell_type": "code",
   "execution_count": 191,
   "metadata": {},
   "outputs": [
    {
     "data": {
      "text/html": [
       "<div>\n",
       "<style scoped>\n",
       "    .dataframe tbody tr th:only-of-type {\n",
       "        vertical-align: middle;\n",
       "    }\n",
       "\n",
       "    .dataframe tbody tr th {\n",
       "        vertical-align: top;\n",
       "    }\n",
       "\n",
       "    .dataframe thead th {\n",
       "        text-align: right;\n",
       "    }\n",
       "</style>\n",
       "<table border=\"1\" class=\"dataframe\">\n",
       "  <thead>\n",
       "    <tr style=\"text-align: right;\">\n",
       "      <th></th>\n",
       "      <th>idno</th>\n",
       "      <th>ppltrst</th>\n",
       "      <th>happy</th>\n",
       "      <th>health</th>\n",
       "      <th>cgtsday</th>\n",
       "      <th>alcfreq</th>\n",
       "      <th>height</th>\n",
       "      <th>weight</th>\n",
       "      <th>gndr</th>\n",
       "      <th>yrbrn</th>\n",
       "      <th>height_m</th>\n",
       "      <th>age</th>\n",
       "    </tr>\n",
       "  </thead>\n",
       "  <tbody>\n",
       "    <tr>\n",
       "      <th>0</th>\n",
       "      <td>921018</td>\n",
       "      <td>6</td>\n",
       "      <td>9</td>\n",
       "      <td>Very good</td>\n",
       "      <td>10.0</td>\n",
       "      <td>2-3 times a month</td>\n",
       "      <td>178.0</td>\n",
       "      <td>64.0</td>\n",
       "      <td>Male</td>\n",
       "      <td>1990</td>\n",
       "      <td>1.78</td>\n",
       "      <td>24</td>\n",
       "    </tr>\n",
       "    <tr>\n",
       "      <th>1</th>\n",
       "      <td>921026</td>\n",
       "      <td>8</td>\n",
       "      <td>8</td>\n",
       "      <td>Very good</td>\n",
       "      <td>NaN</td>\n",
       "      <td>Several times a week</td>\n",
       "      <td>172.0</td>\n",
       "      <td>64.0</td>\n",
       "      <td>Female</td>\n",
       "      <td>1948</td>\n",
       "      <td>1.72</td>\n",
       "      <td>66</td>\n",
       "    </tr>\n",
       "    <tr>\n",
       "      <th>2</th>\n",
       "      <td>921034</td>\n",
       "      <td>8</td>\n",
       "      <td>8</td>\n",
       "      <td>Good</td>\n",
       "      <td>NaN</td>\n",
       "      <td>Every day</td>\n",
       "      <td>176.0</td>\n",
       "      <td>87.0</td>\n",
       "      <td>Male</td>\n",
       "      <td>1957</td>\n",
       "      <td>1.76</td>\n",
       "      <td>57</td>\n",
       "    </tr>\n",
       "    <tr>\n",
       "      <th>3</th>\n",
       "      <td>921076</td>\n",
       "      <td>8</td>\n",
       "      <td>8</td>\n",
       "      <td>Good</td>\n",
       "      <td>NaN</td>\n",
       "      <td>Several times a week</td>\n",
       "      <td>162.0</td>\n",
       "      <td>70.0</td>\n",
       "      <td>Female</td>\n",
       "      <td>1958</td>\n",
       "      <td>1.62</td>\n",
       "      <td>56</td>\n",
       "    </tr>\n",
       "    <tr>\n",
       "      <th>4</th>\n",
       "      <td>921084</td>\n",
       "      <td>5</td>\n",
       "      <td>8</td>\n",
       "      <td>Very good</td>\n",
       "      <td>NaN</td>\n",
       "      <td>Every day</td>\n",
       "      <td>175.0</td>\n",
       "      <td>80.0</td>\n",
       "      <td>Male</td>\n",
       "      <td>1936</td>\n",
       "      <td>1.75</td>\n",
       "      <td>78</td>\n",
       "    </tr>\n",
       "  </tbody>\n",
       "</table>\n",
       "</div>"
      ],
      "text/plain": [
       "     idno ppltrst happy     health  cgtsday               alcfreq  height  \\\n",
       "0  921018       6     9  Very good     10.0     2-3 times a month   178.0   \n",
       "1  921026       8     8  Very good      NaN  Several times a week   172.0   \n",
       "2  921034       8     8       Good      NaN             Every day   176.0   \n",
       "3  921076       8     8       Good      NaN  Several times a week   162.0   \n",
       "4  921084       5     8  Very good      NaN             Every day   175.0   \n",
       "\n",
       "   weight    gndr  yrbrn  height_m  age  \n",
       "0    64.0    Male   1990      1.78   24  \n",
       "1    64.0  Female   1948      1.72   66  \n",
       "2    87.0    Male   1957      1.76   57  \n",
       "3    70.0  Female   1958      1.62   56  \n",
       "4    80.0    Male   1936      1.75   78  "
      ]
     },
     "execution_count": 191,
     "metadata": {},
     "output_type": "execute_result"
    }
   ],
   "source": [
    "ess2014['age'] = 2014 - ess2014['yrbrn']\n",
    "\n",
    "ess2014.head()"
   ]
  },
  {
   "cell_type": "markdown",
   "metadata": {},
   "source": [
    "{{%/expand}}\n",
    "\n",
    "---"
   ]
  },
  {
   "cell_type": "markdown",
   "metadata": {},
   "source": [
    "## Rekodning\n",
    "\n",
    "Ofte har man brug for at rekode variable.\n",
    "\n",
    "Variable rekodes ved at overskrive værdier i en eksisterende variabel.\n",
    "\n",
    "Det er god praksis ikke at rekode de oprindelige variable i datasættet, så man vil i stedet lave en kopi af variablen og så rekode den i stedet.\n",
    "\n",
    "Hvis man fx vil rekode en kontinuerlig variabel til kategorisk, kan man gøre brug af booleans. \n",
    "\n",
    "I nedenstående inddeles personer i datasættet i tre højde kategorier baseret på, om de har en højde under 1. kvartil (\"short\"), over 3. kvartil (\"tall\") eller midt imellem (\"medium\")."
   ]
  },
  {
   "cell_type": "code",
   "execution_count": 192,
   "metadata": {},
   "outputs": [
    {
     "data": {
      "text/html": [
       "<div>\n",
       "<style scoped>\n",
       "    .dataframe tbody tr th:only-of-type {\n",
       "        vertical-align: middle;\n",
       "    }\n",
       "\n",
       "    .dataframe tbody tr th {\n",
       "        vertical-align: top;\n",
       "    }\n",
       "\n",
       "    .dataframe thead th {\n",
       "        text-align: right;\n",
       "    }\n",
       "</style>\n",
       "<table border=\"1\" class=\"dataframe\">\n",
       "  <thead>\n",
       "    <tr style=\"text-align: right;\">\n",
       "      <th></th>\n",
       "      <th>idno</th>\n",
       "      <th>ppltrst</th>\n",
       "      <th>happy</th>\n",
       "      <th>health</th>\n",
       "      <th>cgtsday</th>\n",
       "      <th>alcfreq</th>\n",
       "      <th>height</th>\n",
       "      <th>weight</th>\n",
       "      <th>gndr</th>\n",
       "      <th>yrbrn</th>\n",
       "      <th>height_m</th>\n",
       "      <th>age</th>\n",
       "      <th>height_cat</th>\n",
       "    </tr>\n",
       "  </thead>\n",
       "  <tbody>\n",
       "    <tr>\n",
       "      <th>0</th>\n",
       "      <td>921018</td>\n",
       "      <td>6</td>\n",
       "      <td>9</td>\n",
       "      <td>Very good</td>\n",
       "      <td>10.0</td>\n",
       "      <td>2-3 times a month</td>\n",
       "      <td>178.0</td>\n",
       "      <td>64.0</td>\n",
       "      <td>Male</td>\n",
       "      <td>1990</td>\n",
       "      <td>1.78</td>\n",
       "      <td>24</td>\n",
       "      <td>medium</td>\n",
       "    </tr>\n",
       "    <tr>\n",
       "      <th>1</th>\n",
       "      <td>921026</td>\n",
       "      <td>8</td>\n",
       "      <td>8</td>\n",
       "      <td>Very good</td>\n",
       "      <td>NaN</td>\n",
       "      <td>Several times a week</td>\n",
       "      <td>172.0</td>\n",
       "      <td>64.0</td>\n",
       "      <td>Female</td>\n",
       "      <td>1948</td>\n",
       "      <td>1.72</td>\n",
       "      <td>66</td>\n",
       "      <td>medium</td>\n",
       "    </tr>\n",
       "    <tr>\n",
       "      <th>2</th>\n",
       "      <td>921034</td>\n",
       "      <td>8</td>\n",
       "      <td>8</td>\n",
       "      <td>Good</td>\n",
       "      <td>NaN</td>\n",
       "      <td>Every day</td>\n",
       "      <td>176.0</td>\n",
       "      <td>87.0</td>\n",
       "      <td>Male</td>\n",
       "      <td>1957</td>\n",
       "      <td>1.76</td>\n",
       "      <td>57</td>\n",
       "      <td>medium</td>\n",
       "    </tr>\n",
       "    <tr>\n",
       "      <th>3</th>\n",
       "      <td>921076</td>\n",
       "      <td>8</td>\n",
       "      <td>8</td>\n",
       "      <td>Good</td>\n",
       "      <td>NaN</td>\n",
       "      <td>Several times a week</td>\n",
       "      <td>162.0</td>\n",
       "      <td>70.0</td>\n",
       "      <td>Female</td>\n",
       "      <td>1958</td>\n",
       "      <td>1.62</td>\n",
       "      <td>56</td>\n",
       "      <td>short</td>\n",
       "    </tr>\n",
       "    <tr>\n",
       "      <th>4</th>\n",
       "      <td>921084</td>\n",
       "      <td>5</td>\n",
       "      <td>8</td>\n",
       "      <td>Very good</td>\n",
       "      <td>NaN</td>\n",
       "      <td>Every day</td>\n",
       "      <td>175.0</td>\n",
       "      <td>80.0</td>\n",
       "      <td>Male</td>\n",
       "      <td>1936</td>\n",
       "      <td>1.75</td>\n",
       "      <td>78</td>\n",
       "      <td>medium</td>\n",
       "    </tr>\n",
       "    <tr>\n",
       "      <th>5</th>\n",
       "      <td>921131</td>\n",
       "      <td>8</td>\n",
       "      <td>8</td>\n",
       "      <td>Fair</td>\n",
       "      <td>NaN</td>\n",
       "      <td>Several times a week</td>\n",
       "      <td>160.0</td>\n",
       "      <td>70.0</td>\n",
       "      <td>Female</td>\n",
       "      <td>1940</td>\n",
       "      <td>1.60</td>\n",
       "      <td>74</td>\n",
       "      <td>short</td>\n",
       "    </tr>\n",
       "    <tr>\n",
       "      <th>6</th>\n",
       "      <td>921165</td>\n",
       "      <td>8</td>\n",
       "      <td>Extremely happy</td>\n",
       "      <td>Good</td>\n",
       "      <td>NaN</td>\n",
       "      <td>Once a week</td>\n",
       "      <td>167.0</td>\n",
       "      <td>78.0</td>\n",
       "      <td>Female</td>\n",
       "      <td>1965</td>\n",
       "      <td>1.67</td>\n",
       "      <td>49</td>\n",
       "      <td>short</td>\n",
       "    </tr>\n",
       "    <tr>\n",
       "      <th>7</th>\n",
       "      <td>921181</td>\n",
       "      <td>9</td>\n",
       "      <td>9</td>\n",
       "      <td>Fair</td>\n",
       "      <td>NaN</td>\n",
       "      <td>Once a week</td>\n",
       "      <td>194.0</td>\n",
       "      <td>102.0</td>\n",
       "      <td>Male</td>\n",
       "      <td>1956</td>\n",
       "      <td>1.94</td>\n",
       "      <td>58</td>\n",
       "      <td>tall</td>\n",
       "    </tr>\n",
       "    <tr>\n",
       "      <th>8</th>\n",
       "      <td>921199</td>\n",
       "      <td>9</td>\n",
       "      <td>8</td>\n",
       "      <td>Fair</td>\n",
       "      <td>20.0</td>\n",
       "      <td>2-3 times a month</td>\n",
       "      <td>176.0</td>\n",
       "      <td>62.0</td>\n",
       "      <td>Female</td>\n",
       "      <td>1993</td>\n",
       "      <td>1.76</td>\n",
       "      <td>21</td>\n",
       "      <td>medium</td>\n",
       "    </tr>\n",
       "    <tr>\n",
       "      <th>9</th>\n",
       "      <td>921204</td>\n",
       "      <td>9</td>\n",
       "      <td>8</td>\n",
       "      <td>Good</td>\n",
       "      <td>NaN</td>\n",
       "      <td>Once a week</td>\n",
       "      <td>157.0</td>\n",
       "      <td>48.0</td>\n",
       "      <td>Female</td>\n",
       "      <td>1941</td>\n",
       "      <td>1.57</td>\n",
       "      <td>73</td>\n",
       "      <td>short</td>\n",
       "    </tr>\n",
       "  </tbody>\n",
       "</table>\n",
       "</div>"
      ],
      "text/plain": [
       "     idno ppltrst            happy     health  cgtsday               alcfreq  \\\n",
       "0  921018       6                9  Very good     10.0     2-3 times a month   \n",
       "1  921026       8                8  Very good      NaN  Several times a week   \n",
       "2  921034       8                8       Good      NaN             Every day   \n",
       "3  921076       8                8       Good      NaN  Several times a week   \n",
       "4  921084       5                8  Very good      NaN             Every day   \n",
       "5  921131       8                8       Fair      NaN  Several times a week   \n",
       "6  921165       8  Extremely happy       Good      NaN           Once a week   \n",
       "7  921181       9                9       Fair      NaN           Once a week   \n",
       "8  921199       9                8       Fair     20.0     2-3 times a month   \n",
       "9  921204       9                8       Good      NaN           Once a week   \n",
       "\n",
       "   height  weight    gndr  yrbrn  height_m  age height_cat  \n",
       "0   178.0    64.0    Male   1990      1.78   24     medium  \n",
       "1   172.0    64.0  Female   1948      1.72   66     medium  \n",
       "2   176.0    87.0    Male   1957      1.76   57     medium  \n",
       "3   162.0    70.0  Female   1958      1.62   56      short  \n",
       "4   175.0    80.0    Male   1936      1.75   78     medium  \n",
       "5   160.0    70.0  Female   1940      1.60   74      short  \n",
       "6   167.0    78.0  Female   1965      1.67   49      short  \n",
       "7   194.0   102.0    Male   1956      1.94   58       tall  \n",
       "8   176.0    62.0  Female   1993      1.76   21     medium  \n",
       "9   157.0    48.0  Female   1941      1.57   73      short  "
      ]
     },
     "execution_count": 192,
     "metadata": {},
     "output_type": "execute_result"
    }
   ],
   "source": [
    "quart1 = ess2014['height'].quantile(0.25)\n",
    "quart3 = ess2014['height'].quantile(0.75)\n",
    "\n",
    "ess2014['height_cat'] = np.nan # Danner en \"tom\" variabel bestående af missing\n",
    "\n",
    "ess2014.loc[ess2014['height'] <= quart1, 'height_cat'] = \"short\"\n",
    "ess2014.loc[(ess2014['height'] > quart1) & (ess2014['height'] < quart3), 'height_cat'] = \"medium\"\n",
    "ess2014.loc[ess2014['height'] >= quart3, 'height_cat'] = \"tall\"\n",
    "\n",
    "ess2014.head(10)"
   ]
  },
  {
   "cell_type": "markdown",
   "metadata": {},
   "source": [
    "Alternativt, hvis der bare skal deles i tre lige store grupper:"
   ]
  },
  {
   "cell_type": "code",
   "execution_count": 193,
   "metadata": {},
   "outputs": [
    {
     "data": {
      "text/html": [
       "<div>\n",
       "<style scoped>\n",
       "    .dataframe tbody tr th:only-of-type {\n",
       "        vertical-align: middle;\n",
       "    }\n",
       "\n",
       "    .dataframe tbody tr th {\n",
       "        vertical-align: top;\n",
       "    }\n",
       "\n",
       "    .dataframe thead th {\n",
       "        text-align: right;\n",
       "    }\n",
       "</style>\n",
       "<table border=\"1\" class=\"dataframe\">\n",
       "  <thead>\n",
       "    <tr style=\"text-align: right;\">\n",
       "      <th></th>\n",
       "      <th>idno</th>\n",
       "      <th>ppltrst</th>\n",
       "      <th>happy</th>\n",
       "      <th>health</th>\n",
       "      <th>cgtsday</th>\n",
       "      <th>alcfreq</th>\n",
       "      <th>height</th>\n",
       "      <th>weight</th>\n",
       "      <th>gndr</th>\n",
       "      <th>yrbrn</th>\n",
       "      <th>height_m</th>\n",
       "      <th>age</th>\n",
       "      <th>height_cat</th>\n",
       "    </tr>\n",
       "  </thead>\n",
       "  <tbody>\n",
       "    <tr>\n",
       "      <th>0</th>\n",
       "      <td>921018</td>\n",
       "      <td>6</td>\n",
       "      <td>9</td>\n",
       "      <td>Very good</td>\n",
       "      <td>10.0</td>\n",
       "      <td>2-3 times a month</td>\n",
       "      <td>178.0</td>\n",
       "      <td>64.0</td>\n",
       "      <td>Male</td>\n",
       "      <td>1990</td>\n",
       "      <td>1.78</td>\n",
       "      <td>24</td>\n",
       "      <td>medium</td>\n",
       "    </tr>\n",
       "    <tr>\n",
       "      <th>1</th>\n",
       "      <td>921026</td>\n",
       "      <td>8</td>\n",
       "      <td>8</td>\n",
       "      <td>Very good</td>\n",
       "      <td>NaN</td>\n",
       "      <td>Several times a week</td>\n",
       "      <td>172.0</td>\n",
       "      <td>64.0</td>\n",
       "      <td>Female</td>\n",
       "      <td>1948</td>\n",
       "      <td>1.72</td>\n",
       "      <td>66</td>\n",
       "      <td>medium</td>\n",
       "    </tr>\n",
       "    <tr>\n",
       "      <th>2</th>\n",
       "      <td>921034</td>\n",
       "      <td>8</td>\n",
       "      <td>8</td>\n",
       "      <td>Good</td>\n",
       "      <td>NaN</td>\n",
       "      <td>Every day</td>\n",
       "      <td>176.0</td>\n",
       "      <td>87.0</td>\n",
       "      <td>Male</td>\n",
       "      <td>1957</td>\n",
       "      <td>1.76</td>\n",
       "      <td>57</td>\n",
       "      <td>medium</td>\n",
       "    </tr>\n",
       "    <tr>\n",
       "      <th>3</th>\n",
       "      <td>921076</td>\n",
       "      <td>8</td>\n",
       "      <td>8</td>\n",
       "      <td>Good</td>\n",
       "      <td>NaN</td>\n",
       "      <td>Several times a week</td>\n",
       "      <td>162.0</td>\n",
       "      <td>70.0</td>\n",
       "      <td>Female</td>\n",
       "      <td>1958</td>\n",
       "      <td>1.62</td>\n",
       "      <td>56</td>\n",
       "      <td>short</td>\n",
       "    </tr>\n",
       "    <tr>\n",
       "      <th>4</th>\n",
       "      <td>921084</td>\n",
       "      <td>5</td>\n",
       "      <td>8</td>\n",
       "      <td>Very good</td>\n",
       "      <td>NaN</td>\n",
       "      <td>Every day</td>\n",
       "      <td>175.0</td>\n",
       "      <td>80.0</td>\n",
       "      <td>Male</td>\n",
       "      <td>1936</td>\n",
       "      <td>1.75</td>\n",
       "      <td>78</td>\n",
       "      <td>medium</td>\n",
       "    </tr>\n",
       "    <tr>\n",
       "      <th>5</th>\n",
       "      <td>921131</td>\n",
       "      <td>8</td>\n",
       "      <td>8</td>\n",
       "      <td>Fair</td>\n",
       "      <td>NaN</td>\n",
       "      <td>Several times a week</td>\n",
       "      <td>160.0</td>\n",
       "      <td>70.0</td>\n",
       "      <td>Female</td>\n",
       "      <td>1940</td>\n",
       "      <td>1.60</td>\n",
       "      <td>74</td>\n",
       "      <td>short</td>\n",
       "    </tr>\n",
       "    <tr>\n",
       "      <th>6</th>\n",
       "      <td>921165</td>\n",
       "      <td>8</td>\n",
       "      <td>Extremely happy</td>\n",
       "      <td>Good</td>\n",
       "      <td>NaN</td>\n",
       "      <td>Once a week</td>\n",
       "      <td>167.0</td>\n",
       "      <td>78.0</td>\n",
       "      <td>Female</td>\n",
       "      <td>1965</td>\n",
       "      <td>1.67</td>\n",
       "      <td>49</td>\n",
       "      <td>medium</td>\n",
       "    </tr>\n",
       "    <tr>\n",
       "      <th>7</th>\n",
       "      <td>921181</td>\n",
       "      <td>9</td>\n",
       "      <td>9</td>\n",
       "      <td>Fair</td>\n",
       "      <td>NaN</td>\n",
       "      <td>Once a week</td>\n",
       "      <td>194.0</td>\n",
       "      <td>102.0</td>\n",
       "      <td>Male</td>\n",
       "      <td>1956</td>\n",
       "      <td>1.94</td>\n",
       "      <td>58</td>\n",
       "      <td>tall</td>\n",
       "    </tr>\n",
       "    <tr>\n",
       "      <th>8</th>\n",
       "      <td>921199</td>\n",
       "      <td>9</td>\n",
       "      <td>8</td>\n",
       "      <td>Fair</td>\n",
       "      <td>20.0</td>\n",
       "      <td>2-3 times a month</td>\n",
       "      <td>176.0</td>\n",
       "      <td>62.0</td>\n",
       "      <td>Female</td>\n",
       "      <td>1993</td>\n",
       "      <td>1.76</td>\n",
       "      <td>21</td>\n",
       "      <td>medium</td>\n",
       "    </tr>\n",
       "    <tr>\n",
       "      <th>9</th>\n",
       "      <td>921204</td>\n",
       "      <td>9</td>\n",
       "      <td>8</td>\n",
       "      <td>Good</td>\n",
       "      <td>NaN</td>\n",
       "      <td>Once a week</td>\n",
       "      <td>157.0</td>\n",
       "      <td>48.0</td>\n",
       "      <td>Female</td>\n",
       "      <td>1941</td>\n",
       "      <td>1.57</td>\n",
       "      <td>73</td>\n",
       "      <td>short</td>\n",
       "    </tr>\n",
       "  </tbody>\n",
       "</table>\n",
       "</div>"
      ],
      "text/plain": [
       "     idno ppltrst            happy     health  cgtsday               alcfreq  \\\n",
       "0  921018       6                9  Very good     10.0     2-3 times a month   \n",
       "1  921026       8                8  Very good      NaN  Several times a week   \n",
       "2  921034       8                8       Good      NaN             Every day   \n",
       "3  921076       8                8       Good      NaN  Several times a week   \n",
       "4  921084       5                8  Very good      NaN             Every day   \n",
       "5  921131       8                8       Fair      NaN  Several times a week   \n",
       "6  921165       8  Extremely happy       Good      NaN           Once a week   \n",
       "7  921181       9                9       Fair      NaN           Once a week   \n",
       "8  921199       9                8       Fair     20.0     2-3 times a month   \n",
       "9  921204       9                8       Good      NaN           Once a week   \n",
       "\n",
       "   height  weight    gndr  yrbrn  height_m  age height_cat  \n",
       "0   178.0    64.0    Male   1990      1.78   24     medium  \n",
       "1   172.0    64.0  Female   1948      1.72   66     medium  \n",
       "2   176.0    87.0    Male   1957      1.76   57     medium  \n",
       "3   162.0    70.0  Female   1958      1.62   56      short  \n",
       "4   175.0    80.0    Male   1936      1.75   78     medium  \n",
       "5   160.0    70.0  Female   1940      1.60   74      short  \n",
       "6   167.0    78.0  Female   1965      1.67   49     medium  \n",
       "7   194.0   102.0    Male   1956      1.94   58       tall  \n",
       "8   176.0    62.0  Female   1993      1.76   21     medium  \n",
       "9   157.0    48.0  Female   1941      1.57   73      short  "
      ]
     },
     "execution_count": 193,
     "metadata": {},
     "output_type": "execute_result"
    }
   ],
   "source": [
    "ess2014['height_cat'] = pd.cut(ess2014['height'], 3, labels = [\"short\", \"medium\", \"tall\"])\n",
    "\n",
    "ess2014.head(10)"
   ]
  },
  {
   "cell_type": "markdown",
   "metadata": {},
   "source": [
    "## Missingværdier\n",
    "\n",
    "Missing værdier er angivet med `NaN`. Man kan undersøge, om en variabel indeholder missing, ved at bruge metoden `isnull()`:"
   ]
  },
  {
   "cell_type": "code",
   "execution_count": 194,
   "metadata": {},
   "outputs": [
    {
     "data": {
      "text/plain": [
       "0    False\n",
       "1     True\n",
       "2     True\n",
       "3     True\n",
       "4     True\n",
       "Name: cgtsday, dtype: bool"
      ]
     },
     "execution_count": 194,
     "metadata": {},
     "output_type": "execute_result"
    }
   ],
   "source": [
    "ess2014['cgtsday'].isnull().head()"
   ]
  },
  {
   "cell_type": "markdown",
   "metadata": {},
   "source": [
    "Denne kan også bruges i `.loc[]`:"
   ]
  },
  {
   "cell_type": "code",
   "execution_count": 195,
   "metadata": {},
   "outputs": [
    {
     "data": {
      "text/html": [
       "<div>\n",
       "<style scoped>\n",
       "    .dataframe tbody tr th:only-of-type {\n",
       "        vertical-align: middle;\n",
       "    }\n",
       "\n",
       "    .dataframe tbody tr th {\n",
       "        vertical-align: top;\n",
       "    }\n",
       "\n",
       "    .dataframe thead th {\n",
       "        text-align: right;\n",
       "    }\n",
       "</style>\n",
       "<table border=\"1\" class=\"dataframe\">\n",
       "  <thead>\n",
       "    <tr style=\"text-align: right;\">\n",
       "      <th></th>\n",
       "      <th>idno</th>\n",
       "      <th>ppltrst</th>\n",
       "      <th>happy</th>\n",
       "      <th>health</th>\n",
       "      <th>cgtsday</th>\n",
       "      <th>alcfreq</th>\n",
       "      <th>height</th>\n",
       "      <th>weight</th>\n",
       "      <th>gndr</th>\n",
       "      <th>yrbrn</th>\n",
       "      <th>height_m</th>\n",
       "      <th>age</th>\n",
       "      <th>height_cat</th>\n",
       "    </tr>\n",
       "  </thead>\n",
       "  <tbody>\n",
       "    <tr>\n",
       "      <th>1</th>\n",
       "      <td>921026</td>\n",
       "      <td>8</td>\n",
       "      <td>8</td>\n",
       "      <td>Very good</td>\n",
       "      <td>NaN</td>\n",
       "      <td>Several times a week</td>\n",
       "      <td>172.0</td>\n",
       "      <td>64.0</td>\n",
       "      <td>Female</td>\n",
       "      <td>1948</td>\n",
       "      <td>1.72</td>\n",
       "      <td>66</td>\n",
       "      <td>medium</td>\n",
       "    </tr>\n",
       "    <tr>\n",
       "      <th>2</th>\n",
       "      <td>921034</td>\n",
       "      <td>8</td>\n",
       "      <td>8</td>\n",
       "      <td>Good</td>\n",
       "      <td>NaN</td>\n",
       "      <td>Every day</td>\n",
       "      <td>176.0</td>\n",
       "      <td>87.0</td>\n",
       "      <td>Male</td>\n",
       "      <td>1957</td>\n",
       "      <td>1.76</td>\n",
       "      <td>57</td>\n",
       "      <td>medium</td>\n",
       "    </tr>\n",
       "    <tr>\n",
       "      <th>3</th>\n",
       "      <td>921076</td>\n",
       "      <td>8</td>\n",
       "      <td>8</td>\n",
       "      <td>Good</td>\n",
       "      <td>NaN</td>\n",
       "      <td>Several times a week</td>\n",
       "      <td>162.0</td>\n",
       "      <td>70.0</td>\n",
       "      <td>Female</td>\n",
       "      <td>1958</td>\n",
       "      <td>1.62</td>\n",
       "      <td>56</td>\n",
       "      <td>short</td>\n",
       "    </tr>\n",
       "    <tr>\n",
       "      <th>4</th>\n",
       "      <td>921084</td>\n",
       "      <td>5</td>\n",
       "      <td>8</td>\n",
       "      <td>Very good</td>\n",
       "      <td>NaN</td>\n",
       "      <td>Every day</td>\n",
       "      <td>175.0</td>\n",
       "      <td>80.0</td>\n",
       "      <td>Male</td>\n",
       "      <td>1936</td>\n",
       "      <td>1.75</td>\n",
       "      <td>78</td>\n",
       "      <td>medium</td>\n",
       "    </tr>\n",
       "    <tr>\n",
       "      <th>5</th>\n",
       "      <td>921131</td>\n",
       "      <td>8</td>\n",
       "      <td>8</td>\n",
       "      <td>Fair</td>\n",
       "      <td>NaN</td>\n",
       "      <td>Several times a week</td>\n",
       "      <td>160.0</td>\n",
       "      <td>70.0</td>\n",
       "      <td>Female</td>\n",
       "      <td>1940</td>\n",
       "      <td>1.60</td>\n",
       "      <td>74</td>\n",
       "      <td>short</td>\n",
       "    </tr>\n",
       "  </tbody>\n",
       "</table>\n",
       "</div>"
      ],
      "text/plain": [
       "     idno ppltrst happy     health  cgtsday               alcfreq  height  \\\n",
       "1  921026       8     8  Very good      NaN  Several times a week   172.0   \n",
       "2  921034       8     8       Good      NaN             Every day   176.0   \n",
       "3  921076       8     8       Good      NaN  Several times a week   162.0   \n",
       "4  921084       5     8  Very good      NaN             Every day   175.0   \n",
       "5  921131       8     8       Fair      NaN  Several times a week   160.0   \n",
       "\n",
       "   weight    gndr  yrbrn  height_m  age height_cat  \n",
       "1    64.0  Female   1948      1.72   66     medium  \n",
       "2    87.0    Male   1957      1.76   57     medium  \n",
       "3    70.0  Female   1958      1.62   56      short  \n",
       "4    80.0    Male   1936      1.75   78     medium  \n",
       "5    70.0  Female   1940      1.60   74      short  "
      ]
     },
     "execution_count": 195,
     "metadata": {},
     "output_type": "execute_result"
    }
   ],
   "source": [
    "ess2014.loc[ess2014['cgtsday'].isnull(), :].head()"
   ]
  },
  {
   "cell_type": "markdown",
   "metadata": {},
   "source": [
    "---\n",
    "## ØVELSE: Rekodning\n",
    "\n",
    "`cgtsday` angiver, hvor mange cigaretter om dagen personen ryger. Ud fra denne kan dannes en \"ryger\"-variabel.\n",
    "\n",
    "*Dan en variabel, der angiver, hvorvidt personen ryger eller ej*\n",
    "\n",
    "TIP: Brug `isnull()` og `notnull()` til at selektere missingværdier eller ikke-missingværdier\n",
    "\n",
    "{{%expand \"Løsning\"}}"
   ]
  },
  {
   "cell_type": "code",
   "execution_count": 196,
   "metadata": {},
   "outputs": [
    {
     "data": {
      "text/html": [
       "<div>\n",
       "<style scoped>\n",
       "    .dataframe tbody tr th:only-of-type {\n",
       "        vertical-align: middle;\n",
       "    }\n",
       "\n",
       "    .dataframe tbody tr th {\n",
       "        vertical-align: top;\n",
       "    }\n",
       "\n",
       "    .dataframe thead th {\n",
       "        text-align: right;\n",
       "    }\n",
       "</style>\n",
       "<table border=\"1\" class=\"dataframe\">\n",
       "  <thead>\n",
       "    <tr style=\"text-align: right;\">\n",
       "      <th></th>\n",
       "      <th>idno</th>\n",
       "      <th>ppltrst</th>\n",
       "      <th>happy</th>\n",
       "      <th>health</th>\n",
       "      <th>cgtsday</th>\n",
       "      <th>alcfreq</th>\n",
       "      <th>height</th>\n",
       "      <th>weight</th>\n",
       "      <th>gndr</th>\n",
       "      <th>yrbrn</th>\n",
       "      <th>height_m</th>\n",
       "      <th>age</th>\n",
       "      <th>height_cat</th>\n",
       "      <th>smoker</th>\n",
       "    </tr>\n",
       "  </thead>\n",
       "  <tbody>\n",
       "    <tr>\n",
       "      <th>0</th>\n",
       "      <td>921018</td>\n",
       "      <td>6</td>\n",
       "      <td>9</td>\n",
       "      <td>Very good</td>\n",
       "      <td>10.0</td>\n",
       "      <td>2-3 times a month</td>\n",
       "      <td>178.0</td>\n",
       "      <td>64.0</td>\n",
       "      <td>Male</td>\n",
       "      <td>1990</td>\n",
       "      <td>1.78</td>\n",
       "      <td>24</td>\n",
       "      <td>medium</td>\n",
       "      <td>smoker</td>\n",
       "    </tr>\n",
       "    <tr>\n",
       "      <th>1</th>\n",
       "      <td>921026</td>\n",
       "      <td>8</td>\n",
       "      <td>8</td>\n",
       "      <td>Very good</td>\n",
       "      <td>NaN</td>\n",
       "      <td>Several times a week</td>\n",
       "      <td>172.0</td>\n",
       "      <td>64.0</td>\n",
       "      <td>Female</td>\n",
       "      <td>1948</td>\n",
       "      <td>1.72</td>\n",
       "      <td>66</td>\n",
       "      <td>medium</td>\n",
       "      <td>not a smoker</td>\n",
       "    </tr>\n",
       "    <tr>\n",
       "      <th>2</th>\n",
       "      <td>921034</td>\n",
       "      <td>8</td>\n",
       "      <td>8</td>\n",
       "      <td>Good</td>\n",
       "      <td>NaN</td>\n",
       "      <td>Every day</td>\n",
       "      <td>176.0</td>\n",
       "      <td>87.0</td>\n",
       "      <td>Male</td>\n",
       "      <td>1957</td>\n",
       "      <td>1.76</td>\n",
       "      <td>57</td>\n",
       "      <td>medium</td>\n",
       "      <td>not a smoker</td>\n",
       "    </tr>\n",
       "    <tr>\n",
       "      <th>3</th>\n",
       "      <td>921076</td>\n",
       "      <td>8</td>\n",
       "      <td>8</td>\n",
       "      <td>Good</td>\n",
       "      <td>NaN</td>\n",
       "      <td>Several times a week</td>\n",
       "      <td>162.0</td>\n",
       "      <td>70.0</td>\n",
       "      <td>Female</td>\n",
       "      <td>1958</td>\n",
       "      <td>1.62</td>\n",
       "      <td>56</td>\n",
       "      <td>short</td>\n",
       "      <td>not a smoker</td>\n",
       "    </tr>\n",
       "    <tr>\n",
       "      <th>4</th>\n",
       "      <td>921084</td>\n",
       "      <td>5</td>\n",
       "      <td>8</td>\n",
       "      <td>Very good</td>\n",
       "      <td>NaN</td>\n",
       "      <td>Every day</td>\n",
       "      <td>175.0</td>\n",
       "      <td>80.0</td>\n",
       "      <td>Male</td>\n",
       "      <td>1936</td>\n",
       "      <td>1.75</td>\n",
       "      <td>78</td>\n",
       "      <td>medium</td>\n",
       "      <td>not a smoker</td>\n",
       "    </tr>\n",
       "    <tr>\n",
       "      <th>5</th>\n",
       "      <td>921131</td>\n",
       "      <td>8</td>\n",
       "      <td>8</td>\n",
       "      <td>Fair</td>\n",
       "      <td>NaN</td>\n",
       "      <td>Several times a week</td>\n",
       "      <td>160.0</td>\n",
       "      <td>70.0</td>\n",
       "      <td>Female</td>\n",
       "      <td>1940</td>\n",
       "      <td>1.60</td>\n",
       "      <td>74</td>\n",
       "      <td>short</td>\n",
       "      <td>not a smoker</td>\n",
       "    </tr>\n",
       "    <tr>\n",
       "      <th>6</th>\n",
       "      <td>921165</td>\n",
       "      <td>8</td>\n",
       "      <td>Extremely happy</td>\n",
       "      <td>Good</td>\n",
       "      <td>NaN</td>\n",
       "      <td>Once a week</td>\n",
       "      <td>167.0</td>\n",
       "      <td>78.0</td>\n",
       "      <td>Female</td>\n",
       "      <td>1965</td>\n",
       "      <td>1.67</td>\n",
       "      <td>49</td>\n",
       "      <td>medium</td>\n",
       "      <td>not a smoker</td>\n",
       "    </tr>\n",
       "    <tr>\n",
       "      <th>7</th>\n",
       "      <td>921181</td>\n",
       "      <td>9</td>\n",
       "      <td>9</td>\n",
       "      <td>Fair</td>\n",
       "      <td>NaN</td>\n",
       "      <td>Once a week</td>\n",
       "      <td>194.0</td>\n",
       "      <td>102.0</td>\n",
       "      <td>Male</td>\n",
       "      <td>1956</td>\n",
       "      <td>1.94</td>\n",
       "      <td>58</td>\n",
       "      <td>tall</td>\n",
       "      <td>not a smoker</td>\n",
       "    </tr>\n",
       "    <tr>\n",
       "      <th>8</th>\n",
       "      <td>921199</td>\n",
       "      <td>9</td>\n",
       "      <td>8</td>\n",
       "      <td>Fair</td>\n",
       "      <td>20.0</td>\n",
       "      <td>2-3 times a month</td>\n",
       "      <td>176.0</td>\n",
       "      <td>62.0</td>\n",
       "      <td>Female</td>\n",
       "      <td>1993</td>\n",
       "      <td>1.76</td>\n",
       "      <td>21</td>\n",
       "      <td>medium</td>\n",
       "      <td>smoker</td>\n",
       "    </tr>\n",
       "    <tr>\n",
       "      <th>9</th>\n",
       "      <td>921204</td>\n",
       "      <td>9</td>\n",
       "      <td>8</td>\n",
       "      <td>Good</td>\n",
       "      <td>NaN</td>\n",
       "      <td>Once a week</td>\n",
       "      <td>157.0</td>\n",
       "      <td>48.0</td>\n",
       "      <td>Female</td>\n",
       "      <td>1941</td>\n",
       "      <td>1.57</td>\n",
       "      <td>73</td>\n",
       "      <td>short</td>\n",
       "      <td>not a smoker</td>\n",
       "    </tr>\n",
       "  </tbody>\n",
       "</table>\n",
       "</div>"
      ],
      "text/plain": [
       "     idno ppltrst            happy     health  cgtsday               alcfreq  \\\n",
       "0  921018       6                9  Very good     10.0     2-3 times a month   \n",
       "1  921026       8                8  Very good      NaN  Several times a week   \n",
       "2  921034       8                8       Good      NaN             Every day   \n",
       "3  921076       8                8       Good      NaN  Several times a week   \n",
       "4  921084       5                8  Very good      NaN             Every day   \n",
       "5  921131       8                8       Fair      NaN  Several times a week   \n",
       "6  921165       8  Extremely happy       Good      NaN           Once a week   \n",
       "7  921181       9                9       Fair      NaN           Once a week   \n",
       "8  921199       9                8       Fair     20.0     2-3 times a month   \n",
       "9  921204       9                8       Good      NaN           Once a week   \n",
       "\n",
       "   height  weight    gndr  yrbrn  height_m  age height_cat        smoker  \n",
       "0   178.0    64.0    Male   1990      1.78   24     medium        smoker  \n",
       "1   172.0    64.0  Female   1948      1.72   66     medium  not a smoker  \n",
       "2   176.0    87.0    Male   1957      1.76   57     medium  not a smoker  \n",
       "3   162.0    70.0  Female   1958      1.62   56      short  not a smoker  \n",
       "4   175.0    80.0    Male   1936      1.75   78     medium  not a smoker  \n",
       "5   160.0    70.0  Female   1940      1.60   74      short  not a smoker  \n",
       "6   167.0    78.0  Female   1965      1.67   49     medium  not a smoker  \n",
       "7   194.0   102.0    Male   1956      1.94   58       tall  not a smoker  \n",
       "8   176.0    62.0  Female   1993      1.76   21     medium        smoker  \n",
       "9   157.0    48.0  Female   1941      1.57   73      short  not a smoker  "
      ]
     },
     "execution_count": 196,
     "metadata": {},
     "output_type": "execute_result"
    }
   ],
   "source": [
    "ess2014['smoker'] = np.nan\n",
    "\n",
    "ess2014.loc[(ess2014['cgtsday'].isnull()) | (ess2014['cgtsday'] == 0), 'smoker'] = 'not a smoker'\n",
    "ess2014.loc[ess2014['cgtsday'].notnull() | (ess2014['cgtsday'] > 0), 'smoker'] = 'smoker'\n",
    "\n",
    "ess2014.head(10)"
   ]
  },
  {
   "cell_type": "markdown",
   "metadata": {},
   "source": [
    "{{%/expand}}"
   ]
  },
  {
   "cell_type": "markdown",
   "metadata": {},
   "source": [
    "# {#Afsnit}Variabeltyper (numerisk og tekst)\n",
    "\n",
    "Ligesom Python generelt adskiller mellem typer af objekter, har hver kolonne (series) i en data frame også en type.\n",
    "\n",
    "Typen kan tjekkes med `.dtypes`; enten for hele datasættet eller en enkelt kolonne."
   ]
  },
  {
   "cell_type": "code",
   "execution_count": 197,
   "metadata": {},
   "outputs": [
    {
     "data": {
      "text/plain": [
       "dtype('float64')"
      ]
     },
     "execution_count": 197,
     "metadata": {},
     "output_type": "execute_result"
    }
   ],
   "source": [
    "ess2014['height'].dtypes"
   ]
  },
  {
   "cell_type": "code",
   "execution_count": 198,
   "metadata": {},
   "outputs": [
    {
     "data": {
      "text/plain": [
       "idno             int64\n",
       "ppltrst         object\n",
       "happy           object\n",
       "health          object\n",
       "cgtsday        float64\n",
       "alcfreq         object\n",
       "height         float64\n",
       "weight         float64\n",
       "gndr            object\n",
       "yrbrn            int64\n",
       "height_m       float64\n",
       "age              int64\n",
       "height_cat    category\n",
       "smoker          object\n",
       "dtype: object"
      ]
     },
     "execution_count": 198,
     "metadata": {},
     "output_type": "execute_result"
    }
   ],
   "source": [
    "ess2014.dtypes"
   ]
  },
  {
   "cell_type": "markdown",
   "metadata": {},
   "source": [
    "Af ovenstående ses at datasættet indeholder typerne `int64` (integer/heltal), `float64` (\"float point\"/decimaltal) og `object`. \n",
    "\n",
    "`object` typen bruges, når kolonnen både indeholder tekst og tal. På den måde mistes ikke noget information ved indlæsning Typen kan give problemer, da mange funktioner og metoder forventer enten en ren numerisk kolonne eller ren tekst/kategorisk kolonne. Det hænder også, at variable kun med tekst indlæses som `object`.\n",
    "\n",
    "Man bør altid undersøge variable af typen `object` nærmere og se, om en anden type er mere passende (numerisk, tekst/karakter eller kategorisk). Dette fordi at `object`-typen fortæller meget lidt om, hvad data indeholder, hvor de andre typer med det samme fortæller, hvilken type data, som kolonnen indeholder."
   ]
  },
  {
   "cell_type": "markdown",
   "metadata": {},
   "source": [
    "## Ændring af variabeltype\n",
    "\n",
    "Kolonnetypen ændres med metoden `.astype()`:\n",
    "\n",
    "- `astype('string')`: Konverter til string (tekstværdier)\n",
    "- `astype('categorical')`: Konverter til kategorisk\n",
    "- `astype('int')`: Til heltal\n",
    "- `astype('float')`: Til decimaltal\n",
    "\n",
    "**Konvertering til tekst**\n",
    "\n",
    "Tjek hvilke værdier kolonnen indeholder:"
   ]
  },
  {
   "cell_type": "code",
   "execution_count": 199,
   "metadata": {},
   "outputs": [
    {
     "data": {
      "text/plain": [
       "array(['Male', 'Female'], dtype=object)"
      ]
     },
     "execution_count": 199,
     "metadata": {},
     "output_type": "execute_result"
    }
   ],
   "source": [
    "ess2014['gndr'].unique()"
   ]
  },
  {
   "cell_type": "markdown",
   "metadata": {},
   "source": [
    "Kolonnen indeholder værdierne \"Male\" og \"Female\"; en kategorisk variabel bestående kun af tekst-værdier. Den kan derfor lige så godt konverteres til teksttype.\n",
    "\n",
    "Konvertering af kolonne til tekst gøres med `.astype('string')`:"
   ]
  },
  {
   "cell_type": "code",
   "execution_count": 200,
   "metadata": {},
   "outputs": [],
   "source": [
    "ess2014['gndr'] = ess2014['gndr'].astype('string')"
   ]
  },
  {
   "cell_type": "markdown",
   "metadata": {},
   "source": [
    "Typen er nu string/tekst (`StringDtype`):"
   ]
  },
  {
   "cell_type": "code",
   "execution_count": 201,
   "metadata": {},
   "outputs": [
    {
     "data": {
      "text/plain": [
       "StringDtype"
      ]
     },
     "execution_count": 201,
     "metadata": {},
     "output_type": "execute_result"
    }
   ],
   "source": [
    "ess2014['gndr'].dtypes"
   ]
  },
  {
   "cell_type": "markdown",
   "metadata": {},
   "source": [
    "{{%notice note%}} Variable med afgrænsede tekstværdier er kategoriske variable, og det giver ofte mere mening at konvertere disse til kategorisk frem for tekst. Dette gennemgås senere i dette materiale.\n",
    "{{%/notice%}}"
   ]
  },
  {
   "cell_type": "markdown",
   "metadata": {},
   "source": [
    "**Konvertering til numerisk**"
   ]
  },
  {
   "cell_type": "markdown",
   "metadata": {},
   "source": [
    "`yrbrn` konverteres til tekst for at have en variabel at konvertere til tal.\n",
    "\n",
    "Tjek først typen:"
   ]
  },
  {
   "cell_type": "code",
   "execution_count": 202,
   "metadata": {},
   "outputs": [
    {
     "data": {
      "text/plain": [
       "dtype('int64')"
      ]
     },
     "execution_count": 202,
     "metadata": {},
     "output_type": "execute_result"
    }
   ],
   "source": [
    "ess2014['yrbrn'].dtypes"
   ]
  },
  {
   "cell_type": "markdown",
   "metadata": {},
   "source": [
    "Typen er `int64` (decimaltal). Konverter til tekst:"
   ]
  },
  {
   "cell_type": "code",
   "execution_count": 203,
   "metadata": {},
   "outputs": [],
   "source": [
    "ess2014['yrbrn'] = ess2014['yrbrn'].astype('string')"
   ]
  },
  {
   "cell_type": "markdown",
   "metadata": {},
   "source": [
    "Tjek at typen er string:"
   ]
  },
  {
   "cell_type": "code",
   "execution_count": 204,
   "metadata": {},
   "outputs": [
    {
     "data": {
      "text/plain": [
       "StringDtype"
      ]
     },
     "execution_count": 204,
     "metadata": {},
     "output_type": "execute_result"
    }
   ],
   "source": [
    "ess2014['yrbrn'].dtypes"
   ]
  },
  {
   "cell_type": "markdown",
   "metadata": {},
   "source": [
    "Konvertering til heltal igen - Gøres med `.astype('int')`:"
   ]
  },
  {
   "cell_type": "code",
   "execution_count": 205,
   "metadata": {},
   "outputs": [],
   "source": [
    "ess2014['yrbrn'] = ess2014['yrbrn'].astype('int')"
   ]
  },
  {
   "cell_type": "markdown",
   "metadata": {},
   "source": [
    "Tjek at typen er ændret tilbage:"
   ]
  },
  {
   "cell_type": "code",
   "execution_count": 206,
   "metadata": {},
   "outputs": [
    {
     "data": {
      "text/plain": [
       "dtype('int32')"
      ]
     },
     "execution_count": 206,
     "metadata": {},
     "output_type": "execute_result"
    }
   ],
   "source": [
    "ess2014['yrbrn'].dtypes"
   ]
  },
  {
   "cell_type": "markdown",
   "metadata": {},
   "source": [
    "**Konverter kolonne med blanding af typer**\n",
    "\n",
    "Ofte kan man rende ind i, at en kolonne indeholder en blanding af typer.\n",
    "\n",
    "Det gælder fx for `ppltrst` og `happy`.\n",
    "\n",
    "Tjek hvilke værdier kolonnen indeholder:"
   ]
  },
  {
   "cell_type": "code",
   "execution_count": 207,
   "metadata": {},
   "outputs": [
    {
     "data": {
      "text/plain": [
       "array(['6', '8', '5', '9', '7', '3', '4', 'Most people can be trusted',\n",
       "       '2', \"You can't be too careful\", '1', nan], dtype=object)"
      ]
     },
     "execution_count": 207,
     "metadata": {},
     "output_type": "execute_result"
    }
   ],
   "source": [
    "ess2014['ppltrst'].unique()"
   ]
  },
  {
   "cell_type": "markdown",
   "metadata": {},
   "source": [
    "Variablen indeholder både tal og tekst. Hvis der konverteres til tal, gives der fejl:"
   ]
  },
  {
   "cell_type": "code",
   "execution_count": 208,
   "metadata": {},
   "outputs": [
    {
     "ename": "ValueError",
     "evalue": "invalid literal for int() with base 10: 'Most people can be trusted'",
     "output_type": "error",
     "traceback": [
      "\u001b[1;31m---------------------------------------------------------------------------\u001b[0m",
      "\u001b[1;31mValueError\u001b[0m                                Traceback (most recent call last)",
      "\u001b[1;32m<ipython-input-208-8b2ee5027ea0>\u001b[0m in \u001b[0;36m<module>\u001b[1;34m\u001b[0m\n\u001b[1;32m----> 1\u001b[1;33m \u001b[0mess2014\u001b[0m\u001b[1;33m[\u001b[0m\u001b[1;34m'ppltrst'\u001b[0m\u001b[1;33m]\u001b[0m \u001b[1;33m=\u001b[0m \u001b[0mess2014\u001b[0m\u001b[1;33m[\u001b[0m\u001b[1;34m'ppltrst'\u001b[0m\u001b[1;33m]\u001b[0m\u001b[1;33m.\u001b[0m\u001b[0mastype\u001b[0m\u001b[1;33m(\u001b[0m\u001b[1;34m'int'\u001b[0m\u001b[1;33m)\u001b[0m\u001b[1;33m\u001b[0m\u001b[1;33m\u001b[0m\u001b[0m\n\u001b[0m",
      "\u001b[1;32mC:\\programs\\Continuum\\anaconda3\\lib\\site-packages\\pandas\\core\\generic.py\u001b[0m in \u001b[0;36mastype\u001b[1;34m(self, dtype, copy, errors)\u001b[0m\n\u001b[0;32m   5535\u001b[0m         \u001b[1;32melse\u001b[0m\u001b[1;33m:\u001b[0m\u001b[1;33m\u001b[0m\u001b[1;33m\u001b[0m\u001b[0m\n\u001b[0;32m   5536\u001b[0m             \u001b[1;31m# else, only a single dtype is given\u001b[0m\u001b[1;33m\u001b[0m\u001b[1;33m\u001b[0m\u001b[1;33m\u001b[0m\u001b[0m\n\u001b[1;32m-> 5537\u001b[1;33m             \u001b[0mnew_data\u001b[0m \u001b[1;33m=\u001b[0m \u001b[0mself\u001b[0m\u001b[1;33m.\u001b[0m\u001b[0m_mgr\u001b[0m\u001b[1;33m.\u001b[0m\u001b[0mastype\u001b[0m\u001b[1;33m(\u001b[0m\u001b[0mdtype\u001b[0m\u001b[1;33m=\u001b[0m\u001b[0mdtype\u001b[0m\u001b[1;33m,\u001b[0m \u001b[0mcopy\u001b[0m\u001b[1;33m=\u001b[0m\u001b[0mcopy\u001b[0m\u001b[1;33m,\u001b[0m \u001b[0merrors\u001b[0m\u001b[1;33m=\u001b[0m\u001b[0merrors\u001b[0m\u001b[1;33m,\u001b[0m\u001b[1;33m)\u001b[0m\u001b[1;33m\u001b[0m\u001b[1;33m\u001b[0m\u001b[0m\n\u001b[0m\u001b[0;32m   5538\u001b[0m             \u001b[1;32mreturn\u001b[0m \u001b[0mself\u001b[0m\u001b[1;33m.\u001b[0m\u001b[0m_constructor\u001b[0m\u001b[1;33m(\u001b[0m\u001b[0mnew_data\u001b[0m\u001b[1;33m)\u001b[0m\u001b[1;33m.\u001b[0m\u001b[0m__finalize__\u001b[0m\u001b[1;33m(\u001b[0m\u001b[0mself\u001b[0m\u001b[1;33m,\u001b[0m \u001b[0mmethod\u001b[0m\u001b[1;33m=\u001b[0m\u001b[1;34m\"astype\"\u001b[0m\u001b[1;33m)\u001b[0m\u001b[1;33m\u001b[0m\u001b[1;33m\u001b[0m\u001b[0m\n\u001b[0;32m   5539\u001b[0m \u001b[1;33m\u001b[0m\u001b[0m\n",
      "\u001b[1;32mC:\\programs\\Continuum\\anaconda3\\lib\\site-packages\\pandas\\core\\internals\\managers.py\u001b[0m in \u001b[0;36mastype\u001b[1;34m(self, dtype, copy, errors)\u001b[0m\n\u001b[0;32m    593\u001b[0m         \u001b[0mself\u001b[0m\u001b[1;33m,\u001b[0m \u001b[0mdtype\u001b[0m\u001b[1;33m,\u001b[0m \u001b[0mcopy\u001b[0m\u001b[1;33m:\u001b[0m \u001b[0mbool\u001b[0m \u001b[1;33m=\u001b[0m \u001b[1;32mFalse\u001b[0m\u001b[1;33m,\u001b[0m \u001b[0merrors\u001b[0m\u001b[1;33m:\u001b[0m \u001b[0mstr\u001b[0m \u001b[1;33m=\u001b[0m \u001b[1;34m\"raise\"\u001b[0m\u001b[1;33m\u001b[0m\u001b[1;33m\u001b[0m\u001b[0m\n\u001b[0;32m    594\u001b[0m     ) -> \"BlockManager\":\n\u001b[1;32m--> 595\u001b[1;33m         \u001b[1;32mreturn\u001b[0m \u001b[0mself\u001b[0m\u001b[1;33m.\u001b[0m\u001b[0mapply\u001b[0m\u001b[1;33m(\u001b[0m\u001b[1;34m\"astype\"\u001b[0m\u001b[1;33m,\u001b[0m \u001b[0mdtype\u001b[0m\u001b[1;33m=\u001b[0m\u001b[0mdtype\u001b[0m\u001b[1;33m,\u001b[0m \u001b[0mcopy\u001b[0m\u001b[1;33m=\u001b[0m\u001b[0mcopy\u001b[0m\u001b[1;33m,\u001b[0m \u001b[0merrors\u001b[0m\u001b[1;33m=\u001b[0m\u001b[0merrors\u001b[0m\u001b[1;33m)\u001b[0m\u001b[1;33m\u001b[0m\u001b[1;33m\u001b[0m\u001b[0m\n\u001b[0m\u001b[0;32m    596\u001b[0m \u001b[1;33m\u001b[0m\u001b[0m\n\u001b[0;32m    597\u001b[0m     def convert(\n",
      "\u001b[1;32mC:\\programs\\Continuum\\anaconda3\\lib\\site-packages\\pandas\\core\\internals\\managers.py\u001b[0m in \u001b[0;36mapply\u001b[1;34m(self, f, align_keys, **kwargs)\u001b[0m\n\u001b[0;32m    404\u001b[0m                 \u001b[0mapplied\u001b[0m \u001b[1;33m=\u001b[0m \u001b[0mb\u001b[0m\u001b[1;33m.\u001b[0m\u001b[0mapply\u001b[0m\u001b[1;33m(\u001b[0m\u001b[0mf\u001b[0m\u001b[1;33m,\u001b[0m \u001b[1;33m**\u001b[0m\u001b[0mkwargs\u001b[0m\u001b[1;33m)\u001b[0m\u001b[1;33m\u001b[0m\u001b[1;33m\u001b[0m\u001b[0m\n\u001b[0;32m    405\u001b[0m             \u001b[1;32melse\u001b[0m\u001b[1;33m:\u001b[0m\u001b[1;33m\u001b[0m\u001b[1;33m\u001b[0m\u001b[0m\n\u001b[1;32m--> 406\u001b[1;33m                 \u001b[0mapplied\u001b[0m \u001b[1;33m=\u001b[0m \u001b[0mgetattr\u001b[0m\u001b[1;33m(\u001b[0m\u001b[0mb\u001b[0m\u001b[1;33m,\u001b[0m \u001b[0mf\u001b[0m\u001b[1;33m)\u001b[0m\u001b[1;33m(\u001b[0m\u001b[1;33m**\u001b[0m\u001b[0mkwargs\u001b[0m\u001b[1;33m)\u001b[0m\u001b[1;33m\u001b[0m\u001b[1;33m\u001b[0m\u001b[0m\n\u001b[0m\u001b[0;32m    407\u001b[0m             \u001b[0mresult_blocks\u001b[0m \u001b[1;33m=\u001b[0m \u001b[0m_extend_blocks\u001b[0m\u001b[1;33m(\u001b[0m\u001b[0mapplied\u001b[0m\u001b[1;33m,\u001b[0m \u001b[0mresult_blocks\u001b[0m\u001b[1;33m)\u001b[0m\u001b[1;33m\u001b[0m\u001b[1;33m\u001b[0m\u001b[0m\n\u001b[0;32m    408\u001b[0m \u001b[1;33m\u001b[0m\u001b[0m\n",
      "\u001b[1;32mC:\\programs\\Continuum\\anaconda3\\lib\\site-packages\\pandas\\core\\internals\\blocks.py\u001b[0m in \u001b[0;36mastype\u001b[1;34m(self, dtype, copy, errors)\u001b[0m\n\u001b[0;32m    587\u001b[0m             \u001b[0mvals1d\u001b[0m \u001b[1;33m=\u001b[0m \u001b[0mvalues\u001b[0m\u001b[1;33m.\u001b[0m\u001b[0mravel\u001b[0m\u001b[1;33m(\u001b[0m\u001b[1;33m)\u001b[0m\u001b[1;33m\u001b[0m\u001b[1;33m\u001b[0m\u001b[0m\n\u001b[0;32m    588\u001b[0m             \u001b[1;32mtry\u001b[0m\u001b[1;33m:\u001b[0m\u001b[1;33m\u001b[0m\u001b[1;33m\u001b[0m\u001b[0m\n\u001b[1;32m--> 589\u001b[1;33m                 \u001b[0mvalues\u001b[0m \u001b[1;33m=\u001b[0m \u001b[0mastype_nansafe\u001b[0m\u001b[1;33m(\u001b[0m\u001b[0mvals1d\u001b[0m\u001b[1;33m,\u001b[0m \u001b[0mdtype\u001b[0m\u001b[1;33m,\u001b[0m \u001b[0mcopy\u001b[0m\u001b[1;33m=\u001b[0m\u001b[1;32mTrue\u001b[0m\u001b[1;33m)\u001b[0m\u001b[1;33m\u001b[0m\u001b[1;33m\u001b[0m\u001b[0m\n\u001b[0m\u001b[0;32m    590\u001b[0m             \u001b[1;32mexcept\u001b[0m \u001b[1;33m(\u001b[0m\u001b[0mValueError\u001b[0m\u001b[1;33m,\u001b[0m \u001b[0mTypeError\u001b[0m\u001b[1;33m)\u001b[0m\u001b[1;33m:\u001b[0m\u001b[1;33m\u001b[0m\u001b[1;33m\u001b[0m\u001b[0m\n\u001b[0;32m    591\u001b[0m                 \u001b[1;31m# e.g. astype_nansafe can fail on object-dtype of strings\u001b[0m\u001b[1;33m\u001b[0m\u001b[1;33m\u001b[0m\u001b[1;33m\u001b[0m\u001b[0m\n",
      "\u001b[1;32mC:\\programs\\Continuum\\anaconda3\\lib\\site-packages\\pandas\\core\\dtypes\\cast.py\u001b[0m in \u001b[0;36mastype_nansafe\u001b[1;34m(arr, dtype, copy, skipna)\u001b[0m\n\u001b[0;32m    964\u001b[0m         \u001b[1;31m# work around NumPy brokenness, #1987\u001b[0m\u001b[1;33m\u001b[0m\u001b[1;33m\u001b[0m\u001b[1;33m\u001b[0m\u001b[0m\n\u001b[0;32m    965\u001b[0m         \u001b[1;32mif\u001b[0m \u001b[0mnp\u001b[0m\u001b[1;33m.\u001b[0m\u001b[0missubdtype\u001b[0m\u001b[1;33m(\u001b[0m\u001b[0mdtype\u001b[0m\u001b[1;33m.\u001b[0m\u001b[0mtype\u001b[0m\u001b[1;33m,\u001b[0m \u001b[0mnp\u001b[0m\u001b[1;33m.\u001b[0m\u001b[0minteger\u001b[0m\u001b[1;33m)\u001b[0m\u001b[1;33m:\u001b[0m\u001b[1;33m\u001b[0m\u001b[1;33m\u001b[0m\u001b[0m\n\u001b[1;32m--> 966\u001b[1;33m             \u001b[1;32mreturn\u001b[0m \u001b[0mlib\u001b[0m\u001b[1;33m.\u001b[0m\u001b[0mastype_intsafe\u001b[0m\u001b[1;33m(\u001b[0m\u001b[0marr\u001b[0m\u001b[1;33m.\u001b[0m\u001b[0mravel\u001b[0m\u001b[1;33m(\u001b[0m\u001b[1;33m)\u001b[0m\u001b[1;33m,\u001b[0m \u001b[0mdtype\u001b[0m\u001b[1;33m)\u001b[0m\u001b[1;33m.\u001b[0m\u001b[0mreshape\u001b[0m\u001b[1;33m(\u001b[0m\u001b[0marr\u001b[0m\u001b[1;33m.\u001b[0m\u001b[0mshape\u001b[0m\u001b[1;33m)\u001b[0m\u001b[1;33m\u001b[0m\u001b[1;33m\u001b[0m\u001b[0m\n\u001b[0m\u001b[0;32m    967\u001b[0m \u001b[1;33m\u001b[0m\u001b[0m\n\u001b[0;32m    968\u001b[0m         \u001b[1;31m# if we have a datetime/timedelta array of objects\u001b[0m\u001b[1;33m\u001b[0m\u001b[1;33m\u001b[0m\u001b[1;33m\u001b[0m\u001b[0m\n",
      "\u001b[1;32mpandas\\_libs\\lib.pyx\u001b[0m in \u001b[0;36mpandas._libs.lib.astype_intsafe\u001b[1;34m()\u001b[0m\n",
      "\u001b[1;31mValueError\u001b[0m: invalid literal for int() with base 10: 'Most people can be trusted'"
     ]
    }
   ],
   "source": [
    "ess2014['ppltrst'] = ess2014['ppltrst'].astype('int')"
   ]
  },
  {
   "cell_type": "markdown",
   "metadata": {},
   "source": [
    "Variablen er en skala fra 0-10, så den kan i princippet behandles som numerisk. Det kræver bare, at værdierne ændres sådan, at variablen kan tvinges om.\n",
    "\n",
    "- \"Most people can be trusted\" skal være \"10\"\n",
    "- \"You can't be too careful\" skal være \"0\"\n",
    "\n",
    "Værdier kan erstattes med metoden `.replace()`. Her ændres oplysninger i datasættet, hvorfor man altid bør lave en ny variabel:"
   ]
  },
  {
   "cell_type": "code",
   "execution_count": 209,
   "metadata": {},
   "outputs": [],
   "source": [
    "ess2014['ppltrst_num'] = ess2014['ppltrst']"
   ]
  },
  {
   "cell_type": "markdown",
   "metadata": {},
   "source": [
    "Nu kan værdierne erstattes i den nye variabel med `replace()`. Metoden skal bruge en dictionary, hvor nøglerne består af værdierne, som skal ændres, og værdierne skal være de værdier, som skal ændres."
   ]
  },
  {
   "cell_type": "code",
   "execution_count": 210,
   "metadata": {},
   "outputs": [],
   "source": [
    "ess2014['ppltrst_num'] = ess2014['ppltrst_num'].replace({\"Most people can be trusted\": \"10\", \"You can't be too careful\": \"0\"})"
   ]
  },
  {
   "cell_type": "markdown",
   "metadata": {},
   "source": [
    "Variabel indeholder nu værdierne \"0\" og \"10\"."
   ]
  },
  {
   "cell_type": "code",
   "execution_count": 211,
   "metadata": {},
   "outputs": [
    {
     "data": {
      "text/plain": [
       "array(['6', '8', '5', '9', '7', '3', '4', '10', '2', '0', '1', nan],\n",
       "      dtype=object)"
      ]
     },
     "execution_count": 211,
     "metadata": {},
     "output_type": "execute_result"
    }
   ],
   "source": [
    "ess2014['ppltrst_num'].unique()"
   ]
  },
  {
   "cell_type": "markdown",
   "metadata": {},
   "source": [
    "Variablen kan nu konverteres til tal (der konverteres til float/decimaltal, da missingværdier (`NaN`) ikke kan være heltal):"
   ]
  },
  {
   "cell_type": "code",
   "execution_count": 212,
   "metadata": {},
   "outputs": [],
   "source": [
    "ess2014['ppltrst_num'] = ess2014['ppltrst_num'].astype('float')"
   ]
  },
  {
   "cell_type": "markdown",
   "metadata": {},
   "source": [
    "Variablen er nu numerisk, så man fx kan foretage beregninger:"
   ]
  },
  {
   "cell_type": "code",
   "execution_count": 213,
   "metadata": {},
   "outputs": [
    {
     "data": {
      "text/plain": [
       "6.902"
      ]
     },
     "execution_count": 213,
     "metadata": {},
     "output_type": "execute_result"
    }
   ],
   "source": [
    "ess2014['ppltrst_num'].mean()"
   ]
  },
  {
   "cell_type": "markdown",
   "metadata": {},
   "source": [
    "### Lad pandas gætte typen\n",
    "\n",
    "Metoden `convert_dtypes()` bruges til at lade pandas gætte den mest passende type"
   ]
  },
  {
   "cell_type": "code",
   "execution_count": 214,
   "metadata": {},
   "outputs": [
    {
     "data": {
      "text/plain": [
       "dtype('O')"
      ]
     },
     "execution_count": 214,
     "metadata": {},
     "output_type": "execute_result"
    }
   ],
   "source": [
    "ess2014['alcfreq'].dtypes"
   ]
  },
  {
   "cell_type": "markdown",
   "metadata": {},
   "source": [
    "Variabeltypen er 'O' (for `object`)."
   ]
  },
  {
   "cell_type": "code",
   "execution_count": 215,
   "metadata": {},
   "outputs": [],
   "source": [
    "ess2014['alcfreq'] = ess2014['alcfreq'].convert_dtypes()"
   ]
  },
  {
   "cell_type": "markdown",
   "metadata": {},
   "source": [
    "Tjek hvilken type pandas har konverteret til ved at gætte:"
   ]
  },
  {
   "cell_type": "code",
   "execution_count": 216,
   "metadata": {},
   "outputs": [
    {
     "data": {
      "text/plain": [
       "StringDtype"
      ]
     },
     "execution_count": 216,
     "metadata": {},
     "output_type": "execute_result"
    }
   ],
   "source": [
    "ess2014['alcfreq'].dtypes"
   ]
  },
  {
   "cell_type": "code",
   "execution_count": 217,
   "metadata": {},
   "outputs": [
    {
     "data": {
      "text/plain": [
       "idno              int64\n",
       "ppltrst          object\n",
       "happy            object\n",
       "health           object\n",
       "cgtsday         float64\n",
       "alcfreq          string\n",
       "height          float64\n",
       "weight          float64\n",
       "gndr             string\n",
       "yrbrn             int32\n",
       "height_m        float64\n",
       "age               int64\n",
       "height_cat     category\n",
       "smoker           object\n",
       "ppltrst_num     float64\n",
       "dtype: object"
      ]
     },
     "execution_count": 217,
     "metadata": {},
     "output_type": "execute_result"
    }
   ],
   "source": [
    "ess2014.dtypes"
   ]
  },
  {
   "cell_type": "code",
   "execution_count": 218,
   "metadata": {},
   "outputs": [
    {
     "data": {
      "text/plain": [
       "array(['9', '8', 'Extremely happy', '4', '6', '7', '3', '5', '1', '2',\n",
       "       nan, 'Extremely unhappy'], dtype=object)"
      ]
     },
     "execution_count": 218,
     "metadata": {},
     "output_type": "execute_result"
    }
   ],
   "source": [
    "ess2014['happy'].unique()"
   ]
  },
  {
   "cell_type": "markdown",
   "metadata": {},
   "source": [
    "---\n",
    "\n",
    "# ØVELSE: Ændr variabeltypen\n",
    "\n",
    "1. Check hvilken type variabel `happy` er med `.dtypes`.\n",
    "\n",
    "2. Variablen kan laves til numerisk. Lav en kopi af variablen (evt. kald den `happy_num`).\n",
    "\n",
    "3. Rekod tekstværdierne til tal med `.replace()` - Husk at rekodninger skal specificeres som en dictionary ( `{\"gammel værdi\": \"ny værdi\", \"gammel værdi\": \"ny værdi\"}` ).\n",
    "    - \"Extremely happy\" skal kodes til \"10\"\n",
    "    - \"Extremely unhappy\" skal kodes til \"0\"\n",
    "    \n",
    "4. Konverter variablen til numerisk med `.astype('float')`.\n",
    "\n",
    "5. Udregn gennemsnit for variablen med `.mean()`.\n",
    "\n",
    "{{%expand \"Løsning\"%}}"
   ]
  },
  {
   "cell_type": "code",
   "execution_count": 219,
   "metadata": {},
   "outputs": [
    {
     "name": "stdout",
     "output_type": "stream",
     "text": [
      "object\n",
      "float64\n"
     ]
    },
    {
     "data": {
      "text/plain": [
       "8.235294117647058"
      ]
     },
     "execution_count": 219,
     "metadata": {},
     "output_type": "execute_result"
    }
   ],
   "source": [
    "print(ess2014['happy'].dtypes)\n",
    "\n",
    "ess2014['happy_num'] = ess2014['happy']\n",
    "ess2014['happy_num'] = ess2014['happy_num'].replace({\"Extremely happy\": \"10\", \"Extremely unhappy\": \"0\"})\n",
    "ess2014['happy_num'] = ess2014['happy_num'].astype('float')\n",
    "\n",
    "print(ess2014['happy_num'].dtypes)\n",
    "\n",
    "ess2014['happy_num'].mean()"
   ]
  },
  {
   "cell_type": "markdown",
   "metadata": {},
   "source": [
    "{{%/expand %}}\n",
    "\n",
    "---"
   ]
  },
  {
   "cell_type": "markdown",
   "metadata": {},
   "source": [
    "# {#Kapitel}Kategoriske variable"
   ]
  },
  {
   "cell_type": "markdown",
   "metadata": {},
   "source": [
    "# {#Afsnit}Typer af kategoriske variable (nominal, ordinal)\n",
    "\n",
    "- Check: Er variabel ordinal eller nominal? (\"teoretisk\")"
   ]
  },
  {
   "cell_type": "markdown",
   "metadata": {},
   "source": [
    "# {#Afsnit}Kategoriske variable i Python\n",
    "\n",
    "- Check: Er variabel ordinal eller nominal? (kodning i python)\n",
    "- Øvelse: Konverter fra karakter til kategorisk\n",
    "- Øvelse: Konverter fra nominal til ordinal"
   ]
  },
  {
   "cell_type": "markdown",
   "metadata": {},
   "source": [
    "# {#Afsnit}Rekodning af kategoriske variable\n",
    "\n",
    "- Check: hvornår ændres variable ved rekodning?\n",
    "- Øvelse: Rekod kategorisk med mapping"
   ]
  },
  {
   "cell_type": "markdown",
   "metadata": {},
   "source": [
    "# {#Kapitel}Supplerende materiale"
   ]
  },
  {
   "cell_type": "markdown",
   "metadata": {},
   "source": [
    "# {#Afsnit}Litteratur\n",
    "\n",
    "- McKinney, W 2018: *Python for Data Analysis*, kapitel 5, side 125-167\n",
    "\n",
    "- McKinney, W 2018: *Python for Data Analysis*, kapitel 9, side 257-292\n",
    "\n",
    "- McKinney, W 2018: *Python for Data Analysis*, kapitel 12, side 369-378"
   ]
  },
  {
   "cell_type": "markdown",
   "metadata": {},
   "source": [
    "# {#Afsnit}Nyttige links\n",
    "\n",
    "**DataCamp: *Python for Data Science Cheat Sheet - Pandas Basics*** - https://datacamp-community-prod.s3.amazonaws.com/dbed353d-2757-4617-8206-8767ab379ab3\n",
    "\n",
    "**The Pandas Development Team: *10 Minutes to Pandas*** - https://pandas.pydata.org/docs/user_guide/10min.html#min\n",
    "\n",
    "**Waskom, Michael: *An introduction to seaborn*** - https://seaborn.pydata.org/introduction.html"
   ]
  },
  {
   "cell_type": "markdown",
   "metadata": {},
   "source": [
    "# {#END}"
   ]
  },
  {
   "cell_type": "code",
   "execution_count": null,
   "metadata": {},
   "outputs": [],
   "source": []
  }
 ],
 "metadata": {
  "kernelspec": {
   "display_name": "Python 3",
   "language": "python",
   "name": "python3"
  },
  "language_info": {
   "codemirror_mode": {
    "name": "ipython",
    "version": 3
   },
   "file_extension": ".py",
   "mimetype": "text/x-python",
   "name": "python",
   "nbconvert_exporter": "python",
   "pygments_lexer": "ipython3",
   "version": "3.7.4"
  }
 },
 "nbformat": 4,
 "nbformat_minor": 2
}
